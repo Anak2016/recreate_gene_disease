{
 "cells": [
  {
   "cell_type": "code",
   "execution_count": 1,
   "metadata": {
    "collapsed": true,
    "pycharm": {
     "is_executing": false
    }
   },
   "outputs": [
    {
     "name": "stdout",
     "text": [
      "second prologue\n",
      "third prologue\n",
      "first prologue\n",
      "first epilogue\n",
      "third epilogue\n",
      "second epilogue\n",
      "that's it\n"
     ],
     "output_type": "stream"
    },
    {
     "data": {
      "text/plain": "<__main__.Fourth at 0x1f1b793d438>"
     },
     "metadata": {},
     "output_type": "execute_result",
     "execution_count": 1
    }
   ],
   "source": [
    "class First(object):\n",
    "    def __init__(self):\n",
    "        print( \"first prologue\")\n",
    "        super(First, self).__init__()\n",
    "        print( \"first epilogue\")\n",
    "\n",
    "class Second(First):\n",
    "    def __init__(self):\n",
    "        print( \"second prologue\")\n",
    "        super(Second, self).__init__()\n",
    "        print( \"second epilogue\")\n",
    "\n",
    "class Third(First):\n",
    "    def __init__(self):\n",
    "        print( \"third prologue\")\n",
    "        super(Third, self).__init__()\n",
    "        print( \"third epilogue\")\n",
    "\n",
    "class Fourth(Second, Third):\n",
    "    def __init__(self):\n",
    "        super(Fourth, self).__init__()\n",
    "        print( \"that's it\")\n",
    "\n",
    "Fourth()"
   ]
  },
  {
   "cell_type": "code",
   "execution_count": 4,
   "outputs": [],
   "source": [
    "class A(object):\n",
    "    def __init__(self,a):\n",
    "        self.a=a\n",
    "\n",
    "class B(A):\n",
    "    def __init__(self,b,**kw):\n",
    "        self.b=b\n",
    "        super(B,self).__init__(**kw)\n",
    "\n",
    "class C(A):\n",
    "    def __init__(self,c,**kw):\n",
    "        self.c=c\n",
    "        super(C,self).__init__(**kw)\n",
    "\n",
    "class D(B,C):\n",
    "    def __init__(self,a,b,c,d):\n",
    "        super(D,self).__init__(a=a,b=b,c=c)\n",
    "        self.d=d"
   ],
   "metadata": {
    "collapsed": false,
    "pycharm": {
     "name": "#%%\n",
     "is_executing": false
    }
   }
  },
  {
   "cell_type": "code",
   "execution_count": 5,
   "outputs": [],
   "source": [
    "class A(object):\n",
    "    def __init__(self,a):\n",
    "        self.a=a\n",
    "\n",
    "class B(A):\n",
    "    def __init__(self,b,):\n",
    "        self.b=b\n",
    "        super(B,self).__init__()\n",
    "\n",
    "class C(A):\n",
    "    def __init__(self,c,):\n",
    "        self.c=c\n",
    "        super(C,self).__init__()\n",
    "\n",
    "class D(B,C):\n",
    "    def __init__(self,a,b,c,d):\n",
    "        super(D,self).__init__(a=a,b=b,c=c)\n",
    "        self.d=d"
   ],
   "metadata": {
    "collapsed": false,
    "pycharm": {
     "name": "#%%\n",
     "is_executing": false
    }
   }
  },
  {
   "cell_type": "code",
   "execution_count": null,
   "outputs": [],
   "source": [],
   "metadata": {
    "collapsed": false,
    "pycharm": {
     "name": "#%%\n"
    }
   }
  },
  {
   "cell_type": "code",
   "execution_count": null,
   "outputs": [],
   "source": [],
   "metadata": {
    "collapsed": false,
    "pycharm": {
     "name": "#%%\n"
    }
   }
  },
  {
   "cell_type": "code",
   "execution_count": null,
   "outputs": [],
   "source": [],
   "metadata": {
    "collapsed": false,
    "pycharm": {
     "name": "#%%\n"
    }
   }
  },
  {
   "cell_type": "code",
   "execution_count": null,
   "outputs": [],
   "source": [],
   "metadata": {
    "collapsed": false,
    "pycharm": {
     "name": "#%%\n"
    }
   }
  },
  {
   "cell_type": "code",
   "execution_count": null,
   "outputs": [],
   "source": [],
   "metadata": {
    "collapsed": false,
    "pycharm": {
     "name": "#%%\n"
    }
   }
  },
  {
   "cell_type": "code",
   "execution_count": null,
   "outputs": [],
   "source": [],
   "metadata": {
    "collapsed": false,
    "pycharm": {
     "name": "#%%\n"
    }
   }
  },
  {
   "cell_type": "code",
   "execution_count": null,
   "outputs": [],
   "source": [],
   "metadata": {
    "collapsed": false,
    "pycharm": {
     "name": "#%%\n"
    }
   }
  }
 ],
 "metadata": {
  "kernelspec": {
   "display_name": "Python 3",
   "language": "python",
   "name": "python3"
  },
  "language_info": {
   "codemirror_mode": {
    "name": "ipython",
    "version": 2
   },
   "file_extension": ".py",
   "mimetype": "text/x-python",
   "name": "python",
   "nbconvert_exporter": "python",
   "pygments_lexer": "ipython2",
   "version": "2.7.6"
  },
  "pycharm": {
   "stem_cell": {
    "cell_type": "raw",
    "source": [],
    "metadata": {
     "collapsed": false
    }
   }
  }
 },
 "nbformat": 4,
 "nbformat_minor": 0
}