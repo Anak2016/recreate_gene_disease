{
 "cells": [
  {
   "cell_type": "code",
   "execution_count": 5,
   "metadata": {
    "pycharm": {
     "is_executing": false
    }
   },
   "outputs": [],
   "source": [
    "from pathlib import Path\n",
    "import pandas as pd"
   ]
  },
  {
   "cell_type": "code",
   "execution_count": 1,
   "metadata": {
    "pycharm": {
     "is_executing": false
    }
   },
   "outputs": [],
   "source": [
    "def read2csv(file_path, sep =';'):\n",
    "    path = Path(file_path)\n",
    "    df = pd.read_csv(path,sep=';')\n",
    "    return df"
   ]
  },
  {
   "cell_type": "code",
   "execution_count": 58,
   "metadata": {},
   "outputs": [
    {
     "data": {
      "text/html": [
       "<div>\n",
       "<style scoped>\n",
       "    .dataframe tbody tr th:only-of-type {\n",
       "        vertical-align: middle;\n",
       "    }\n",
       "\n",
       "    .dataframe tbody tr th {\n",
       "        vertical-align: top;\n",
       "    }\n",
       "\n",
       "    .dataframe thead th {\n",
       "        text-align: right;\n",
       "    }\n",
       "</style>\n",
       "<table border=\"1\" class=\"dataframe\">\n",
       "  <thead>\n",
       "    <tr style=\"text-align: right;\">\n",
       "      <th></th>\n",
       "      <th>Disease</th>\n",
       "      <th>Hits</th>\n",
       "      <th>p-value</th>\n",
       "    </tr>\n",
       "  </thead>\n",
       "  <tbody>\n",
       "    <tr>\n",
       "      <th>0</th>\n",
       "      <td>Chronic Obstructive Airway Disease</td>\n",
       "      <td>47/47</td>\n",
       "      <td>&lt;1.0E-4</td>\n",
       "    </tr>\n",
       "    <tr>\n",
       "      <th>1</th>\n",
       "      <td>Bronchitis, Chronic</td>\n",
       "      <td>7/9</td>\n",
       "      <td>&lt;1.0E-4</td>\n",
       "    </tr>\n",
       "    <tr>\n",
       "      <th>2</th>\n",
       "      <td>Pulmonary Emphysema</td>\n",
       "      <td>4/7</td>\n",
       "      <td>3.10E-3</td>\n",
       "    </tr>\n",
       "    <tr>\n",
       "      <th>3</th>\n",
       "      <td>Lung Cancer Susceptibility 2 (Disorder)</td>\n",
       "      <td>2/2</td>\n",
       "      <td>1.03E-2</td>\n",
       "    </tr>\n",
       "    <tr>\n",
       "      <th>4</th>\n",
       "      <td>Stable Angina</td>\n",
       "      <td>2/3</td>\n",
       "      <td>2.90E-2</td>\n",
       "    </tr>\n",
       "    <tr>\n",
       "      <th>5</th>\n",
       "      <td>Myocardial Stunning</td>\n",
       "      <td>2/4</td>\n",
       "      <td>5.32E-2</td>\n",
       "    </tr>\n",
       "    <tr>\n",
       "      <th>6</th>\n",
       "      <td>Sepsis</td>\n",
       "      <td>5/21</td>\n",
       "      <td>5.37E-2</td>\n",
       "    </tr>\n",
       "    <tr>\n",
       "      <th>7</th>\n",
       "      <td>Arthritis, Psoriatic</td>\n",
       "      <td>4/15</td>\n",
       "      <td>5.41E-2</td>\n",
       "    </tr>\n",
       "    <tr>\n",
       "      <th>8</th>\n",
       "      <td>Ureteral Obstruction</td>\n",
       "      <td>2/4</td>\n",
       "      <td>5.44E-2</td>\n",
       "    </tr>\n",
       "    <tr>\n",
       "      <th>9</th>\n",
       "      <td>Oral Submucous Fibrosis</td>\n",
       "      <td>4/15</td>\n",
       "      <td>5.59E-2</td>\n",
       "    </tr>\n",
       "    <tr>\n",
       "      <th>10</th>\n",
       "      <td>Intervertebral Disc Degeneration</td>\n",
       "      <td>2/5</td>\n",
       "      <td>7.68E-2</td>\n",
       "    </tr>\n",
       "    <tr>\n",
       "      <th>11</th>\n",
       "      <td>Bronchiectasis</td>\n",
       "      <td>2/5</td>\n",
       "      <td>8.04E-2</td>\n",
       "    </tr>\n",
       "    <tr>\n",
       "      <th>12</th>\n",
       "      <td>Arteriosclerosis</td>\n",
       "      <td>2/5</td>\n",
       "      <td>8.11E-2</td>\n",
       "    </tr>\n",
       "    <tr>\n",
       "      <th>13</th>\n",
       "      <td>Pulmonary Edema</td>\n",
       "      <td>2/5</td>\n",
       "      <td>8.29E-2</td>\n",
       "    </tr>\n",
       "    <tr>\n",
       "      <th>14</th>\n",
       "      <td>Balkan Nephropathy</td>\n",
       "      <td>1/1</td>\n",
       "      <td>9.60E-2</td>\n",
       "    </tr>\n",
       "    <tr>\n",
       "      <th>15</th>\n",
       "      <td>Choroid Plexus Carcinoma</td>\n",
       "      <td>1/1</td>\n",
       "      <td>9.60E-2</td>\n",
       "    </tr>\n",
       "    <tr>\n",
       "      <th>16</th>\n",
       "      <td>Adrenocortical Carcinoma, Pediatric</td>\n",
       "      <td>1/1</td>\n",
       "      <td>9.60E-2</td>\n",
       "    </tr>\n",
       "    <tr>\n",
       "      <th>17</th>\n",
       "      <td>Choroid Plexus Papilloma</td>\n",
       "      <td>1/1</td>\n",
       "      <td>9.60E-2</td>\n",
       "    </tr>\n",
       "    <tr>\n",
       "      <th>18</th>\n",
       "      <td>Li-fraumeni-like Syndrome</td>\n",
       "      <td>1/1</td>\n",
       "      <td>9.60E-2</td>\n",
       "    </tr>\n",
       "    <tr>\n",
       "      <th>19</th>\n",
       "      <td>Adrenocortical Carcinoma, Hereditary</td>\n",
       "      <td>1/1</td>\n",
       "      <td>9.60E-2</td>\n",
       "    </tr>\n",
       "  </tbody>\n",
       "</table>\n",
       "</div>"
      ],
      "text/plain": [
       "                                    Disease   Hits  p-value\n",
       "0        Chronic Obstructive Airway Disease  47/47  <1.0E-4\n",
       "1                       Bronchitis, Chronic    7/9  <1.0E-4\n",
       "2                       Pulmonary Emphysema    4/7  3.10E-3\n",
       "3   Lung Cancer Susceptibility 2 (Disorder)    2/2  1.03E-2\n",
       "4                             Stable Angina    2/3  2.90E-2\n",
       "5                       Myocardial Stunning    2/4  5.32E-2\n",
       "6                                    Sepsis   5/21  5.37E-2\n",
       "7                      Arthritis, Psoriatic   4/15  5.41E-2\n",
       "8                      Ureteral Obstruction    2/4  5.44E-2\n",
       "9                   Oral Submucous Fibrosis   4/15  5.59E-2\n",
       "10         Intervertebral Disc Degeneration    2/5  7.68E-2\n",
       "11                           Bronchiectasis    2/5  8.04E-2\n",
       "12                         Arteriosclerosis    2/5  8.11E-2\n",
       "13                          Pulmonary Edema    2/5  8.29E-2\n",
       "14                       Balkan Nephropathy    1/1  9.60E-2\n",
       "15                 Choroid Plexus Carcinoma    1/1  9.60E-2\n",
       "16      Adrenocortical Carcinoma, Pediatric    1/1  9.60E-2\n",
       "17                 Choroid Plexus Papilloma    1/1  9.60E-2\n",
       "18                Li-fraumeni-like Syndrome    1/1  9.60E-2\n",
       "19     Adrenocortical Carcinoma, Hereditary    1/1  9.60E-2"
      ]
     },
     "execution_count": 58,
     "metadata": {},
     "output_type": "execute_result"
    }
   ],
   "source": [
    "file_path = '../../data/raw/DISNOR/NotSpecified/level1.txt'\n",
    "lv1 = read2csv(file_path)\n",
    "lv1"
   ]
  },
  {
   "cell_type": "code",
   "execution_count": 59,
   "metadata": {},
   "outputs": [],
   "source": [
    "file_path = '../../data/raw/DISNOR/NotSpecified/level2.txt'\n",
    "lv2 = read2csv(file_path)"
   ]
  },
  {
   "cell_type": "code",
   "execution_count": 60,
   "metadata": {},
   "outputs": [],
   "source": [
    "file_path = '../../data/raw/DISNOR/NotSpecified/level3.txt'\n",
    "lv3 = read2csv(file_path)"
   ]
  },
  {
   "cell_type": "code",
   "execution_count": 70,
   "metadata": {},
   "outputs": [],
   "source": [
    "disease_lv1, disease_lv2, disease_lv3 = lv1['Disease'], lv2['Disease'], lv3['Disease']"
   ]
  },
  {
   "cell_type": "code",
   "execution_count": 71,
   "metadata": {},
   "outputs": [],
   "source": [
    "disease_lv1 = set(disease_lv1.to_list()) # lv1 being used because it is the simplest\n",
    "disease_lv2 = set(disease_lv2.to_list())\n",
    "disease_lv3 = set(disease_lv3.to_list())"
   ]
  },
  {
   "cell_type": "code",
   "execution_count": 111,
   "metadata": {},
   "outputs": [],
   "source": [
    "def common_disease(x,y):\n",
    "    common = x.intersection(y)\n",
    "    count = len(common)\n",
    "    return {'common':common, 'count':count}"
   ]
  },
  {
   "cell_type": "code",
   "execution_count": 125,
   "metadata": {},
   "outputs": [],
   "source": [
    "pack = (disease_lv1,disease_lv2,disease_lv3)\n",
    "common_d = [] \n",
    "for out_lv, i in enumerate(pack):\n",
    "    for in_lv, j in enumerate(pack):\n",
    "        '''\n",
    "        {'common': .., \n",
    "        \"count\":.., \n",
    "        lv_pair:..}\n",
    "        '''\n",
    "        tmp = common_disease(i, j)\n",
    "        tmp.update({'lv_pair':(out_lv,in_lv)})\n",
    "        common_d.append(tmp)"
   ]
  },
  {
   "cell_type": "code",
   "execution_count": 127,
   "metadata": {},
   "outputs": [
    {
     "name": "stdout",
     "output_type": "stream",
     "text": [
      "(0, 0)\n",
      "(0, 1)\n",
      "(0, 2)\n",
      "(1, 0)\n",
      "(1, 1)\n",
      "(1, 2)\n",
      "(2, 0)\n",
      "(2, 1)\n",
      "(2, 2)\n"
     ]
    }
   ],
   "source": [
    "for i in range(9):\n",
    "    print(common_d[i]['lv_pair'])"
   ]
  },
  {
   "cell_type": "code",
   "execution_count": 129,
   "metadata": {},
   "outputs": [
    {
     "data": {
      "text/plain": [
       "OrderedDict([('common',\n",
       "              {'Adrenocortical Carcinoma, Hereditary',\n",
       "               'Adrenocortical Carcinoma, Pediatric',\n",
       "               'Arteriosclerosis',\n",
       "               'Arthritis, Psoriatic',\n",
       "               'Balkan Nephropathy',\n",
       "               'Bronchiectasis',\n",
       "               'Bronchitis, Chronic',\n",
       "               'Choroid Plexus Carcinoma',\n",
       "               'Choroid Plexus Papilloma',\n",
       "               'Chronic Obstructive Airway Disease',\n",
       "               'Intervertebral Disc Degeneration',\n",
       "               'Li-fraumeni-like Syndrome',\n",
       "               'Lung Cancer Susceptibility 2 (Disorder)',\n",
       "               'Myocardial Stunning',\n",
       "               'Oral Submucous Fibrosis',\n",
       "               'Pulmonary Edema',\n",
       "               'Pulmonary Emphysema',\n",
       "               'Sepsis',\n",
       "               'Stable Angina',\n",
       "               'Ureteral Obstruction'}),\n",
       "             ('count', 20),\n",
       "             ('lv_pair', (0, 0))])"
      ]
     },
     "execution_count": 129,
     "metadata": {},
     "output_type": "execute_result"
    }
   ],
   "source": [
    "from collections import OrderedDict\n",
    "tmp = OrderedDict(common_d[0], sorted= x:)\n",
    "tmp"
   ]
  },
  {
   "cell_type": "code",
   "execution_count": 141,
   "metadata": {
    "scrolled": true
   },
   "outputs": [
    {
     "data": {
      "text/plain": [
       "[{'common': {'Arteriosclerosis',\n",
       "   'Arthritis, Psoriatic',\n",
       "   'Bronchiectasis',\n",
       "   'Bronchitis, Chronic',\n",
       "   'Chronic Obstructive Airway Disease',\n",
       "   'Intervertebral Disc Degeneration',\n",
       "   'Lung Cancer Susceptibility 2 (Disorder)',\n",
       "   'Myocardial Stunning',\n",
       "   'Oral Submucous Fibrosis',\n",
       "   'Pulmonary Edema',\n",
       "   'Pulmonary Emphysema',\n",
       "   'Sepsis',\n",
       "   'Stable Angina',\n",
       "   'Ureteral Obstruction'},\n",
       "  'count': 14,\n",
       "  'lv_pair': (0, 2)},\n",
       " {'common': {'Arteriosclerosis',\n",
       "   'Arthritis, Psoriatic',\n",
       "   'Bronchiectasis',\n",
       "   'Bronchitis, Chronic',\n",
       "   'Chronic Obstructive Airway Disease',\n",
       "   'Intervertebral Disc Degeneration',\n",
       "   'Lung Cancer Susceptibility 2 (Disorder)',\n",
       "   'Myocardial Stunning',\n",
       "   'Oral Submucous Fibrosis',\n",
       "   'Pulmonary Edema',\n",
       "   'Pulmonary Emphysema',\n",
       "   'Sepsis',\n",
       "   'Stable Angina',\n",
       "   'Ureteral Obstruction'},\n",
       "  'count': 14,\n",
       "  'lv_pair': (1, 2)},\n",
       " {'common': {'Arteriosclerosis',\n",
       "   'Arthritis, Psoriatic',\n",
       "   'Bronchiectasis',\n",
       "   'Bronchitis, Chronic',\n",
       "   'Chronic Obstructive Airway Disease',\n",
       "   'Intervertebral Disc Degeneration',\n",
       "   'Lung Cancer Susceptibility 2 (Disorder)',\n",
       "   'Myocardial Stunning',\n",
       "   'Oral Submucous Fibrosis',\n",
       "   'Pulmonary Edema',\n",
       "   'Pulmonary Emphysema',\n",
       "   'Sepsis',\n",
       "   'Stable Angina',\n",
       "   'Ureteral Obstruction'},\n",
       "  'count': 14,\n",
       "  'lv_pair': (2, 0)},\n",
       " {'common': {'Arteriosclerosis',\n",
       "   'Arthritis, Psoriatic',\n",
       "   'Bronchiectasis',\n",
       "   'Bronchitis, Chronic',\n",
       "   'Chronic Obstructive Airway Disease',\n",
       "   'Intervertebral Disc Degeneration',\n",
       "   'Lung Cancer Susceptibility 2 (Disorder)',\n",
       "   'Myocardial Stunning',\n",
       "   'Oral Submucous Fibrosis',\n",
       "   'Pulmonary Edema',\n",
       "   'Pulmonary Emphysema',\n",
       "   'Sepsis',\n",
       "   'Stable Angina',\n",
       "   'Ureteral Obstruction'},\n",
       "  'count': 14,\n",
       "  'lv_pair': (2, 1)},\n",
       " {'common': {'Adrenocortical Carcinoma, Hereditary',\n",
       "   'Adrenocortical Carcinoma, Pediatric',\n",
       "   'Arteriosclerosis',\n",
       "   'Arthritis, Psoriatic',\n",
       "   'Balkan Nephropathy',\n",
       "   'Bronchiectasis',\n",
       "   'Bronchitis, Chronic',\n",
       "   'Chronic Obstructive Airway Disease',\n",
       "   'Intervertebral Disc Degeneration',\n",
       "   'Lung Cancer Susceptibility 2 (Disorder)',\n",
       "   'Myocardial Stunning',\n",
       "   'Oral Submucous Fibrosis',\n",
       "   'Pulmonary Edema',\n",
       "   'Pulmonary Emphysema',\n",
       "   'Sepsis',\n",
       "   'Stable Angina',\n",
       "   'Ureteral Obstruction'},\n",
       "  'count': 17,\n",
       "  'lv_pair': (0, 1)},\n",
       " {'common': {'Adrenocortical Carcinoma, Hereditary',\n",
       "   'Adrenocortical Carcinoma, Pediatric',\n",
       "   'Arteriosclerosis',\n",
       "   'Arthritis, Psoriatic',\n",
       "   'Balkan Nephropathy',\n",
       "   'Bronchiectasis',\n",
       "   'Bronchitis, Chronic',\n",
       "   'Chronic Obstructive Airway Disease',\n",
       "   'Intervertebral Disc Degeneration',\n",
       "   'Lung Cancer Susceptibility 2 (Disorder)',\n",
       "   'Myocardial Stunning',\n",
       "   'Oral Submucous Fibrosis',\n",
       "   'Pulmonary Edema',\n",
       "   'Pulmonary Emphysema',\n",
       "   'Sepsis',\n",
       "   'Stable Angina',\n",
       "   'Ureteral Obstruction'},\n",
       "  'count': 17,\n",
       "  'lv_pair': (1, 0)},\n",
       " {'common': {'Adrenocortical Carcinoma, Hereditary',\n",
       "   'Adrenocortical Carcinoma, Pediatric',\n",
       "   'Arteriosclerosis',\n",
       "   'Arthritis, Psoriatic',\n",
       "   'Balkan Nephropathy',\n",
       "   'Bronchiectasis',\n",
       "   'Bronchitis, Chronic',\n",
       "   'Choroid Plexus Carcinoma',\n",
       "   'Choroid Plexus Papilloma',\n",
       "   'Chronic Obstructive Airway Disease',\n",
       "   'Intervertebral Disc Degeneration',\n",
       "   'Li-fraumeni-like Syndrome',\n",
       "   'Lung Cancer Susceptibility 2 (Disorder)',\n",
       "   'Myocardial Stunning',\n",
       "   'Oral Submucous Fibrosis',\n",
       "   'Pulmonary Edema',\n",
       "   'Pulmonary Emphysema',\n",
       "   'Sepsis',\n",
       "   'Stable Angina',\n",
       "   'Ureteral Obstruction'},\n",
       "  'count': 20,\n",
       "  'lv_pair': (0, 0)},\n",
       " {'common': {'Adrenocortical Carcinoma, Hereditary',\n",
       "   'Adrenocortical Carcinoma, Pediatric',\n",
       "   'Arteriosclerosis',\n",
       "   'Arthritis, Psoriatic',\n",
       "   'Balkan Nephropathy',\n",
       "   'Bronchiectasis',\n",
       "   'Bronchitis, Chronic',\n",
       "   'Chronic Obstructive Airway Disease',\n",
       "   'Hypertension, Renovascular',\n",
       "   'Hypertension, Resistant To Conventional Therapy',\n",
       "   'Intervertebral Disc Degeneration',\n",
       "   'Lung Cancer Susceptibility 2 (Disorder)',\n",
       "   'Myocardial Stunning',\n",
       "   'Oral Submucous Fibrosis',\n",
       "   'Pulmonary Edema',\n",
       "   'Pulmonary Emphysema',\n",
       "   'Sepsis',\n",
       "   'Stable Angina',\n",
       "   'Ureteral Obstruction',\n",
       "   'Winchester Syndrome (disorder)'},\n",
       "  'count': 20,\n",
       "  'lv_pair': (1, 1)},\n",
       " {'common': {'Arteriosclerosis',\n",
       "   'Arthritis, Psoriatic',\n",
       "   'Aspiration Pneumonia',\n",
       "   'Bronchiectasis',\n",
       "   'Bronchitis, Chronic',\n",
       "   'Chronic Obstructive Airway Disease',\n",
       "   'Gastroparesis',\n",
       "   'Heme Oxygenase 1 Deficiency',\n",
       "   'Intervertebral Disc Degeneration',\n",
       "   'Li-Fraumeni Syndrome',\n",
       "   'Li-Fraumeni Syndrome 2',\n",
       "   'Lung Cancer Susceptibility 2 (Disorder)',\n",
       "   'Metaphyseal Anadysplasia 2',\n",
       "   'Myocardial Stunning',\n",
       "   'Oral Submucous Fibrosis',\n",
       "   'Pulmonary Edema',\n",
       "   'Pulmonary Emphysema',\n",
       "   'Sepsis',\n",
       "   'Stable Angina',\n",
       "   'Ureteral Obstruction'},\n",
       "  'count': 20,\n",
       "  'lv_pair': (2, 2)}]"
      ]
     },
     "execution_count": 141,
     "metadata": {},
     "output_type": "execute_result"
    }
   ],
   "source": [
    "# Sorted \n",
    "sorted(common_d,key=lambda x: x['count'], reservse = True)"
   ]
  },
  {
   "cell_type": "markdown",
   "metadata": {},
   "source": [
    "WEB CRAWLING"
   ]
  },
  {
   "cell_type": "code",
   "execution_count": 14,
   "metadata": {
    "scrolled": true,
    "pycharm": {
     "is_executing": false
    }
   },
   "outputs": [
    {
     "traceback": [
      "\u001b[1;31m---------------------------------------------------------------------------\u001b[0m",
      "\u001b[1;31mEmptyDataError\u001b[0m                            Traceback (most recent call last)",
      "\u001b[1;32m<ipython-input-14-b4a32b2e701f>\u001b[0m in \u001b[0;36m<module>\u001b[1;34m\u001b[0m\n\u001b[0;32m      2\u001b[0m \u001b[1;31m# file_path = '../../data/raw/GeneDiseaseProject/copd/tmp.txt'\u001b[0m\u001b[1;33m\u001b[0m\u001b[1;33m\u001b[0m\u001b[1;33m\u001b[0m\u001b[0m\n\u001b[0;32m      3\u001b[0m \u001b[0mfile_path\u001b[0m \u001b[1;33m=\u001b[0m \u001b[1;34m'../tmp.txt'\u001b[0m\u001b[1;33m\u001b[0m\u001b[1;33m\u001b[0m\u001b[0m\n\u001b[1;32m----> 4\u001b[1;33m \u001b[0mcopd_df\u001b[0m \u001b[1;33m=\u001b[0m \u001b[0mpd\u001b[0m\u001b[1;33m.\u001b[0m\u001b[0mread_csv\u001b[0m\u001b[1;33m(\u001b[0m\u001b[0mfile_path\u001b[0m\u001b[1;33m,\u001b[0m\u001b[0msep\u001b[0m\u001b[1;33m=\u001b[0m\u001b[1;34m','\u001b[0m\u001b[1;33m)\u001b[0m\u001b[1;33m\u001b[0m\u001b[1;33m\u001b[0m\u001b[0m\n\u001b[0m\u001b[0;32m      5\u001b[0m \u001b[0mcopd_df\u001b[0m\u001b[1;33m.\u001b[0m\u001b[0mhead\u001b[0m\u001b[1;33m(\u001b[0m\u001b[1;33m)\u001b[0m\u001b[1;33m\u001b[0m\u001b[1;33m\u001b[0m\u001b[0m\n",
      "\u001b[1;32m~\\Anaconda3\\lib\\site-packages\\pandas\\io\\parsers.py\u001b[0m in \u001b[0;36mparser_f\u001b[1;34m(filepath_or_buffer, sep, delimiter, header, names, index_col, usecols, squeeze, prefix, mangle_dupe_cols, dtype, engine, converters, true_values, false_values, skipinitialspace, skiprows, skipfooter, nrows, na_values, keep_default_na, na_filter, verbose, skip_blank_lines, parse_dates, infer_datetime_format, keep_date_col, date_parser, dayfirst, iterator, chunksize, compression, thousands, decimal, lineterminator, quotechar, quoting, doublequote, escapechar, comment, encoding, dialect, tupleize_cols, error_bad_lines, warn_bad_lines, delim_whitespace, low_memory, memory_map, float_precision)\u001b[0m\n\u001b[0;32m    700\u001b[0m                     skip_blank_lines=skip_blank_lines)\n\u001b[0;32m    701\u001b[0m \u001b[1;33m\u001b[0m\u001b[0m\n\u001b[1;32m--> 702\u001b[1;33m         \u001b[1;32mreturn\u001b[0m \u001b[0m_read\u001b[0m\u001b[1;33m(\u001b[0m\u001b[0mfilepath_or_buffer\u001b[0m\u001b[1;33m,\u001b[0m \u001b[0mkwds\u001b[0m\u001b[1;33m)\u001b[0m\u001b[1;33m\u001b[0m\u001b[1;33m\u001b[0m\u001b[0m\n\u001b[0m\u001b[0;32m    703\u001b[0m \u001b[1;33m\u001b[0m\u001b[0m\n\u001b[0;32m    704\u001b[0m     \u001b[0mparser_f\u001b[0m\u001b[1;33m.\u001b[0m\u001b[0m__name__\u001b[0m \u001b[1;33m=\u001b[0m \u001b[0mname\u001b[0m\u001b[1;33m\u001b[0m\u001b[1;33m\u001b[0m\u001b[0m\n",
      "\u001b[1;32m~\\Anaconda3\\lib\\site-packages\\pandas\\io\\parsers.py\u001b[0m in \u001b[0;36m_read\u001b[1;34m(filepath_or_buffer, kwds)\u001b[0m\n\u001b[0;32m    427\u001b[0m \u001b[1;33m\u001b[0m\u001b[0m\n\u001b[0;32m    428\u001b[0m     \u001b[1;31m# Create the parser.\u001b[0m\u001b[1;33m\u001b[0m\u001b[1;33m\u001b[0m\u001b[1;33m\u001b[0m\u001b[0m\n\u001b[1;32m--> 429\u001b[1;33m     \u001b[0mparser\u001b[0m \u001b[1;33m=\u001b[0m \u001b[0mTextFileReader\u001b[0m\u001b[1;33m(\u001b[0m\u001b[0mfilepath_or_buffer\u001b[0m\u001b[1;33m,\u001b[0m \u001b[1;33m**\u001b[0m\u001b[0mkwds\u001b[0m\u001b[1;33m)\u001b[0m\u001b[1;33m\u001b[0m\u001b[1;33m\u001b[0m\u001b[0m\n\u001b[0m\u001b[0;32m    430\u001b[0m \u001b[1;33m\u001b[0m\u001b[0m\n\u001b[0;32m    431\u001b[0m     \u001b[1;32mif\u001b[0m \u001b[0mchunksize\u001b[0m \u001b[1;32mor\u001b[0m \u001b[0miterator\u001b[0m\u001b[1;33m:\u001b[0m\u001b[1;33m\u001b[0m\u001b[1;33m\u001b[0m\u001b[0m\n",
      "\u001b[1;32m~\\Anaconda3\\lib\\site-packages\\pandas\\io\\parsers.py\u001b[0m in \u001b[0;36m__init__\u001b[1;34m(self, f, engine, **kwds)\u001b[0m\n\u001b[0;32m    893\u001b[0m             \u001b[0mself\u001b[0m\u001b[1;33m.\u001b[0m\u001b[0moptions\u001b[0m\u001b[1;33m[\u001b[0m\u001b[1;34m'has_index_names'\u001b[0m\u001b[1;33m]\u001b[0m \u001b[1;33m=\u001b[0m \u001b[0mkwds\u001b[0m\u001b[1;33m[\u001b[0m\u001b[1;34m'has_index_names'\u001b[0m\u001b[1;33m]\u001b[0m\u001b[1;33m\u001b[0m\u001b[1;33m\u001b[0m\u001b[0m\n\u001b[0;32m    894\u001b[0m \u001b[1;33m\u001b[0m\u001b[0m\n\u001b[1;32m--> 895\u001b[1;33m         \u001b[0mself\u001b[0m\u001b[1;33m.\u001b[0m\u001b[0m_make_engine\u001b[0m\u001b[1;33m(\u001b[0m\u001b[0mself\u001b[0m\u001b[1;33m.\u001b[0m\u001b[0mengine\u001b[0m\u001b[1;33m)\u001b[0m\u001b[1;33m\u001b[0m\u001b[1;33m\u001b[0m\u001b[0m\n\u001b[0m\u001b[0;32m    896\u001b[0m \u001b[1;33m\u001b[0m\u001b[0m\n\u001b[0;32m    897\u001b[0m     \u001b[1;32mdef\u001b[0m \u001b[0mclose\u001b[0m\u001b[1;33m(\u001b[0m\u001b[0mself\u001b[0m\u001b[1;33m)\u001b[0m\u001b[1;33m:\u001b[0m\u001b[1;33m\u001b[0m\u001b[1;33m\u001b[0m\u001b[0m\n",
      "\u001b[1;32m~\\Anaconda3\\lib\\site-packages\\pandas\\io\\parsers.py\u001b[0m in \u001b[0;36m_make_engine\u001b[1;34m(self, engine)\u001b[0m\n\u001b[0;32m   1120\u001b[0m     \u001b[1;32mdef\u001b[0m \u001b[0m_make_engine\u001b[0m\u001b[1;33m(\u001b[0m\u001b[0mself\u001b[0m\u001b[1;33m,\u001b[0m \u001b[0mengine\u001b[0m\u001b[1;33m=\u001b[0m\u001b[1;34m'c'\u001b[0m\u001b[1;33m)\u001b[0m\u001b[1;33m:\u001b[0m\u001b[1;33m\u001b[0m\u001b[1;33m\u001b[0m\u001b[0m\n\u001b[0;32m   1121\u001b[0m         \u001b[1;32mif\u001b[0m \u001b[0mengine\u001b[0m \u001b[1;33m==\u001b[0m \u001b[1;34m'c'\u001b[0m\u001b[1;33m:\u001b[0m\u001b[1;33m\u001b[0m\u001b[1;33m\u001b[0m\u001b[0m\n\u001b[1;32m-> 1122\u001b[1;33m             \u001b[0mself\u001b[0m\u001b[1;33m.\u001b[0m\u001b[0m_engine\u001b[0m \u001b[1;33m=\u001b[0m \u001b[0mCParserWrapper\u001b[0m\u001b[1;33m(\u001b[0m\u001b[0mself\u001b[0m\u001b[1;33m.\u001b[0m\u001b[0mf\u001b[0m\u001b[1;33m,\u001b[0m \u001b[1;33m**\u001b[0m\u001b[0mself\u001b[0m\u001b[1;33m.\u001b[0m\u001b[0moptions\u001b[0m\u001b[1;33m)\u001b[0m\u001b[1;33m\u001b[0m\u001b[1;33m\u001b[0m\u001b[0m\n\u001b[0m\u001b[0;32m   1123\u001b[0m         \u001b[1;32melse\u001b[0m\u001b[1;33m:\u001b[0m\u001b[1;33m\u001b[0m\u001b[1;33m\u001b[0m\u001b[0m\n\u001b[0;32m   1124\u001b[0m             \u001b[1;32mif\u001b[0m \u001b[0mengine\u001b[0m \u001b[1;33m==\u001b[0m \u001b[1;34m'python'\u001b[0m\u001b[1;33m:\u001b[0m\u001b[1;33m\u001b[0m\u001b[1;33m\u001b[0m\u001b[0m\n",
      "\u001b[1;32m~\\Anaconda3\\lib\\site-packages\\pandas\\io\\parsers.py\u001b[0m in \u001b[0;36m__init__\u001b[1;34m(self, src, **kwds)\u001b[0m\n\u001b[0;32m   1851\u001b[0m         \u001b[0mkwds\u001b[0m\u001b[1;33m[\u001b[0m\u001b[1;34m'usecols'\u001b[0m\u001b[1;33m]\u001b[0m \u001b[1;33m=\u001b[0m \u001b[0mself\u001b[0m\u001b[1;33m.\u001b[0m\u001b[0musecols\u001b[0m\u001b[1;33m\u001b[0m\u001b[1;33m\u001b[0m\u001b[0m\n\u001b[0;32m   1852\u001b[0m \u001b[1;33m\u001b[0m\u001b[0m\n\u001b[1;32m-> 1853\u001b[1;33m         \u001b[0mself\u001b[0m\u001b[1;33m.\u001b[0m\u001b[0m_reader\u001b[0m \u001b[1;33m=\u001b[0m \u001b[0mparsers\u001b[0m\u001b[1;33m.\u001b[0m\u001b[0mTextReader\u001b[0m\u001b[1;33m(\u001b[0m\u001b[0msrc\u001b[0m\u001b[1;33m,\u001b[0m \u001b[1;33m**\u001b[0m\u001b[0mkwds\u001b[0m\u001b[1;33m)\u001b[0m\u001b[1;33m\u001b[0m\u001b[1;33m\u001b[0m\u001b[0m\n\u001b[0m\u001b[0;32m   1854\u001b[0m         \u001b[0mself\u001b[0m\u001b[1;33m.\u001b[0m\u001b[0munnamed_cols\u001b[0m \u001b[1;33m=\u001b[0m \u001b[0mself\u001b[0m\u001b[1;33m.\u001b[0m\u001b[0m_reader\u001b[0m\u001b[1;33m.\u001b[0m\u001b[0munnamed_cols\u001b[0m\u001b[1;33m\u001b[0m\u001b[1;33m\u001b[0m\u001b[0m\n\u001b[0;32m   1855\u001b[0m \u001b[1;33m\u001b[0m\u001b[0m\n",
      "\u001b[1;32mpandas/_libs/parsers.pyx\u001b[0m in \u001b[0;36mpandas._libs.parsers.TextReader.__cinit__\u001b[1;34m()\u001b[0m\n",
      "\u001b[1;31mEmptyDataError\u001b[0m: No columns to parse from file"
     ],
     "ename": "EmptyDataError",
     "evalue": "No columns to parse from file",
     "output_type": "error"
    }
   ],
   "source": [
    "file_path = '../../data/raw/GeneDiseaseProject/copd_label07_14_19_46.txt'\n",
    "copd_df = pd.read_csv(file_path,sep=',')\n",
    "copd_df.head()"
   ]
  },
  {
   "cell_type": "code",
   "execution_count": 13,
   "metadata": {
    "scrolled": true,
    "pycharm": {
     "is_executing": false
    }
   },
   "outputs": [
    {
     "data": {
      "text/plain": "'C:\\\\Users\\\\Anak\\\\PycharmProjects\\\\recreate_gene_disease\\\\notebook\\\\eda\\\\.ipynb_checkpoints'"
     },
     "metadata": {},
     "output_type": "execute_result",
     "execution_count": 13
    }
   ],
   "source": [
    "copd_diseases_df = copd_df[['diseaseId','diseaseName']]\n",
    "copd_diseases_dict = {}\n",
    "for index, row in copd_diseases_df.iterrows():\n",
    "#     print((row['diseaseId'],row['diseaseName']))\n",
    "    copd_diseases_dict[row['diseaseId']] = row['diseaseName']\n",
    "copd_diseases_dict"
   ]
  },
  {
   "cell_type": "code",
   "execution_count": null,
   "outputs": [],
   "source": [
    "disease_lv1"
   ],
   "metadata": {
    "collapsed": false,
    "pycharm": {
     "name": "#%%\n"
    }
   }
  },
  {
   "cell_type": "code",
   "execution_count": 2,
   "outputs": [
    {
     "traceback": [
      "\u001b[1;31m---------------------------------------------------------------------------\u001b[0m",
      "\u001b[1;31mNameError\u001b[0m                                 Traceback (most recent call last)",
      "\u001b[1;32m<ipython-input-2-59a377d987f0>\u001b[0m in \u001b[0;36m<module>\u001b[1;34m\u001b[0m\n\u001b[1;32m----> 1\u001b[1;33m \u001b[0mcopd_diseases_name\u001b[0m\u001b[1;33m,\u001b[0m \u001b[0mcopd_diseases_id\u001b[0m \u001b[1;33m=\u001b[0m \u001b[0mcopd_diseases_dict\u001b[0m\u001b[1;33m.\u001b[0m\u001b[0mvalues\u001b[0m\u001b[1;33m(\u001b[0m\u001b[1;33m)\u001b[0m\u001b[1;33m,\u001b[0m\u001b[0mcopd_diseases_dict\u001b[0m\u001b[1;33m.\u001b[0m\u001b[0mkeys\u001b[0m\u001b[1;33m(\u001b[0m\u001b[1;33m)\u001b[0m\u001b[1;33m\u001b[0m\u001b[1;33m\u001b[0m\u001b[0m\n\u001b[0m\u001b[0;32m      2\u001b[0m \u001b[0mcopd_diseases_name\u001b[0m\u001b[1;33m\u001b[0m\u001b[1;33m\u001b[0m\u001b[0m\n",
      "\u001b[1;31mNameError\u001b[0m: name 'copd_diseases_dict' is not defined"
     ],
     "ename": "NameError",
     "evalue": "name 'copd_diseases_dict' is not defined",
     "output_type": "error"
    }
   ],
   "source": [
    "len(copd_diseases_dict.keys()) # ?"
   ],
   "metadata": {
    "collapsed": false,
    "pycharm": {
     "name": "#%%\n",
     "is_executing": false
    }
   }
  },
  {
   "cell_type": "code",
   "execution_count": 174,
   "metadata": {},
   "outputs": [
    {
     "data": {
      "text/plain": [
       "{'Adrenocortical Carcinoma, Hereditary',\n",
       " 'Adrenocortical Carcinoma, Pediatric',\n",
       " 'Arteriosclerosis',\n",
       " 'Arthritis, Psoriatic',\n",
       " 'Balkan Nephropathy',\n",
       " 'Bronchiectasis',\n",
       " 'Bronchitis, Chronic',\n",
       " 'Choroid Plexus Carcinoma',\n",
       " 'Choroid Plexus Papilloma',\n",
       " 'Chronic Obstructive Airway Disease',\n",
       " 'Intervertebral Disc Degeneration',\n",
       " 'Li-fraumeni-like Syndrome',\n",
       " 'Lung Cancer Susceptibility 2 (Disorder)',\n",
       " 'Myocardial Stunning',\n",
       " 'Oral Submucous Fibrosis',\n",
       " 'Pulmonary Edema',\n",
       " 'Pulmonary Emphysema',\n",
       " 'Sepsis',\n",
       " 'Stable Angina',\n",
       " 'Ureteral Obstruction'}"
      ]
     },
     "execution_count": 174,
     "metadata": {},
     "output_type": "execute_result"
    }
   ],
   "source": [
    "copd_cui = set(copd_diseases_dict.keys())\n",
    "copd_name = set(copd_diseases_dict.values())"
   ]
  },
  {
   "cell_type": "code",
   "execution_count": null,
   "metadata": {},
   "outputs": [],
   "source": [
    "copd_name.intersection(disease_lv1)"
   ]
  },
  {
   "cell_type": "code",
   "execution_count": null,
   "metadata": {},
   "outputs": [],
   "source": [
    "tmp = '../../data/processed/copd_name.txt'\n",
    "if not os.path.exists(tmp):\n",
    "    with open(tmp, 'w'): pass\n",
    "with open(tmp,'w') as f:\n",
    "    print(f\"writing to {tmp}...\")\n",
    "    f.write()"
   ]
  },
  {
   "cell_type": "code",
   "execution_count": null,
   "outputs": [],
   "source": [
    "copd_name"
   ],
   "metadata": {
    "collapsed": false,
    "pycharm": {
     "name": "#%%\n"
    }
   }
  },
  {
   "cell_type": "code",
   "execution_count": null,
   "outputs": [],
   "source": [
    "len(copd_name)"
   ],
   "metadata": {
    "collapsed": false,
    "pycharm": {
     "name": "#%%\n"
    }
   }
  },
  {
   "cell_type": "code",
   "execution_count": null,
   "outputs": [],
   "source": [
    "disease_lv1"
   ],
   "metadata": {
    "collapsed": false,
    "pycharm": {
     "name": "#%%\n"
    }
   }
  },
  {
   "cell_type": "code",
   "execution_count": null,
   "outputs": [],
   "source": [
    "copd_disease"
   ],
   "metadata": {
    "collapsed": false,
    "pycharm": {
     "name": "#%%\n"
    }
   }
  },
  {
   "cell_type": "raw",
   "source": [
    "Relationsion file downloaded from DISNOR "
   ],
   "metadata": {
    "collapsed": false
   }
  },
  {
   "cell_type": "code",
   "execution_count": null,
   "outputs": [],
   "source": [],
   "metadata": {
    "collapsed": false,
    "pycharm": {
     "name": "#%%\n"
    }
   }
  }
 ],
 "metadata": {
  "kernelspec": {
   "display_name": "Python 3",
   "language": "python",
   "name": "python3"
  },
  "language_info": {
   "codemirror_mode": {
    "name": "ipython",
    "version": 3
   },
   "file_extension": ".py",
   "mimetype": "text/x-python",
   "name": "python",
   "nbconvert_exporter": "python",
   "pygments_lexer": "ipython3",
   "version": "3.7.3"
  },
  "pycharm": {
   "stem_cell": {
    "cell_type": "raw",
    "source": [],
    "metadata": {
     "collapsed": false
    }
   }
  }
 },
 "nbformat": 4,
 "nbformat_minor": 2
}