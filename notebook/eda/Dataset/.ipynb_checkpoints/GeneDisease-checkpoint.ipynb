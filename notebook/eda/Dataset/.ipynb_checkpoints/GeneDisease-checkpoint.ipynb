{
 "cells": [
  {
   "cell_type": "code",
   "execution_count": 1,
   "metadata": {
    "pycharm": {
     "is_executing": false,
     "name": "#%%\n"
    }
   },
   "outputs": [],
   "source": [
    "\n",
    "import os.path\n",
    "\n",
    "import pandas as pd \n",
    "import numpy as np"
   ]
  },
  {
   "cell_type": "code",
   "execution_count": 2,
   "metadata": {
    "pycharm": {
     "is_executing": false,
     "name": "#%%\n"
    }
   },
   "outputs": [
    {
     "data": {
      "text/plain": [
       "'C:\\\\Users\\\\Anak\\\\PycharmProjects\\\\recreate_gene_disease\\\\notebook\\\\eda\\\\Dataset'"
      ]
     },
     "execution_count": 2,
     "metadata": {},
     "output_type": "execute_result"
    }
   ],
   "source": [
    "os.getcwd()"
   ]
  },
  {
   "cell_type": "code",
   "execution_count": 3,
   "metadata": {
    "pycharm": {
     "is_executing": false,
     "name": "#%%\n"
    }
   },
   "outputs": [
    {
     "data": {
      "text/html": [
       "<div>\n",
       "<style scoped>\n",
       "    .dataframe tbody tr th:only-of-type {\n",
       "        vertical-align: middle;\n",
       "    }\n",
       "\n",
       "    .dataframe tbody tr th {\n",
       "        vertical-align: top;\n",
       "    }\n",
       "\n",
       "    .dataframe thead th {\n",
       "        text-align: right;\n",
       "    }\n",
       "</style>\n",
       "<table border=\"1\" class=\"dataframe\">\n",
       "  <thead>\n",
       "    <tr style=\"text-align: right;\">\n",
       "      <th></th>\n",
       "      <th>geneId</th>\n",
       "      <th>geneSymbol</th>\n",
       "      <th>diseaseId</th>\n",
       "      <th>diseaseName</th>\n",
       "      <th>diseaseClass</th>\n",
       "      <th>pmid</th>\n",
       "      <th>source</th>\n",
       "      <th>class</th>\n",
       "    </tr>\n",
       "  </thead>\n",
       "  <tbody>\n",
       "    <tr>\n",
       "      <th>0</th>\n",
       "      <td>2</td>\n",
       "      <td>A2M</td>\n",
       "      <td>C0027051</td>\n",
       "      <td>Myocardial Infarction</td>\n",
       "      <td>C14</td>\n",
       "      <td>18382889</td>\n",
       "      <td>LHGDN</td>\n",
       "      <td>3</td>\n",
       "    </tr>\n",
       "    <tr>\n",
       "      <th>1</th>\n",
       "      <td>2</td>\n",
       "      <td>A2M</td>\n",
       "      <td>C0004096</td>\n",
       "      <td>Asthma</td>\n",
       "      <td>C08;C20</td>\n",
       "      <td>7682483</td>\n",
       "      <td>BEFREE</td>\n",
       "      <td>0</td>\n",
       "    </tr>\n",
       "    <tr>\n",
       "      <th>2</th>\n",
       "      <td>9</td>\n",
       "      <td>NAT1</td>\n",
       "      <td>C0004096</td>\n",
       "      <td>Asthma</td>\n",
       "      <td>C08;C20</td>\n",
       "      <td>11927838</td>\n",
       "      <td>LHGDN</td>\n",
       "      <td>0</td>\n",
       "    </tr>\n",
       "    <tr>\n",
       "      <th>3</th>\n",
       "      <td>10</td>\n",
       "      <td>NAT2</td>\n",
       "      <td>C0004096</td>\n",
       "      <td>Asthma</td>\n",
       "      <td>C08;C20</td>\n",
       "      <td>20602614</td>\n",
       "      <td>BEFREE</td>\n",
       "      <td>0</td>\n",
       "    </tr>\n",
       "    <tr>\n",
       "      <th>4</th>\n",
       "      <td>10</td>\n",
       "      <td>NAT2</td>\n",
       "      <td>C0004096</td>\n",
       "      <td>Asthma</td>\n",
       "      <td>C08;C20</td>\n",
       "      <td>16886893</td>\n",
       "      <td>BEFREE</td>\n",
       "      <td>0</td>\n",
       "    </tr>\n",
       "  </tbody>\n",
       "</table>\n",
       "</div>"
      ],
      "text/plain": [
       "   geneId geneSymbol diseaseId            diseaseName diseaseClass      pmid  \\\n",
       "0       2        A2M  C0027051  Myocardial Infarction          C14  18382889   \n",
       "1       2        A2M  C0004096                 Asthma      C08;C20   7682483   \n",
       "2       9       NAT1  C0004096                 Asthma      C08;C20  11927838   \n",
       "3      10       NAT2  C0004096                 Asthma      C08;C20  20602614   \n",
       "4      10       NAT2  C0004096                 Asthma      C08;C20  16886893   \n",
       "\n",
       "   source  class  \n",
       "0   LHGDN      3  \n",
       "1  BEFREE      0  \n",
       "2   LHGDN      0  \n",
       "3  BEFREE      0  \n",
       "4  BEFREE      0  "
      ]
     },
     "execution_count": 3,
     "metadata": {},
     "output_type": "execute_result"
    }
   ],
   "source": [
    "copd_file = 'copd_label07_14_19_46.txt'\n",
    "file_path = f'C:/Users/Anak/PycharmProjects/recreate_gene_disease/Data/raw/GeneDiseaseProject/COPD/Nodes/{copd_file}'\n",
    "copd_df = pd.read_csv(file_path,sep=',')\n",
    "copd_df.head()"
   ]
  },
  {
   "cell_type": "code",
   "execution_count": 4,
   "metadata": {
    "pycharm": {
     "is_executing": false,
     "name": "#%%\n"
    }
   },
   "outputs": [
    {
     "data": {
      "text/plain": [
       "(14914, 8)"
      ]
     },
     "execution_count": 4,
     "metadata": {},
     "output_type": "execute_result"
    }
   ],
   "source": [
    "copd_df.shape"
   ]
  },
  {
   "cell_type": "code",
   "execution_count": 5,
   "metadata": {
    "pycharm": {
     "is_executing": false,
     "name": "#%% \n"
    }
   },
   "outputs": [
    {
     "data": {
      "text/plain": [
       "array(['C0027051', 'C0004096', 'C0271650', 'C0007785', 'C0031190'],\n",
       "      dtype=object)"
      ]
     },
     "execution_count": 5,
     "metadata": {},
     "output_type": "execute_result"
    }
   ],
   "source": [
    "disease_cui_series = copd_df['diseaseId'].unique()\n",
    "disease_cui_series[:5]"
   ]
  },
  {
   "cell_type": "markdown",
   "metadata": {},
   "source": [
    "DISEASE MAPPING"
   ]
  },
  {
   "cell_type": "code",
   "execution_count": 6,
   "metadata": {
    "pycharm": {
     "is_executing": false,
     "name": "#%%\n"
    }
   },
   "outputs": [
    {
     "data": {
      "text/plain": [
       "(97502, 5)"
      ]
     },
     "execution_count": 6,
     "metadata": {},
     "output_type": "execute_result"
    }
   ],
   "source": [
    "disease_mappings_file_path = f'C:/Users/Anak/PycharmProjects/recreate_gene_disease/Data/raw/DisGeNET/mapping/disease_mappings.tsv'\n",
    "disease_mapping_df = pd.read_csv(disease_mappings_file_path,sep='|')\n",
    "disease_mapping_df.shape"
   ]
  },
  {
   "cell_type": "code",
   "execution_count": 7,
   "metadata": {
    "pycharm": {
     "is_executing": false,
     "name": "#%%\n"
    }
   },
   "outputs": [
    {
     "data": {
      "text/plain": [
       "Index(['diseaseId', 'name', 'vocabulary', 'code', 'vocabularyName'], dtype='object')"
      ]
     },
     "execution_count": 7,
     "metadata": {},
     "output_type": "execute_result"
    }
   ],
   "source": [
    "disease_mapping_df.columns\n",
    "    "
   ]
  },
  {
   "cell_type": "code",
   "execution_count": 8,
   "metadata": {
    "pycharm": {
     "is_executing": false,
     "name": "#%%\n"
    }
   },
   "outputs": [
    {
     "data": {
      "text/html": [
       "<div>\n",
       "<style scoped>\n",
       "    .dataframe tbody tr th:only-of-type {\n",
       "        vertical-align: middle;\n",
       "    }\n",
       "\n",
       "    .dataframe tbody tr th {\n",
       "        vertical-align: top;\n",
       "    }\n",
       "\n",
       "    .dataframe thead th {\n",
       "        text-align: right;\n",
       "    }\n",
       "</style>\n",
       "<table border=\"1\" class=\"dataframe\">\n",
       "  <thead>\n",
       "    <tr style=\"text-align: right;\">\n",
       "      <th></th>\n",
       "      <th>vocabulary</th>\n",
       "      <th>code</th>\n",
       "    </tr>\n",
       "  </thead>\n",
       "  <tbody>\n",
       "    <tr>\n",
       "      <th>0</th>\n",
       "      <td>DO</td>\n",
       "      <td>0001816</td>\n",
       "    </tr>\n",
       "    <tr>\n",
       "      <th>1</th>\n",
       "      <td>DO</td>\n",
       "      <td>0001816</td>\n",
       "    </tr>\n",
       "    <tr>\n",
       "      <th>2</th>\n",
       "      <td>DO</td>\n",
       "      <td>0002116</td>\n",
       "    </tr>\n",
       "    <tr>\n",
       "      <th>3</th>\n",
       "      <td>DO</td>\n",
       "      <td>0002116</td>\n",
       "    </tr>\n",
       "    <tr>\n",
       "      <th>4</th>\n",
       "      <td>DO</td>\n",
       "      <td>0014667</td>\n",
       "    </tr>\n",
       "  </tbody>\n",
       "</table>\n",
       "</div>"
      ],
      "text/plain": [
       "  vocabulary     code\n",
       "0         DO  0001816\n",
       "1         DO  0001816\n",
       "2         DO  0002116\n",
       "3         DO  0002116\n",
       "4         DO  0014667"
      ]
     },
     "execution_count": 8,
     "metadata": {},
     "output_type": "execute_result"
    }
   ],
   "source": [
    "disease_mapping_df[['vocabulary', 'code']].head()"
   ]
  },
  {
   "cell_type": "code",
   "execution_count": 9,
   "metadata": {
    "pycharm": {
     "is_executing": false,
     "name": "#%%\n"
    }
   },
   "outputs": [
    {
     "data": {
      "text/html": [
       "<div>\n",
       "<style scoped>\n",
       "    .dataframe tbody tr th:only-of-type {\n",
       "        vertical-align: middle;\n",
       "    }\n",
       "\n",
       "    .dataframe tbody tr th {\n",
       "        vertical-align: top;\n",
       "    }\n",
       "\n",
       "    .dataframe thead th {\n",
       "        text-align: right;\n",
       "    }\n",
       "</style>\n",
       "<table border=\"1\" class=\"dataframe\">\n",
       "  <thead>\n",
       "    <tr style=\"text-align: right;\">\n",
       "      <th></th>\n",
       "      <th>diseaseId</th>\n",
       "      <th>name</th>\n",
       "      <th>vocabulary</th>\n",
       "      <th>code</th>\n",
       "      <th>vocabularyName</th>\n",
       "    </tr>\n",
       "  </thead>\n",
       "  <tbody>\n",
       "    <tr>\n",
       "      <th>285</th>\n",
       "      <td>C1845028</td>\n",
       "      <td>ANEMIA, SIDEROBLASTIC, AND SPINOCEREBELLAR ATAXIA</td>\n",
       "      <td>DO</td>\n",
       "      <td>0050554</td>\n",
       "      <td>X-linked sideroblastic anemia with ataxia</td>\n",
       "    </tr>\n",
       "    <tr>\n",
       "      <th>496</th>\n",
       "      <td>C0272052</td>\n",
       "      <td>Rh Deficiency Syndrome</td>\n",
       "      <td>DO</td>\n",
       "      <td>0050641</td>\n",
       "      <td>Rh deficiency syndrome</td>\n",
       "    </tr>\n",
       "    <tr>\n",
       "      <th>538</th>\n",
       "      <td>C1843687</td>\n",
       "      <td>ATRIAL FIBRILLATION, FAMILIAL, 1 (disorder)</td>\n",
       "      <td>DO</td>\n",
       "      <td>0050650</td>\n",
       "      <td>familial atrial fibrillation</td>\n",
       "    </tr>\n",
       "    <tr>\n",
       "      <th>888</th>\n",
       "      <td>C0338495</td>\n",
       "      <td>Sleep Apnea, Mixed Central and Obstructive</td>\n",
       "      <td>DO</td>\n",
       "      <td>0050848</td>\n",
       "      <td>obstructive sleep apnea</td>\n",
       "    </tr>\n",
       "    <tr>\n",
       "      <th>1017</th>\n",
       "      <td>C0221018</td>\n",
       "      <td>Hereditary sideroblastic anemia</td>\n",
       "      <td>DO</td>\n",
       "      <td>0060063</td>\n",
       "      <td>X-linked sideroblastic anemia</td>\n",
       "    </tr>\n",
       "  </tbody>\n",
       "</table>\n",
       "</div>"
      ],
      "text/plain": [
       "     diseaseId                                               name vocabulary  \\\n",
       "285   C1845028  ANEMIA, SIDEROBLASTIC, AND SPINOCEREBELLAR ATAXIA         DO   \n",
       "496   C0272052                             Rh Deficiency Syndrome         DO   \n",
       "538   C1843687        ATRIAL FIBRILLATION, FAMILIAL, 1 (disorder)         DO   \n",
       "888   C0338495         Sleep Apnea, Mixed Central and Obstructive         DO   \n",
       "1017  C0221018                    Hereditary sideroblastic anemia         DO   \n",
       "\n",
       "         code                             vocabularyName  \n",
       "285   0050554  X-linked sideroblastic anemia with ataxia  \n",
       "496   0050641                     Rh deficiency syndrome  \n",
       "538   0050650               familial atrial fibrillation  \n",
       "888   0050848                    obstructive sleep apnea  \n",
       "1017  0060063              X-linked sideroblastic anemia  "
      ]
     },
     "execution_count": 9,
     "metadata": {},
     "output_type": "execute_result"
    }
   ],
   "source": [
    "# disease_cui_series = 'C0018923'\n",
    "disease_doid = disease_mapping_df[(disease_mapping_df['vocabulary'] =='DO') & (disease_mapping_df['diseaseId'].isin(disease_cui_series))]\n",
    "disease_doid.head()"
   ]
  },
  {
   "cell_type": "code",
   "execution_count": 10,
   "metadata": {
    "pycharm": {
     "is_executing": false,
     "name": "#%% \n"
    }
   },
   "outputs": [
    {
     "data": {
      "text/plain": [
       "array(['0050554', '0050641', '0050650', '0050848', '0060063', '0060319',\n",
       "       '0060334', '0060474', '0060638', '0060639', '0060652', '0060670',\n",
       "       '0090016', '0090105', '0110741', '0110743', '0110744', '0110746',\n",
       "       '0110747', '0110751', '0110757', '0110916', '0110918', '0110919',\n",
       "       '0110920', '0111077', '0111089', '0111091', '0111094', '0111095',\n",
       "       '0111097', '0111099', '0111100', '0111101', '0111102', '0111103',\n",
       "       '0111104', '0111105', '0111106', '0111107', '10127', '10241',\n",
       "       '10603', '10780', '10783', '10933', '1098', '11244', '11252',\n",
       "       '11257', '1171', '11712', '11714', '11716', '1172', '11759',\n",
       "       '11847', '11981', '12043', '12139', '12450', '12451', '13001',\n",
       "       '13042', '13099', '13100', '13121', '1338', '13381', '13382',\n",
       "       '1339', '1340', '13809', '14118', '14221', '14320', '14557',\n",
       "       '1595', '1596', '1837', '2030', '2055', '224', '2354', '2382',\n",
       "       '2841', '2848', '3145', '3410', '3522', '3523', '3525', '3526',\n",
       "       '3574', '3576', '3721', '4247', '4372', '4769', '4964', '5411',\n",
       "       '5453', '5583', '5844', '5845', '5854', '5855', '591', '593',\n",
       "       '594', '599', '600', '605', '6132', '6713', '6950', '718', '811',\n",
       "       '8432', '8805', '8997', '9351', '9360', '9362', '9408', '9415',\n",
       "       '9478', '9651', '9767', '9775'], dtype=object)"
      ]
     },
     "execution_count": 10,
     "metadata": {},
     "output_type": "execute_result"
    }
   ],
   "source": [
    "disease_doid_uniq =   disease_doid['code'].unique() \n",
    "disease_doid_uniq\n",
    "\n",
    "# disease_mapping_df[(disease_mapping_df['vocabulary'] =='DO') \n",
    "\n"
   ]
  },
  {
   "cell_type": "code",
   "execution_count": 11,
   "metadata": {
    "pycharm": {
     "is_executing": false,
     "name": "#%%\n"
    }
   },
   "outputs": [
    {
     "data": {
      "text/plain": [
       "(130,)"
      ]
     },
     "execution_count": 11,
     "metadata": {},
     "output_type": "execute_result"
    }
   ],
   "source": [
    "disease_doid_uniq.shape"
   ]
  },
  {
   "cell_type": "code",
   "execution_count": 12,
   "metadata": {
    "pycharm": {
     "is_executing": false,
     "name": "#%%\n"
    }
   },
   "outputs": [
    {
     "data": {
      "text/plain": [
       "0    C0018923\n",
       "1    C0854893\n",
       "2    C0033999\n",
       "3    C4520843\n",
       "4    C0024814\n",
       "Name: diseaseId, dtype: object"
      ]
     },
     "execution_count": 12,
     "metadata": {},
     "output_type": "execute_result"
    }
   ],
   "source": [
    "disease_mapping_df['diseaseId'].head()\n"
   ]
  },
  {
   "cell_type": "markdown",
   "metadata": {
    "pycharm": {
     "name": "#%% md\n"
    }
   },
   "source": [
    "# save disease_doid dataframe to .csv "
   ]
  },
  {
   "cell_type": "markdown",
   "metadata": {
    "pycharm": {
     "name": "#%% md\n"
    }
   },
   "source": [
    "## combine disease_doid['vocabulary'] and disease_doid['code'] => DOID:<code>\n"
   ]
  },
  {
   "cell_type": "code",
   "execution_count": 13,
   "metadata": {
    "pycharm": {
     "is_executing": false,
     "name": "#%%\n"
    }
   },
   "outputs": [
    {
     "data": {
      "text/plain": [
       "Index(['diseaseId', 'name', 'vocabulary', 'code', 'vocabularyName'], dtype='object')"
      ]
     },
     "execution_count": 13,
     "metadata": {},
     "output_type": "execute_result"
    }
   ],
   "source": [
    "disease_doid.columns"
   ]
  },
  {
   "cell_type": "code",
   "execution_count": 14,
   "metadata": {
    "pycharm": {
     "is_executing": false,
     "name": "#%%\n"
    }
   },
   "outputs": [
    {
     "name": "stderr",
     "output_type": "stream",
     "text": [
      "C:\\Users\\Anak\\Anaconda3\\lib\\site-packages\\ipykernel_launcher.py:1: SettingWithCopyWarning: \n",
      "A value is trying to be set on a copy of a slice from a DataFrame.\n",
      "Try using .loc[row_indexer,col_indexer] = value instead\n",
      "\n",
      "See the caveats in the documentation: http://pandas.pydata.org/pandas-docs/stable/indexing.html#indexing-view-versus-copy\n",
      "  \"\"\"Entry point for launching an IPython kernel.\n"
     ]
    },
    {
     "data": {
      "text/html": [
       "<div>\n",
       "<style scoped>\n",
       "    .dataframe tbody tr th:only-of-type {\n",
       "        vertical-align: middle;\n",
       "    }\n",
       "\n",
       "    .dataframe tbody tr th {\n",
       "        vertical-align: top;\n",
       "    }\n",
       "\n",
       "    .dataframe thead th {\n",
       "        text-align: right;\n",
       "    }\n",
       "</style>\n",
       "<table border=\"1\" class=\"dataframe\">\n",
       "  <thead>\n",
       "    <tr style=\"text-align: right;\">\n",
       "      <th></th>\n",
       "      <th>diseaseId</th>\n",
       "      <th>name</th>\n",
       "      <th>doid</th>\n",
       "      <th>vocabularyName</th>\n",
       "    </tr>\n",
       "  </thead>\n",
       "  <tbody>\n",
       "    <tr>\n",
       "      <th>285</th>\n",
       "      <td>C1845028</td>\n",
       "      <td>ANEMIA, SIDEROBLASTIC, AND SPINOCEREBELLAR ATAXIA</td>\n",
       "      <td>DOID:0050554</td>\n",
       "      <td>X-linked sideroblastic anemia with ataxia</td>\n",
       "    </tr>\n",
       "    <tr>\n",
       "      <th>496</th>\n",
       "      <td>C0272052</td>\n",
       "      <td>Rh Deficiency Syndrome</td>\n",
       "      <td>DOID:0050641</td>\n",
       "      <td>Rh deficiency syndrome</td>\n",
       "    </tr>\n",
       "    <tr>\n",
       "      <th>538</th>\n",
       "      <td>C1843687</td>\n",
       "      <td>ATRIAL FIBRILLATION, FAMILIAL, 1 (disorder)</td>\n",
       "      <td>DOID:0050650</td>\n",
       "      <td>familial atrial fibrillation</td>\n",
       "    </tr>\n",
       "    <tr>\n",
       "      <th>888</th>\n",
       "      <td>C0338495</td>\n",
       "      <td>Sleep Apnea, Mixed Central and Obstructive</td>\n",
       "      <td>DOID:0050848</td>\n",
       "      <td>obstructive sleep apnea</td>\n",
       "    </tr>\n",
       "    <tr>\n",
       "      <th>1017</th>\n",
       "      <td>C0221018</td>\n",
       "      <td>Hereditary sideroblastic anemia</td>\n",
       "      <td>DOID:0060063</td>\n",
       "      <td>X-linked sideroblastic anemia</td>\n",
       "    </tr>\n",
       "  </tbody>\n",
       "</table>\n",
       "</div>"
      ],
      "text/plain": [
       "     diseaseId                                               name  \\\n",
       "285   C1845028  ANEMIA, SIDEROBLASTIC, AND SPINOCEREBELLAR ATAXIA   \n",
       "496   C0272052                             Rh Deficiency Syndrome   \n",
       "538   C1843687        ATRIAL FIBRILLATION, FAMILIAL, 1 (disorder)   \n",
       "888   C0338495         Sleep Apnea, Mixed Central and Obstructive   \n",
       "1017  C0221018                    Hereditary sideroblastic anemia   \n",
       "\n",
       "              doid                             vocabularyName  \n",
       "285   DOID:0050554  X-linked sideroblastic anemia with ataxia  \n",
       "496   DOID:0050641                     Rh deficiency syndrome  \n",
       "538   DOID:0050650               familial atrial fibrillation  \n",
       "888   DOID:0050848                    obstructive sleep apnea  \n",
       "1017  DOID:0060063              X-linked sideroblastic anemia  "
      ]
     },
     "execution_count": 14,
     "metadata": {},
     "output_type": "execute_result"
    }
   ],
   "source": [
    "disease_doid['doid'] = disease_doid['vocabulary'] + 'ID' + \":\"  + disease_doid['code'] \n",
    "disease_doid_convert_to_csv = disease_doid[['diseaseId', 'name', 'doid', 'vocabularyName']]\n",
    "disease_doid_convert_to_csv.head()"
   ]
  },
  {
   "cell_type": "code",
   "execution_count": 15,
   "metadata": {
    "pycharm": {
     "is_executing": false,
     "name": "#%%\n"
    }
   },
   "outputs": [
    {
     "data": {
      "text/plain": [
       "Index(['diseaseId', 'name', 'doid', 'vocabularyName'], dtype='object')"
      ]
     },
     "execution_count": 15,
     "metadata": {},
     "output_type": "execute_result"
    }
   ],
   "source": [
    "disease_doid_convert_to_csv.columns"
   ]
  },
  {
   "cell_type": "code",
   "execution_count": 16,
   "metadata": {
    "pycharm": {
     "is_executing": false,
     "name": "#%%\n"
    }
   },
   "outputs": [],
   "source": [
    "# disease_doid_convert_to_csv.to_csv(r'C:\\Users\\Anak\\PycharmProjects\\recreate_gene_disease\\Data\\raw\\GeneDiseaseProject\\COPD\\copd_doid.csv', index=False)\n",
    "\n"
   ]
  },
  {
   "cell_type": "code",
   "execution_count": 17,
   "metadata": {
    "pycharm": {
     "is_executing": false,
     "name": "#%%\n"
    }
   },
   "outputs": [
    {
     "data": {
      "text/plain": [
       "(139, 4)"
      ]
     },
     "execution_count": 17,
     "metadata": {},
     "output_type": "execute_result"
    }
   ],
   "source": [
    "disease_doid_convert_to_csv.shape\n"
   ]
  },
  {
   "cell_type": "code",
   "execution_count": 18,
   "metadata": {
    "pycharm": {
     "is_executing": false,
     "name": "#%%\n"
    }
   },
   "outputs": [
    {
     "data": {
      "text/html": [
       "<div>\n",
       "<style scoped>\n",
       "    .dataframe tbody tr th:only-of-type {\n",
       "        vertical-align: middle;\n",
       "    }\n",
       "\n",
       "    .dataframe tbody tr th {\n",
       "        vertical-align: top;\n",
       "    }\n",
       "\n",
       "    .dataframe thead th {\n",
       "        text-align: right;\n",
       "    }\n",
       "</style>\n",
       "<table border=\"1\" class=\"dataframe\">\n",
       "  <thead>\n",
       "    <tr style=\"text-align: right;\">\n",
       "      <th></th>\n",
       "      <th>diseaseId</th>\n",
       "      <th>name</th>\n",
       "      <th>doid</th>\n",
       "      <th>vocabularyName</th>\n",
       "    </tr>\n",
       "  </thead>\n",
       "  <tbody>\n",
       "    <tr>\n",
       "      <th>285</th>\n",
       "      <td>C1845028</td>\n",
       "      <td>ANEMIA, SIDEROBLASTIC, AND SPINOCEREBELLAR ATAXIA</td>\n",
       "      <td>DOID:0050554</td>\n",
       "      <td>X-linked sideroblastic anemia with ataxia</td>\n",
       "    </tr>\n",
       "    <tr>\n",
       "      <th>496</th>\n",
       "      <td>C0272052</td>\n",
       "      <td>Rh Deficiency Syndrome</td>\n",
       "      <td>DOID:0050641</td>\n",
       "      <td>Rh deficiency syndrome</td>\n",
       "    </tr>\n",
       "    <tr>\n",
       "      <th>538</th>\n",
       "      <td>C1843687</td>\n",
       "      <td>ATRIAL FIBRILLATION, FAMILIAL, 1 (disorder)</td>\n",
       "      <td>DOID:0050650</td>\n",
       "      <td>familial atrial fibrillation</td>\n",
       "    </tr>\n",
       "    <tr>\n",
       "      <th>888</th>\n",
       "      <td>C0338495</td>\n",
       "      <td>Sleep Apnea, Mixed Central and Obstructive</td>\n",
       "      <td>DOID:0050848</td>\n",
       "      <td>obstructive sleep apnea</td>\n",
       "    </tr>\n",
       "    <tr>\n",
       "      <th>1017</th>\n",
       "      <td>C0221018</td>\n",
       "      <td>Hereditary sideroblastic anemia</td>\n",
       "      <td>DOID:0060063</td>\n",
       "      <td>X-linked sideroblastic anemia</td>\n",
       "    </tr>\n",
       "  </tbody>\n",
       "</table>\n",
       "</div>"
      ],
      "text/plain": [
       "     diseaseId                                               name  \\\n",
       "285   C1845028  ANEMIA, SIDEROBLASTIC, AND SPINOCEREBELLAR ATAXIA   \n",
       "496   C0272052                             Rh Deficiency Syndrome   \n",
       "538   C1843687        ATRIAL FIBRILLATION, FAMILIAL, 1 (disorder)   \n",
       "888   C0338495         Sleep Apnea, Mixed Central and Obstructive   \n",
       "1017  C0221018                    Hereditary sideroblastic anemia   \n",
       "\n",
       "              doid                             vocabularyName  \n",
       "285   DOID:0050554  X-linked sideroblastic anemia with ataxia  \n",
       "496   DOID:0050641                     Rh deficiency syndrome  \n",
       "538   DOID:0050650               familial atrial fibrillation  \n",
       "888   DOID:0050848                    obstructive sleep apnea  \n",
       "1017  DOID:0060063              X-linked sideroblastic anemia  "
      ]
     },
     "execution_count": 18,
     "metadata": {},
     "output_type": "execute_result"
    }
   ],
   "source": [
    "disease_doid_convert_to_csv.head()"
   ]
  },
  {
   "cell_type": "markdown",
   "metadata": {
    "pycharm": {
     "is_executing": false,
     "name": "#%% md\n"
    }
   },
   "source": [
    "# get 1:many of doid:cui"
   ]
  },
  {
   "cell_type": "code",
   "execution_count": 19,
   "metadata": {
    "pycharm": {
     "is_executing": false,
     "name": "#%%\n"
    }
   },
   "outputs": [
    {
     "data": {
      "text/html": [
       "<div>\n",
       "<style scoped>\n",
       "    .dataframe tbody tr th:only-of-type {\n",
       "        vertical-align: middle;\n",
       "    }\n",
       "\n",
       "    .dataframe tbody tr th {\n",
       "        vertical-align: top;\n",
       "    }\n",
       "\n",
       "    .dataframe thead th {\n",
       "        text-align: right;\n",
       "    }\n",
       "</style>\n",
       "<table border=\"1\" class=\"dataframe\">\n",
       "  <thead>\n",
       "    <tr style=\"text-align: right;\">\n",
       "      <th></th>\n",
       "      <th>diseaseId</th>\n",
       "      <th>name</th>\n",
       "      <th>doid</th>\n",
       "      <th>vocabularyName</th>\n",
       "    </tr>\n",
       "  </thead>\n",
       "  <tbody>\n",
       "    <tr>\n",
       "      <th>1524</th>\n",
       "      <td>C0342277</td>\n",
       "      <td>Diabetes mellitus autosomal dominant type II (...</td>\n",
       "      <td>DOID:0060334</td>\n",
       "      <td>transient neonatal diabetes mellitus</td>\n",
       "    </tr>\n",
       "    <tr>\n",
       "      <th>1526</th>\n",
       "      <td>C1864623</td>\n",
       "      <td>DIABETES MELLITUS, TRANSIENT NEONATAL, 3 (diso...</td>\n",
       "      <td>DOID:0060334</td>\n",
       "      <td>transient neonatal diabetes mellitus</td>\n",
       "    </tr>\n",
       "    <tr>\n",
       "      <th>7261</th>\n",
       "      <td>C0008909</td>\n",
       "      <td>Claustrophobia</td>\n",
       "      <td>DOID:11257</td>\n",
       "      <td>social phobia</td>\n",
       "    </tr>\n",
       "    <tr>\n",
       "      <th>7262</th>\n",
       "      <td>C0349231</td>\n",
       "      <td>Phobic anxiety disorder</td>\n",
       "      <td>DOID:11257</td>\n",
       "      <td>social phobia</td>\n",
       "    </tr>\n",
       "    <tr>\n",
       "      <th>7722</th>\n",
       "      <td>C0027051</td>\n",
       "      <td>Myocardial Infarction</td>\n",
       "      <td>DOID:11847</td>\n",
       "      <td>coronary thrombosis</td>\n",
       "    </tr>\n",
       "  </tbody>\n",
       "</table>\n",
       "</div>"
      ],
      "text/plain": [
       "     diseaseId                                               name  \\\n",
       "1524  C0342277  Diabetes mellitus autosomal dominant type II (...   \n",
       "1526  C1864623  DIABETES MELLITUS, TRANSIENT NEONATAL, 3 (diso...   \n",
       "7261  C0008909                                     Claustrophobia   \n",
       "7262  C0349231                            Phobic anxiety disorder   \n",
       "7722  C0027051                              Myocardial Infarction   \n",
       "\n",
       "              doid                        vocabularyName  \n",
       "1524  DOID:0060334  transient neonatal diabetes mellitus  \n",
       "1526  DOID:0060334  transient neonatal diabetes mellitus  \n",
       "7261    DOID:11257                         social phobia  \n",
       "7262    DOID:11257                         social phobia  \n",
       "7722    DOID:11847                   coronary thrombosis  "
      ]
     },
     "execution_count": 19,
     "metadata": {},
     "output_type": "execute_result"
    }
   ],
   "source": [
    "v = disease_doid_convert_to_csv.groupby('doid').filter(lambda group: len(group) > 1)\n",
    "v.head()"
   ]
  },
  {
   "cell_type": "code",
   "execution_count": 20,
   "metadata": {
    "pycharm": {
     "is_executing": false,
     "name": "#%%\n"
    }
   },
   "outputs": [
    {
     "data": {
      "text/plain": [
       "(17, 4)"
      ]
     },
     "execution_count": 20,
     "metadata": {},
     "output_type": "execute_result"
    }
   ],
   "source": [
    "v.shape"
   ]
  },
  {
   "cell_type": "markdown",
   "metadata": {},
   "source": [
    "## list doid that has more than 1 mapping to cui"
   ]
  },
  {
   "cell_type": "code",
   "execution_count": 21,
   "metadata": {
    "pycharm": {
     "is_executing": false,
     "name": "#%% \n"
    }
   },
   "outputs": [
    {
     "data": {
      "text/plain": [
       "array(['DOID:0060334', 'DOID:11257', 'DOID:11847', 'DOID:14118',\n",
       "       'DOID:2030', 'DOID:4964', 'DOID:5844', 'DOID:591'], dtype=object)"
      ]
     },
     "execution_count": 21,
     "metadata": {},
     "output_type": "execute_result"
    }
   ],
   "source": [
    "# list doid that has more than 1 mapping to cui\n",
    "v['doid'].unique()"
   ]
  },
  {
   "cell_type": "code",
   "execution_count": 22,
   "metadata": {
    "pycharm": {
     "is_executing": false,
     "name": "#%%\n"
    }
   },
   "outputs": [
    {
     "data": {
      "text/plain": [
       "<pandas.core.groupby.generic.SeriesGroupBy object at 0x000001D670BDD1D0>"
      ]
     },
     "execution_count": 22,
     "metadata": {},
     "output_type": "execute_result"
    }
   ],
   "source": [
    "# group cui by doid \n",
    "v.groupby('doid')['diseaseId']"
   ]
  },
  {
   "cell_type": "code",
   "execution_count": 23,
   "metadata": {
    "pycharm": {
     "is_executing": false,
     "name": "#%% \n"
    }
   },
   "outputs": [
    {
     "data": {
      "text/plain": [
       "doid          diseaseId\n",
       "DOID:0060334  C0342277     1\n",
       "              C1864623     1\n",
       "DOID:11257    C0008909     1\n",
       "              C0349231     1\n",
       "DOID:11847    C0027051     1\n",
       "              C0151814     1\n",
       "DOID:14118    C0020481     1\n",
       "              C1720779     1\n",
       "DOID:2030     C0003467     1\n",
       "              C0349231     1\n",
       "DOID:4964     C0011579     1\n",
       "              C0013415     1\n",
       "              C0025193     1\n",
       "DOID:5844     C0027051     1\n",
       "              C0151814     1\n",
       "DOID:591      C0008909     1\n",
       "              C0349231     1\n",
       "Name: diseaseId, dtype: int64"
      ]
     },
     "execution_count": 23,
     "metadata": {},
     "output_type": "execute_result"
    }
   ],
   "source": [
    "v.groupby('doid')['diseaseId'].value_counts()"
   ]
  },
  {
   "cell_type": "markdown",
   "metadata": {
    "pycharm": {
     "name": "#%% md\n"
    }
   },
   "source": [
    "## list cui that has more than 1 mapping to doid\n"
   ]
  },
  {
   "cell_type": "code",
   "execution_count": 24,
   "metadata": {
    "pycharm": {
     "is_executing": false,
     "name": "#%%\n"
    }
   },
   "outputs": [
    {
     "data": {
      "text/plain": [
       "(63, 4)"
      ]
     },
     "execution_count": 24,
     "metadata": {},
     "output_type": "execute_result"
    }
   ],
   "source": [
    "h = disease_doid_convert_to_csv.groupby('diseaseId').filter(lambda group: len(group)>1)\n",
    "\n",
    "h.shape"
   ]
  },
  {
   "cell_type": "code",
   "execution_count": 25,
   "metadata": {
    "pycharm": {
     "is_executing": false,
     "name": "#%%\n"
    }
   },
   "outputs": [
    {
     "data": {
      "text/html": [
       "<div>\n",
       "<style scoped>\n",
       "    .dataframe tbody tr th:only-of-type {\n",
       "        vertical-align: middle;\n",
       "    }\n",
       "\n",
       "    .dataframe tbody tr th {\n",
       "        vertical-align: top;\n",
       "    }\n",
       "\n",
       "    .dataframe thead th {\n",
       "        text-align: right;\n",
       "    }\n",
       "</style>\n",
       "<table border=\"1\" class=\"dataframe\">\n",
       "  <thead>\n",
       "    <tr style=\"text-align: right;\">\n",
       "      <th></th>\n",
       "      <th>diseaseId</th>\n",
       "      <th>name</th>\n",
       "      <th>doid</th>\n",
       "      <th>vocabularyName</th>\n",
       "    </tr>\n",
       "  </thead>\n",
       "  <tbody>\n",
       "    <tr>\n",
       "      <th>1524</th>\n",
       "      <td>C0342277</td>\n",
       "      <td>Diabetes mellitus autosomal dominant type II (...</td>\n",
       "      <td>DOID:0060334</td>\n",
       "      <td>transient neonatal diabetes mellitus</td>\n",
       "    </tr>\n",
       "    <tr>\n",
       "      <th>1934</th>\n",
       "      <td>C0152264</td>\n",
       "      <td>Familial erythrocytosis</td>\n",
       "      <td>DOID:0060652</td>\n",
       "      <td>familial erythrocytosis 1</td>\n",
       "    </tr>\n",
       "    <tr>\n",
       "      <th>6289</th>\n",
       "      <td>C0340968</td>\n",
       "      <td>Deficiency of pyruvate kinase</td>\n",
       "      <td>DOID:0111077</td>\n",
       "      <td>pyruvate kinase deficiency of red cells</td>\n",
       "    </tr>\n",
       "    <tr>\n",
       "      <th>6328</th>\n",
       "      <td>C0342277</td>\n",
       "      <td>Diabetes mellitus autosomal dominant type II (...</td>\n",
       "      <td>DOID:0111100</td>\n",
       "      <td>maturity-onset diabetes of the young type 2</td>\n",
       "    </tr>\n",
       "    <tr>\n",
       "      <th>6470</th>\n",
       "      <td>C0007785</td>\n",
       "      <td>Cerebral Infarction</td>\n",
       "      <td>DOID:10127</td>\n",
       "      <td>cerebral artery occlusion</td>\n",
       "    </tr>\n",
       "  </tbody>\n",
       "</table>\n",
       "</div>"
      ],
      "text/plain": [
       "     diseaseId                                               name  \\\n",
       "1524  C0342277  Diabetes mellitus autosomal dominant type II (...   \n",
       "1934  C0152264                            Familial erythrocytosis   \n",
       "6289  C0340968                      Deficiency of pyruvate kinase   \n",
       "6328  C0342277  Diabetes mellitus autosomal dominant type II (...   \n",
       "6470  C0007785                                Cerebral Infarction   \n",
       "\n",
       "              doid                               vocabularyName  \n",
       "1524  DOID:0060334         transient neonatal diabetes mellitus  \n",
       "1934  DOID:0060652                    familial erythrocytosis 1  \n",
       "6289  DOID:0111077      pyruvate kinase deficiency of red cells  \n",
       "6328  DOID:0111100  maturity-onset diabetes of the young type 2  \n",
       "6470    DOID:10127                    cerebral artery occlusion  "
      ]
     },
     "execution_count": 25,
     "metadata": {},
     "output_type": "execute_result"
    }
   ],
   "source": [
    "\n",
    "\n",
    "h.head()"
   ]
  },
  {
   "cell_type": "markdown",
   "metadata": {
    "pycharm": {
     "name": "#%% md\n"
    }
   },
   "source": [
    "## list cui that has more thn 1 mapping to doid"
   ]
  },
  {
   "cell_type": "code",
   "execution_count": 26,
   "metadata": {
    "pycharm": {
     "is_executing": false,
     "name": "#%%\n"
    }
   },
   "outputs": [
    {
     "data": {
      "text/plain": [
       "(63, 4)"
      ]
     },
     "execution_count": 26,
     "metadata": {},
     "output_type": "execute_result"
    }
   ],
   "source": [
    "h.shape"
   ]
  },
  {
   "cell_type": "code",
   "execution_count": 27,
   "metadata": {
    "pycharm": {
     "is_executing": false,
     "name": "#%%\n"
    }
   },
   "outputs": [
    {
     "data": {
      "text/plain": [
       "array(['C0342277', 'C0152264', 'C0340968', 'C0007785', 'C0271650',\n",
       "       'C0025637', 'C0014761', 'C0162316', 'C0008909', 'C0349231',\n",
       "       'C0020481', 'C0011859', 'C0027051', 'C0151814', 'C0022610',\n",
       "       'C0013415', 'C0265110', 'C1306856', 'C0003467', 'C0025193',\n",
       "       'C0011579', 'C0011880', 'C0004096', 'C0032463', 'C0340293'],\n",
       "      dtype=object)"
      ]
     },
     "execution_count": 27,
     "metadata": {},
     "output_type": "execute_result"
    }
   ],
   "source": [
    "h['diseaseId'].unique()\n"
   ]
  },
  {
   "cell_type": "markdown",
   "metadata": {
    "pycharm": {
     "name": "#%% md\n"
    }
   },
   "source": [
    "# Mapping  doid between GPSim dataset and copd_doid.csv"
   ]
  },
  {
   "cell_type": "code",
   "execution_count": 28,
   "metadata": {
    "pycharm": {
     "is_executing": false,
     "name": "#%% \n"
    }
   },
   "outputs": [
    {
     "data": {
      "text/plain": [
       "(55, 1)"
      ]
     },
     "execution_count": 28,
     "metadata": {},
     "output_type": "execute_result"
    }
   ],
   "source": [
    "uniq_doid_that_overlap_with_gpsim = pd.read_csv(r'C:\\Users\\Anak\\PycharmProjects\\recreate_gene_disease\\Data\\processed\\GPSim\\Nodes\\unique_doid_that_overlap_between_gene2_hpo2_and_genedisease_doid.csv')\n",
    "uniq_doid_that_overlap_with_gpsim.shape"
   ]
  },
  {
   "cell_type": "code",
   "execution_count": 29,
   "metadata": {
    "pycharm": {
     "is_executing": false,
     "name": "#%%\n"
    }
   },
   "outputs": [
    {
     "data": {
      "text/html": [
       "<div>\n",
       "<style scoped>\n",
       "    .dataframe tbody tr th:only-of-type {\n",
       "        vertical-align: middle;\n",
       "    }\n",
       "\n",
       "    .dataframe tbody tr th {\n",
       "        vertical-align: top;\n",
       "    }\n",
       "\n",
       "    .dataframe thead th {\n",
       "        text-align: right;\n",
       "    }\n",
       "</style>\n",
       "<table border=\"1\" class=\"dataframe\">\n",
       "  <thead>\n",
       "    <tr style=\"text-align: right;\">\n",
       "      <th></th>\n",
       "      <th>doid</th>\n",
       "    </tr>\n",
       "  </thead>\n",
       "  <tbody>\n",
       "    <tr>\n",
       "      <th>0</th>\n",
       "      <td>DOID:0050554</td>\n",
       "    </tr>\n",
       "    <tr>\n",
       "      <th>1</th>\n",
       "      <td>DOID:0050641</td>\n",
       "    </tr>\n",
       "    <tr>\n",
       "      <th>2</th>\n",
       "      <td>DOID:0050650</td>\n",
       "    </tr>\n",
       "    <tr>\n",
       "      <th>3</th>\n",
       "      <td>DOID:0060063</td>\n",
       "    </tr>\n",
       "    <tr>\n",
       "      <th>4</th>\n",
       "      <td>DOID:0060334</td>\n",
       "    </tr>\n",
       "  </tbody>\n",
       "</table>\n",
       "</div>"
      ],
      "text/plain": [
       "           doid\n",
       "0  DOID:0050554\n",
       "1  DOID:0050641\n",
       "2  DOID:0050650\n",
       "3  DOID:0060063\n",
       "4  DOID:0060334"
      ]
     },
     "execution_count": 29,
     "metadata": {},
     "output_type": "execute_result"
    }
   ],
   "source": [
    "uniq_doid_that_overlap_with_gpsim.head()\n"
   ]
  },
  {
   "cell_type": "code",
   "execution_count": 30,
   "metadata": {
    "pycharm": {
     "is_executing": false,
     "name": "#%%\n"
    }
   },
   "outputs": [
    {
     "data": {
      "text/plain": [
       "(139, 4)"
      ]
     },
     "execution_count": 30,
     "metadata": {},
     "output_type": "execute_result"
    }
   ],
   "source": [
    "# my set of uniq doid that have mapping from copd_label\n",
    "uniq_doid = pd.read_csv(r'C:\\Users\\Anak\\PycharmProjects\\recreate_gene_disease\\Data\\raw\\GeneDiseaseProject\\COPD\\Nodes\\copd_doid.csv')\n",
    "uniq_doid.shape"
   ]
  },
  {
   "cell_type": "code",
   "execution_count": 31,
   "metadata": {
    "pycharm": {
     "is_executing": false,
     "name": "#%%\n"
    }
   },
   "outputs": [
    {
     "data": {
      "text/html": [
       "<div>\n",
       "<style scoped>\n",
       "    .dataframe tbody tr th:only-of-type {\n",
       "        vertical-align: middle;\n",
       "    }\n",
       "\n",
       "    .dataframe tbody tr th {\n",
       "        vertical-align: top;\n",
       "    }\n",
       "\n",
       "    .dataframe thead th {\n",
       "        text-align: right;\n",
       "    }\n",
       "</style>\n",
       "<table border=\"1\" class=\"dataframe\">\n",
       "  <thead>\n",
       "    <tr style=\"text-align: right;\">\n",
       "      <th></th>\n",
       "      <th>diseaseId</th>\n",
       "      <th>name</th>\n",
       "      <th>doid</th>\n",
       "      <th>vocabularyName</th>\n",
       "    </tr>\n",
       "  </thead>\n",
       "  <tbody>\n",
       "    <tr>\n",
       "      <th>0</th>\n",
       "      <td>C1845028</td>\n",
       "      <td>ANEMIA, SIDEROBLASTIC, AND SPINOCEREBELLAR ATAXIA</td>\n",
       "      <td>DOID:0050554</td>\n",
       "      <td>X-linked sideroblastic anemia with ataxia</td>\n",
       "    </tr>\n",
       "    <tr>\n",
       "      <th>1</th>\n",
       "      <td>C0272052</td>\n",
       "      <td>Rh Deficiency Syndrome</td>\n",
       "      <td>DOID:0050641</td>\n",
       "      <td>Rh deficiency syndrome</td>\n",
       "    </tr>\n",
       "    <tr>\n",
       "      <th>2</th>\n",
       "      <td>C1843687</td>\n",
       "      <td>ATRIAL FIBRILLATION, FAMILIAL, 1 (disorder)</td>\n",
       "      <td>DOID:0050650</td>\n",
       "      <td>familial atrial fibrillation</td>\n",
       "    </tr>\n",
       "    <tr>\n",
       "      <th>3</th>\n",
       "      <td>C0338495</td>\n",
       "      <td>Sleep Apnea, Mixed Central and Obstructive</td>\n",
       "      <td>DOID:0050848</td>\n",
       "      <td>obstructive sleep apnea</td>\n",
       "    </tr>\n",
       "    <tr>\n",
       "      <th>4</th>\n",
       "      <td>C0221018</td>\n",
       "      <td>Hereditary sideroblastic anemia</td>\n",
       "      <td>DOID:0060063</td>\n",
       "      <td>X-linked sideroblastic anemia</td>\n",
       "    </tr>\n",
       "  </tbody>\n",
       "</table>\n",
       "</div>"
      ],
      "text/plain": [
       "  diseaseId                                               name          doid  \\\n",
       "0  C1845028  ANEMIA, SIDEROBLASTIC, AND SPINOCEREBELLAR ATAXIA  DOID:0050554   \n",
       "1  C0272052                             Rh Deficiency Syndrome  DOID:0050641   \n",
       "2  C1843687        ATRIAL FIBRILLATION, FAMILIAL, 1 (disorder)  DOID:0050650   \n",
       "3  C0338495         Sleep Apnea, Mixed Central and Obstructive  DOID:0050848   \n",
       "4  C0221018                    Hereditary sideroblastic anemia  DOID:0060063   \n",
       "\n",
       "                              vocabularyName  \n",
       "0  X-linked sideroblastic anemia with ataxia  \n",
       "1                     Rh deficiency syndrome  \n",
       "2               familial atrial fibrillation  \n",
       "3                    obstructive sleep apnea  \n",
       "4              X-linked sideroblastic anemia  "
      ]
     },
     "execution_count": 31,
     "metadata": {},
     "output_type": "execute_result"
    }
   ],
   "source": [
    "uniq_doid.head()"
   ]
  },
  {
   "cell_type": "code",
   "execution_count": 32,
   "metadata": {
    "pycharm": {
     "is_executing": false,
     "name": "#%%\n"
    }
   },
   "outputs": [
    {
     "data": {
      "text/plain": [
       "(58, 4)"
      ]
     },
     "execution_count": 32,
     "metadata": {},
     "output_type": "execute_result"
    }
   ],
   "source": [
    "uniq_cui = uniq_doid[uniq_doid['doid'].isin(uniq_doid_that_overlap_with_gpsim['doid'])]\n",
    "uniq_cui.shape"
   ]
  },
  {
   "cell_type": "code",
   "execution_count": 33,
   "metadata": {
    "pycharm": {
     "is_executing": false,
     "name": "#%%\n"
    }
   },
   "outputs": [
    {
     "data": {
      "text/html": [
       "<div>\n",
       "<style scoped>\n",
       "    .dataframe tbody tr th:only-of-type {\n",
       "        vertical-align: middle;\n",
       "    }\n",
       "\n",
       "    .dataframe tbody tr th {\n",
       "        vertical-align: top;\n",
       "    }\n",
       "\n",
       "    .dataframe thead th {\n",
       "        text-align: right;\n",
       "    }\n",
       "</style>\n",
       "<table border=\"1\" class=\"dataframe\">\n",
       "  <thead>\n",
       "    <tr style=\"text-align: right;\">\n",
       "      <th></th>\n",
       "      <th>diseaseId</th>\n",
       "      <th>name</th>\n",
       "      <th>doid</th>\n",
       "      <th>vocabularyName</th>\n",
       "    </tr>\n",
       "  </thead>\n",
       "  <tbody>\n",
       "    <tr>\n",
       "      <th>0</th>\n",
       "      <td>C1845028</td>\n",
       "      <td>ANEMIA, SIDEROBLASTIC, AND SPINOCEREBELLAR ATAXIA</td>\n",
       "      <td>DOID:0050554</td>\n",
       "      <td>X-linked sideroblastic anemia with ataxia</td>\n",
       "    </tr>\n",
       "    <tr>\n",
       "      <th>1</th>\n",
       "      <td>C0272052</td>\n",
       "      <td>Rh Deficiency Syndrome</td>\n",
       "      <td>DOID:0050641</td>\n",
       "      <td>Rh deficiency syndrome</td>\n",
       "    </tr>\n",
       "    <tr>\n",
       "      <th>2</th>\n",
       "      <td>C1843687</td>\n",
       "      <td>ATRIAL FIBRILLATION, FAMILIAL, 1 (disorder)</td>\n",
       "      <td>DOID:0050650</td>\n",
       "      <td>familial atrial fibrillation</td>\n",
       "    </tr>\n",
       "    <tr>\n",
       "      <th>4</th>\n",
       "      <td>C0221018</td>\n",
       "      <td>Hereditary sideroblastic anemia</td>\n",
       "      <td>DOID:0060063</td>\n",
       "      <td>X-linked sideroblastic anemia</td>\n",
       "    </tr>\n",
       "    <tr>\n",
       "      <th>6</th>\n",
       "      <td>C0342277</td>\n",
       "      <td>Diabetes mellitus autosomal dominant type II (...</td>\n",
       "      <td>DOID:0060334</td>\n",
       "      <td>transient neonatal diabetes mellitus</td>\n",
       "    </tr>\n",
       "  </tbody>\n",
       "</table>\n",
       "</div>"
      ],
      "text/plain": [
       "  diseaseId                                               name          doid  \\\n",
       "0  C1845028  ANEMIA, SIDEROBLASTIC, AND SPINOCEREBELLAR ATAXIA  DOID:0050554   \n",
       "1  C0272052                             Rh Deficiency Syndrome  DOID:0050641   \n",
       "2  C1843687        ATRIAL FIBRILLATION, FAMILIAL, 1 (disorder)  DOID:0050650   \n",
       "4  C0221018                    Hereditary sideroblastic anemia  DOID:0060063   \n",
       "6  C0342277  Diabetes mellitus autosomal dominant type II (...  DOID:0060334   \n",
       "\n",
       "                              vocabularyName  \n",
       "0  X-linked sideroblastic anemia with ataxia  \n",
       "1                     Rh deficiency syndrome  \n",
       "2               familial atrial fibrillation  \n",
       "4              X-linked sideroblastic anemia  \n",
       "6       transient neonatal diabetes mellitus  "
      ]
     },
     "execution_count": 33,
     "metadata": {},
     "output_type": "execute_result"
    }
   ],
   "source": [
    "uniq_cui.head()"
   ]
  },
  {
   "cell_type": "code",
   "execution_count": 34,
   "metadata": {
    "pycharm": {
     "is_executing": false,
     "name": "#%%\n"
    }
   },
   "outputs": [
    {
     "data": {
      "text/html": [
       "<div>\n",
       "<style scoped>\n",
       "    .dataframe tbody tr th:only-of-type {\n",
       "        vertical-align: middle;\n",
       "    }\n",
       "\n",
       "    .dataframe tbody tr th {\n",
       "        vertical-align: top;\n",
       "    }\n",
       "\n",
       "    .dataframe thead th {\n",
       "        text-align: right;\n",
       "    }\n",
       "</style>\n",
       "<table border=\"1\" class=\"dataframe\">\n",
       "  <thead>\n",
       "    <tr style=\"text-align: right;\">\n",
       "      <th></th>\n",
       "      <th>diseaseId</th>\n",
       "      <th>name</th>\n",
       "      <th>doid</th>\n",
       "      <th>vocabularyName</th>\n",
       "    </tr>\n",
       "  </thead>\n",
       "  <tbody>\n",
       "    <tr>\n",
       "      <th>6</th>\n",
       "      <td>C0342277</td>\n",
       "      <td>Diabetes mellitus autosomal dominant type II (...</td>\n",
       "      <td>DOID:0060334</td>\n",
       "      <td>transient neonatal diabetes mellitus</td>\n",
       "    </tr>\n",
       "    <tr>\n",
       "      <th>7</th>\n",
       "      <td>C1864623</td>\n",
       "      <td>DIABETES MELLITUS, TRANSIENT NEONATAL, 3 (diso...</td>\n",
       "      <td>DOID:0060334</td>\n",
       "      <td>transient neonatal diabetes mellitus</td>\n",
       "    </tr>\n",
       "    <tr>\n",
       "      <th>76</th>\n",
       "      <td>C0020481</td>\n",
       "      <td>Hyperlipoproteinemia Type V</td>\n",
       "      <td>DOID:14118</td>\n",
       "      <td>familial lipoprotein lipase deficiency</td>\n",
       "    </tr>\n",
       "    <tr>\n",
       "      <th>77</th>\n",
       "      <td>C1720779</td>\n",
       "      <td>Apolipoprotein C-II Deficiency (disorder)</td>\n",
       "      <td>DOID:14118</td>\n",
       "      <td>familial lipoprotein lipase deficiency</td>\n",
       "    </tr>\n",
       "    <tr>\n",
       "      <th>110</th>\n",
       "      <td>C0151814</td>\n",
       "      <td>Coronary Occlusion</td>\n",
       "      <td>DOID:5844</td>\n",
       "      <td>myocardial infarction</td>\n",
       "    </tr>\n",
       "    <tr>\n",
       "      <th>111</th>\n",
       "      <td>C0027051</td>\n",
       "      <td>Myocardial Infarction</td>\n",
       "      <td>DOID:5844</td>\n",
       "      <td>myocardial infarction</td>\n",
       "    </tr>\n",
       "  </tbody>\n",
       "</table>\n",
       "</div>"
      ],
      "text/plain": [
       "    diseaseId                                               name  \\\n",
       "6    C0342277  Diabetes mellitus autosomal dominant type II (...   \n",
       "7    C1864623  DIABETES MELLITUS, TRANSIENT NEONATAL, 3 (diso...   \n",
       "76   C0020481                        Hyperlipoproteinemia Type V   \n",
       "77   C1720779          Apolipoprotein C-II Deficiency (disorder)   \n",
       "110  C0151814                                 Coronary Occlusion   \n",
       "111  C0027051                              Myocardial Infarction   \n",
       "\n",
       "             doid                          vocabularyName  \n",
       "6    DOID:0060334    transient neonatal diabetes mellitus  \n",
       "7    DOID:0060334    transient neonatal diabetes mellitus  \n",
       "76     DOID:14118  familial lipoprotein lipase deficiency  \n",
       "77     DOID:14118  familial lipoprotein lipase deficiency  \n",
       "110     DOID:5844                   myocardial infarction  \n",
       "111     DOID:5844                   myocardial infarction  "
      ]
     },
     "execution_count": 34,
     "metadata": {},
     "output_type": "execute_result"
    }
   ],
   "source": [
    "v = uniq_cui.groupby('doid').filter(lambda group: len(group)>1)\n",
    "v\n",
    "\n"
   ]
  },
  {
   "cell_type": "markdown",
   "metadata": {
    "pycharm": {
     "name": "#%% md\n"
    }
   },
   "source": [
    "# read copd_label_content07_14_19_46.txt (columns = cui, class_id)"
   ]
  },
  {
   "cell_type": "code",
   "execution_count": 35,
   "metadata": {
    "pycharm": {
     "is_executing": false,
     "name": "#%% \n"
    }
   },
   "outputs": [
    {
     "data": {
      "text/plain": [
       "(101, 2)"
      ]
     },
     "execution_count": 35,
     "metadata": {},
     "output_type": "execute_result"
    }
   ],
   "source": [
    "cui_and_class_id = pd.read_csv(r'C:\\Users\\Anak\\PycharmProjects\\recreate_gene_disease\\Data\\raw\\GeneDiseaseProject\\COPD\\Nodes\\copd_label_content07_14_19_46.txt', sep='\\t',header=None )\n",
    "cui_and_class_id.shape"
   ]
  },
  {
   "cell_type": "code",
   "execution_count": 36,
   "metadata": {
    "pycharm": {
     "is_executing": false,
     "name": "#%%\n"
    }
   },
   "outputs": [
    {
     "data": {
      "text/html": [
       "<div>\n",
       "<style scoped>\n",
       "    .dataframe tbody tr th:only-of-type {\n",
       "        vertical-align: middle;\n",
       "    }\n",
       "\n",
       "    .dataframe tbody tr th {\n",
       "        vertical-align: top;\n",
       "    }\n",
       "\n",
       "    .dataframe thead th {\n",
       "        text-align: right;\n",
       "    }\n",
       "</style>\n",
       "<table border=\"1\" class=\"dataframe\">\n",
       "  <thead>\n",
       "    <tr style=\"text-align: right;\">\n",
       "      <th></th>\n",
       "      <th>0</th>\n",
       "      <th>1</th>\n",
       "    </tr>\n",
       "  </thead>\n",
       "  <tbody>\n",
       "    <tr>\n",
       "      <th>0</th>\n",
       "      <td>C0001818</td>\n",
       "      <td>4</td>\n",
       "    </tr>\n",
       "    <tr>\n",
       "      <th>1</th>\n",
       "      <td>C0002876</td>\n",
       "      <td>2</td>\n",
       "    </tr>\n",
       "    <tr>\n",
       "      <th>2</th>\n",
       "      <td>C0002890</td>\n",
       "      <td>2</td>\n",
       "    </tr>\n",
       "    <tr>\n",
       "      <th>3</th>\n",
       "      <td>C0003467</td>\n",
       "      <td>4</td>\n",
       "    </tr>\n",
       "    <tr>\n",
       "      <th>4</th>\n",
       "      <td>C0004096</td>\n",
       "      <td>0</td>\n",
       "    </tr>\n",
       "  </tbody>\n",
       "</table>\n",
       "</div>"
      ],
      "text/plain": [
       "          0  1\n",
       "0  C0001818  4\n",
       "1  C0002876  2\n",
       "2  C0002890  2\n",
       "3  C0003467  4\n",
       "4  C0004096  0"
      ]
     },
     "execution_count": 36,
     "metadata": {},
     "output_type": "execute_result"
    }
   ],
   "source": [
    "cui_and_class_id.head()\n"
   ]
  },
  {
   "cell_type": "markdown",
   "metadata": {
    "pycharm": {
     "is_executing": false,
     "name": "#%% md\n"
    }
   },
   "source": [
    "# Get Degree of each disease in GeneDisease Dataset?"
   ]
  },
  {
   "cell_type": "code",
   "execution_count": 37,
   "metadata": {
    "pycharm": {
     "is_executing": false,
     "name": "#%%\n"
    }
   },
   "outputs": [
    {
     "data": {
      "text/plain": [
       "(539, 2)"
      ]
     },
     "execution_count": 37,
     "metadata": {},
     "output_type": "execute_result"
    }
   ],
   "source": [
    "# read disease edges data \n",
    "disease_to_disease_edges = pd.read_csv(r'C:\\Users\\Anak\\PycharmProjects\\recreate_gene_disease\\Data\\raw\\GeneDiseaseProject\\COPD\\Edges\\GeneDisease_all_disease_to_disease_edges.csv', sep=',')\n",
    "disease_to_disease_edges.shape"
   ]
  },
  {
   "cell_type": "code",
   "execution_count": 38,
   "metadata": {
    "pycharm": {
     "is_executing": false,
     "name": "#%%\n"
    }
   },
   "outputs": [
    {
     "data": {
      "text/html": [
       "<div>\n",
       "<style scoped>\n",
       "    .dataframe tbody tr th:only-of-type {\n",
       "        vertical-align: middle;\n",
       "    }\n",
       "\n",
       "    .dataframe tbody tr th {\n",
       "        vertical-align: top;\n",
       "    }\n",
       "\n",
       "    .dataframe thead th {\n",
       "        text-align: right;\n",
       "    }\n",
       "</style>\n",
       "<table border=\"1\" class=\"dataframe\">\n",
       "  <thead>\n",
       "    <tr style=\"text-align: right;\">\n",
       "      <th></th>\n",
       "      <th>disease1</th>\n",
       "      <th>disease2</th>\n",
       "    </tr>\n",
       "  </thead>\n",
       "  <tbody>\n",
       "    <tr>\n",
       "      <th>0</th>\n",
       "      <td>C0002876</td>\n",
       "      <td>C0004096</td>\n",
       "    </tr>\n",
       "    <tr>\n",
       "      <th>1</th>\n",
       "      <td>C0002876</td>\n",
       "      <td>C0020479</td>\n",
       "    </tr>\n",
       "    <tr>\n",
       "      <th>2</th>\n",
       "      <td>C0002876</td>\n",
       "      <td>C0027051</td>\n",
       "    </tr>\n",
       "    <tr>\n",
       "      <th>3</th>\n",
       "      <td>C0002876</td>\n",
       "      <td>C0031190</td>\n",
       "    </tr>\n",
       "    <tr>\n",
       "      <th>4</th>\n",
       "      <td>C0002876</td>\n",
       "      <td>C0032463</td>\n",
       "    </tr>\n",
       "  </tbody>\n",
       "</table>\n",
       "</div>"
      ],
      "text/plain": [
       "   disease1  disease2\n",
       "0  C0002876  C0004096\n",
       "1  C0002876  C0020479\n",
       "2  C0002876  C0027051\n",
       "3  C0002876  C0031190\n",
       "4  C0002876  C0032463"
      ]
     },
     "execution_count": 38,
     "metadata": {},
     "output_type": "execute_result"
    }
   ],
   "source": [
    "disease_to_disease_edges.head()"
   ]
  },
  {
   "cell_type": "code",
   "execution_count": 40,
   "metadata": {
    "pycharm": {
     "is_executing": false,
     "name": "#%%\n"
    },
    "scrolled": true
   },
   "outputs": [
    {
     "data": {
      "text/plain": [
       "EdgeView([('a', 'b')])"
      ]
     },
     "execution_count": 40,
     "metadata": {},
     "output_type": "execute_result"
    }
   ],
   "source": []
  },
  {
   "cell_type": "code",
   "execution_count": null,
   "metadata": {
    "pycharm": {
     "is_executing": false,
     "name": "#%%\n"
    }
   },
   "outputs": [],
   "source": [
    "# convert disease edges data into networkx object \n",
    "import networkx as nx\n",
    "\n",
    "# note: the following example\n",
    "# >>> test_df = pd.DataFrame([ ['a','b'] , ['b','a']])\n",
    "#     test_df.columns = ['disease1', 'disease2']\n",
    "#     test = nx.convert_matrix.from_pandas_edgelist(test_df ,'disease1','disease2')\n",
    "#     test.edges\n",
    "# EdgeView([('a', 'b')]) # not directional\n",
    "\n",
    "G = nx.convert_matrix.from_pandas_edgelist(disease_to_disease_edges, 'disease1', 'disease2')\n",
    "dd# G = nx.convert_matrix.from_pandas_edgelist(disease_to_disease_edges)\n",
    "G\n"
   ]
  },
  {
   "cell_type": "code",
   "execution_count": null,
   "metadata": {
    "pycharm": {
     "is_executing": false,
     "name": "#%%\n"
    },
    "scrolled": true
   },
   "outputs": [],
   "source": [
    "assert  G.number_of_edges() == disease_to_disease_edges.shape[0], \"G.number_of_edges() =! disease_to_disease_edges.shape[0]\"\n",
    "G.edges "
   ]
  },
  {
   "cell_type": "code",
   "execution_count": null,
   "metadata": {
    "pycharm": {
     "is_executing": false,
     "name": "#%%\n"
    }
   },
   "outputs": [],
   "source": [
    "assert G.number_of_nodes() == pd.concat([ disease_to_disease_edges['disease2'], disease_to_disease_edges['disease1'] ]).unique().shape[0]\n",
    "\n",
    "G.nodes"
   ]
  },
  {
   "cell_type": "code",
   "execution_count": null,
   "metadata": {
    "pycharm": {
     "is_executing": false,
     "name": "#%%\n"
    }
   },
   "outputs": [],
   "source": [
    "# output edges indcident to C0002876 (aka degree )\n",
    "G.edges('C0002876')"
   ]
  },
  {
   "cell_type": "markdown",
   "metadata": {
    "pycharm": {
     "is_executing": false,
     "name": "#%% md\n"
    }
   },
   "source": [
    "# find InClassRatio and OutClassRation of each nodes"
   ]
  },
  {
   "cell_type": "markdown",
   "metadata": {
    "pycharm": {
     "name": "#%% md\n"
    }
   },
   "source": [
    "### Definition \n",
    "#### InClassRatio = number of node neighbors that belong to the same class\n",
    "#### OutClassRatio = number of node neighbors that belong to the different class"
   ]
  },
  {
   "cell_type": "code",
   "execution_count": null,
   "metadata": {
    "pycharm": {
     "is_executing": false,
     "name": "#%%\n"
    }
   },
   "outputs": [],
   "source": [
    "cui_and_class_id.head()"
   ]
  },
  {
   "cell_type": "code",
   "execution_count": null,
   "metadata": {
    "pycharm": {
     "is_executing": false
    },
    "scrolled": true
   },
   "outputs": [],
   "source": [
    "cui2class_id_dict = cui_and_class_id.to_dict()\n",
    "cui2class_id_dict = {cui:cls for cui, cls in zip(cui2class_id_dict[0].values(), cui2class_id_dict[1].values())}\n",
    "cui2class_id_dict"
   ]
  },
  {
   "cell_type": "code",
   "execution_count": null,
   "metadata": {
    "pycharm": {
     "is_executing": false
    }
   },
   "outputs": [],
   "source": []
  },
  {
   "cell_type": "code",
   "execution_count": null,
   "metadata": {
    "pycharm": {
     "is_executing": false,
     "name": "#%%\n"
    }
   },
   "outputs": [],
   "source": [
    "# Gaol = get number of nodes that are in the same class as C0002876\n",
    "C0002865_neighbors = list( G.neighbors('C0002876') )\n",
    "\n",
    "C0002865_neighbors"
   ]
  },
  {
   "cell_type": "code",
   "execution_count": null,
   "metadata": {
    "pycharm": {
     "is_executing": false,
     "name": "#%%\n"
    }
   },
   "outputs": [],
   "source": [
    "# C0002865_neighbors_class_id = list(map(cui2class_id_dict, C0002865_neighbors))\n",
    "C0002865_neighbors_class_id = [cui2class_id_dict[i] for i in C0002865_neighbors]\n",
    "C0002865_neighbors_class_id[:5]"
   ]
  },
  {
   "cell_type": "code",
   "execution_count": null,
   "metadata": {
    "pycharm": {
     "is_executing": false
    }
   },
   "outputs": [],
   "source": [
    "cui_and_class_id.shape"
   ]
  },
  {
   "cell_type": "markdown",
   "metadata": {},
   "source": [
    "# check if disease from copd_label_content is the same set as disease from copd_label07_14_19_46"
   ]
  },
  {
   "cell_type": "code",
   "execution_count": null,
   "metadata": {
    "pycharm": {
     "is_executing": false,
     "name": "#%%\n"
    },
    "scrolled": true
   },
   "outputs": [],
   "source": [
    "\n",
    "\n",
    "# cui_and_class_id.head()\n",
    "\n",
    "# copd_df.shape\n",
    "\n",
    "# copd_df.columns\n",
    "\n",
    "# copd_df['diseaseId'].unique().shape\n",
    "\n",
    "cui_from_copd_label = copd_df['diseaseId']\n",
    "cui_from_copd_content = cui_and_class_id[0]\n",
    "\n",
    "print(len(set(cui_from_copd_label)))\n",
    "print(len(set(cui_from_copd_label).intersection(set(cui_from_copd_content))))"
   ]
  },
  {
   "cell_type": "markdown",
   "metadata": {},
   "source": [
    "# check if cui from GeneDisease_all_disease_to_disease is a subset of cui from copd_label07_14_19_46"
   ]
  },
  {
   "cell_type": "code",
   "execution_count": null,
   "metadata": {
    "pycharm": {
     "is_executing": false
    }
   },
   "outputs": [],
   "source": [
    "cui_from_edges = pd.concat([ disease_to_disease_edges['disease2'], disease_to_disease_edges['disease1'] ]).unique()\n",
    "cui_from_edges.shape[0]\n",
    "print(len(cui_from_edges))\n",
    "print(len(set(cui_from_edges).intersection(set(cui_from_copd_label))))\n",
    "print(len(set(cui_from_edges).intersection(set(cui_from_copd_content))))"
   ]
  },
  {
   "cell_type": "markdown",
   "metadata": {},
   "source": [
    "## get number of inclass nad outclass for each diseases"
   ]
  },
  {
   "cell_type": "code",
   "execution_count": null,
   "metadata": {
    "pycharm": {
     "is_executing": false
    }
   },
   "outputs": [],
   "source": [
    "# here>> G.nodes() == 98, but there exist 3 more nodes that is not in G.nodes(). Should it has 101? if it should, how do I fixe it? \n",
    "cui_and_inclass_cui_dict = {}\n",
    "cui_and_outclass_cui_dict = {}\n",
    "for ind,i in enumerate(G.nodes()):\n",
    "    disease_class_id = cui2class_id_dict[i]\n",
    "    cui_and_inclass_cui_dict.setdefault(i,[])\n",
    "    cui_and_outclass_cui_dict.setdefault(i,[])\n",
    "    # get list of cui that are neibhor of the current node and are in the same class\n",
    "    for cui in G.neighbors(i):\n",
    "        # here>> logic below is wrong \n",
    "        if cui2class_id_dict[cui] == disease_class_id:\n",
    "            cui_and_inclass_cui_dict[i].append(cui)\n",
    "        else:\n",
    "            cui_and_outclass_cui_dict[i].append(cui)\n",
    "#     print(neighbor_class_id)"
   ]
  },
  {
   "cell_type": "code",
   "execution_count": null,
   "metadata": {
    "pycharm": {
     "is_executing": false
    },
    "scrolled": true
   },
   "outputs": [],
   "source": [
    "print(len(G.nodes()))\n",
    "print(len(list((cui_and_inclass_cui_dict.keys()))))\n",
    "print(len(list((cui_and_outclass_cui_dict.keys()))))"
   ]
  },
  {
   "cell_type": "markdown",
   "metadata": {},
   "source": [
    "## calculate InClassRatio and OutClassRatio"
   ]
  },
  {
   "cell_type": "markdown",
   "metadata": {},
   "source": [
    "### formular of InClassRatio and OutClassRatio\n",
    "#### InClassRatio = (# of InClass / # of degree) \n",
    "#### OutClassRatio = (# of OutClass / # of degree) "
   ]
  },
  {
   "cell_type": "code",
   "execution_count": null,
   "metadata": {
    "pycharm": {
     "is_executing": false
    },
    "scrolled": false
   },
   "outputs": [],
   "source": [
    "G.degree # convert this so that order of nodes keyword are the sme as cui_and_inclass_cui_dict"
   ]
  },
  {
   "cell_type": "code",
   "execution_count": null,
   "metadata": {
    "pycharm": {
     "is_executing": false
    }
   },
   "outputs": [],
   "source": [
    "cui_degree = {cui:G.degree[cui] for cui in G.nodes()}"
   ]
  },
  {
   "cell_type": "code",
   "execution_count": null,
   "metadata": {
    "pycharm": {
     "is_executing": false
    }
   },
   "outputs": [],
   "source": [
    "G.degree('C0002876')"
   ]
  },
  {
   "cell_type": "code",
   "execution_count": null,
   "metadata": {
    "pycharm": {
     "is_executing": false
    },
    "scrolled": true
   },
   "outputs": [],
   "source": [
    "cui_degree"
   ]
  },
  {
   "cell_type": "code",
   "execution_count": null,
   "metadata": {
    "pycharm": {
     "is_executing": false
    },
    "scrolled": true
   },
   "outputs": [],
   "source": [
    "inclass_ratio_dict = {cui:len(cui_and_inclass_cui_dict[cui])/cui_degree[cui] for cui in G.nodes()}\n",
    "inclass_ratio_dict"
   ]
  },
  {
   "cell_type": "code",
   "execution_count": null,
   "metadata": {
    "pycharm": {
     "is_executing": false
    }
   },
   "outputs": [],
   "source": [
    "print(len(cui_degree))\n",
    "print(len(G.nodes()))\n",
    "print(len(list(cui_and_inclass_cui_dict.keys())))"
   ]
  },
  {
   "cell_type": "markdown",
   "metadata": {},
   "source": [
    "# find maximum accumulated_inclass_score"
   ]
  },
  {
   "cell_type": "markdown",
   "metadata": {},
   "source": [
    "## Formular\n",
    "### accumulated_inclass_score = sum(InClass for all nodes with in each class) / sum(# of deree for all node with in each class)"
   ]
  },
  {
   "cell_type": "code",
   "execution_count": null,
   "metadata": {
    "pycharm": {
     "is_executing": false
    },
    "scrolled": true
   },
   "outputs": [],
   "source": [
    "inclass_score_dict = {cui: len(cui_and_inclass_cui_dict[cui]) for cui in G.nodes()}\n",
    "inclass_score_dict"
   ]
  },
  {
   "cell_type": "code",
   "execution_count": null,
   "metadata": {
    "pycharm": {
     "is_executing": false
    },
    "scrolled": true
   },
   "outputs": [],
   "source": [
    "cui2class_id_dict"
   ]
  },
  {
   "cell_type": "code",
   "execution_count": null,
   "metadata": {
    "pycharm": {
     "is_executing": false
    }
   },
   "outputs": [],
   "source": [
    "len(cui2class_id_dict.keys())"
   ]
  },
  {
   "cell_type": "code",
   "execution_count": null,
   "metadata": {
    "pycharm": {
     "is_executing": false,
     "name": "#%%\n"
    },
    "scrolled": true
   },
   "outputs": [],
   "source": [
    "# create dict with {class_id: list of cui belongs to each class}\n",
    "class_id_and_list_of_same_class_cui = {}\n",
    "for cui,class_id in cui2class_id_dict.items():\n",
    "    class_id_and_list_of_same_class_cui.setdefault(class_id, []).append(cui)\n",
    "class_id_and_list_of_same_class_cui"
   ]
  },
  {
   "cell_type": "code",
   "execution_count": null,
   "metadata": {
    "pycharm": {
     "is_executing": false,
     "name": "#%%\n"
    }
   },
   "outputs": [],
   "source": [
    "len(inclass_score_dict.keys())\n"
   ]
  },
  {
   "cell_type": "code",
   "execution_count": null,
   "metadata": {
    "pycharm": {
     "is_executing": false
    },
    "scrolled": true
   },
   "outputs": [],
   "source": [
    "accumulated_inclass_score_dict = {}\n",
    "\n",
    "for class_id, cuis in class_id_and_list_of_same_class_cui.items():\n",
    "    total_score = 0\n",
    "    total_degree = 0\n",
    "    for cui in cuis:\n",
    "        # filter 98 diseases out of 101 diseases \n",
    "        if cui not in list(G.nodes()):\n",
    "            pass\n",
    "        else:\n",
    "            total_score += inclass_score_dict[cui] # error \n",
    "            total_degree += G.degree(cui)\n",
    "    accumulated_inclass_score_dict[class_id] = total_score/total_degree\n",
    "\n",
    "accumulated_inclass_score_dict"
   ]
  },
  {
   "cell_type": "markdown",
   "metadata": {},
   "source": [
    "# Calculated normalized_accumulated_inclass_score for GeneDisease_TopK=0.05.csv"
   ]
  },
  {
   "cell_type": "code",
   "execution_count": null,
   "metadata": {
    "pycharm": {
     "is_executing": false
    }
   },
   "outputs": [],
   "source": [
    "GeneDisease_top_k = pd.read_csv(r'C:\\Users\\Anak\\PycharmProjects\\recreate_gene_disease\\Data\\raw\\GeneDiseaseProject\\COPD\\Edges\\GeneDisease_TopK=0.05.csv')\n",
    "GeneDisease_top_k.head()"
   ]
  },
  {
   "cell_type": "code",
   "execution_count": null,
   "metadata": {
    "pycharm": {
     "is_executing": false
    }
   },
   "outputs": [],
   "source": [
    "GeneDisease_top_k.shape"
   ]
  },
  {
   "cell_type": "code",
   "execution_count": null,
   "metadata": {
    "pycharm": {
     "is_executing": false
    }
   },
   "outputs": [],
   "source": [
    "GeneDisease_top_k_np = GeneDisease_top_k.to_numpy()\n"
   ]
  },
  {
   "cell_type": "code",
   "execution_count": null,
   "metadata": {
    "pycharm": {
     "is_executing": false
    }
   },
   "outputs": [],
   "source": [
    "# for each edges, check if there are in the same class \n",
    "\n",
    "top_k_total_inclass_score = sum(list(map(lambda x: cui2class_id_dict[x[0]] == cui2class_id_dict[x[1]], GeneDisease_top_k_np)))\n",
    "top_k_total_inclass_score"
   ]
  },
  {
   "cell_type": "code",
   "execution_count": null,
   "metadata": {
    "pycharm": {
     "is_executing": false
    }
   },
   "outputs": [],
   "source": [
    "# find sum of degree\n",
    "top_k_total_degree_score = sum(list(map(lambda x: G.degree(x), GeneDisease_top_k_np.reshape(-1))))\n",
    "top_k_total_degree_score"
   ]
  },
  {
   "cell_type": "code",
   "execution_count": null,
   "metadata": {
    "pycharm": {
     "is_executing": false
    }
   },
   "outputs": [],
   "source": [
    "top_k_normalized_accumulated_inclass_score = top_k_total_inclass_score/top_k_total_degree_score\n",
    "top_k_normalized_accumulated_inclass_score\n"
   ]
  },
  {
   "cell_type": "code",
   "execution_count": null,
   "metadata": {
    "pycharm": {
     "is_executing": false
    }
   },
   "outputs": [],
   "source": []
  },
  {
   "cell_type": "code",
   "execution_count": null,
   "metadata": {
    "pycharm": {
     "is_executing": false
    }
   },
   "outputs": [],
   "source": []
  },
  {
   "cell_type": "code",
   "execution_count": null,
   "metadata": {
    "pycharm": {
     "is_executing": false
    }
   },
   "outputs": [],
   "source": []
  },
  {
   "cell_type": "code",
   "execution_count": null,
   "metadata": {
    "pycharm": {
     "is_executing": false
    }
   },
   "outputs": [],
   "source": []
  },
  {
   "cell_type": "markdown",
   "metadata": {},
   "source": [
    "# Calculated normalized_accumulated_inclass_score for GeneDisease_BottomK=0.05.csv"
   ]
  },
  {
   "cell_type": "code",
   "execution_count": null,
   "metadata": {
    "pycharm": {
     "is_executing": false
    }
   },
   "outputs": [],
   "source": [
    "GeneDisease_bottom_k = pd.read_csv(r'C:\\Users\\Anak\\PycharmProjects\\recreate_gene_disease\\Data\\raw\\GeneDiseaseProject\\COPD\\Edges\\GeneDisease_BottomK=0.05.csv')\n",
    "GeneDisease_bottom_k.head()"
   ]
  },
  {
   "cell_type": "code",
   "execution_count": null,
   "metadata": {
    "pycharm": {
     "is_executing": false
    }
   },
   "outputs": [],
   "source": [
    "GeneDisease_bottom_k.shape"
   ]
  },
  {
   "cell_type": "code",
   "execution_count": null,
   "metadata": {
    "pycharm": {
     "is_executing": false
    }
   },
   "outputs": [],
   "source": [
    "GeneDisease_bottom_k_np = GeneDisease_bottom_k.to_numpy()\n"
   ]
  },
  {
   "cell_type": "code",
   "execution_count": null,
   "metadata": {
    "pycharm": {
     "is_executing": false
    }
   },
   "outputs": [],
   "source": [
    "# for each edges, check if there are in the same class \n",
    "\n",
    "bottom_k_total_inclass_score = sum(list(map(lambda x: cui2class_id_dict[x[0]] == cui2class_id_dict[x[1]], GeneDisease_bottom_k_np)))\n",
    "bottom_k_total_inclass_score"
   ]
  },
  {
   "cell_type": "code",
   "execution_count": null,
   "metadata": {
    "pycharm": {
     "is_executing": false
    }
   },
   "outputs": [],
   "source": [
    "# find sum of degree\n",
    "bottom_k_total_degree_score = sum(list(map(lambda x: G.degree(x), GeneDisease_bottom_k_np.reshape(-1))))\n",
    "bottom_k_total_degree_score"
   ]
  },
  {
   "cell_type": "code",
   "execution_count": null,
   "metadata": {
    "pycharm": {
     "is_executing": false
    }
   },
   "outputs": [],
   "source": [
    "bottom_k_normalized_accumulated_inclass_score = bottom_k_total_inclass_score/bottom_k_total_degree_score\n",
    "bottom_k_normalized_accumulated_inclass_score\n"
   ]
  },
  {
   "cell_type": "markdown",
   "metadata": {},
   "source": [
    "# Conclusion_1 = Measureing normalized_accumulated_inclass_score shows that TopK obtain higher score (conflicted with our expectation)"
   ]
  },
  {
   "cell_type": "code",
   "execution_count": null,
   "metadata": {
    "pycharm": {
     "is_executing": false
    }
   },
   "outputs": [],
   "source": []
  },
  {
   "cell_type": "code",
   "execution_count": null,
   "metadata": {
    "pycharm": {
     "is_executing": false
    }
   },
   "outputs": [],
   "source": []
  }
 ],
 "metadata": {
  "kernelspec": {
   "display_name": "Python 3",
   "language": "python",
   "name": "python3"
  },
  "language_info": {
   "codemirror_mode": {
    "name": "ipython",
    "version": 3
   },
   "file_extension": ".py",
   "mimetype": "text/x-python",
   "name": "python",
   "nbconvert_exporter": "python",
   "pygments_lexer": "ipython3",
   "version": "3.7.3"
  },
  "pycharm": {
   "stem_cell": {
    "cell_type": "raw",
    "metadata": {
     "collapsed": false
    },
    "source": []
   }
  }
 },
 "nbformat": 4,
 "nbformat_minor": 1
}
