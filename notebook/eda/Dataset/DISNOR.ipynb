{
 "cells": [
  {
   "cell_type": "code",
   "execution_count": 2,
   "metadata": {
    "pycharm": {
     "is_executing": false
    }
   },
   "outputs": [],
   "source": [
    "from pathlib import Path\n",
    "import pandas as pd\n",
    "import os\n",
    "import os.path\n",
    "import numpy as np "
   ]
  },
  {
   "cell_type": "code",
   "execution_count": 3,
   "metadata": {
    "pycharm": {
     "is_executing": false,
     "name": "#%%\n"
    }
   },
   "outputs": [
    {
     "data": {
      "text/plain": "'C:\\\\Users\\\\Anak\\\\PycharmProjects\\\\recreate_gene_disease\\\\notebook\\\\eda'"
     },
     "metadata": {},
     "output_type": "execute_result",
     "execution_count": 3
    }
   ],
   "source": [
    "os.getcwd()"
   ]
  },
  {
   "cell_type": "code",
   "execution_count": 4,
   "metadata": {
    "pycharm": {
     "is_executing": false,
     "name": "#%%\n"
    },
    "scrolled": true
   },
   "outputs": [
    {
     "data": {
      "text/plain": "   geneId geneSymbol diseaseId            diseaseName diseaseClass      pmid  \\\n0       2        A2M  C0027051  Myocardial Infarction          C14  18382889   \n1       2        A2M  C0004096                 Asthma      C08;C20   7682483   \n2       9       NAT1  C0004096                 Asthma      C08;C20  11927838   \n3      10       NAT2  C0004096                 Asthma      C08;C20  20602614   \n4      10       NAT2  C0004096                 Asthma      C08;C20  16886893   \n\n   source  class  \n0   LHGDN      3  \n1  BEFREE      0  \n2   LHGDN      0  \n3  BEFREE      0  \n4  BEFREE      0  ",
      "text/html": "<div>\n<style scoped>\n    .dataframe tbody tr th:only-of-type {\n        vertical-align: middle;\n    }\n\n    .dataframe tbody tr th {\n        vertical-align: top;\n    }\n\n    .dataframe thead th {\n        text-align: right;\n    }\n</style>\n<table border=\"1\" class=\"dataframe\">\n  <thead>\n    <tr style=\"text-align: right;\">\n      <th></th>\n      <th>geneId</th>\n      <th>geneSymbol</th>\n      <th>diseaseId</th>\n      <th>diseaseName</th>\n      <th>diseaseClass</th>\n      <th>pmid</th>\n      <th>source</th>\n      <th>class</th>\n    </tr>\n  </thead>\n  <tbody>\n    <tr>\n      <th>0</th>\n      <td>2</td>\n      <td>A2M</td>\n      <td>C0027051</td>\n      <td>Myocardial Infarction</td>\n      <td>C14</td>\n      <td>18382889</td>\n      <td>LHGDN</td>\n      <td>3</td>\n    </tr>\n    <tr>\n      <th>1</th>\n      <td>2</td>\n      <td>A2M</td>\n      <td>C0004096</td>\n      <td>Asthma</td>\n      <td>C08;C20</td>\n      <td>7682483</td>\n      <td>BEFREE</td>\n      <td>0</td>\n    </tr>\n    <tr>\n      <th>2</th>\n      <td>9</td>\n      <td>NAT1</td>\n      <td>C0004096</td>\n      <td>Asthma</td>\n      <td>C08;C20</td>\n      <td>11927838</td>\n      <td>LHGDN</td>\n      <td>0</td>\n    </tr>\n    <tr>\n      <th>3</th>\n      <td>10</td>\n      <td>NAT2</td>\n      <td>C0004096</td>\n      <td>Asthma</td>\n      <td>C08;C20</td>\n      <td>20602614</td>\n      <td>BEFREE</td>\n      <td>0</td>\n    </tr>\n    <tr>\n      <th>4</th>\n      <td>10</td>\n      <td>NAT2</td>\n      <td>C0004096</td>\n      <td>Asthma</td>\n      <td>C08;C20</td>\n      <td>16886893</td>\n      <td>BEFREE</td>\n      <td>0</td>\n    </tr>\n  </tbody>\n</table>\n</div>"
     },
     "metadata": {},
     "output_type": "execute_result",
     "execution_count": 4
    }
   ],
   "source": [
    "copd_file = 'copd_label07_14_19_46.txt'\n",
    "file_path = f'../../data/raw/GeneDiseaseProject/copd/{copd_file}'\n",
    "copd_df = pd.read_csv(file_path,sep=',')\n",
    "copd_df.head()"
   ]
  },
  {
   "cell_type": "code",
   "execution_count": 5,
   "outputs": [
    {
     "data": {
      "text/plain": "(14914, 8)"
     },
     "metadata": {},
     "output_type": "execute_result",
     "execution_count": 5
    }
   ],
   "source": [
    "copd_df.shape"
   ],
   "metadata": {
    "collapsed": false,
    "pycharm": {
     "name": "#%%\n",
     "is_executing": false
    }
   }
  },
  {
   "cell_type": "code",
   "execution_count": 4,
   "metadata": {
    "pycharm": {
     "is_executing": false
    },
    "scrolled": true
   },
   "outputs": [
    {
     "data": {
      "text/plain": [
       "{'C0027051': 'Myocardial Infarction',\n",
       " 'C0004096': 'Asthma',\n",
       " 'C0271650': 'Impaired glucose tolerance',\n",
       " 'C0007785': 'Cerebral Infarction',\n",
       " 'C0031190': 'Persistent Fetal Circulation Syndrome',\n",
       " 'C1845028': 'ANEMIA- SIDEROBLASTIC- AND SPINOCEREBELLAR ATAXIA',\n",
       " 'C0221018': 'Hereditary sideroblastic anemia',\n",
       " 'C0032463': 'Polycythemia Vera',\n",
       " 'C0034902': 'Pure Red-Cell Aplasia',\n",
       " 'C0014761': 'Erythroblastosis- Fetal',\n",
       " 'C0028768': 'Obsessive-Compulsive Disorder',\n",
       " 'C0003467': 'Anxiety',\n",
       " 'C0028756': 'Obesity- Morbid',\n",
       " 'C0030319': 'Panic Disorder',\n",
       " 'C0162316': 'Iron deficiency anemia',\n",
       " 'C2931384': 'Moyamoya disease 1',\n",
       " 'C0262584': 'Carcinoma- Small Cell',\n",
       " 'C0034091': 'Pulmonary Veno-Occlusive Disease (disorder)',\n",
       " 'C0030312': 'Pancytopenia',\n",
       " 'C0020474': 'Hyperlipidemia- Familial Combined',\n",
       " 'C2674218': 'SPHEROCYTOSIS- TYPE 1 (disorder)',\n",
       " 'C0011880': 'Diabetic Ketoacidosis',\n",
       " 'C0338495': 'Sleep Apnea- Mixed Central and Obstructive',\n",
       " 'C0751848': 'Thrombotic Infarction- Middle Cerebral Artery',\n",
       " 'C0349231': 'Phobic anxiety disorder',\n",
       " 'C0001818': 'Agoraphobia',\n",
       " 'C0025193': 'Melancholia',\n",
       " 'C1863512': 'HYPERCHOLESTEROLEMIA- AUTOSOMAL RECESSIVE',\n",
       " 'C1135191': 'Heart Failure- Systolic',\n",
       " 'C0038218': 'Status Asthmaticus',\n",
       " 'C0011859': 'Lipoatrophic Diabetes Mellitus',\n",
       " 'C0009426': 'Combat Disorders',\n",
       " 'C1135196': 'Heart Failure- Diastolic',\n",
       " 'C0007780': 'Cerebral Embolism',\n",
       " 'C0085207': 'Gestational Diabetes',\n",
       " 'C1266144': 'Pleuropulmonary blastoma',\n",
       " 'C0020480': 'Hyperlipoproteinemia Type IV',\n",
       " 'C0206703': 'Carcinoma- Giant Cell',\n",
       " 'C0740302': '5q-syndrome',\n",
       " 'C0020479': 'Hyperlipoproteinemia Type III',\n",
       " 'C1720779': 'Apolipoprotein C-II Deficiency (disorder)',\n",
       " 'C0020481': 'Hyperlipoproteinemia Type V',\n",
       " 'C0751634': 'Carotid Ulcer',\n",
       " 'C0265110': 'Cerebral Vasospasm',\n",
       " 'C0025637': 'Methemoglobinemia',\n",
       " 'C0002876': 'Congenital dyserythropoietic anemia',\n",
       " 'C0006277': 'Bronchitis',\n",
       " 'C0206146': 'Myocardial Stunning',\n",
       " 'C0013415': 'Dysthymic Disorder',\n",
       " 'C1838261': 'DIABETES MELLITUS- INSULIN-DEPENDENT- 4',\n",
       " 'C0151814': 'Coronary Occlusion',\n",
       " 'C1969343': 'Pulmonary Hypertension- Primary- Fenfluramine-Associated',\n",
       " 'C0152264': 'Familial erythrocytosis',\n",
       " 'C1835817': 'FANCONI ANEMIA- COMPLEMENTATION GROUP N',\n",
       " 'C1836860': 'FANCONI ANEMIA- COMPLEMENTATION GROUP J',\n",
       " 'C1838457': 'FANCONI ANEMIA- COMPLEMENTATION GROUP D1',\n",
       " 'C0022610': 'Kernicterus',\n",
       " 'C0008909': 'Claustrophobia',\n",
       " 'C1864041': 'CEREBRAL CAVERNOUS MALFORMATIONS 2',\n",
       " 'C0948480': 'Coronary Restenosis',\n",
       " 'C1853297': 'MATURITY-ONSET DIABETES OF THE YOUNG- TYPE 8- WITH EXOCRINE DYSFUNCTION',\n",
       " 'C1832392': 'DIABETES MELLITUS- INSULIN-DEPENDENT- 12',\n",
       " 'C0340293': 'Anterior myocardial infarction',\n",
       " 'C2675192': 'Spherocytosis- Type 5',\n",
       " 'C0431693': 'Renal cysts and diabetes syndrome',\n",
       " 'C0751824': 'Sagittal Sinus Thrombophlebitis',\n",
       " 'C1856797': 'Estren-Dameshek Variant of Fanconi Pancytopenia',\n",
       " 'C0043019': 'Lateral Medullary Syndrome',\n",
       " 'C0340968': 'Deficiency of pyruvate kinase',\n",
       " 'C1838100': 'MATURITY-ONSET DIABETES OF THE YOUNG- TYPE 3 (disorder)',\n",
       " 'C0342277': 'Diabetes mellitus autosomal dominant type II (disorder)',\n",
       " 'C1833104': 'DIABETES MELLITUS- PERMANENT NEONATAL',\n",
       " 'C1306856': 'Megaloblastic anemia due to inborn errors of metabolism',\n",
       " 'C1833218': 'DIABETES MELLITUS- INSULIN-DEPENDENT- 8',\n",
       " 'C0750988': 'Common Carotid Artery Thrombosis',\n",
       " 'C1852093': 'Maturity-Onset Diabetes of the Young- Type 1',\n",
       " 'C1838259': 'DIABETES MELLITUS- INSULIN-DEPENDENT- 7',\n",
       " 'C0600228': 'Cardiopulmonary Arrest',\n",
       " 'C0086666': 'Myocardial Preinfarction Syndrome',\n",
       " 'C1852092': 'DIABETES MELLITUS- INSULIN-DEPENDENT- 2',\n",
       " 'C1833382': 'MATURITY-ONSET DIABETES OF THE YOUNG- TYPE IV (disorder)',\n",
       " 'C0002890': 'Leukoerythroblastic Anemia',\n",
       " 'C1864623': 'DIABETES MELLITUS- TRANSIENT NEONATAL- 3 (disorder)',\n",
       " 'C0270639': 'Lateral Sinus Thrombosis',\n",
       " 'C1843687': 'ATRIAL FIBRILLATION- FAMILIAL- 1 (disorder)',\n",
       " 'C1853371': 'MATURITY-ONSET DIABETES OF THE YOUNG- TYPE 6 (disorder)',\n",
       " 'C2677132': 'MATURITY-ONSET DIABETES OF THE YOUNG- TYPE 9 (disorder)',\n",
       " 'C2930930': 'Abdominal obesity metabolic syndrome',\n",
       " 'C0272052': 'Rh Deficiency Syndrome',\n",
       " 'C2675512': 'Diamond-Blackfan Anemia 7',\n",
       " 'C2675212': 'Spherocytosis- Type 4',\n",
       " 'C0730525': 'Chronic Post-Traumatic Stress Disorder',\n",
       " 'C0236816': 'Stress Disorders- Traumatic- Acute',\n",
       " 'C2678338': 'SPHEROCYTOSIS- TYPE 3 (disorder)',\n",
       " 'C2675866': 'DIABETES MELLITUS- INSULIN-DEPENDENT- 20 (disorder)',\n",
       " 'C1837915': 'ERYTHROCYTOSIS- FAMILIAL- 2',\n",
       " 'C1864839': 'MATURITY-ONSET DIABETES OF THE YOUNG- TYPE 7 (disorder)',\n",
       " 'C0011579': 'Reactive depression',\n",
       " 'C1838260': 'DIABETES MELLITUS- INSULIN-DEPENDENT- 5',\n",
       " 'C1836861': 'FANCONI ANEMIA- COMPLEMENTATION GROUP I',\n",
       " 'C1857775': 'Diabetes Mellitus- Neonatal- with Congenital Hypothyroidism'}"
      ]
     },
     "execution_count": 4,
     "metadata": {},
     "output_type": "execute_result"
    }
   ],
   "source": [
    "copd_diseases_df = copd_df[['diseaseId','diseaseName']]\n",
    "copd_diseases_dict = {}\n",
    "for index, row in copd_diseases_df.iterrows():\n",
    "#     print((row['diseaseId'],row['diseaseName']))\n",
    "    copd_diseases_dict[row['diseaseId']] = row['diseaseName']\n",
    "copd_diseases_dict\n"
   ]
  },
  {
   "cell_type": "code",
   "execution_count": 5,
   "metadata": {
    "pycharm": {
     "is_executing": false
    }
   },
   "outputs": [
    {
     "data": {
      "text/plain": [
       "101"
      ]
     },
     "execution_count": 5,
     "metadata": {},
     "output_type": "execute_result"
    }
   ],
   "source": [
    "len(copd_diseases_dict.keys())"
   ]
  },
  {
   "cell_type": "code",
   "execution_count": 1,
   "metadata": {
    "pycharm": {
     "is_executing": false
    }
   },
   "outputs": [
    {
     "ename": "NameError",
     "evalue": "name 'copd_diseases_dict' is not defined",
     "output_type": "error",
     "traceback": [
      "\u001b[1;31m---------------------------------------------------------------------------\u001b[0m",
      "\u001b[1;31mNameError\u001b[0m                                 Traceback (most recent call last)",
      "\u001b[1;32m<ipython-input-1-2246b5a92994>\u001b[0m in \u001b[0;36m<module>\u001b[1;34m\u001b[0m\n\u001b[1;32m----> 1\u001b[1;33m \u001b[0mcopd_cui\u001b[0m \u001b[1;33m=\u001b[0m \u001b[0mset\u001b[0m\u001b[1;33m(\u001b[0m\u001b[0mcopd_diseases_dict\u001b[0m\u001b[1;33m.\u001b[0m\u001b[0mkeys\u001b[0m\u001b[1;33m(\u001b[0m\u001b[1;33m)\u001b[0m\u001b[1;33m)\u001b[0m\u001b[1;33m\u001b[0m\u001b[1;33m\u001b[0m\u001b[0m\n\u001b[0m\u001b[0;32m      2\u001b[0m \u001b[0mcopd_name\u001b[0m \u001b[1;33m=\u001b[0m \u001b[0mset\u001b[0m\u001b[1;33m(\u001b[0m\u001b[0mmap\u001b[0m\u001b[1;33m(\u001b[0m\u001b[1;32mlambda\u001b[0m \u001b[0mx\u001b[0m\u001b[1;33m:\u001b[0m \u001b[0mx\u001b[0m\u001b[1;33m.\u001b[0m\u001b[0mlower\u001b[0m\u001b[1;33m(\u001b[0m\u001b[1;33m)\u001b[0m\u001b[1;33m.\u001b[0m\u001b[0mreplace\u001b[0m\u001b[1;33m(\u001b[0m\u001b[1;34m'-'\u001b[0m\u001b[1;33m,\u001b[0m\u001b[1;34m','\u001b[0m\u001b[1;33m)\u001b[0m\u001b[1;33m,\u001b[0m \u001b[0mcopd_diseases_dict\u001b[0m\u001b[1;33m.\u001b[0m\u001b[0mvalues\u001b[0m\u001b[1;33m(\u001b[0m\u001b[1;33m)\u001b[0m\u001b[1;33m)\u001b[0m\u001b[1;33m)\u001b[0m\u001b[1;33m\u001b[0m\u001b[1;33m\u001b[0m\u001b[0m\n\u001b[0;32m      3\u001b[0m \u001b[0mcopd_name\u001b[0m\u001b[1;33m\u001b[0m\u001b[1;33m\u001b[0m\u001b[0m\n",
      "\u001b[1;31mNameError\u001b[0m: name 'copd_diseases_dict' is not defined"
     ]
    }
   ],
   "source": [
    "copd_cui = set(copd_diseases_dict.keys())\n",
    "copd_name = set(map(lambda x: x.lower().replace('-',','), copd_diseases_dict.values()))\n",
    "copd_name"
   ]
  },
  {
   "cell_type": "code",
   "execution_count": 7,
   "metadata": {
    "pycharm": {
     "is_executing": false,
     "name": "#%%\n"
    }
   },
   "outputs": [
    {
     "data": {
      "text/plain": [
       "101"
      ]
     },
     "execution_count": 7,
     "metadata": {},
     "output_type": "execute_result"
    }
   ],
   "source": [
    "len(copd_name)"
   ]
  },
  {
   "cell_type": "code",
   "execution_count": 8,
   "metadata": {
    "pycharm": {
     "is_executing": false,
     "name": "#%%\n"
    }
   },
   "outputs": [],
   "source": [
    "tmp = Path(f'../../data/processed/GeneDiseaseProject/copd/{copd_file}/')\n",
    "# os.makedirs(tmp, exist_ok=True)\n",
    "import os\n",
    "try:\n",
    "    original_umask = os.umask(0)\n",
    "    os.makedirs(tmp, exist_ok=True)\n",
    "finally:\n",
    "    os.umask(original_umask)\n",
    "\n",
    "copd_name_df = pd.DataFrame(copd_name)\n",
    "copd_name_df.to_csv(tmp.joinpath('copd_name.txt'), sep=',')\n",
    "\n"
   ]
  },
  {
   "cell_type": "code",
   "execution_count": null,
   "outputs": [],
   "source": [
    "file_path = Path(r'..\\..\\data\\interim\\GeneDiseaseProject\\copd\\no_name_disease_DINOR.txt')\n",
    "# cannot_find_in_DISNOR = set(pd.read_csv(file_path).to_numpy())\n",
    "cannot_find_in_DISNOR = pd.read_csv(file_path).to_numpy().flatten().tolist()\n",
    "cannot_find_in_DISNOR = set(map(lambda x:x.lower(), cannot_find_in_DISNOR))\n",
    "cannot_find_in_DISNOR"
   ],
   "metadata": {
    "collapsed": false,
    "pycharm": {
     "name": "#%%\n"
    }
   }
  },
  {
   "cell_type": "code",
   "execution_count": 10,
   "metadata": {
    "pycharm": {
     "is_executing": false,
     "name": "#%%\n"
    }
   },
   "outputs": [
    {
     "data": {
      "text/plain": [
       "46"
      ]
     },
     "execution_count": 10,
     "metadata": {},
     "output_type": "execute_result"
    }
   ],
   "source": [
    "len(cannot_find_in_DISNOR) # 43 "
   ]
  },
  {
   "cell_type": "code",
   "execution_count": 11,
   "metadata": {
    "pycharm": {
     "is_executing": false,
     "name": "#%%\n"
    }
   },
   "outputs": [
    {
     "data": {
      "text/plain": [
       "{'5q-syndrome',\n",
       " 'abdominal_obesity metabolic syndrome',\n",
       " 'apolipoprotein_c-ii deficiency (disorder)',\n",
       " 'asthma',\n",
       " 'atrial_fibrillation, familial, 1 (disorder)',\n",
       " 'cerebral_infarction',\n",
       " 'congenital_dyserythropoietic anemia',\n",
       " 'coronary_restenosis',\n",
       " 'diabetes_mellitus autosomal dominant type ii (disorder)',\n",
       " 'diabetes_mellitus, insulin-dependent, 12',\n",
       " 'diabetes_mellitus, insulin-dependent, 2',\n",
       " 'diabetes_mellitus, insulin-dependent, 20 (disorder)',\n",
       " 'diabetes_mellitus, neonatal, with congenital hypothyroidism',\n",
       " 'diabetes_mellitus, permanent neonatal',\n",
       " 'diabetes_mellitus, transient neonatal, 3 (disorder)',\n",
       " 'diabetic_ketoacidosis',\n",
       " 'diamond-blackfan_anemia 7',\n",
       " 'erythrocytosis,_familial, 2',\n",
       " 'familial_erythrocytosis',\n",
       " 'fanconi_anemia, complementation group d1',\n",
       " 'fanconi_anemia, complementation group i',\n",
       " 'fanconi_anemia, complementation group j',\n",
       " 'fanconi_anemia, complementation group n',\n",
       " 'gestational_diabetes',\n",
       " 'hereditary_sideroblastic anemia',\n",
       " 'hyperlipidemia,_familial combined',\n",
       " 'hyperlipoproteinemia_type iii',\n",
       " 'hyperlipoproteinemia_type iv',\n",
       " 'hyperlipoproteinemia_type v',\n",
       " 'iron_deficiency anemia',\n",
       " 'kernicterus',\n",
       " 'lateral_medullary syndrome',\n",
       " 'lipoatrophic_diabetes mellitus',\n",
       " 'maturity-onset_diabetes of the young, type 1',\n",
       " 'maturity-onset_diabetes of the young, type 3 (disorder)',\n",
       " 'maturity-onset_diabetes of the young, type 6 (disorder)',\n",
       " 'maturity-onset_diabetes of the young, type 7 (disorder)',\n",
       " 'methemoglobinemia',\n",
       " 'moyamoya_disease 1',\n",
       " 'myocardial_infarction',\n",
       " 'myocardial_stunning',\n",
       " 'obsessive-compulsive_disorder',\n",
       " 'pancytopenia',\n",
       " 'panic_disorder',\n",
       " 'persistent_fetal circulation syndrome',\n",
       " 'phobic_anxiety disorder',\n",
       " 'pleuropulmonary_blastoma',\n",
       " 'polycythemia_vera',\n",
       " 'pulmonary_hypertension, primary, fenfluramine-associated',\n",
       " 'pulmonary_veno-occlusive disease (disorder)',\n",
       " 'renal_cysts and diabetes syndrome',\n",
       " 'spherocytosis,_type 3 (disorder)',\n",
       " 'spherocytosis,_type 4'}"
      ]
     },
     "execution_count": 11,
     "metadata": {},
     "output_type": "execute_result"
    }
   ],
   "source": [
    "# get all of  file in the specified path\n",
    "path = Path(r'..\\..\\data\\raw\\DISNOR\\NotSpecified\\lv3')\n",
    "found_ind_DISNOR =  set([f[10:-8].lower() for f in os.listdir(path)\n",
    "                if os.path.isfile(os.path.join(path, f))])\n",
    "found_ind_DISNOR "
   ]
  },
  {
   "cell_type": "code",
   "execution_count": 12,
   "metadata": {
    "pycharm": {
     "is_executing": false,
     "name": "#%%\n"
    }
   },
   "outputs": [
    {
     "data": {
      "text/plain": [
       "53"
      ]
     },
     "execution_count": 12,
     "metadata": {},
     "output_type": "execute_result"
    }
   ],
   "source": [
    "len(found_ind_DISNOR) # 53"
   ]
  },
  {
   "cell_type": "code",
   "execution_count": 13,
   "metadata": {
    "pycharm": {
     "is_executing": false,
     "name": "#%%\n"
    }
   },
   "outputs": [
    {
     "data": {
      "text/plain": [
       "['familial_erythrocytosis',\n",
       " 'fanconi_anemia, complementation group j',\n",
       " 'diabetes_mellitus, insulin-dependent, 20 (disorder)',\n",
       " 'congenital_dyserythropoietic anemia',\n",
       " 'obsessive-compulsive_disorder',\n",
       " 'diabetes_mellitus, permanent neonatal',\n",
       " 'pleuropulmonary_blastoma',\n",
       " 'abdominal_obesity metabolic syndrome',\n",
       " 'diabetes_mellitus, neonatal, with congenital hypothyroidism',\n",
       " 'hereditary_sideroblastic anemia',\n",
       " 'maturity-onset_diabetes of the young, type 1',\n",
       " 'polycythemia_vera',\n",
       " 'kernicterus',\n",
       " 'hyperlipidemia,_familial combined',\n",
       " 'hyperlipoproteinemia_type v',\n",
       " 'hyperlipoproteinemia_type iii',\n",
       " 'spherocytosis,_type 4',\n",
       " 'erythrocytosis,_familial, 2',\n",
       " 'methemoglobinemia',\n",
       " 'diabetes_mellitus autosomal dominant type ii (disorder)',\n",
       " 'pancytopenia',\n",
       " 'lateral_medullary syndrome',\n",
       " 'maturity-onset_diabetes of the young, type 3 (disorder)',\n",
       " 'phobic_anxiety disorder',\n",
       " 'asthma',\n",
       " 'gestational_diabetes',\n",
       " 'atrial_fibrillation, familial, 1 (disorder)',\n",
       " 'fanconi_anemia, complementation group i',\n",
       " 'maturity-onset_diabetes of the young, type 6 (disorder)',\n",
       " 'diabetes_mellitus, insulin-dependent, 2',\n",
       " 'diabetic_ketoacidosis',\n",
       " '5q-syndrome',\n",
       " 'lipoatrophic_diabetes mellitus',\n",
       " 'myocardial_stunning',\n",
       " 'fanconi_anemia, complementation group n',\n",
       " 'pulmonary_hypertension, primary, fenfluramine-associated',\n",
       " 'maturity-onset_diabetes of the young, type 7 (disorder)',\n",
       " 'diabetes_mellitus, transient neonatal, 3 (disorder)',\n",
       " 'diamond-blackfan_anemia 7',\n",
       " 'fanconi_anemia, complementation group d1',\n",
       " 'hyperlipoproteinemia_type iv',\n",
       " 'iron_deficiency anemia',\n",
       " 'panic_disorder',\n",
       " 'myocardial_infarction',\n",
       " 'pulmonary_veno-occlusive disease (disorder)',\n",
       " 'diabetes_mellitus, insulin-dependent, 12',\n",
       " 'spherocytosis,_type 3 (disorder)',\n",
       " 'coronary_restenosis',\n",
       " 'moyamoya_disease 1',\n",
       " 'renal_cysts and diabetes syndrome',\n",
       " 'apolipoprotein_c-ii deficiency (disorder)',\n",
       " 'cerebral_infarction',\n",
       " 'persistent_fetal circulation syndrome',\n",
       " 'agoraphobia',\n",
       " 'maturity-onset diabetes of the young- type 9 (disorder)',\n",
       " 'thrombotic infarction- middle cerebral artery',\n",
       " 'rh deficiency syndrome',\n",
       " 'impaired glucose tolerance',\n",
       " 'status asthmaticus',\n",
       " 'maturity-onset diabetes of the young- type 8- with exocrine dysfunction',\n",
       " 'maturity-onset diabetes of the young- type iv (disorder)',\n",
       " 'spherocytosis- type 5',\n",
       " 'pure red-cell aplasia',\n",
       " 'carotid ulcer',\n",
       " 'leukoerythroblastic anemia',\n",
       " 'diabetes mellitus- insulin-dependent- 4',\n",
       " 'claustrophobia',\n",
       " 'melancholia',\n",
       " 'reactive depression',\n",
       " 'spherocytosis- type 1 (disorder)',\n",
       " 'combat disorders',\n",
       " 'hypercholesterolemia- autosomal recessive',\n",
       " 'bronchitis',\n",
       " 'diabetes mellitus- insulin-dependent- 7',\n",
       " 'diabetes mellitus- insulin-dependent- 5',\n",
       " 'anterior myocardial infarction',\n",
       " 'cerebral embolism',\n",
       " 'carcinoma- small cell',\n",
       " 'lateral sinus thrombosis',\n",
       " 'erythroblastosis- fetal',\n",
       " 'cerebral cavernous malformations 2',\n",
       " 'deficiency of pyruvate kinase',\n",
       " 'megaloblastic anemia due to inborn errors of metabolism',\n",
       " 'cardiopulmonary arrest',\n",
       " 'cerebral vasospasm',\n",
       " 'diabetes mellitus- insulin-dependent- 8',\n",
       " 'sleep apnea- mixed central and obstructive',\n",
       " 'anxiety',\n",
       " 'coronary occlusion',\n",
       " 'obesity- morbid',\n",
       " 'heart failure- systolic',\n",
       " 'heart failure- diastolic',\n",
       " 'dysthymic disorder',\n",
       " 'estren-dameshek variant of fanconi pancytopenia',\n",
       " 'sagittal sinus thrombophlebitis',\n",
       " 'myocardial preinfarction syndrome',\n",
       " 'stress disorders- traumatic- acute',\n",
       " 'common carotid artery thrombosis',\n",
       " 'carcinoma- giant cell']"
      ]
     },
     "execution_count": 13,
     "metadata": {},
     "output_type": "execute_result"
    }
   ],
   "source": [
    "searched_in_DISNOR = list(found_ind_DISNOR) + list(cannot_find_in_DISNOR)\n",
    "searched_in_DISNOR"
   ]
  },
  {
   "cell_type": "code",
   "execution_count": 14,
   "metadata": {
    "pycharm": {
     "is_executing": false,
     "name": "#%%\n"
    }
   },
   "outputs": [
    {
     "data": {
      "text/plain": [
       "99"
      ]
     },
     "execution_count": 14,
     "metadata": {},
     "output_type": "execute_result"
    }
   ],
   "source": [
    "len(searched_in_DISNOR) # 90"
   ]
  },
  {
   "cell_type": "code",
   "execution_count": 15,
   "metadata": {
    "pycharm": {
     "is_executing": false,
     "name": "#%%\n"
    }
   },
   "outputs": [
    {
     "data": {
      "text/plain": [
       "51"
      ]
     },
     "execution_count": 15,
     "metadata": {},
     "output_type": "execute_result"
    }
   ],
   "source": [
    "len(copd_name.intersection(searched_in_DISNOR))"
   ]
  },
  {
   "cell_type": "code",
   "execution_count": 16,
   "metadata": {
    "pycharm": {
     "is_executing": false,
     "name": "#%%\n"
    }
   },
   "outputs": [
    {
     "data": {
      "text/plain": [
       "{'abdominal obesity metabolic syndrome',\n",
       " 'anemia- sideroblastic- and spinocerebellar ataxia',\n",
       " 'apolipoprotein c-ii deficiency (disorder)',\n",
       " 'atrial fibrillation- familial- 1 (disorder)',\n",
       " 'cerebral infarction',\n",
       " 'chronic post-traumatic stress disorder',\n",
       " 'congenital dyserythropoietic anemia',\n",
       " 'coronary restenosis',\n",
       " 'diabetes mellitus autosomal dominant type ii (disorder)',\n",
       " 'diabetes mellitus- insulin-dependent- 12',\n",
       " 'diabetes mellitus- insulin-dependent- 2',\n",
       " 'diabetes mellitus- insulin-dependent- 20 (disorder)',\n",
       " 'diabetes mellitus- neonatal- with congenital hypothyroidism',\n",
       " 'diabetes mellitus- permanent neonatal',\n",
       " 'diabetes mellitus- transient neonatal- 3 (disorder)',\n",
       " 'diabetic ketoacidosis',\n",
       " 'diamond-blackfan anemia 7',\n",
       " 'erythrocytosis- familial- 2',\n",
       " 'familial erythrocytosis',\n",
       " 'fanconi anemia- complementation group d1',\n",
       " 'fanconi anemia- complementation group i',\n",
       " 'fanconi anemia- complementation group j',\n",
       " 'fanconi anemia- complementation group n',\n",
       " 'gestational diabetes',\n",
       " 'hereditary sideroblastic anemia',\n",
       " 'hyperlipidemia- familial combined',\n",
       " 'hyperlipoproteinemia type iii',\n",
       " 'hyperlipoproteinemia type iv',\n",
       " 'hyperlipoproteinemia type v',\n",
       " 'iron deficiency anemia',\n",
       " 'lateral medullary syndrome',\n",
       " 'lipoatrophic diabetes mellitus',\n",
       " 'maturity-onset diabetes of the young- type 1',\n",
       " 'maturity-onset diabetes of the young- type 3 (disorder)',\n",
       " 'maturity-onset diabetes of the young- type 6 (disorder)',\n",
       " 'maturity-onset diabetes of the young- type 7 (disorder)',\n",
       " 'moyamoya disease 1',\n",
       " 'myocardial infarction',\n",
       " 'myocardial stunning',\n",
       " 'obsessive-compulsive disorder',\n",
       " 'panic disorder',\n",
       " 'persistent fetal circulation syndrome',\n",
       " 'phobic anxiety disorder',\n",
       " 'pleuropulmonary blastoma',\n",
       " 'polycythemia vera',\n",
       " 'pulmonary hypertension- primary- fenfluramine-associated',\n",
       " 'pulmonary veno-occlusive disease (disorder)',\n",
       " 'renal cysts and diabetes syndrome',\n",
       " 'spherocytosis- type 3 (disorder)',\n",
       " 'spherocytosis- type 4'}"
      ]
     },
     "execution_count": 16,
     "metadata": {},
     "output_type": "execute_result"
    }
   ],
   "source": [
    "copd_name.difference(searched_in_DISNOR)"
   ]
  },
  {
   "cell_type": "code",
   "execution_count": 16,
   "metadata": {
    "pycharm": {
     "is_executing": false,
     "name": "#%%\n"
    }
   },
   "outputs": [],
   "source": []
  },
  {
   "cell_type": "markdown",
   "metadata": {
    "pycharm": {
     "name": "#%% md\n"
    }
   },
   "source": [
    "\n",
    "concatenate all of the result from dataframe together"
   ]
  },
  {
   "cell_type": "code",
   "execution_count": 17,
   "metadata": {
    "pycharm": {
     "is_executing": false,
     "name": "#%%\n"
    }
   },
   "outputs": [],
   "source": [
    "path = Path(r'C:\\Users\\Anak\\PycharmProjects\\recreate_gene_disease\\data\\raw\\DISNOR\\NotSpecified\\lv3')\n",
    "files = [path.joinpath(f) for f in os.listdir(path) if os.path.isfile(os.path.join(path, f))]"
   ]
  },
  {
   "cell_type": "code",
   "execution_count": 52,
   "metadata": {
    "pycharm": {
     "is_executing": false,
     "name": "#%%\n"
    }
   },
   "outputs": [
    {
     "ename": "AssertionError",
     "evalue": "5q-syndrome",
     "output_type": "error",
     "traceback": [
      "\u001b[1;31m---------------------------------------------------------------------------\u001b[0m",
      "\u001b[1;31mAssertionError\u001b[0m                            Traceback (most recent call last)",
      "\u001b[1;32m<ipython-input-52-5e5f06188e81>\u001b[0m in \u001b[0;36m<module>\u001b[1;34m\u001b[0m\n\u001b[0;32m      6\u001b[0m     \u001b[0mfile_name\u001b[0m \u001b[1;33m=\u001b[0m \u001b[0mstr\u001b[0m\u001b[1;33m(\u001b[0m\u001b[0mf\u001b[0m\u001b[1;33m)\u001b[0m\u001b[1;33m.\u001b[0m\u001b[0msplit\u001b[0m\u001b[1;33m(\u001b[0m\u001b[1;34m'\\\\'\u001b[0m\u001b[1;33m)\u001b[0m\u001b[1;33m[\u001b[0m\u001b[1;33m-\u001b[0m\u001b[1;36m1\u001b[0m\u001b[1;33m]\u001b[0m\u001b[1;33m\u001b[0m\u001b[1;33m\u001b[0m\u001b[0m\n\u001b[0;32m      7\u001b[0m     \u001b[0mcopd_commobid_name\u001b[0m \u001b[1;33m=\u001b[0m  \u001b[0mstr\u001b[0m\u001b[1;33m(\u001b[0m\u001b[0mfile_name\u001b[0m\u001b[1;33m[\u001b[0m\u001b[1;36m10\u001b[0m\u001b[1;33m:\u001b[0m\u001b[1;33m-\u001b[0m\u001b[1;36m8\u001b[0m\u001b[1;33m]\u001b[0m\u001b[1;33m)\u001b[0m\u001b[1;33m.\u001b[0m\u001b[0mlower\u001b[0m\u001b[1;33m(\u001b[0m\u001b[1;33m)\u001b[0m\u001b[1;33m\u001b[0m\u001b[1;33m\u001b[0m\u001b[0m\n\u001b[1;32m----> 8\u001b[1;33m     \u001b[1;32massert\u001b[0m \u001b[1;32mFalse\u001b[0m\u001b[1;33m,\u001b[0m \u001b[0mcopd_commobid_name\u001b[0m\u001b[1;33m\u001b[0m\u001b[1;33m\u001b[0m\u001b[0m\n\u001b[0m\u001b[0;32m      9\u001b[0m     \u001b[0mrelated_diseases\u001b[0m\u001b[1;33m,\u001b[0m \u001b[0mhit\u001b[0m\u001b[1;33m,\u001b[0m \u001b[0mp_val\u001b[0m  \u001b[1;33m=\u001b[0m \u001b[0mrelated_diseases_and_val\u001b[0m\u001b[1;33m[\u001b[0m\u001b[1;33m:\u001b[0m\u001b[1;33m,\u001b[0m\u001b[1;36m0\u001b[0m\u001b[1;33m]\u001b[0m\u001b[1;33m.\u001b[0m\u001b[0mflatten\u001b[0m\u001b[1;33m(\u001b[0m\u001b[1;33m)\u001b[0m\u001b[1;33m,\u001b[0m \u001b[0mrelated_diseases_and_val\u001b[0m\u001b[1;33m[\u001b[0m\u001b[1;33m:\u001b[0m\u001b[1;33m,\u001b[0m\u001b[1;36m1\u001b[0m\u001b[1;33m]\u001b[0m\u001b[1;33m.\u001b[0m\u001b[0mflatten\u001b[0m\u001b[1;33m(\u001b[0m\u001b[1;33m)\u001b[0m\u001b[1;33m,\u001b[0m  \u001b[0mrelated_diseases_and_val\u001b[0m\u001b[1;33m[\u001b[0m\u001b[1;33m:\u001b[0m\u001b[1;33m,\u001b[0m\u001b[1;36m2\u001b[0m\u001b[1;33m]\u001b[0m\u001b[1;33m.\u001b[0m\u001b[0mflatten\u001b[0m\u001b[1;33m(\u001b[0m\u001b[1;33m)\u001b[0m\u001b[1;33m\u001b[0m\u001b[1;33m\u001b[0m\u001b[0m\n\u001b[0;32m     10\u001b[0m \u001b[1;33m\u001b[0m\u001b[0m\n",
      "\u001b[1;31mAssertionError\u001b[0m: 5q-syndrome"
     ]
    }
   ],
   "source": [
    "copd_commobid_and_related_diseases_dict = {}\n",
    "all_related_diseases = []\n",
    "disease_count = 0\n",
    "for f in files:\n",
    "    related_diseases_and_val = np.array([np.array([i.strip().strip(\"\\\"\") for i in line.split(';')]) for i,line in enumerate(open(f)) if i > 1])\n",
    "    file_name = str(f).split('\\\\')[-1]\n",
    "    copd_commobid_name =  str(file_name[10:-8]).lower()\n",
    "    assert False, copd_commobid_name\n",
    "    related_diseases, hit, p_val  = related_diseases_and_val[:,0].flatten(), related_diseases_and_val[:,1].flatten(),  related_diseases_and_val[:,2].flatten()\n",
    "    \n",
    "    copd_commobid_and_related_diseases_dict[copd_commobid_name] = {}\n",
    "    copd_commobid_and_related_diseases_dict[copd_commobid_name]['hit_df'] = pd.Series(hit, index=related_diseases)\n",
    "    copd_commobid_and_related_diseases_dict[copd_commobid_name]['p_val_df'] = pd.Series(p_val, index=related_diseases) \n",
    "    \n",
    "    all_related_diseases.append(related_diseases)\n",
    "    \n",
    "    disease_count += related_diseases.shape[0]\n",
    "    \n",
    "all_related_diseases = np.array([j for i in all_related_diseases for j in i])\n",
    "assert disease_count == all_related_diseases.shape[0], f\"disease_count ({disease_count}) != all_related_diseases.shape[0] ({all_related_diseases.shape[0]})\"\n",
    "# print(disease_count) #942\n",
    "\n",
    "all_related_diseases = np.unique(all_related_diseases)\n",
    "print(all_related_diseases.shape[0]) # 565"
   ]
  },
  {
   "cell_type": "code",
   "execution_count": 19,
   "metadata": {
    "pycharm": {
     "is_executing": false,
     "name": "#%%\n"
    }
   },
   "outputs": [],
   "source": [
    "assert len(copd_commobid_and_related_diseases_dict.keys()) == len(found_ind_DISNOR),'len(copd_commobid_and_related_diseases_dict.keys()) != len(found_ind_DISNOR)'"
   ]
  },
  {
   "cell_type": "code",
   "execution_count": 20,
   "metadata": {
    "pycharm": {
     "is_executing": false,
     "name": "#%%\n"
    }
   },
   "outputs": [
    {
     "data": {
      "text/plain": [
       "['5q-syndrome',\n",
       " 'abdominal_obesity metabolic syndrome',\n",
       " 'apolipoprotein_c-ii deficiency (disorder)',\n",
       " 'asthma',\n",
       " 'atrial_fibrillation, familial, 1 (disorder)',\n",
       " 'cerebral_infarction',\n",
       " 'congenital_dyserythropoietic anemia',\n",
       " 'coronary_restenosis',\n",
       " 'diabetes_mellitus autosomal dominant type ii (disorder)',\n",
       " 'diabetes_mellitus, insulin-dependent, 12',\n",
       " 'diabetes_mellitus, insulin-dependent, 20 (disorder)',\n",
       " 'diabetes_mellitus, insulin-dependent, 2',\n",
       " 'diabetes_mellitus, neonatal, with congenital hypothyroidism',\n",
       " 'diabetes_mellitus, permanent neonatal',\n",
       " 'diabetes_mellitus, transient neonatal, 3 (disorder)',\n",
       " 'diabetic_ketoacidosis',\n",
       " 'diamond-blackfan_anemia 7',\n",
       " 'erythrocytosis,_familial, 2',\n",
       " 'familial_erythrocytosis',\n",
       " 'fanconi_anemia, complementation group d1',\n",
       " 'fanconi_anemia, complementation group i',\n",
       " 'fanconi_anemia, complementation group j',\n",
       " 'fanconi_anemia, complementation group n',\n",
       " 'gestational_diabetes',\n",
       " 'hereditary_sideroblastic anemia',\n",
       " 'hyperlipidemia,_familial combined',\n",
       " 'hyperlipoproteinemia_type iii',\n",
       " 'hyperlipoproteinemia_type iv',\n",
       " 'hyperlipoproteinemia_type v',\n",
       " 'iron_deficiency anemia',\n",
       " 'kernicterus',\n",
       " 'lateral_medullary syndrome',\n",
       " 'lipoatrophic_diabetes mellitus',\n",
       " 'maturity-onset_diabetes of the young, type 1',\n",
       " 'maturity-onset_diabetes of the young, type 3 (disorder)',\n",
       " 'maturity-onset_diabetes of the young, type 6 (disorder)',\n",
       " 'maturity-onset_diabetes of the young, type 7 (disorder)',\n",
       " 'methemoglobinemia',\n",
       " 'moyamoya_disease 1',\n",
       " 'myocardial_infarction',\n",
       " 'myocardial_stunning',\n",
       " 'obsessive-compulsive_disorder',\n",
       " 'pancytopenia',\n",
       " 'panic_disorder',\n",
       " 'persistent_fetal circulation syndrome',\n",
       " 'phobic_anxiety disorder',\n",
       " 'pleuropulmonary_blastoma',\n",
       " 'polycythemia_vera',\n",
       " 'pulmonary_hypertension, primary, fenfluramine-associated',\n",
       " 'pulmonary_veno-occlusive disease (disorder)',\n",
       " 'renal_cysts and diabetes syndrome',\n",
       " 'spherocytosis,_type 3 (disorder)',\n",
       " 'spherocytosis,_type 4']"
      ]
     },
     "execution_count": 20,
     "metadata": {},
     "output_type": "execute_result"
    }
   ],
   "source": [
    "list(copd_commobid_and_related_diseases_dict.keys())"
   ]
  },
  {
   "cell_type": "code",
   "execution_count": 21,
   "metadata": {
    "pycharm": {
     "is_executing": false,
     "name": "#%%\n"
    }
   },
   "outputs": [
    {
     "data": {
      "text/plain": [
       "5q-Syndrome                      <1.0E-4\n",
       "Dermatitis, Allergic Contact     1.30E-2\n",
       "Stomach Carcinoma                1.42E-2\n",
       "Narcolepsy                       4.15E-2\n",
       "Cerebrovascular Accident         9.46E-2\n",
       "Chronic Lymphocytic Leukemia     1.32E-1\n",
       "Psoriasis                        1.74E-1\n",
       "Reperfusion Injury               2.11E-1\n",
       "Multiple Sclerosis               2.21E-1\n",
       "Crohn Disease                    2.35E-1\n",
       "Non-Small Cell Lung Carcinoma    2.58E-1\n",
       "Liver Cirrhosis, Experimental    2.66E-1\n",
       "Myocardial Ischemia              3.71E-1\n",
       "Rheumatoid Arthritis             4.47E-1\n",
       "Stomach Neoplasms                5.44E-1\n",
       "Iga Glomerulonephritis           7.03E-1\n",
       "dtype: object"
      ]
     },
     "execution_count": 21,
     "metadata": {},
     "output_type": "execute_result"
    }
   ],
   "source": [
    "copd_commobid_and_related_diseases_dict['5q-syndrome']['p_val_df']"
   ]
  },
  {
   "cell_type": "code",
   "execution_count": 22,
   "metadata": {
    "pycharm": {
     "is_executing": false,
     "name": "#%%\n"
    }
   },
   "outputs": [
    {
     "data": {
      "text/plain": [
       "5q-Syndrome                        2/2\n",
       "Dermatitis, Allergic Contact      2/66\n",
       "Stomach Carcinoma                  1/5\n",
       "Narcolepsy                        1/16\n",
       "Cerebrovascular Accident          1/38\n",
       "Chronic Lymphocytic Leukemia      1/51\n",
       "Psoriasis                         1/68\n",
       "Reperfusion Injury                1/85\n",
       "Multiple Sclerosis                1/94\n",
       "Crohn Disease                     1/97\n",
       "Non-Small Cell Lung Carcinoma    1/111\n",
       "Liver Cirrhosis, Experimental    1/109\n",
       "Myocardial Ischemia              1/170\n",
       "Rheumatoid Arthritis             1/216\n",
       "Stomach Neoplasms                1/282\n",
       "Iga Glomerulonephritis           1/445\n",
       "dtype: object"
      ]
     },
     "execution_count": 22,
     "metadata": {},
     "output_type": "execute_result"
    }
   ],
   "source": [
    "copd_commobid_and_related_diseases_dict['5q-syndrome']['hit_df']"
   ]
  },
  {
   "cell_type": "code",
   "execution_count": 23,
   "metadata": {
    "pycharm": {
     "is_executing": false,
     "name": "#%%\n"
    }
   },
   "outputs": [
    {
     "data": {
      "text/html": [
       "<div>\n",
       "<style scoped>\n",
       "    .dataframe tbody tr th:only-of-type {\n",
       "        vertical-align: middle;\n",
       "    }\n",
       "\n",
       "    .dataframe tbody tr th {\n",
       "        vertical-align: top;\n",
       "    }\n",
       "\n",
       "    .dataframe thead th {\n",
       "        text-align: right;\n",
       "    }\n",
       "</style>\n",
       "<table border=\"1\" class=\"dataframe\">\n",
       "  <thead>\n",
       "    <tr style=\"text-align: right;\">\n",
       "      <th></th>\n",
       "      <th>5q-Syndrome</th>\n",
       "      <th>Dermatitis, Allergic Contact</th>\n",
       "      <th>Stomach Carcinoma</th>\n",
       "      <th>Narcolepsy</th>\n",
       "      <th>Cerebrovascular Accident</th>\n",
       "      <th>Chronic Lymphocytic Leukemia</th>\n",
       "      <th>Psoriasis</th>\n",
       "      <th>Reperfusion Injury</th>\n",
       "      <th>Multiple Sclerosis</th>\n",
       "      <th>Crohn Disease</th>\n",
       "      <th>Non-Small Cell Lung Carcinoma</th>\n",
       "      <th>Liver Cirrhosis, Experimental</th>\n",
       "      <th>Myocardial Ischemia</th>\n",
       "      <th>Rheumatoid Arthritis</th>\n",
       "      <th>Stomach Neoplasms</th>\n",
       "      <th>Iga Glomerulonephritis</th>\n",
       "    </tr>\n",
       "  </thead>\n",
       "  <tbody>\n",
       "    <tr>\n",
       "      <th>5q-syndrome</th>\n",
       "      <td>&lt;1.0E-4</td>\n",
       "      <td>1.30E-2</td>\n",
       "      <td>1.42E-2</td>\n",
       "      <td>4.15E-2</td>\n",
       "      <td>9.46E-2</td>\n",
       "      <td>1.32E-1</td>\n",
       "      <td>1.74E-1</td>\n",
       "      <td>2.11E-1</td>\n",
       "      <td>2.21E-1</td>\n",
       "      <td>2.35E-1</td>\n",
       "      <td>2.58E-1</td>\n",
       "      <td>2.66E-1</td>\n",
       "      <td>3.71E-1</td>\n",
       "      <td>4.47E-1</td>\n",
       "      <td>5.44E-1</td>\n",
       "      <td>7.03E-1</td>\n",
       "    </tr>\n",
       "  </tbody>\n",
       "</table>\n",
       "</div>"
      ],
      "text/plain": [
       "            5q-Syndrome Dermatitis, Allergic Contact Stomach Carcinoma  \\\n",
       "5q-syndrome     <1.0E-4                      1.30E-2           1.42E-2   \n",
       "\n",
       "            Narcolepsy Cerebrovascular Accident Chronic Lymphocytic Leukemia  \\\n",
       "5q-syndrome    4.15E-2                  9.46E-2                      1.32E-1   \n",
       "\n",
       "            Psoriasis Reperfusion Injury Multiple Sclerosis Crohn Disease  \\\n",
       "5q-syndrome   1.74E-1            2.11E-1            2.21E-1       2.35E-1   \n",
       "\n",
       "            Non-Small Cell Lung Carcinoma Liver Cirrhosis, Experimental  \\\n",
       "5q-syndrome                       2.58E-1                       2.66E-1   \n",
       "\n",
       "            Myocardial Ischemia Rheumatoid Arthritis Stomach Neoplasms  \\\n",
       "5q-syndrome             3.71E-1              4.47E-1           5.44E-1   \n",
       "\n",
       "            Iga Glomerulonephritis  \n",
       "5q-syndrome                7.03E-1  "
      ]
     },
     "execution_count": 23,
     "metadata": {},
     "output_type": "execute_result"
    }
   ],
   "source": [
    "pd.DataFrame(copd_commobid_and_related_diseases_dict['5q-syndrome']['p_val_df'], columns=['5q-syndrome']).transpose()\n"
   ]
  },
  {
   "cell_type": "code",
   "execution_count": 24,
   "metadata": {
    "pycharm": {
     "is_executing": false,
     "name": "#%%\n"
    }
   },
   "outputs": [
    {
     "data": {
      "text/plain": [
       "{'5q-syndrome',\n",
       " 'abdominal_obesity metabolic syndrome',\n",
       " 'apolipoprotein_c-ii deficiency (disorder)',\n",
       " 'asthma',\n",
       " 'atrial_fibrillation, familial, 1 (disorder)',\n",
       " 'cerebral_infarction',\n",
       " 'congenital_dyserythropoietic anemia',\n",
       " 'coronary_restenosis',\n",
       " 'diabetes_mellitus autosomal dominant type ii (disorder)',\n",
       " 'diabetes_mellitus, insulin-dependent, 12',\n",
       " 'diabetes_mellitus, insulin-dependent, 2',\n",
       " 'diabetes_mellitus, insulin-dependent, 20 (disorder)',\n",
       " 'diabetes_mellitus, neonatal, with congenital hypothyroidism',\n",
       " 'diabetes_mellitus, permanent neonatal',\n",
       " 'diabetes_mellitus, transient neonatal, 3 (disorder)',\n",
       " 'diabetic_ketoacidosis',\n",
       " 'diamond-blackfan_anemia 7',\n",
       " 'erythrocytosis,_familial, 2',\n",
       " 'familial_erythrocytosis',\n",
       " 'fanconi_anemia, complementation group d1',\n",
       " 'fanconi_anemia, complementation group i',\n",
       " 'fanconi_anemia, complementation group j',\n",
       " 'fanconi_anemia, complementation group n',\n",
       " 'gestational_diabetes',\n",
       " 'hereditary_sideroblastic anemia',\n",
       " 'hyperlipidemia,_familial combined',\n",
       " 'hyperlipoproteinemia_type iii',\n",
       " 'hyperlipoproteinemia_type iv',\n",
       " 'hyperlipoproteinemia_type v',\n",
       " 'iron_deficiency anemia',\n",
       " 'kernicterus',\n",
       " 'lateral_medullary syndrome',\n",
       " 'lipoatrophic_diabetes mellitus',\n",
       " 'maturity-onset_diabetes of the young, type 1',\n",
       " 'maturity-onset_diabetes of the young, type 3 (disorder)',\n",
       " 'maturity-onset_diabetes of the young, type 6 (disorder)',\n",
       " 'maturity-onset_diabetes of the young, type 7 (disorder)',\n",
       " 'methemoglobinemia',\n",
       " 'moyamoya_disease 1',\n",
       " 'myocardial_infarction',\n",
       " 'myocardial_stunning',\n",
       " 'obsessive-compulsive_disorder',\n",
       " 'pancytopenia',\n",
       " 'panic_disorder',\n",
       " 'persistent_fetal circulation syndrome',\n",
       " 'phobic_anxiety disorder',\n",
       " 'pleuropulmonary_blastoma',\n",
       " 'polycythemia_vera',\n",
       " 'pulmonary_hypertension, primary, fenfluramine-associated',\n",
       " 'pulmonary_veno-occlusive disease (disorder)',\n",
       " 'renal_cysts and diabetes syndrome',\n",
       " 'spherocytosis,_type 3 (disorder)',\n",
       " 'spherocytosis,_type 4'}"
      ]
     },
     "execution_count": 24,
     "metadata": {},
     "output_type": "execute_result"
    }
   ],
   "source": [
    "found_ind_DISNOR"
   ]
  },
  {
   "cell_type": "code",
   "execution_count": 25,
   "metadata": {
    "pycharm": {
     "is_executing": false,
     "name": "#%%\n"
    }
   },
   "outputs": [
    {
     "data": {
      "text/plain": [
       "{'5q-syndrome',\n",
       " 'abdominal_obesity metabolic syndrome',\n",
       " 'apolipoprotein_c-ii deficiency (disorder)',\n",
       " 'asthma',\n",
       " 'atrial_fibrillation, familial, 1 (disorder)',\n",
       " 'cerebral_infarction',\n",
       " 'congenital_dyserythropoietic anemia',\n",
       " 'coronary_restenosis',\n",
       " 'diabetes_mellitus autosomal dominant type ii (disorder)',\n",
       " 'diabetes_mellitus, insulin-dependent, 12',\n",
       " 'diabetes_mellitus, insulin-dependent, 2',\n",
       " 'diabetes_mellitus, insulin-dependent, 20 (disorder)',\n",
       " 'diabetes_mellitus, neonatal, with congenital hypothyroidism',\n",
       " 'diabetes_mellitus, permanent neonatal',\n",
       " 'diabetes_mellitus, transient neonatal, 3 (disorder)',\n",
       " 'diabetic_ketoacidosis',\n",
       " 'diamond-blackfan_anemia 7',\n",
       " 'erythrocytosis,_familial, 2',\n",
       " 'familial_erythrocytosis',\n",
       " 'fanconi_anemia, complementation group d1',\n",
       " 'fanconi_anemia, complementation group i',\n",
       " 'fanconi_anemia, complementation group j',\n",
       " 'fanconi_anemia, complementation group n',\n",
       " 'gestational_diabetes',\n",
       " 'hereditary_sideroblastic anemia',\n",
       " 'hyperlipidemia,_familial combined',\n",
       " 'hyperlipoproteinemia_type iii',\n",
       " 'hyperlipoproteinemia_type iv',\n",
       " 'hyperlipoproteinemia_type v',\n",
       " 'iron_deficiency anemia',\n",
       " 'kernicterus',\n",
       " 'lateral_medullary syndrome',\n",
       " 'lipoatrophic_diabetes mellitus',\n",
       " 'maturity-onset_diabetes of the young, type 1',\n",
       " 'maturity-onset_diabetes of the young, type 3 (disorder)',\n",
       " 'maturity-onset_diabetes of the young, type 6 (disorder)',\n",
       " 'maturity-onset_diabetes of the young, type 7 (disorder)',\n",
       " 'methemoglobinemia',\n",
       " 'moyamoya_disease 1',\n",
       " 'myocardial_infarction',\n",
       " 'myocardial_stunning',\n",
       " 'obsessive-compulsive_disorder',\n",
       " 'pancytopenia',\n",
       " 'panic_disorder',\n",
       " 'persistent_fetal circulation syndrome',\n",
       " 'phobic_anxiety disorder',\n",
       " 'pleuropulmonary_blastoma',\n",
       " 'polycythemia_vera',\n",
       " 'pulmonary_hypertension, primary, fenfluramine-associated',\n",
       " 'pulmonary_veno-occlusive disease (disorder)',\n",
       " 'renal_cysts and diabetes syndrome',\n",
       " 'spherocytosis,_type 3 (disorder)',\n",
       " 'spherocytosis,_type 4'}"
      ]
     },
     "execution_count": 25,
     "metadata": {},
     "output_type": "execute_result"
    }
   ],
   "source": [
    "set(copd_commobid_and_related_diseases_dict.keys())"
   ]
  },
  {
   "cell_type": "code",
   "execution_count": 26,
   "metadata": {
    "pycharm": {
     "is_executing": false,
     "name": "#%%\n"
    }
   },
   "outputs": [
    {
     "name": "stdout",
     "output_type": "stream",
     "text": [
      "53\n",
      "53\n"
     ]
    }
   ],
   "source": [
    "print(len(found_ind_DISNOR))\n",
    "print(len(set(copd_commobid_and_related_diseases_dict.keys())))\n",
    "assert len(found_ind_DISNOR) == len(set(copd_commobid_and_related_diseases_dict.keys())) "
   ]
  },
  {
   "cell_type": "code",
   "execution_count": 27,
   "metadata": {
    "pycharm": {
     "is_executing": false,
     "name": "#%%\n"
    }
   },
   "outputs": [],
   "source": [
    " \n",
    "assert len(found_ind_DISNOR) == len(found_ind_DISNOR.intersection(set(copd_commobid_and_related_diseases_dict.keys()))), f'{len(found_ind_DISNOR)} != {len(found_ind_DISNOR.intersection(set(copd_commobid_and_related_diseases_dict.keys())))}'"
   ]
  },
  {
   "cell_type": "code",
   "execution_count": 28,
   "metadata": {
    "pycharm": {
     "is_executing": false,
     "name": "#%%\n"
    }
   },
   "outputs": [
    {
     "name": "stdout",
     "output_type": "stream",
     "text": [
      "565\n"
     ]
    }
   ],
   "source": [
    "print(len(all_related_diseases))"
   ]
  },
  {
   "cell_type": "code",
   "execution_count": 29,
   "metadata": {
    "pycharm": {
     "is_executing": false,
     "name": "#%%\n"
    }
   },
   "outputs": [
    {
     "name": "stderr",
     "output_type": "stream",
     "text": [
      "C:\\Users\\Anak\\Anaconda3\\lib\\site-packages\\pandas\\core\\indexing.py:190: SettingWithCopyWarning: \n",
      "A value is trying to be set on a copy of a slice from a DataFrame\n",
      "\n",
      "See the caveats in the documentation: http://pandas.pydata.org/pandas-docs/stable/indexing.html#indexing-view-versus-copy\n",
      "  self._setitem_with_indexer(indexer, value)\n",
      "C:\\Users\\Anak\\Anaconda3\\lib\\site-packages\\ipykernel_launcher.py:12: SettingWithCopyWarning: \n",
      "A value is trying to be set on a copy of a slice from a DataFrame\n",
      "\n",
      "See the caveats in the documentation: http://pandas.pydata.org/pandas-docs/stable/indexing.html#indexing-view-versus-copy\n",
      "  if sys.path[0] == '':\n"
     ]
    },
    {
     "data": {
      "text/html": [
       "<div>\n",
       "<style scoped>\n",
       "    .dataframe tbody tr th:only-of-type {\n",
       "        vertical-align: middle;\n",
       "    }\n",
       "\n",
       "    .dataframe tbody tr th {\n",
       "        vertical-align: top;\n",
       "    }\n",
       "\n",
       "    .dataframe thead th {\n",
       "        text-align: right;\n",
       "    }\n",
       "</style>\n",
       "<table border=\"1\" class=\"dataframe\">\n",
       "  <thead>\n",
       "    <tr style=\"text-align: right;\">\n",
       "      <th></th>\n",
       "      <th>46, Xx Disorders Of Sex Development</th>\n",
       "      <th>5q-Syndrome</th>\n",
       "      <th>Abdominal Obesity Metabolic Syndrome</th>\n",
       "      <th>Abetalipoproteinemia</th>\n",
       "      <th>Acatalasemia Japanese Type</th>\n",
       "      <th>Acatalasia</th>\n",
       "      <th>Acrocephalosyndactylia</th>\n",
       "      <th>Acromicric Dysplasia</th>\n",
       "      <th>Acute Basophilic Leukemia</th>\n",
       "      <th>Acute Erythroblastic Leukemia</th>\n",
       "      <th>...</th>\n",
       "      <th>Ventricular Fibrillation</th>\n",
       "      <th>Ventricular Outflow Obstruction</th>\n",
       "      <th>Von Hippel-Lindau Syndrome</th>\n",
       "      <th>Vulvar Lichen Sclerosus</th>\n",
       "      <th>Waardenburg Syndrome, Type Iid</th>\n",
       "      <th>Wagr Syndrome</th>\n",
       "      <th>Weber-Cockayne Syndrome</th>\n",
       "      <th>Wilms Tumor, Aniridia, Genitourinary Anomalies, Mental Retardation, And Obesity Syndrome</th>\n",
       "      <th>Xeroderma Pigmentosum</th>\n",
       "      <th>Xeroderma Pigmentosum, Variant Type</th>\n",
       "    </tr>\n",
       "  </thead>\n",
       "  <tbody>\n",
       "    <tr>\n",
       "      <th>0</th>\n",
       "      <td>NaN</td>\n",
       "      <td>NaN</td>\n",
       "      <td>NaN</td>\n",
       "      <td>NaN</td>\n",
       "      <td>NaN</td>\n",
       "      <td>NaN</td>\n",
       "      <td>NaN</td>\n",
       "      <td>NaN</td>\n",
       "      <td>NaN</td>\n",
       "      <td>NaN</td>\n",
       "      <td>...</td>\n",
       "      <td>NaN</td>\n",
       "      <td>NaN</td>\n",
       "      <td>NaN</td>\n",
       "      <td>NaN</td>\n",
       "      <td>NaN</td>\n",
       "      <td>NaN</td>\n",
       "      <td>NaN</td>\n",
       "      <td>NaN</td>\n",
       "      <td>NaN</td>\n",
       "      <td>NaN</td>\n",
       "    </tr>\n",
       "    <tr>\n",
       "      <th>1</th>\n",
       "      <td>NaN</td>\n",
       "      <td>NaN</td>\n",
       "      <td>NaN</td>\n",
       "      <td>NaN</td>\n",
       "      <td>NaN</td>\n",
       "      <td>NaN</td>\n",
       "      <td>NaN</td>\n",
       "      <td>NaN</td>\n",
       "      <td>NaN</td>\n",
       "      <td>NaN</td>\n",
       "      <td>...</td>\n",
       "      <td>NaN</td>\n",
       "      <td>NaN</td>\n",
       "      <td>NaN</td>\n",
       "      <td>NaN</td>\n",
       "      <td>NaN</td>\n",
       "      <td>NaN</td>\n",
       "      <td>NaN</td>\n",
       "      <td>NaN</td>\n",
       "      <td>NaN</td>\n",
       "      <td>NaN</td>\n",
       "    </tr>\n",
       "    <tr>\n",
       "      <th>2</th>\n",
       "      <td>NaN</td>\n",
       "      <td>NaN</td>\n",
       "      <td>NaN</td>\n",
       "      <td>NaN</td>\n",
       "      <td>NaN</td>\n",
       "      <td>NaN</td>\n",
       "      <td>NaN</td>\n",
       "      <td>NaN</td>\n",
       "      <td>NaN</td>\n",
       "      <td>NaN</td>\n",
       "      <td>...</td>\n",
       "      <td>NaN</td>\n",
       "      <td>NaN</td>\n",
       "      <td>NaN</td>\n",
       "      <td>NaN</td>\n",
       "      <td>NaN</td>\n",
       "      <td>NaN</td>\n",
       "      <td>NaN</td>\n",
       "      <td>NaN</td>\n",
       "      <td>NaN</td>\n",
       "      <td>NaN</td>\n",
       "    </tr>\n",
       "    <tr>\n",
       "      <th>3</th>\n",
       "      <td>NaN</td>\n",
       "      <td>NaN</td>\n",
       "      <td>NaN</td>\n",
       "      <td>NaN</td>\n",
       "      <td>NaN</td>\n",
       "      <td>NaN</td>\n",
       "      <td>NaN</td>\n",
       "      <td>NaN</td>\n",
       "      <td>NaN</td>\n",
       "      <td>NaN</td>\n",
       "      <td>...</td>\n",
       "      <td>NaN</td>\n",
       "      <td>NaN</td>\n",
       "      <td>NaN</td>\n",
       "      <td>NaN</td>\n",
       "      <td>NaN</td>\n",
       "      <td>NaN</td>\n",
       "      <td>NaN</td>\n",
       "      <td>NaN</td>\n",
       "      <td>NaN</td>\n",
       "      <td>NaN</td>\n",
       "    </tr>\n",
       "    <tr>\n",
       "      <th>4</th>\n",
       "      <td>NaN</td>\n",
       "      <td>NaN</td>\n",
       "      <td>NaN</td>\n",
       "      <td>NaN</td>\n",
       "      <td>NaN</td>\n",
       "      <td>NaN</td>\n",
       "      <td>NaN</td>\n",
       "      <td>NaN</td>\n",
       "      <td>NaN</td>\n",
       "      <td>NaN</td>\n",
       "      <td>...</td>\n",
       "      <td>NaN</td>\n",
       "      <td>NaN</td>\n",
       "      <td>NaN</td>\n",
       "      <td>NaN</td>\n",
       "      <td>NaN</td>\n",
       "      <td>NaN</td>\n",
       "      <td>NaN</td>\n",
       "      <td>NaN</td>\n",
       "      <td>NaN</td>\n",
       "      <td>NaN</td>\n",
       "    </tr>\n",
       "  </tbody>\n",
       "</table>\n",
       "<p>5 rows × 565 columns</p>\n",
       "</div>"
      ],
      "text/plain": [
       "  46, Xx Disorders Of Sex Development 5q-Syndrome  \\\n",
       "0                                 NaN         NaN   \n",
       "1                                 NaN         NaN   \n",
       "2                                 NaN         NaN   \n",
       "3                                 NaN         NaN   \n",
       "4                                 NaN         NaN   \n",
       "\n",
       "  Abdominal Obesity Metabolic Syndrome Abetalipoproteinemia  \\\n",
       "0                                  NaN                  NaN   \n",
       "1                                  NaN                  NaN   \n",
       "2                                  NaN                  NaN   \n",
       "3                                  NaN                  NaN   \n",
       "4                                  NaN                  NaN   \n",
       "\n",
       "  Acatalasemia Japanese Type Acatalasia Acrocephalosyndactylia  \\\n",
       "0                        NaN        NaN                    NaN   \n",
       "1                        NaN        NaN                    NaN   \n",
       "2                        NaN        NaN                    NaN   \n",
       "3                        NaN        NaN                    NaN   \n",
       "4                        NaN        NaN                    NaN   \n",
       "\n",
       "  Acromicric Dysplasia Acute Basophilic Leukemia  \\\n",
       "0                  NaN                       NaN   \n",
       "1                  NaN                       NaN   \n",
       "2                  NaN                       NaN   \n",
       "3                  NaN                       NaN   \n",
       "4                  NaN                       NaN   \n",
       "\n",
       "  Acute Erythroblastic Leukemia  ... Ventricular Fibrillation  \\\n",
       "0                           NaN  ...                      NaN   \n",
       "1                           NaN  ...                      NaN   \n",
       "2                           NaN  ...                      NaN   \n",
       "3                           NaN  ...                      NaN   \n",
       "4                           NaN  ...                      NaN   \n",
       "\n",
       "  Ventricular Outflow Obstruction Von Hippel-Lindau Syndrome  \\\n",
       "0                             NaN                        NaN   \n",
       "1                             NaN                        NaN   \n",
       "2                             NaN                        NaN   \n",
       "3                             NaN                        NaN   \n",
       "4                             NaN                        NaN   \n",
       "\n",
       "  Vulvar Lichen Sclerosus Waardenburg Syndrome, Type Iid Wagr Syndrome  \\\n",
       "0                     NaN                            NaN           NaN   \n",
       "1                     NaN                            NaN           NaN   \n",
       "2                     NaN                            NaN           NaN   \n",
       "3                     NaN                            NaN           NaN   \n",
       "4                     NaN                            NaN           NaN   \n",
       "\n",
       "  Weber-Cockayne Syndrome  \\\n",
       "0                     NaN   \n",
       "1                     NaN   \n",
       "2                     NaN   \n",
       "3                     NaN   \n",
       "4                     NaN   \n",
       "\n",
       "  Wilms Tumor, Aniridia, Genitourinary Anomalies, Mental Retardation, And Obesity Syndrome  \\\n",
       "0                                                NaN                                         \n",
       "1                                                NaN                                         \n",
       "2                                                NaN                                         \n",
       "3                                                NaN                                         \n",
       "4                                                NaN                                         \n",
       "\n",
       "  Xeroderma Pigmentosum Xeroderma Pigmentosum, Variant Type  \n",
       "0                   NaN                                 NaN  \n",
       "1                   NaN                                 NaN  \n",
       "2                   NaN                                 NaN  \n",
       "3                   NaN                                 NaN  \n",
       "4                   NaN                                 NaN  \n",
       "\n",
       "[5 rows x 565 columns]"
      ]
     },
     "execution_count": 29,
     "metadata": {},
     "output_type": "execute_result"
    }
   ],
   "source": [
    "index = range(len(found_ind_DISNOR)) # 53\n",
    "disease_matrix_p_val_df = pd.DataFrame(index=index, columns=all_related_diseases)\n",
    "disease_matrix_hit_df = pd.DataFrame(index=index, columns=all_related_diseases)\n",
    "\n",
    "#TODO here>> \n",
    "for i, f in enumerate(found_ind_DISNOR):\n",
    "    try:\n",
    "        df_to_replace_nan = pd.Series(copd_commobid_and_related_diseases_dict[f]['p_val_df'])\n",
    "        # print(df_to_replace_nan)\n",
    "        # assert False\n",
    "        assert disease_matrix_p_val_df[df_to_replace_nan.index].shape[1] == df_to_replace_nan.index.shape[0] \n",
    "        disease_matrix_p_val_df[df_to_replace_nan.index].iloc[i] = df_to_replace_nan        \n",
    "    except:\n",
    "        assert False, f \n",
    "disease_matrix_p_val_df.head()\n"
   ]
  },
  {
   "cell_type": "code",
   "execution_count": 30,
   "metadata": {
    "pycharm": {
     "is_executing": false,
     "name": "#%%\n"
    }
   },
   "outputs": [
    {
     "data": {
      "text/html": [
       "<div>\n",
       "<style scoped>\n",
       "    .dataframe tbody tr th:only-of-type {\n",
       "        vertical-align: middle;\n",
       "    }\n",
       "\n",
       "    .dataframe tbody tr th {\n",
       "        vertical-align: top;\n",
       "    }\n",
       "\n",
       "    .dataframe thead th {\n",
       "        text-align: right;\n",
       "    }\n",
       "</style>\n",
       "<table border=\"1\" class=\"dataframe\">\n",
       "  <thead>\n",
       "    <tr style=\"text-align: right;\">\n",
       "      <th></th>\n",
       "      <th>46, Xx Disorders Of Sex Development</th>\n",
       "      <th>5q-Syndrome</th>\n",
       "      <th>Abdominal Obesity Metabolic Syndrome</th>\n",
       "      <th>Abetalipoproteinemia</th>\n",
       "      <th>Acatalasemia Japanese Type</th>\n",
       "      <th>Acatalasia</th>\n",
       "      <th>Acrocephalosyndactylia</th>\n",
       "      <th>Acromicric Dysplasia</th>\n",
       "      <th>Acute Basophilic Leukemia</th>\n",
       "      <th>Acute Erythroblastic Leukemia</th>\n",
       "      <th>...</th>\n",
       "      <th>Ventricular Fibrillation</th>\n",
       "      <th>Ventricular Outflow Obstruction</th>\n",
       "      <th>Von Hippel-Lindau Syndrome</th>\n",
       "      <th>Vulvar Lichen Sclerosus</th>\n",
       "      <th>Waardenburg Syndrome, Type Iid</th>\n",
       "      <th>Wagr Syndrome</th>\n",
       "      <th>Weber-Cockayne Syndrome</th>\n",
       "      <th>Wilms Tumor, Aniridia, Genitourinary Anomalies, Mental Retardation, And Obesity Syndrome</th>\n",
       "      <th>Xeroderma Pigmentosum</th>\n",
       "      <th>Xeroderma Pigmentosum, Variant Type</th>\n",
       "    </tr>\n",
       "  </thead>\n",
       "  <tbody>\n",
       "    <tr>\n",
       "      <th>0</th>\n",
       "      <td>NaN</td>\n",
       "      <td>NaN</td>\n",
       "      <td>NaN</td>\n",
       "      <td>NaN</td>\n",
       "      <td>NaN</td>\n",
       "      <td>NaN</td>\n",
       "      <td>NaN</td>\n",
       "      <td>NaN</td>\n",
       "      <td>NaN</td>\n",
       "      <td>NaN</td>\n",
       "      <td>...</td>\n",
       "      <td>NaN</td>\n",
       "      <td>NaN</td>\n",
       "      <td>NaN</td>\n",
       "      <td>NaN</td>\n",
       "      <td>NaN</td>\n",
       "      <td>NaN</td>\n",
       "      <td>NaN</td>\n",
       "      <td>NaN</td>\n",
       "      <td>NaN</td>\n",
       "      <td>NaN</td>\n",
       "    </tr>\n",
       "    <tr>\n",
       "      <th>1</th>\n",
       "      <td>NaN</td>\n",
       "      <td>NaN</td>\n",
       "      <td>NaN</td>\n",
       "      <td>NaN</td>\n",
       "      <td>NaN</td>\n",
       "      <td>NaN</td>\n",
       "      <td>NaN</td>\n",
       "      <td>NaN</td>\n",
       "      <td>NaN</td>\n",
       "      <td>NaN</td>\n",
       "      <td>...</td>\n",
       "      <td>NaN</td>\n",
       "      <td>NaN</td>\n",
       "      <td>NaN</td>\n",
       "      <td>NaN</td>\n",
       "      <td>NaN</td>\n",
       "      <td>NaN</td>\n",
       "      <td>NaN</td>\n",
       "      <td>NaN</td>\n",
       "      <td>NaN</td>\n",
       "      <td>NaN</td>\n",
       "    </tr>\n",
       "    <tr>\n",
       "      <th>2</th>\n",
       "      <td>NaN</td>\n",
       "      <td>NaN</td>\n",
       "      <td>NaN</td>\n",
       "      <td>NaN</td>\n",
       "      <td>NaN</td>\n",
       "      <td>NaN</td>\n",
       "      <td>NaN</td>\n",
       "      <td>NaN</td>\n",
       "      <td>NaN</td>\n",
       "      <td>NaN</td>\n",
       "      <td>...</td>\n",
       "      <td>NaN</td>\n",
       "      <td>NaN</td>\n",
       "      <td>NaN</td>\n",
       "      <td>NaN</td>\n",
       "      <td>NaN</td>\n",
       "      <td>NaN</td>\n",
       "      <td>NaN</td>\n",
       "      <td>NaN</td>\n",
       "      <td>NaN</td>\n",
       "      <td>NaN</td>\n",
       "    </tr>\n",
       "    <tr>\n",
       "      <th>3</th>\n",
       "      <td>NaN</td>\n",
       "      <td>NaN</td>\n",
       "      <td>NaN</td>\n",
       "      <td>NaN</td>\n",
       "      <td>NaN</td>\n",
       "      <td>NaN</td>\n",
       "      <td>NaN</td>\n",
       "      <td>NaN</td>\n",
       "      <td>NaN</td>\n",
       "      <td>NaN</td>\n",
       "      <td>...</td>\n",
       "      <td>NaN</td>\n",
       "      <td>NaN</td>\n",
       "      <td>NaN</td>\n",
       "      <td>NaN</td>\n",
       "      <td>NaN</td>\n",
       "      <td>NaN</td>\n",
       "      <td>NaN</td>\n",
       "      <td>NaN</td>\n",
       "      <td>NaN</td>\n",
       "      <td>NaN</td>\n",
       "    </tr>\n",
       "    <tr>\n",
       "      <th>4</th>\n",
       "      <td>NaN</td>\n",
       "      <td>NaN</td>\n",
       "      <td>NaN</td>\n",
       "      <td>NaN</td>\n",
       "      <td>NaN</td>\n",
       "      <td>NaN</td>\n",
       "      <td>NaN</td>\n",
       "      <td>NaN</td>\n",
       "      <td>NaN</td>\n",
       "      <td>NaN</td>\n",
       "      <td>...</td>\n",
       "      <td>NaN</td>\n",
       "      <td>NaN</td>\n",
       "      <td>NaN</td>\n",
       "      <td>NaN</td>\n",
       "      <td>NaN</td>\n",
       "      <td>NaN</td>\n",
       "      <td>NaN</td>\n",
       "      <td>NaN</td>\n",
       "      <td>NaN</td>\n",
       "      <td>NaN</td>\n",
       "    </tr>\n",
       "  </tbody>\n",
       "</table>\n",
       "<p>5 rows × 565 columns</p>\n",
       "</div>"
      ],
      "text/plain": [
       "  46, Xx Disorders Of Sex Development 5q-Syndrome  \\\n",
       "0                                 NaN         NaN   \n",
       "1                                 NaN         NaN   \n",
       "2                                 NaN         NaN   \n",
       "3                                 NaN         NaN   \n",
       "4                                 NaN         NaN   \n",
       "\n",
       "  Abdominal Obesity Metabolic Syndrome Abetalipoproteinemia  \\\n",
       "0                                  NaN                  NaN   \n",
       "1                                  NaN                  NaN   \n",
       "2                                  NaN                  NaN   \n",
       "3                                  NaN                  NaN   \n",
       "4                                  NaN                  NaN   \n",
       "\n",
       "  Acatalasemia Japanese Type Acatalasia Acrocephalosyndactylia  \\\n",
       "0                        NaN        NaN                    NaN   \n",
       "1                        NaN        NaN                    NaN   \n",
       "2                        NaN        NaN                    NaN   \n",
       "3                        NaN        NaN                    NaN   \n",
       "4                        NaN        NaN                    NaN   \n",
       "\n",
       "  Acromicric Dysplasia Acute Basophilic Leukemia  \\\n",
       "0                  NaN                       NaN   \n",
       "1                  NaN                       NaN   \n",
       "2                  NaN                       NaN   \n",
       "3                  NaN                       NaN   \n",
       "4                  NaN                       NaN   \n",
       "\n",
       "  Acute Erythroblastic Leukemia  ... Ventricular Fibrillation  \\\n",
       "0                           NaN  ...                      NaN   \n",
       "1                           NaN  ...                      NaN   \n",
       "2                           NaN  ...                      NaN   \n",
       "3                           NaN  ...                      NaN   \n",
       "4                           NaN  ...                      NaN   \n",
       "\n",
       "  Ventricular Outflow Obstruction Von Hippel-Lindau Syndrome  \\\n",
       "0                             NaN                        NaN   \n",
       "1                             NaN                        NaN   \n",
       "2                             NaN                        NaN   \n",
       "3                             NaN                        NaN   \n",
       "4                             NaN                        NaN   \n",
       "\n",
       "  Vulvar Lichen Sclerosus Waardenburg Syndrome, Type Iid Wagr Syndrome  \\\n",
       "0                     NaN                            NaN           NaN   \n",
       "1                     NaN                            NaN           NaN   \n",
       "2                     NaN                            NaN           NaN   \n",
       "3                     NaN                            NaN           NaN   \n",
       "4                     NaN                            NaN           NaN   \n",
       "\n",
       "  Weber-Cockayne Syndrome  \\\n",
       "0                     NaN   \n",
       "1                     NaN   \n",
       "2                     NaN   \n",
       "3                     NaN   \n",
       "4                     NaN   \n",
       "\n",
       "  Wilms Tumor, Aniridia, Genitourinary Anomalies, Mental Retardation, And Obesity Syndrome  \\\n",
       "0                                                NaN                                         \n",
       "1                                                NaN                                         \n",
       "2                                                NaN                                         \n",
       "3                                                NaN                                         \n",
       "4                                                NaN                                         \n",
       "\n",
       "  Xeroderma Pigmentosum Xeroderma Pigmentosum, Variant Type  \n",
       "0                   NaN                                 NaN  \n",
       "1                   NaN                                 NaN  \n",
       "2                   NaN                                 NaN  \n",
       "3                   NaN                                 NaN  \n",
       "4                   NaN                                 NaN  \n",
       "\n",
       "[5 rows x 565 columns]"
      ]
     },
     "execution_count": 30,
     "metadata": {},
     "output_type": "execute_result"
    }
   ],
   "source": [
    "disease_matrix_p_val_df.head()"
   ]
  },
  {
   "cell_type": "code",
   "execution_count": 31,
   "metadata": {
    "pycharm": {
     "is_executing": false,
     "name": "#%%\n"
    }
   },
   "outputs": [
    {
     "data": {
      "text/html": [
       "<div>\n",
       "<style scoped>\n",
       "    .dataframe tbody tr th:only-of-type {\n",
       "        vertical-align: middle;\n",
       "    }\n",
       "\n",
       "    .dataframe tbody tr th {\n",
       "        vertical-align: top;\n",
       "    }\n",
       "\n",
       "    .dataframe thead th {\n",
       "        text-align: right;\n",
       "    }\n",
       "</style>\n",
       "<table border=\"1\" class=\"dataframe\">\n",
       "  <thead>\n",
       "    <tr style=\"text-align: right;\">\n",
       "      <th></th>\n",
       "      <th>Polycythemia</th>\n",
       "      <th>Sarcoma, Experimental</th>\n",
       "      <th>Familial Erythrocytosis</th>\n",
       "      <th>Budd-Chiari Syndrome</th>\n",
       "      <th>Mesenteric Vascular Occlusion</th>\n",
       "      <th>Polyneuropathy</th>\n",
       "      <th>Thyroid Neoplasm</th>\n",
       "      <th>Thrombocytosis</th>\n",
       "      <th>Myelofibrosis</th>\n",
       "      <th>Primary Myelofibrosis</th>\n",
       "      <th>Acute Erythroblastic Leukemia</th>\n",
       "      <th>Pancytopenia</th>\n",
       "      <th>Polycythemia Vera</th>\n",
       "      <th>Hemolytic-Uremic Syndrome</th>\n",
       "      <th>Experimental Autoimmune Encephalomyelitis</th>\n",
       "      <th>Myeloproliferative Disease</th>\n",
       "      <th>Ventricular Fibrillation</th>\n",
       "      <th>Tachycardia, Ventricular</th>\n",
       "      <th>Beta Thalassemia</th>\n",
       "      <th>Renal Insufficiency</th>\n",
       "    </tr>\n",
       "  </thead>\n",
       "  <tbody>\n",
       "    <tr>\n",
       "      <th>0</th>\n",
       "      <td>5.00E-4</td>\n",
       "      <td>6.70E-3</td>\n",
       "      <td>8.30E-3</td>\n",
       "      <td>1.28E-2</td>\n",
       "      <td>1.34E-2</td>\n",
       "      <td>1.84E-2</td>\n",
       "      <td>1.85E-2</td>\n",
       "      <td>1.96E-2</td>\n",
       "      <td>2.28E-2</td>\n",
       "      <td>2.39E-2</td>\n",
       "      <td>2.79E-2</td>\n",
       "      <td>3.12E-2</td>\n",
       "      <td>3.67E-2</td>\n",
       "      <td>4.24E-2</td>\n",
       "      <td>4.39E-2</td>\n",
       "      <td>4.40E-2</td>\n",
       "      <td>5.19E-2</td>\n",
       "      <td>5.88E-2</td>\n",
       "      <td>6.27E-2</td>\n",
       "      <td>6.34E-2</td>\n",
       "    </tr>\n",
       "  </tbody>\n",
       "</table>\n",
       "</div>"
      ],
      "text/plain": [
       "  Polycythemia Sarcoma, Experimental Familial Erythrocytosis  \\\n",
       "0      5.00E-4               6.70E-3                 8.30E-3   \n",
       "\n",
       "  Budd-Chiari Syndrome Mesenteric Vascular Occlusion Polyneuropathy  \\\n",
       "0              1.28E-2                       1.34E-2        1.84E-2   \n",
       "\n",
       "  Thyroid Neoplasm Thrombocytosis Myelofibrosis Primary Myelofibrosis  \\\n",
       "0          1.85E-2        1.96E-2       2.28E-2               2.39E-2   \n",
       "\n",
       "  Acute Erythroblastic Leukemia Pancytopenia Polycythemia Vera  \\\n",
       "0                       2.79E-2      3.12E-2           3.67E-2   \n",
       "\n",
       "  Hemolytic-Uremic Syndrome Experimental Autoimmune Encephalomyelitis  \\\n",
       "0                   4.24E-2                                   4.39E-2   \n",
       "\n",
       "  Myeloproliferative Disease Ventricular Fibrillation  \\\n",
       "0                    4.40E-2                  5.19E-2   \n",
       "\n",
       "  Tachycardia, Ventricular Beta Thalassemia Renal Insufficiency  \n",
       "0                  5.88E-2          6.27E-2             6.34E-2  "
      ]
     },
     "execution_count": 31,
     "metadata": {},
     "output_type": "execute_result"
    }
   ],
   "source": [
    "pd.DataFrame(copd_commobid_and_related_diseases_dict[list(found_ind_DISNOR)[0]]['p_val_df']).transpose()"
   ]
  },
  {
   "cell_type": "code",
   "execution_count": 32,
   "metadata": {
    "pycharm": {
     "is_executing": false,
     "name": "#%%\n"
    }
   },
   "outputs": [
    {
     "data": {
      "text/html": [
       "<div>\n",
       "<style scoped>\n",
       "    .dataframe tbody tr th:only-of-type {\n",
       "        vertical-align: middle;\n",
       "    }\n",
       "\n",
       "    .dataframe tbody tr th {\n",
       "        vertical-align: top;\n",
       "    }\n",
       "\n",
       "    .dataframe thead th {\n",
       "        text-align: right;\n",
       "    }\n",
       "</style>\n",
       "<table border=\"1\" class=\"dataframe\">\n",
       "  <thead>\n",
       "    <tr style=\"text-align: right;\">\n",
       "      <th></th>\n",
       "      <th>Hereditary Breast And Ovarian Cancer Syndrome</th>\n",
       "      <th>Breast Cancer, Familial</th>\n",
       "      <th>Malignant Neoplasm Of Ovary</th>\n",
       "      <th>Fanconi Anemia, Complementation Group J</th>\n",
       "      <th>Bloom Syndrome</th>\n",
       "      <th>Fanconi Anemia, Complementation Group A (Disorder)</th>\n",
       "      <th>Malignant Neoplasm Of Breast</th>\n",
       "      <th>Breast-Ovarian Cancer, Familial, Susceptibility To, 1</th>\n",
       "      <th>Pancreatic Carcinoma, Familial</th>\n",
       "      <th>Ovarian Neoplasm</th>\n",
       "      <th>Prostate Cancer, Familial</th>\n",
       "      <th>Fanconi Anemia</th>\n",
       "      <th>Chloracne</th>\n",
       "      <th>Pancreatic Neoplasm</th>\n",
       "      <th>Adenoid Cystic Carcinoma</th>\n",
       "      <th>Mammary Neoplasms</th>\n",
       "      <th>Prostatic Neoplasms</th>\n",
       "    </tr>\n",
       "  </thead>\n",
       "  <tbody>\n",
       "    <tr>\n",
       "      <th>0</th>\n",
       "      <td>8.00E-4</td>\n",
       "      <td>9.00E-4</td>\n",
       "      <td>1.10E-3</td>\n",
       "      <td>3.80E-3</td>\n",
       "      <td>6.90E-3</td>\n",
       "      <td>7.00E-3</td>\n",
       "      <td>2.05E-2</td>\n",
       "      <td>2.13E-2</td>\n",
       "      <td>2.94E-2</td>\n",
       "      <td>4.64E-2</td>\n",
       "      <td>4.86E-2</td>\n",
       "      <td>6.85E-2</td>\n",
       "      <td>1.06E-1</td>\n",
       "      <td>2.47E-1</td>\n",
       "      <td>2.98E-1</td>\n",
       "      <td>4.14E-1</td>\n",
       "      <td>8.09E-1</td>\n",
       "    </tr>\n",
       "  </tbody>\n",
       "</table>\n",
       "</div>"
      ],
      "text/plain": [
       "  Hereditary Breast And Ovarian Cancer Syndrome Breast Cancer, Familial  \\\n",
       "0                                       8.00E-4                 9.00E-4   \n",
       "\n",
       "  Malignant Neoplasm Of Ovary Fanconi Anemia, Complementation Group J  \\\n",
       "0                     1.10E-3                                 3.80E-3   \n",
       "\n",
       "  Bloom Syndrome Fanconi Anemia, Complementation Group A (Disorder)  \\\n",
       "0        6.90E-3                                            7.00E-3   \n",
       "\n",
       "  Malignant Neoplasm Of Breast  \\\n",
       "0                      2.05E-2   \n",
       "\n",
       "  Breast-Ovarian Cancer, Familial, Susceptibility To, 1  \\\n",
       "0                                            2.13E-2      \n",
       "\n",
       "  Pancreatic Carcinoma, Familial Ovarian Neoplasm Prostate Cancer, Familial  \\\n",
       "0                        2.94E-2          4.64E-2                   4.86E-2   \n",
       "\n",
       "  Fanconi Anemia Chloracne Pancreatic Neoplasm Adenoid Cystic Carcinoma  \\\n",
       "0        6.85E-2   1.06E-1             2.47E-1                  2.98E-1   \n",
       "\n",
       "  Mammary Neoplasms Prostatic Neoplasms  \n",
       "0           4.14E-1             8.09E-1  "
      ]
     },
     "execution_count": 32,
     "metadata": {},
     "output_type": "execute_result"
    }
   ],
   "source": [
    "i = 1\n",
    "tmp = pd.DataFrame(copd_commobid_and_related_diseases_dict[list(found_ind_DISNOR)[1]]['p_val_df']).transpose()\n",
    "not_null = tmp.notnull()\n",
    "tmp"
   ]
  },
  {
   "cell_type": "code",
   "execution_count": 33,
   "metadata": {
    "pycharm": {
     "is_executing": false,
     "name": "#%%\n"
    }
   },
   "outputs": [
    {
     "data": {
      "text/plain": [
       "(1, 17)"
      ]
     },
     "execution_count": 33,
     "metadata": {},
     "output_type": "execute_result"
    }
   ],
   "source": [
    "tmp[not_null].shape"
   ]
  },
  {
   "cell_type": "code",
   "execution_count": 34,
   "metadata": {
    "pycharm": {
     "is_executing": false,
     "name": "#%%\n"
    }
   },
   "outputs": [
    {
     "data": {
      "text/plain": [
       "(0,)"
      ]
     },
     "execution_count": 34,
     "metadata": {},
     "output_type": "execute_result"
    }
   ],
   "source": [
    "disease_matrix_p_val_df.iloc[i][disease_matrix_p_val_df.iloc[i].notnull()].shape"
   ]
  },
  {
   "cell_type": "code",
   "execution_count": 35,
   "metadata": {
    "pycharm": {
     "is_executing": false,
     "name": "#%%\n"
    }
   },
   "outputs": [
    {
     "data": {
      "text/plain": [
       "False"
      ]
     },
     "execution_count": 35,
     "metadata": {},
     "output_type": "execute_result"
    }
   ],
   "source": [
    "df_test = pd.DataFrame({'a':[1,2,3], 'b':[1,2,3]})\n",
    "df_test['a'] = 'lol'\n",
    "df_test.iloc[0] = 'xx'\n",
    "df_test.iloc[0]._is_view "
   ]
  },
  {
   "cell_type": "code",
   "execution_count": 36,
   "metadata": {
    "pycharm": {
     "is_executing": false,
     "name": "#%%\n"
    }
   },
   "outputs": [
    {
     "data": {
      "text/html": [
       "<div>\n",
       "<style scoped>\n",
       "    .dataframe tbody tr th:only-of-type {\n",
       "        vertical-align: middle;\n",
       "    }\n",
       "\n",
       "    .dataframe tbody tr th {\n",
       "        vertical-align: top;\n",
       "    }\n",
       "\n",
       "    .dataframe thead th {\n",
       "        text-align: right;\n",
       "    }\n",
       "</style>\n",
       "<table border=\"1\" class=\"dataframe\">\n",
       "  <thead>\n",
       "    <tr style=\"text-align: right;\">\n",
       "      <th></th>\n",
       "      <th>a</th>\n",
       "      <th>b</th>\n",
       "    </tr>\n",
       "  </thead>\n",
       "  <tbody>\n",
       "    <tr>\n",
       "      <th>0</th>\n",
       "      <td>xx</td>\n",
       "      <td>xx</td>\n",
       "    </tr>\n",
       "    <tr>\n",
       "      <th>1</th>\n",
       "      <td>lol</td>\n",
       "      <td>2</td>\n",
       "    </tr>\n",
       "    <tr>\n",
       "      <th>2</th>\n",
       "      <td>lol</td>\n",
       "      <td>3</td>\n",
       "    </tr>\n",
       "  </tbody>\n",
       "</table>\n",
       "</div>"
      ],
      "text/plain": [
       "     a   b\n",
       "0   xx  xx\n",
       "1  lol   2\n",
       "2  lol   3"
      ]
     },
     "execution_count": 36,
     "metadata": {},
     "output_type": "execute_result"
    }
   ],
   "source": [
    " \n",
    "df_test"
   ]
  },
  {
   "cell_type": "code",
   "execution_count": 48,
   "metadata": {
    "pycharm": {
     "is_executing": false,
     "name": "#%%\n"
    }
   },
   "outputs": [
    {
     "data": {
      "text/plain": [
       "{'5q,syndrome',\n",
       " 'abdominal obesity metabolic syndrome',\n",
       " 'agoraphobia',\n",
       " 'anemia, sideroblastic, and spinocerebellar ataxia',\n",
       " 'anterior myocardial infarction',\n",
       " 'anxiety',\n",
       " 'apolipoprotein c,ii deficiency (disorder)',\n",
       " 'asthma',\n",
       " 'atrial fibrillation, familial, 1 (disorder)',\n",
       " 'bronchitis',\n",
       " 'carcinoma, giant cell',\n",
       " 'carcinoma, small cell',\n",
       " 'cardiopulmonary arrest',\n",
       " 'carotid ulcer',\n",
       " 'cerebral cavernous malformations 2',\n",
       " 'cerebral embolism',\n",
       " 'cerebral infarction',\n",
       " 'cerebral vasospasm',\n",
       " 'chronic post,traumatic stress disorder',\n",
       " 'claustrophobia',\n",
       " 'combat disorders',\n",
       " 'common carotid artery thrombosis',\n",
       " 'congenital dyserythropoietic anemia',\n",
       " 'coronary occlusion',\n",
       " 'coronary restenosis',\n",
       " 'deficiency of pyruvate kinase',\n",
       " 'diabetes mellitus autosomal dominant type ii (disorder)',\n",
       " 'diabetes mellitus, insulin,dependent, 12',\n",
       " 'diabetes mellitus, insulin,dependent, 2',\n",
       " 'diabetes mellitus, insulin,dependent, 20 (disorder)',\n",
       " 'diabetes mellitus, insulin,dependent, 4',\n",
       " 'diabetes mellitus, insulin,dependent, 5',\n",
       " 'diabetes mellitus, insulin,dependent, 7',\n",
       " 'diabetes mellitus, insulin,dependent, 8',\n",
       " 'diabetes mellitus, neonatal, with congenital hypothyroidism',\n",
       " 'diabetes mellitus, permanent neonatal',\n",
       " 'diabetes mellitus, transient neonatal, 3 (disorder)',\n",
       " 'diabetic ketoacidosis',\n",
       " 'diamond,blackfan anemia 7',\n",
       " 'dysthymic disorder',\n",
       " 'erythroblastosis, fetal',\n",
       " 'erythrocytosis, familial, 2',\n",
       " 'estren,dameshek variant of fanconi pancytopenia',\n",
       " 'familial erythrocytosis',\n",
       " 'fanconi anemia, complementation group d1',\n",
       " 'fanconi anemia, complementation group i',\n",
       " 'fanconi anemia, complementation group j',\n",
       " 'fanconi anemia, complementation group n',\n",
       " 'gestational diabetes',\n",
       " 'heart failure, diastolic',\n",
       " 'heart failure, systolic',\n",
       " 'hereditary sideroblastic anemia',\n",
       " 'hypercholesterolemia, autosomal recessive',\n",
       " 'hyperlipidemia, familial combined',\n",
       " 'hyperlipoproteinemia type iii',\n",
       " 'hyperlipoproteinemia type iv',\n",
       " 'hyperlipoproteinemia type v',\n",
       " 'impaired glucose tolerance',\n",
       " 'iron deficiency anemia',\n",
       " 'kernicterus',\n",
       " 'lateral medullary syndrome',\n",
       " 'lateral sinus thrombosis',\n",
       " 'leukoerythroblastic anemia',\n",
       " 'lipoatrophic diabetes mellitus',\n",
       " 'maturity,onset diabetes of the young, type 1',\n",
       " 'maturity,onset diabetes of the young, type 3 (disorder)',\n",
       " 'maturity,onset diabetes of the young, type 6 (disorder)',\n",
       " 'maturity,onset diabetes of the young, type 7 (disorder)',\n",
       " 'maturity,onset diabetes of the young, type 8, with exocrine dysfunction',\n",
       " 'maturity,onset diabetes of the young, type 9 (disorder)',\n",
       " 'maturity,onset diabetes of the young, type iv (disorder)',\n",
       " 'megaloblastic anemia due to inborn errors of metabolism',\n",
       " 'melancholia',\n",
       " 'methemoglobinemia',\n",
       " 'moyamoya disease 1',\n",
       " 'myocardial infarction',\n",
       " 'myocardial preinfarction syndrome',\n",
       " 'myocardial stunning',\n",
       " 'obesity, morbid',\n",
       " 'obsessive,compulsive disorder',\n",
       " 'pancytopenia',\n",
       " 'panic disorder',\n",
       " 'persistent fetal circulation syndrome',\n",
       " 'phobic anxiety disorder',\n",
       " 'pleuropulmonary blastoma',\n",
       " 'polycythemia vera',\n",
       " 'pulmonary hypertension, primary, fenfluramine,associated',\n",
       " 'pulmonary veno,occlusive disease (disorder)',\n",
       " 'pure red,cell aplasia',\n",
       " 'reactive depression',\n",
       " 'renal cysts and diabetes syndrome',\n",
       " 'rh deficiency syndrome',\n",
       " 'sagittal sinus thrombophlebitis',\n",
       " 'sleep apnea, mixed central and obstructive',\n",
       " 'spherocytosis, type 1 (disorder)',\n",
       " 'spherocytosis, type 3 (disorder)',\n",
       " 'spherocytosis, type 4',\n",
       " 'spherocytosis, type 5',\n",
       " 'status asthmaticus',\n",
       " 'stress disorders, traumatic, acute',\n",
       " 'thrombotic infarction, middle cerebral artery'}"
      ]
     },
     "execution_count": 48,
     "metadata": {},
     "output_type": "execute_result"
    }
   ],
   "source": [
    "set(copd_name)"
   ]
  },
  {
   "cell_type": "code",
   "execution_count": 49,
   "metadata": {
    "pycharm": {
     "is_executing": false,
     "name": "#%%\n"
    }
   },
   "outputs": [
    {
     "data": {
      "text/plain": [
       "{'46, Xx Disorders Of Sex Development',\n",
       " '5q-Syndrome',\n",
       " 'Abdominal Obesity Metabolic Syndrome',\n",
       " 'Abetalipoproteinemia',\n",
       " 'Acatalasemia Japanese Type',\n",
       " 'Acatalasia',\n",
       " 'Acrocephalosyndactylia',\n",
       " 'Acromicric Dysplasia',\n",
       " 'Acute Basophilic Leukemia',\n",
       " 'Acute Erythroblastic Leukemia',\n",
       " 'Acute Kidney Injury',\n",
       " 'Acute Kidney Tubular Necrosis',\n",
       " 'Acute Megakaryocytic Leukemias',\n",
       " 'Acute Myeloid Leukemia (aml-m2)',\n",
       " 'Acute Promyelocytic Leukemia',\n",
       " 'Adenocarcinoma, Clear Cell',\n",
       " 'Adenoid Cystic Carcinoma',\n",
       " 'Adrenal Gland Neoplasms',\n",
       " 'Adrenocortical Carcinoma, Hereditary',\n",
       " 'Adrenocortical Carcinoma, Pediatric',\n",
       " 'Adult T-Cell Lymphoma/Leukemia',\n",
       " 'Alcoholic Intoxication, Chronic',\n",
       " 'Allanson Pantzar Mcleod Syndrome',\n",
       " 'Allergy To Peanuts',\n",
       " 'Alobar Holoprosencephaly',\n",
       " 'Alopecia Areata',\n",
       " 'Alpha Thalassemia-Mental Retardation Syndrome',\n",
       " 'Alpha-Thalassemia',\n",
       " 'Alpha-fetoprotein Deficiency',\n",
       " 'Alveolar Capillary Dysplasia',\n",
       " 'Alveolar Rhabdomyosarcoma',\n",
       " 'Alzheimer Disease 2',\n",
       " 'Amenorrhea',\n",
       " 'Amyotrophic Lateral Sclerosis',\n",
       " 'Anaplasia',\n",
       " 'Anaplastic Thyroid Carcinoma',\n",
       " 'Anemia',\n",
       " 'Anemia, Diamond-Blackfan',\n",
       " 'Anemia, Hemolytic',\n",
       " 'Anemia, Hereditary Spherocytic Hemolytic',\n",
       " 'Anemia, Hypochromic Microcytic, With Iron Overload',\n",
       " 'Anemia, Sickle Cell',\n",
       " 'Anemia, X-linked, Without Thrombocytopenia',\n",
       " 'Angelman Syndrome',\n",
       " 'Ankylosis',\n",
       " 'Anorexia Nervosa',\n",
       " 'Anthracosis',\n",
       " 'Aortic Aneurysm, Familial Thoracic 6',\n",
       " 'Aortic Aneurysm, Thoracic',\n",
       " 'Apert Syndrome',\n",
       " 'Apolipoprotein C-ii Deficiency (disorder)',\n",
       " 'Arenaviridae Infections',\n",
       " 'Aromatase Deficiency',\n",
       " 'Aromatase Excess Syndrome',\n",
       " 'Arthritis, Infectious',\n",
       " 'Arthritis, Psoriatic',\n",
       " 'Aseptic Meningitis',\n",
       " 'Asperger Syndrome',\n",
       " 'Asthma',\n",
       " 'Asthma, Occupational',\n",
       " 'Asthma, Susceptibility To (Finding)',\n",
       " 'Astrocytoma',\n",
       " 'Ataxia Telangiectasia',\n",
       " 'Ataxia With Vitamin E Deficiency',\n",
       " 'Ataxia-telangiectasia Variant',\n",
       " 'Atrial Fibrillation, Familial, 1 (disorder)',\n",
       " 'Balkan Nephropathy',\n",
       " 'Barrett Esophagus',\n",
       " 'Basal Cell Carcinoma',\n",
       " 'Basal Cell Nevus Syndrome',\n",
       " 'Berylliosis',\n",
       " 'Beta Thalassemia',\n",
       " 'Beta Thalassemia, Dominant Inclusion Body Type',\n",
       " 'Bilateral Multicystic Dysplastic Kidneys',\n",
       " 'Biliary Cirrhosis',\n",
       " 'Bladder Neoplasm',\n",
       " 'Bloom Syndrome',\n",
       " 'Bone Marrow Neoplasms',\n",
       " \"Bowen's Disease\",\n",
       " 'Brachydactyly, Type A2',\n",
       " 'Brachydactyly, Type B2 (disorder)',\n",
       " 'Brain Infarction',\n",
       " 'Brain Ischemia',\n",
       " 'Breast Cancer, Familial',\n",
       " 'Breast-Ovarian Cancer, Familial, Susceptibility To, 1',\n",
       " 'Budd-Chiari Syndrome',\n",
       " 'Bulbo-spinal Atrophy, X-linked',\n",
       " 'Bulbospinal Neuronopathy',\n",
       " 'Bulimia Nervosa',\n",
       " 'Camurati-engelmann Syndrome',\n",
       " 'Carbamoyl-phosphate Synthase I Deficiency Disease',\n",
       " 'Carboxypeptidase N Deficiency',\n",
       " 'Carcinosarcoma',\n",
       " 'Cardiac Arrest',\n",
       " 'Cardiac Tamponade',\n",
       " 'Cardiomyopathy, Dilated',\n",
       " 'Cardiomyopathy, Dilated, 1p',\n",
       " 'Cardiomyopathy, Familial, With Conduction Disturbance',\n",
       " 'Carnitine Palmitoyl Transferase 1a Deficiency',\n",
       " 'Carotid Intimal Medial Thickness 1',\n",
       " 'Carotid Stenosis',\n",
       " 'Catalepsy',\n",
       " 'Cataract',\n",
       " 'Cerebral Amyloid Angiopathy',\n",
       " 'Cerebral Infarction',\n",
       " 'Cerebrovascular Accident',\n",
       " 'Ceroid Lipofuscinosis, Neuronal 1, Infantile',\n",
       " 'Ceroid Lipofuscinosis, Neuronal, 6',\n",
       " 'Chlamydia Infections',\n",
       " 'Chloracne',\n",
       " 'Cholangiocarcinoma',\n",
       " 'Cholangitis, Sclerosing',\n",
       " 'Cholecystolithiasis',\n",
       " 'Cholelithiasis',\n",
       " 'Cholesterol Embolism',\n",
       " 'Chondrodysplasia, Acromesomelic, With Genital Anomalies',\n",
       " 'Choroid Plexus Carcinoma',\n",
       " 'Choroid Plexus Papilloma',\n",
       " 'Chromophobe Renal Cell Carcinoma',\n",
       " 'Chromosome 10q23 Deletion Syndrome',\n",
       " 'Chromosome 17 Deletion',\n",
       " 'Chromosome 17q12 Deletion Syndrome',\n",
       " 'Chronic Kidney Diseases',\n",
       " 'Chronic Lymphocytic Leukemia',\n",
       " 'Chronic Neutrophilic Leukemia',\n",
       " 'Chronobiology Disorders',\n",
       " 'Cocaine-Related Disorders',\n",
       " 'Colonic Neoplasms',\n",
       " 'Combined Immunodeficiency',\n",
       " 'Congenital Dyserythropoietic Anemia',\n",
       " 'Congenital Dyserythropoietic Anemia, Type I',\n",
       " 'Congenital Dyserythropoietic Anemia, Type Ii',\n",
       " 'Congenital Generalized Lipodystrophy Type 2',\n",
       " 'Congenital Hyperinsulinism',\n",
       " 'Congenital Nystagmus',\n",
       " 'Congenital Pain Insensitivity',\n",
       " 'Copper-Overload Cirrhosis',\n",
       " 'Coronary Artery Disease',\n",
       " 'Coronary Heart Disease',\n",
       " 'Coronary Restenosis',\n",
       " 'Coronary Stenosis',\n",
       " 'Coronary Thrombosis',\n",
       " 'Craniofacial Dysostosis',\n",
       " 'Crigler Najjar Syndrome, Type 1',\n",
       " 'Crigler Najjar Syndrome, Type 2',\n",
       " 'Crohn Disease',\n",
       " 'Cutis Gyrata Syndrome Of Beare And Stevenson',\n",
       " 'Deficiency Of Glycerol Kinase',\n",
       " 'Deletion 11p13',\n",
       " 'Delta-Beta Thalassemia',\n",
       " 'Dementia, Vascular',\n",
       " 'Denys-drash Syndrome',\n",
       " 'Dermatitis, Allergic Contact',\n",
       " 'Dermatitis, Atopic',\n",
       " 'Dermatomyositis',\n",
       " 'Dermatopathia Pigmentosa Reticularis',\n",
       " 'Desmoplastic Medulloblastoma',\n",
       " 'Desmoplastic Small Round Cell Tumor',\n",
       " 'Diabetes Mellitus Autosomal Dominant Type Ii (disorder)',\n",
       " 'Diabetes Mellitus, Experimental',\n",
       " 'Diabetes Mellitus, Insulin-Dependent',\n",
       " 'Diabetes Mellitus, Insulin-dependent, 12',\n",
       " 'Diabetes Mellitus, Insulin-dependent, 2',\n",
       " 'Diabetes Mellitus, Insulin-dependent, 20 (disorder)',\n",
       " 'Diabetes Mellitus, Insulin-resistant, With Acanthosis Nigricans',\n",
       " 'Diabetes Mellitus, Neonatal, With Congenital Hypothyroidism',\n",
       " 'Diabetes Mellitus, Non-Insulin-Dependent',\n",
       " 'Diabetes Mellitus, Permanent Neonatal',\n",
       " 'Diabetes Mellitus, Permanent Neonatal, With Neurologic Features',\n",
       " 'Diabetes Mellitus, Transient Neonatal, 2 (disorder)',\n",
       " 'Diabetes Mellitus, Transient Neonatal, 3 (disorder)',\n",
       " 'Diabetic Angiopathies',\n",
       " 'Diabetic Ketoacidosis',\n",
       " 'Diamond-blackfan Anemia 7',\n",
       " 'Diffuse Mesangial Sclerosis (Disorder)',\n",
       " 'Distal Renal Tubular Acidosis',\n",
       " 'Donohue Syndrome',\n",
       " 'Dowling-degos Disease',\n",
       " 'Down Syndrome',\n",
       " 'Dry Eye Syndromes',\n",
       " 'Ductal Carcinoma',\n",
       " 'Duodenal Ulcer',\n",
       " 'Dyserythropoietic Anemia With Thrombocytopenia',\n",
       " 'Dyslipidemias',\n",
       " 'Ectodermal Dysplasia/ Skin Fragility Syndrome',\n",
       " 'Elliptocytosis 2 (disorder)',\n",
       " 'Elliptocytosis, Hereditary',\n",
       " 'Embolism And Thrombosis',\n",
       " 'Encephalopathy, Neonatal Severe, Due To Mecp2 Mutations',\n",
       " 'Endemic Goiter',\n",
       " 'Endometriosis',\n",
       " 'Entamoebiasis',\n",
       " 'Eosinophilia-Myalgia Syndrome',\n",
       " 'Epidermolysis Bullosa Herpetiformis Dowling-Meara',\n",
       " 'Epidermolysis Bullosa Simplex',\n",
       " 'Epidermolysis Bullosa Simplex Kobner',\n",
       " 'Epidermolysis Bullosa Simplex With Migratory Circinate Erythema',\n",
       " 'Epidermolysis Bullosa Simplex With Mottled Pigmentation',\n",
       " 'Epidermolysis Bullosa Simplex, Autosomal Recessive (Disorder)',\n",
       " 'Epilepsy, Benign Neonatal, 3',\n",
       " 'Erythrocytosis',\n",
       " 'Erythrocytosis, Familial, 2',\n",
       " 'Erythropoietic Protoporphyria',\n",
       " 'Esophageal Achalasia',\n",
       " 'Esophageal Stenosis',\n",
       " 'Euthyroid Goiter',\n",
       " 'Experimental Autoimmune Encephalomyelitis',\n",
       " 'Extrinsic Allergic Alveolitis',\n",
       " 'Familial Erythrocytosis',\n",
       " 'Familial Generalized Lipodystrophy',\n",
       " 'Familial Hypobetalipoproteinemia',\n",
       " 'Familial Juvenile Gout',\n",
       " 'Familial Meningioma',\n",
       " 'Familial Partial Lipodystrophy',\n",
       " 'Familial Partial Lipodystrophy, Type 3',\n",
       " 'Fanconi Anemia',\n",
       " 'Fanconi Anemia, Complementation Group A (Disorder)',\n",
       " 'Fanconi Anemia, Complementation Group D1',\n",
       " 'Fanconi Anemia, Complementation Group I',\n",
       " 'Fanconi Anemia, Complementation Group J',\n",
       " 'Fanconi Anemia, Complementation Group N',\n",
       " 'Fatty Liver',\n",
       " 'Fatty Liver, Alcoholic',\n",
       " 'Fetal Resorption',\n",
       " 'Fibrodysplasia Ossificans Progressiva',\n",
       " 'Focal Glomerulosclerosis',\n",
       " 'Folic Acid Deficiency',\n",
       " 'Follicle-stimulating Hormone Deficiency, Isolated',\n",
       " 'Frasier Syndrome',\n",
       " 'Gait Disorders, Neurologic',\n",
       " 'Galactorrhea',\n",
       " 'Gastroparesis',\n",
       " 'Genital Neoplasms, Female',\n",
       " 'Gestational Diabetes',\n",
       " 'Gilbert Disease (disorder)',\n",
       " 'Glaucoma 1, Open Angle, E',\n",
       " 'Glioblastoma',\n",
       " 'Glioma',\n",
       " 'Glomerulocystic Kidney Disease With Hyperuricemia And Isosthenuria',\n",
       " 'Glucocorticoid Receptor Deficiency',\n",
       " 'Graft-Vs-Host Disease',\n",
       " 'Granulosa Cell Cancer',\n",
       " 'Graves Disease',\n",
       " 'Gynandroblastoma',\n",
       " 'Gynecomastia',\n",
       " 'Hashimoto Disease',\n",
       " 'Hay Fever',\n",
       " 'Head And Neck Neoplasms',\n",
       " 'Heart Failure',\n",
       " 'Heinz Body Anemias',\n",
       " 'Hemangioblastoma',\n",
       " 'Hemangiopericytoma',\n",
       " 'Heme Oxygenase 1 Deficiency',\n",
       " 'Hemoglobin C Disease',\n",
       " 'Hemoglobin H Disease',\n",
       " 'Hemoglobin Sc Disease',\n",
       " 'Hemolytic-Uremic Syndrome',\n",
       " 'Hepatic Adenomas, Familial',\n",
       " 'Hepatitis C',\n",
       " 'Hepatitis, Alcoholic',\n",
       " 'Hepatitis, Autoimmune',\n",
       " 'Hepatitis, Chronic',\n",
       " 'Hepatorenal Syndrome',\n",
       " 'Hereditary Breast And Ovarian Cancer Syndrome',\n",
       " 'Hereditary Fructose Intolerance Syndrome',\n",
       " 'Hereditary Pyropoikilocytosis',\n",
       " 'Hereditary Sensory Autonomic Neuropathy, Type 5',\n",
       " 'Hereditary Sideroblastic Anemia',\n",
       " 'Hereditary Spherocytosis',\n",
       " 'Histiocytoma, Angiomatoid Fibrous',\n",
       " 'Hiv Wasting Syndrome',\n",
       " 'Hydronephrosis',\n",
       " 'Hyperandrogenism',\n",
       " 'Hyperbilirubinemia',\n",
       " 'Hypercholesterolemia',\n",
       " 'Hypercholesterolemia, Familial',\n",
       " 'Hyperglycemia',\n",
       " 'Hyperinsulinemic Hypoglycemia, Familial, 1',\n",
       " 'Hyperinsulinemic Hypoglycemia, Familial, 2',\n",
       " 'Hyperinsulinemic Hypoglycemia, Familial, 3',\n",
       " 'Hyperinsulinemic Hypoglycemia, Familial, 5',\n",
       " 'Hyperinsulinism',\n",
       " 'Hyperlipidemia',\n",
       " 'Hyperlipidemia, Familial Combined',\n",
       " 'Hyperlipoproteinemia Type I',\n",
       " 'Hyperlipoproteinemia Type Iib',\n",
       " 'Hyperlipoproteinemia Type Iii',\n",
       " 'Hyperlipoproteinemia Type Iv',\n",
       " 'Hyperlipoproteinemia Type V',\n",
       " 'Hyperphagia',\n",
       " 'Hyperproinsulinemia',\n",
       " 'Hyperprolactinemia',\n",
       " 'Hypertensive Disease',\n",
       " 'Hyperthyroxinemia, Familial Dysalbuminemic',\n",
       " 'Hypoalbuminemia',\n",
       " 'Hypoalphalipoproteinemia, Familial',\n",
       " 'Hypoalphalipoproteinemias',\n",
       " 'Hypobetalipoproteinemia, Familial, Apolipoprotein B',\n",
       " 'Hypobetalipoproteinemias',\n",
       " 'Hypoglycemia',\n",
       " 'Hypoglycemia, Leucine-induced',\n",
       " 'Hypogonadism',\n",
       " 'Hypomagnesemia 2, Renal',\n",
       " 'Hypomagnesemia 4, Renal',\n",
       " 'Hypoxia-Ischemia, Brain',\n",
       " 'Idiopathic Pulmonary Arterial Hypertension',\n",
       " 'Iga Glomerulonephritis',\n",
       " 'Iga Nephropathy, Progression To Renal Failure In, Susceptibility To',\n",
       " 'Insulin-like Growth Factor I Deficiency',\n",
       " 'Insulin-like Growth Factor I, Resistance To',\n",
       " 'Intervertebral Disc Degeneration',\n",
       " 'Intracranial Embolism And Thrombosis',\n",
       " 'Intrauterine Growth Retardation, Metaphyseal Dysplasia, Adrenal Hypoplasia Congenita, And Genital Anomalies',\n",
       " 'Iron Deficiency Anemia',\n",
       " 'Iron-refractory Iron Deficiency Anemia',\n",
       " 'Keratoconus',\n",
       " 'Keratosis',\n",
       " 'Kernicterus',\n",
       " 'Kidney Failure, Chronic',\n",
       " 'Klippel-feil Syndrome',\n",
       " 'Klippel-feil Syndrome, Autosomal Dominant',\n",
       " 'Lateral Medullary Syndrome',\n",
       " 'Leishmaniasis',\n",
       " 'Leishmaniasis, Cutaneous',\n",
       " 'Leishmaniasis, Visceral',\n",
       " 'Leukemia',\n",
       " 'Leukemia, Megakaryoblastic, Of Down Syndrome',\n",
       " 'Leukemia, Myelocytic, Acute',\n",
       " 'Leukodystrophy, Metachromatic',\n",
       " 'Lewy Body Disease',\n",
       " 'Li-Fraumeni Syndrome',\n",
       " 'Li-Fraumeni Syndrome 1',\n",
       " 'Li-Fraumeni Syndrome 2',\n",
       " 'Li-fraumeni-like Syndrome',\n",
       " 'Lipoatrophic Diabetes Mellitus',\n",
       " 'Lipodystrophy With Congenital Cataracts And Neurodegeneration',\n",
       " 'Lipodystrophy, Congenital Generalized, Type 3',\n",
       " 'Lipoprotein Glomerulopathy',\n",
       " 'Liver Carcinoma',\n",
       " 'Liver Cirrhosis, Alcoholic',\n",
       " 'Liver Cirrhosis, Experimental',\n",
       " 'Liver Failure, Acute',\n",
       " 'Lobar Holoprosencephaly',\n",
       " 'Lubs X-linked Mental Retardation Syndrome',\n",
       " 'Lucey-driscoll Syndrome (disorder)',\n",
       " 'Lung Diseases, Obstructive',\n",
       " 'Lymphoma, T-Cell, Cutaneous',\n",
       " 'Macrocytosis, Familial',\n",
       " 'Magnesium Deficiency',\n",
       " 'Malaria',\n",
       " 'Malaria, Cerebral, Susceptibility To (Finding)',\n",
       " 'Male Pseudohermaphroditism: Deficiency Of Testicular 17,20-Desmolase',\n",
       " 'Malignant Lymphoma, Lymphocytic, Intermediate Differentiation, Diffuse',\n",
       " 'Malignant Mesothelioma',\n",
       " 'Malignant Neoplasm Of Breast',\n",
       " 'Malignant Neoplasm Of Lung',\n",
       " 'Malignant Neoplasm Of Ovary',\n",
       " 'Malignant Neoplasm Of Pancreas',\n",
       " 'Malignant Neoplasm Of Urinary Bladder',\n",
       " 'Mammary Neoplasms',\n",
       " 'Manganese Poisoning',\n",
       " 'Marfan Syndrome',\n",
       " 'Mastocytosis',\n",
       " 'Maturity Onset Diabetes Mellitus In Young',\n",
       " 'Maturity-Onset Diabetes Of The Young, Type 1',\n",
       " 'Maturity-onset Diabetes Of The Young, Type 3 (disorder)',\n",
       " 'Maturity-onset Diabetes Of The Young, Type 6 (disorder)',\n",
       " 'Maturity-onset Diabetes Of The Young, Type 7 (disorder)',\n",
       " 'Maturity-onset Diabetes Of The Young, Type Iv (disorder)',\n",
       " 'Meacham Syndrome (disorder)',\n",
       " 'Meacham Winn Culler Syndrome',\n",
       " 'Mediastinal Germ Cell Tumor',\n",
       " 'Medullary Cystic Kidney Disease Type 2',\n",
       " 'Medulloblastoma',\n",
       " 'Megaloblastic Anemia Due To Dihydrofolate Reductase Deficiency',\n",
       " 'Melanoma',\n",
       " 'Meningoencephalitis',\n",
       " 'Mental Retardation, X-linked, Syndromic 13',\n",
       " 'Mercury Poisoning',\n",
       " 'Mesenteric Vascular Occlusion',\n",
       " 'Mesothelioma',\n",
       " 'Metabolic Syndrome X',\n",
       " 'Metachromatic Leukodystrophy, Infant',\n",
       " 'Methemoglobinemia',\n",
       " 'Microphthalmia, Isolated 4 (disorder)',\n",
       " 'Microphthalmia, Syndromic 6 (disorder)',\n",
       " 'Migraine Disorders',\n",
       " 'Mitochondrial Myopathies',\n",
       " 'Moyamoya Disease',\n",
       " 'Moyamoya Disease 1',\n",
       " 'Moyamoya Disease 2',\n",
       " 'Multicystic Renal Dysplasia, Bilateral',\n",
       " 'Multiple Sclerosis',\n",
       " 'Multiple Sclerosis, Relapsing-Remitting',\n",
       " 'Muscular Dystrophy, Animal',\n",
       " 'Muscular Dystrophy, Duchenne',\n",
       " 'Myelofibrosis',\n",
       " 'Myeloproliferative Disease',\n",
       " 'Myeloproliferative Syndrome, Transient',\n",
       " 'Myocardial Infarction',\n",
       " 'Myocardial Ischemia',\n",
       " 'Myocardial Stunning',\n",
       " 'Myocarditis',\n",
       " 'Myositis Ossificans',\n",
       " 'Naegeli Syndrome',\n",
       " 'Narcolepsy',\n",
       " 'Neonatal Diabetes Mellitus',\n",
       " 'Neoplasms, Radiation-induced',\n",
       " 'Nephroblastoma',\n",
       " 'Nephrogenic Fibrosing Dermopathy',\n",
       " 'Nesidioblastosis',\n",
       " 'Neurocognitive Disorders',\n",
       " 'Non-Small Cell Lung Carcinoma',\n",
       " 'Noninfiltrating Intraductal Carcinoma',\n",
       " 'Obesity',\n",
       " 'Obesity, Morbid',\n",
       " 'Obsessive-Compulsive Disorder',\n",
       " 'Ocular Hypertension',\n",
       " 'Oligospermia',\n",
       " 'Omodysplasia 2',\n",
       " 'Oral Submucous Fibrosis',\n",
       " 'Orofacial Cleft 11',\n",
       " 'Osteoporosis, Postmenopausal',\n",
       " 'Ovalocytosis, Hereditary Hemolytic',\n",
       " 'Ovarian Dysgenesis 2',\n",
       " 'Ovarian Failure, Premature',\n",
       " 'Ovarian Neoplasm',\n",
       " 'Pancreatic Agenesis, Congenital',\n",
       " 'Pancreatic Cancer, Adult',\n",
       " 'Pancreatic Carcinoma, Familial',\n",
       " 'Pancreatic Neoplasm',\n",
       " 'Pancreatitis',\n",
       " 'Pancytopenia',\n",
       " 'Panic Disorder',\n",
       " 'Paris-trousseau Thrombocytopenia',\n",
       " 'Paroxysmal Extreme Pain Disorder',\n",
       " 'Pasteurellaceae Infections',\n",
       " 'Peptic Ulcer',\n",
       " 'Periapical Periodontitis',\n",
       " 'Peripheral T-Cell Lymphoma',\n",
       " 'Peritoneal Fibrosis',\n",
       " 'Persistent Fetal Circulation Syndrome',\n",
       " 'Peyronie Disease',\n",
       " 'Phobic Anxiety Disorder',\n",
       " 'Pituitary Anomalies With Holoprosencephaly-like Features (disorder)',\n",
       " 'Pituitary Dwarfism I',\n",
       " 'Pituitary Dwarfism Type 3',\n",
       " 'Pituitary Hormone Deficiency, Combined, 3',\n",
       " 'Pleural Effusion Disorder',\n",
       " 'Pleurisy',\n",
       " 'Pleuropulmonary Blastoma',\n",
       " 'Polycystic Ovary Syndrome',\n",
       " 'Polycythemia',\n",
       " 'Polycythemia Vera',\n",
       " 'Polymyositis',\n",
       " 'Polyneuropathy',\n",
       " 'Polyposis Syndrome, Hereditary Mixed, 2',\n",
       " 'Porphyria, Erythropoietic',\n",
       " 'Postherpetic Neuralgia',\n",
       " 'Precocious Puberty',\n",
       " 'Pregnancy Complications, Cardiovascular',\n",
       " 'Premature Ovarian Failure 4',\n",
       " 'Prenatal Exposure Delayed Effects',\n",
       " 'Primary Erythermalgia',\n",
       " 'Primary Hypomagnesemia (Disorder)',\n",
       " 'Primary Myelofibrosis',\n",
       " 'Prostate Cancer, Familial',\n",
       " 'Prostate Cancer, Hereditary, 11',\n",
       " 'Prostatic Neoplasms',\n",
       " 'Protein Deficiency',\n",
       " 'Protoporphyria, Erythropoietic, X-linked Dominant',\n",
       " 'Pseudohermaphroditism, Female, With Hypokalemia, Due To Glucocorticoid Resistance',\n",
       " 'Pseudohyperkalemia Cardiff',\n",
       " 'Psoriasis',\n",
       " 'Puerperal Disorders',\n",
       " 'Pulmonary Alveolar Proteinosis',\n",
       " 'Pulmonary Embolism',\n",
       " 'Pulmonary Emphysema',\n",
       " 'Pulmonary Hypertension, Primary, Dexfenfluramine-associated',\n",
       " 'Pulmonary Hypertension, Primary, Fenfluramine-associated',\n",
       " 'Pulmonary Veno-Occlusive Disease (Disorder)',\n",
       " 'Pyloric Stenosis, Infantile Hypertrophic, 5',\n",
       " 'Pyruvate Dehydrogenase E3-binding Protein Deficiency',\n",
       " 'Rabson-mendenhall Syndrome',\n",
       " 'Reifenstein Syndrome',\n",
       " 'Renal Cysts And Diabetes Syndrome',\n",
       " 'Renal Insufficiency',\n",
       " 'Renal Tubular Acidosis',\n",
       " 'Renal Tubular Acidosis, Distal, Autosomal Recessive',\n",
       " 'Renal Tubular Acidosis, Distal, With Hemolytic Anemia (disorder)',\n",
       " 'Renal Tubular Acidosis, Distal, With Normal Red Cell Morphology',\n",
       " 'Reperfusion Injury',\n",
       " 'Restrictive Cardiomyopathy',\n",
       " 'Retinitis Pigmentosa',\n",
       " 'Retinitis Pigmentosa 1',\n",
       " 'Rett Syndrome',\n",
       " 'Rett Syndrome, Atypical',\n",
       " 'Rett Syndrome, Zappella Variant',\n",
       " 'Rhabdomyosarcoma, Embryonal, 2',\n",
       " 'Rheumatoid Arthritis',\n",
       " 'Rhinitis, Allergic, Perennial',\n",
       " 'Robinow Sorauf Syndrome',\n",
       " 'Rubinstein-Taybi Syndrome',\n",
       " 'Russell-Silver Syndrome',\n",
       " 'Saethre-Chotzen Syndrome',\n",
       " 'Saethre-chotzen Syndrome With Eyelid Anomalies',\n",
       " 'Sagittal Sinus Thrombosis',\n",
       " 'Salivary Gland Neoplasms',\n",
       " 'Sarcoma, Experimental',\n",
       " 'Scaphocephaly, Maxillary Retrusion, And Mental Retardation',\n",
       " 'Schistosomiasis Mansoni',\n",
       " 'Scrapie',\n",
       " 'Sea-blue Histiocyte Syndrome',\n",
       " 'Semilobar Holoprosencephaly',\n",
       " 'Sepsis',\n",
       " 'Serum Sickness',\n",
       " 'Sexual Infantilism',\n",
       " 'Sideroblastic Anemia',\n",
       " 'Silicosis',\n",
       " 'Sleep Wake Disorders',\n",
       " 'Small Cell Carcinoma Of Lung',\n",
       " 'Solitary Fibrous Tumor',\n",
       " 'Solitary Median Maxillary Central Incisor',\n",
       " 'Spastic Paraplegia 17',\n",
       " 'Spherocytosis, Type 3 (disorder)',\n",
       " 'Spherocytosis, Type 4',\n",
       " 'Squamous Cell Carcinoma Of Esophagus',\n",
       " 'Squamous Cell Neoplasms',\n",
       " 'Stapes Ankylosis With Broad Thumb And Toes (disorder)',\n",
       " 'Stomach Carcinoma',\n",
       " 'Stomach Neoplasms',\n",
       " 'Streptococcal Pneumonia',\n",
       " 'Substance Withdrawal Syndrome',\n",
       " 'T-cell Prolymphocytic Leukemia',\n",
       " 'Tachycardia, Ventricular',\n",
       " 'Tarsal-carpal Coalition Syndrome',\n",
       " 'Tetralogy Of Fallot',\n",
       " 'Thalassemia Intermedia',\n",
       " 'Thrombocythemia, Essential',\n",
       " 'Thrombocytopenia Paris-trousseau Type',\n",
       " 'Thrombocytopenia, Platelet Dysfunction, Hemolysis, And Imbalanced Globin Synthesis',\n",
       " 'Thrombocytosis',\n",
       " 'Thrombophilia, Familial, Due To Decreased Release Of Tissue Plasminogen Activator',\n",
       " 'Thyroid Neoplasm',\n",
       " 'Tnf Receptor-associated Periodic Fever Syndrome (traps)',\n",
       " 'Transient Myeloproliferative Disorder Of Down Syndrome',\n",
       " 'Trichotillomania',\n",
       " 'Turner Syndrome',\n",
       " 'Unilateral Multicystic Dysplastic Kidney',\n",
       " 'Ureteral Calculi',\n",
       " 'Ureteral Neoplasms',\n",
       " 'Ureteral Obstruction',\n",
       " 'Urinary Bladder Calculi (disorder)',\n",
       " 'Urticaria',\n",
       " 'Vater Association',\n",
       " 'Ventricular Fibrillation',\n",
       " 'Ventricular Outflow Obstruction',\n",
       " 'Von Hippel-Lindau Syndrome',\n",
       " 'Vulvar Lichen Sclerosus',\n",
       " 'Waardenburg Syndrome, Type Iid',\n",
       " 'Wagr Syndrome',\n",
       " 'Weber-Cockayne Syndrome',\n",
       " 'Wilms Tumor, Aniridia, Genitourinary Anomalies, Mental Retardation, And Obesity Syndrome',\n",
       " 'Xeroderma Pigmentosum',\n",
       " 'Xeroderma Pigmentosum, Variant Type'}"
      ]
     },
     "execution_count": 49,
     "metadata": {},
     "output_type": "execute_result"
    }
   ],
   "source": [
    "set(disease_matrix_p_val_df.columns)"
   ]
  },
  {
   "cell_type": "code",
   "execution_count": 47,
   "metadata": {
    "pycharm": {
     "is_executing": false,
     "name": "#%%\n"
    }
   },
   "outputs": [
    {
     "data": {
      "text/plain": [
       "{'5q,syndrome',\n",
       " 'abdominal obesity metabolic syndrome',\n",
       " 'agoraphobia',\n",
       " 'anemia, sideroblastic, and spinocerebellar ataxia',\n",
       " 'anterior myocardial infarction',\n",
       " 'anxiety',\n",
       " 'apolipoprotein c,ii deficiency (disorder)',\n",
       " 'asthma',\n",
       " 'atrial fibrillation, familial, 1 (disorder)',\n",
       " 'bronchitis',\n",
       " 'carcinoma, giant cell',\n",
       " 'carcinoma, small cell',\n",
       " 'cardiopulmonary arrest',\n",
       " 'carotid ulcer',\n",
       " 'cerebral cavernous malformations 2',\n",
       " 'cerebral embolism',\n",
       " 'cerebral infarction',\n",
       " 'cerebral vasospasm',\n",
       " 'chronic post,traumatic stress disorder',\n",
       " 'claustrophobia',\n",
       " 'combat disorders',\n",
       " 'common carotid artery thrombosis',\n",
       " 'congenital dyserythropoietic anemia',\n",
       " 'coronary occlusion',\n",
       " 'coronary restenosis',\n",
       " 'deficiency of pyruvate kinase',\n",
       " 'diabetes mellitus autosomal dominant type ii (disorder)',\n",
       " 'diabetes mellitus, insulin,dependent, 12',\n",
       " 'diabetes mellitus, insulin,dependent, 2',\n",
       " 'diabetes mellitus, insulin,dependent, 20 (disorder)',\n",
       " 'diabetes mellitus, insulin,dependent, 4',\n",
       " 'diabetes mellitus, insulin,dependent, 5',\n",
       " 'diabetes mellitus, insulin,dependent, 7',\n",
       " 'diabetes mellitus, insulin,dependent, 8',\n",
       " 'diabetes mellitus, neonatal, with congenital hypothyroidism',\n",
       " 'diabetes mellitus, permanent neonatal',\n",
       " 'diabetes mellitus, transient neonatal, 3 (disorder)',\n",
       " 'diabetic ketoacidosis',\n",
       " 'diamond,blackfan anemia 7',\n",
       " 'dysthymic disorder',\n",
       " 'erythroblastosis, fetal',\n",
       " 'erythrocytosis, familial, 2',\n",
       " 'estren,dameshek variant of fanconi pancytopenia',\n",
       " 'familial erythrocytosis',\n",
       " 'fanconi anemia, complementation group d1',\n",
       " 'fanconi anemia, complementation group i',\n",
       " 'fanconi anemia, complementation group j',\n",
       " 'fanconi anemia, complementation group n',\n",
       " 'gestational diabetes',\n",
       " 'heart failure, diastolic',\n",
       " 'heart failure, systolic',\n",
       " 'hereditary sideroblastic anemia',\n",
       " 'hypercholesterolemia, autosomal recessive',\n",
       " 'hyperlipidemia, familial combined',\n",
       " 'hyperlipoproteinemia type iii',\n",
       " 'hyperlipoproteinemia type iv',\n",
       " 'hyperlipoproteinemia type v',\n",
       " 'impaired glucose tolerance',\n",
       " 'iron deficiency anemia',\n",
       " 'kernicterus',\n",
       " 'lateral medullary syndrome',\n",
       " 'lateral sinus thrombosis',\n",
       " 'leukoerythroblastic anemia',\n",
       " 'lipoatrophic diabetes mellitus',\n",
       " 'maturity,onset diabetes of the young, type 1',\n",
       " 'maturity,onset diabetes of the young, type 3 (disorder)',\n",
       " 'maturity,onset diabetes of the young, type 6 (disorder)',\n",
       " 'maturity,onset diabetes of the young, type 7 (disorder)',\n",
       " 'maturity,onset diabetes of the young, type 8, with exocrine dysfunction',\n",
       " 'maturity,onset diabetes of the young, type 9 (disorder)',\n",
       " 'maturity,onset diabetes of the young, type iv (disorder)',\n",
       " 'megaloblastic anemia due to inborn errors of metabolism',\n",
       " 'melancholia',\n",
       " 'methemoglobinemia',\n",
       " 'moyamoya disease 1',\n",
       " 'myocardial infarction',\n",
       " 'myocardial preinfarction syndrome',\n",
       " 'myocardial stunning',\n",
       " 'obesity, morbid',\n",
       " 'obsessive,compulsive disorder',\n",
       " 'pancytopenia',\n",
       " 'panic disorder',\n",
       " 'persistent fetal circulation syndrome',\n",
       " 'phobic anxiety disorder',\n",
       " 'pleuropulmonary blastoma',\n",
       " 'polycythemia vera',\n",
       " 'pulmonary hypertension, primary, fenfluramine,associated',\n",
       " 'pulmonary veno,occlusive disease (disorder)',\n",
       " 'pure red,cell aplasia',\n",
       " 'reactive depression',\n",
       " 'renal cysts and diabetes syndrome',\n",
       " 'rh deficiency syndrome',\n",
       " 'sagittal sinus thrombophlebitis',\n",
       " 'sleep apnea, mixed central and obstructive',\n",
       " 'spherocytosis, type 1 (disorder)',\n",
       " 'spherocytosis, type 3 (disorder)',\n",
       " 'spherocytosis, type 4',\n",
       " 'spherocytosis, type 5',\n",
       " 'status asthmaticus',\n",
       " 'stress disorders, traumatic, acute',\n",
       " 'thrombotic infarction, middle cerebral artery'}"
      ]
     },
     "execution_count": 47,
     "metadata": {},
     "output_type": "execute_result"
    }
   ],
   "source": [
    "#TODO here>> check if columns in the matrix has copd_diseases_dict in it\n",
    "set(copd_name).difference(set(disease_matrix_p_val_df.columns))"
   ]
  },
  {
   "cell_type": "code",
   "execution_count": null,
   "metadata": {
    "pycharm": {
     "name": "#%%\n"
    }
   },
   "outputs": [],
   "source": [
    "\n",
    "\n"
   ]
  }
 ],
 "metadata": {
  "kernelspec": {
   "display_name": "Python 3",
   "language": "python",
   "name": "python3"
  },
  "language_info": {
   "codemirror_mode": {
    "name": "ipython",
    "version": 3
   },
   "file_extension": ".py",
   "mimetype": "text/x-python",
   "name": "python",
   "nbconvert_exporter": "python",
   "pygments_lexer": "ipython3",
   "version": "3.7.3"
  },
  "pycharm": {
   "stem_cell": {
    "cell_type": "raw",
    "source": [],
    "metadata": {
     "collapsed": false
    }
   }
  }
 },
 "nbformat": 4,
 "nbformat_minor": 2
}