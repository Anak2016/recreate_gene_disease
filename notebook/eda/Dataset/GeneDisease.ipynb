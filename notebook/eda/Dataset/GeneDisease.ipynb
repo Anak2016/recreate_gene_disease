{
 "cells": [
  {
   "cell_type": "code",
   "execution_count": 1,
   "metadata": {
    "pycharm": {
     "is_executing": false,
     "name": "#%%\n"
    }
   },
   "outputs": [],
   "source": [
    "\n",
    "import os.path\n",
    "\n",
    "import pandas as pd \n",
    "import numpy as np"
   ]
  },
  {
   "cell_type": "code",
   "execution_count": 2,
   "metadata": {
    "pycharm": {
     "is_executing": false,
     "name": "#%%\n"
    }
   },
   "outputs": [
    {
     "data": {
      "text/plain": [
       "'C:\\\\Users\\\\Anak\\\\PycharmProjects\\\\recreate_gene_disease\\\\notebook\\\\eda\\\\Dataset'"
      ]
     },
     "execution_count": 2,
     "metadata": {},
     "output_type": "execute_result"
    }
   ],
   "source": [
    "os.getcwd()"
   ]
  },
  {
   "cell_type": "code",
   "execution_count": 3,
   "metadata": {
    "pycharm": {
     "is_executing": false,
     "name": "#%%\n"
    }
   },
   "outputs": [
    {
     "data": {
      "text/html": [
       "<div>\n",
       "<style scoped>\n",
       "    .dataframe tbody tr th:only-of-type {\n",
       "        vertical-align: middle;\n",
       "    }\n",
       "\n",
       "    .dataframe tbody tr th {\n",
       "        vertical-align: top;\n",
       "    }\n",
       "\n",
       "    .dataframe thead th {\n",
       "        text-align: right;\n",
       "    }\n",
       "</style>\n",
       "<table border=\"1\" class=\"dataframe\">\n",
       "  <thead>\n",
       "    <tr style=\"text-align: right;\">\n",
       "      <th></th>\n",
       "      <th>geneId</th>\n",
       "      <th>geneSymbol</th>\n",
       "      <th>diseaseId</th>\n",
       "      <th>diseaseName</th>\n",
       "      <th>diseaseClass</th>\n",
       "      <th>pmid</th>\n",
       "      <th>source</th>\n",
       "      <th>class</th>\n",
       "    </tr>\n",
       "  </thead>\n",
       "  <tbody>\n",
       "    <tr>\n",
       "      <th>0</th>\n",
       "      <td>2</td>\n",
       "      <td>A2M</td>\n",
       "      <td>C0027051</td>\n",
       "      <td>Myocardial Infarction</td>\n",
       "      <td>C14</td>\n",
       "      <td>18382889</td>\n",
       "      <td>LHGDN</td>\n",
       "      <td>3</td>\n",
       "    </tr>\n",
       "    <tr>\n",
       "      <th>1</th>\n",
       "      <td>2</td>\n",
       "      <td>A2M</td>\n",
       "      <td>C0004096</td>\n",
       "      <td>Asthma</td>\n",
       "      <td>C08;C20</td>\n",
       "      <td>7682483</td>\n",
       "      <td>BEFREE</td>\n",
       "      <td>0</td>\n",
       "    </tr>\n",
       "    <tr>\n",
       "      <th>2</th>\n",
       "      <td>9</td>\n",
       "      <td>NAT1</td>\n",
       "      <td>C0004096</td>\n",
       "      <td>Asthma</td>\n",
       "      <td>C08;C20</td>\n",
       "      <td>11927838</td>\n",
       "      <td>LHGDN</td>\n",
       "      <td>0</td>\n",
       "    </tr>\n",
       "    <tr>\n",
       "      <th>3</th>\n",
       "      <td>10</td>\n",
       "      <td>NAT2</td>\n",
       "      <td>C0004096</td>\n",
       "      <td>Asthma</td>\n",
       "      <td>C08;C20</td>\n",
       "      <td>20602614</td>\n",
       "      <td>BEFREE</td>\n",
       "      <td>0</td>\n",
       "    </tr>\n",
       "    <tr>\n",
       "      <th>4</th>\n",
       "      <td>10</td>\n",
       "      <td>NAT2</td>\n",
       "      <td>C0004096</td>\n",
       "      <td>Asthma</td>\n",
       "      <td>C08;C20</td>\n",
       "      <td>16886893</td>\n",
       "      <td>BEFREE</td>\n",
       "      <td>0</td>\n",
       "    </tr>\n",
       "  </tbody>\n",
       "</table>\n",
       "</div>"
      ],
      "text/plain": [
       "   geneId geneSymbol diseaseId            diseaseName diseaseClass      pmid  \\\n",
       "0       2        A2M  C0027051  Myocardial Infarction          C14  18382889   \n",
       "1       2        A2M  C0004096                 Asthma      C08;C20   7682483   \n",
       "2       9       NAT1  C0004096                 Asthma      C08;C20  11927838   \n",
       "3      10       NAT2  C0004096                 Asthma      C08;C20  20602614   \n",
       "4      10       NAT2  C0004096                 Asthma      C08;C20  16886893   \n",
       "\n",
       "   source  class  \n",
       "0   LHGDN      3  \n",
       "1  BEFREE      0  \n",
       "2   LHGDN      0  \n",
       "3  BEFREE      0  \n",
       "4  BEFREE      0  "
      ]
     },
     "execution_count": 3,
     "metadata": {},
     "output_type": "execute_result"
    }
   ],
   "source": [
    "copd_file = 'copd_label07_14_19_46.txt'\n",
    "file_path = f'C:/Users/Anak/PycharmProjects/recreate_gene_disease/Data/raw/GeneDiseaseProject/COPD/Nodes/{copd_file}'\n",
    "copd_df = pd.read_csv(file_path,sep=',')\n",
    "copd_df.head()"
   ]
  },
  {
   "cell_type": "code",
   "execution_count": 4,
   "metadata": {
    "pycharm": {
     "is_executing": false,
     "name": "#%%\n"
    }
   },
   "outputs": [
    {
     "data": {
      "text/plain": [
       "(14914, 8)"
      ]
     },
     "execution_count": 4,
     "metadata": {},
     "output_type": "execute_result"
    }
   ],
   "source": [
    "copd_df.shape"
   ]
  },
  {
   "cell_type": "code",
   "execution_count": 5,
   "metadata": {
    "pycharm": {
     "is_executing": false,
     "name": "#%% \n"
    }
   },
   "outputs": [
    {
     "data": {
      "text/plain": [
       "array(['C0027051', 'C0004096', 'C0271650', 'C0007785', 'C0031190'],\n",
       "      dtype=object)"
      ]
     },
     "execution_count": 5,
     "metadata": {},
     "output_type": "execute_result"
    }
   ],
   "source": [
    "disease_cui_series = copd_df['diseaseId'].unique()\n",
    "disease_cui_series[:5]"
   ]
  },
  {
   "cell_type": "markdown",
   "metadata": {},
   "source": [
    "DISEASE MAPPING"
   ]
  },
  {
   "cell_type": "code",
   "execution_count": 6,
   "metadata": {
    "pycharm": {
     "is_executing": false,
     "name": "#%%\n"
    }
   },
   "outputs": [
    {
     "data": {
      "text/plain": [
       "(97502, 5)"
      ]
     },
     "execution_count": 6,
     "metadata": {},
     "output_type": "execute_result"
    }
   ],
   "source": [
    "disease_mappings_file_path = f'C:/Users/Anak/PycharmProjects/recreate_gene_disease/Data/raw/DisGeNET/mapping/disease_mappings.tsv'\n",
    "disease_mapping_df = pd.read_csv(disease_mappings_file_path,sep='|')\n",
    "disease_mapping_df.shape"
   ]
  },
  {
   "cell_type": "code",
   "execution_count": 7,
   "metadata": {
    "pycharm": {
     "is_executing": false,
     "name": "#%%\n"
    }
   },
   "outputs": [
    {
     "data": {
      "text/plain": [
       "Index(['diseaseId', 'name', 'vocabulary', 'code', 'vocabularyName'], dtype='object')"
      ]
     },
     "execution_count": 7,
     "metadata": {},
     "output_type": "execute_result"
    }
   ],
   "source": [
    "disease_mapping_df.columns\n",
    "    "
   ]
  },
  {
   "cell_type": "code",
   "execution_count": 8,
   "metadata": {
    "pycharm": {
     "is_executing": false,
     "name": "#%%\n"
    },
    "scrolled": true
   },
   "outputs": [
    {
     "data": {
      "text/html": [
       "<div>\n",
       "<style scoped>\n",
       "    .dataframe tbody tr th:only-of-type {\n",
       "        vertical-align: middle;\n",
       "    }\n",
       "\n",
       "    .dataframe tbody tr th {\n",
       "        vertical-align: top;\n",
       "    }\n",
       "\n",
       "    .dataframe thead th {\n",
       "        text-align: right;\n",
       "    }\n",
       "</style>\n",
       "<table border=\"1\" class=\"dataframe\">\n",
       "  <thead>\n",
       "    <tr style=\"text-align: right;\">\n",
       "      <th></th>\n",
       "      <th>vocabulary</th>\n",
       "      <th>code</th>\n",
       "    </tr>\n",
       "  </thead>\n",
       "  <tbody>\n",
       "    <tr>\n",
       "      <th>0</th>\n",
       "      <td>DO</td>\n",
       "      <td>0001816</td>\n",
       "    </tr>\n",
       "    <tr>\n",
       "      <th>1</th>\n",
       "      <td>DO</td>\n",
       "      <td>0001816</td>\n",
       "    </tr>\n",
       "    <tr>\n",
       "      <th>2</th>\n",
       "      <td>DO</td>\n",
       "      <td>0002116</td>\n",
       "    </tr>\n",
       "    <tr>\n",
       "      <th>3</th>\n",
       "      <td>DO</td>\n",
       "      <td>0002116</td>\n",
       "    </tr>\n",
       "    <tr>\n",
       "      <th>4</th>\n",
       "      <td>DO</td>\n",
       "      <td>0014667</td>\n",
       "    </tr>\n",
       "  </tbody>\n",
       "</table>\n",
       "</div>"
      ],
      "text/plain": [
       "  vocabulary     code\n",
       "0         DO  0001816\n",
       "1         DO  0001816\n",
       "2         DO  0002116\n",
       "3         DO  0002116\n",
       "4         DO  0014667"
      ]
     },
     "execution_count": 8,
     "metadata": {},
     "output_type": "execute_result"
    }
   ],
   "source": [
    "disease_mapping_df[['vocabulary', 'code']].head()"
   ]
  },
  {
   "cell_type": "code",
   "execution_count": 9,
   "metadata": {
    "pycharm": {
     "is_executing": false,
     "name": "#%%\n"
    }
   },
   "outputs": [
    {
     "data": {
      "text/html": [
       "<div>\n",
       "<style scoped>\n",
       "    .dataframe tbody tr th:only-of-type {\n",
       "        vertical-align: middle;\n",
       "    }\n",
       "\n",
       "    .dataframe tbody tr th {\n",
       "        vertical-align: top;\n",
       "    }\n",
       "\n",
       "    .dataframe thead th {\n",
       "        text-align: right;\n",
       "    }\n",
       "</style>\n",
       "<table border=\"1\" class=\"dataframe\">\n",
       "  <thead>\n",
       "    <tr style=\"text-align: right;\">\n",
       "      <th></th>\n",
       "      <th>diseaseId</th>\n",
       "      <th>name</th>\n",
       "      <th>vocabulary</th>\n",
       "      <th>code</th>\n",
       "      <th>vocabularyName</th>\n",
       "    </tr>\n",
       "  </thead>\n",
       "  <tbody>\n",
       "    <tr>\n",
       "      <th>285</th>\n",
       "      <td>C1845028</td>\n",
       "      <td>ANEMIA, SIDEROBLASTIC, AND SPINOCEREBELLAR ATAXIA</td>\n",
       "      <td>DO</td>\n",
       "      <td>0050554</td>\n",
       "      <td>X-linked sideroblastic anemia with ataxia</td>\n",
       "    </tr>\n",
       "    <tr>\n",
       "      <th>496</th>\n",
       "      <td>C0272052</td>\n",
       "      <td>Rh Deficiency Syndrome</td>\n",
       "      <td>DO</td>\n",
       "      <td>0050641</td>\n",
       "      <td>Rh deficiency syndrome</td>\n",
       "    </tr>\n",
       "    <tr>\n",
       "      <th>538</th>\n",
       "      <td>C1843687</td>\n",
       "      <td>ATRIAL FIBRILLATION, FAMILIAL, 1 (disorder)</td>\n",
       "      <td>DO</td>\n",
       "      <td>0050650</td>\n",
       "      <td>familial atrial fibrillation</td>\n",
       "    </tr>\n",
       "    <tr>\n",
       "      <th>888</th>\n",
       "      <td>C0338495</td>\n",
       "      <td>Sleep Apnea, Mixed Central and Obstructive</td>\n",
       "      <td>DO</td>\n",
       "      <td>0050848</td>\n",
       "      <td>obstructive sleep apnea</td>\n",
       "    </tr>\n",
       "    <tr>\n",
       "      <th>1017</th>\n",
       "      <td>C0221018</td>\n",
       "      <td>Hereditary sideroblastic anemia</td>\n",
       "      <td>DO</td>\n",
       "      <td>0060063</td>\n",
       "      <td>X-linked sideroblastic anemia</td>\n",
       "    </tr>\n",
       "  </tbody>\n",
       "</table>\n",
       "</div>"
      ],
      "text/plain": [
       "     diseaseId                                               name vocabulary  \\\n",
       "285   C1845028  ANEMIA, SIDEROBLASTIC, AND SPINOCEREBELLAR ATAXIA         DO   \n",
       "496   C0272052                             Rh Deficiency Syndrome         DO   \n",
       "538   C1843687        ATRIAL FIBRILLATION, FAMILIAL, 1 (disorder)         DO   \n",
       "888   C0338495         Sleep Apnea, Mixed Central and Obstructive         DO   \n",
       "1017  C0221018                    Hereditary sideroblastic anemia         DO   \n",
       "\n",
       "         code                             vocabularyName  \n",
       "285   0050554  X-linked sideroblastic anemia with ataxia  \n",
       "496   0050641                     Rh deficiency syndrome  \n",
       "538   0050650               familial atrial fibrillation  \n",
       "888   0050848                    obstructive sleep apnea  \n",
       "1017  0060063              X-linked sideroblastic anemia  "
      ]
     },
     "execution_count": 9,
     "metadata": {},
     "output_type": "execute_result"
    }
   ],
   "source": [
    "# disease_cui_series = 'C0018923'\n",
    "disease_doid = disease_mapping_df[(disease_mapping_df['vocabulary'] =='DO') & (disease_mapping_df['diseaseId'].isin(disease_cui_series))]\n",
    "disease_doid.head()"
   ]
  },
  {
   "cell_type": "code",
   "execution_count": 10,
   "metadata": {
    "pycharm": {
     "is_executing": false,
     "name": "#%% \n"
    }
   },
   "outputs": [
    {
     "data": {
      "text/plain": [
       "array(['0050554', '0050641', '0050650', '0050848', '0060063', '0060319',\n",
       "       '0060334', '0060474', '0060638', '0060639', '0060652', '0060670',\n",
       "       '0090016', '0090105', '0110741', '0110743', '0110744', '0110746',\n",
       "       '0110747', '0110751', '0110757', '0110916', '0110918', '0110919',\n",
       "       '0110920', '0111077', '0111089', '0111091', '0111094', '0111095',\n",
       "       '0111097', '0111099', '0111100', '0111101', '0111102', '0111103',\n",
       "       '0111104', '0111105', '0111106', '0111107', '10127', '10241',\n",
       "       '10603', '10780', '10783', '10933', '1098', '11244', '11252',\n",
       "       '11257', '1171', '11712', '11714', '11716', '1172', '11759',\n",
       "       '11847', '11981', '12043', '12139', '12450', '12451', '13001',\n",
       "       '13042', '13099', '13100', '13121', '1338', '13381', '13382',\n",
       "       '1339', '1340', '13809', '14118', '14221', '14320', '14557',\n",
       "       '1595', '1596', '1837', '2030', '2055', '224', '2354', '2382',\n",
       "       '2841', '2848', '3145', '3410', '3522', '3523', '3525', '3526',\n",
       "       '3574', '3576', '3721', '4247', '4372', '4769', '4964', '5411',\n",
       "       '5453', '5583', '5844', '5845', '5854', '5855', '591', '593',\n",
       "       '594', '599', '600', '605', '6132', '6713', '6950', '718', '811',\n",
       "       '8432', '8805', '8997', '9351', '9360', '9362', '9408', '9415',\n",
       "       '9478', '9651', '9767', '9775'], dtype=object)"
      ]
     },
     "execution_count": 10,
     "metadata": {},
     "output_type": "execute_result"
    }
   ],
   "source": [
    "disease_doid_uniq =   disease_doid['code'].unique() \n",
    "disease_doid_uniq\n",
    "\n",
    "# disease_mapping_df[(disease_mapping_df['vocabulary'] =='DO') \n",
    "\n"
   ]
  },
  {
   "cell_type": "code",
   "execution_count": 11,
   "metadata": {
    "pycharm": {
     "is_executing": false,
     "name": "#%%\n"
    }
   },
   "outputs": [
    {
     "data": {
      "text/plain": [
       "(130,)"
      ]
     },
     "execution_count": 11,
     "metadata": {},
     "output_type": "execute_result"
    }
   ],
   "source": [
    "disease_doid_uniq.shape"
   ]
  },
  {
   "cell_type": "code",
   "execution_count": 12,
   "metadata": {
    "pycharm": {
     "is_executing": false,
     "name": "#%%\n"
    }
   },
   "outputs": [
    {
     "data": {
      "text/plain": [
       "0    C0018923\n",
       "1    C0854893\n",
       "2    C0033999\n",
       "3    C4520843\n",
       "4    C0024814\n",
       "Name: diseaseId, dtype: object"
      ]
     },
     "execution_count": 12,
     "metadata": {},
     "output_type": "execute_result"
    }
   ],
   "source": [
    "disease_mapping_df['diseaseId'].head()\n"
   ]
  },
  {
   "cell_type": "markdown",
   "metadata": {
    "pycharm": {
     "name": "#%% md\n"
    }
   },
   "source": [
    "# save disease_doid dataframe to .csv "
   ]
  },
  {
   "cell_type": "markdown",
   "metadata": {
    "pycharm": {
     "name": "#%% md\n"
    }
   },
   "source": [
    "## combine disease_doid['vocabulary'] and disease_doid['code'] => DOID:<code>\n"
   ]
  },
  {
   "cell_type": "code",
   "execution_count": 13,
   "metadata": {
    "pycharm": {
     "is_executing": false,
     "name": "#%%\n"
    }
   },
   "outputs": [
    {
     "data": {
      "text/plain": [
       "Index(['diseaseId', 'name', 'vocabulary', 'code', 'vocabularyName'], dtype='object')"
      ]
     },
     "execution_count": 13,
     "metadata": {},
     "output_type": "execute_result"
    }
   ],
   "source": [
    "disease_doid.columns"
   ]
  },
  {
   "cell_type": "code",
   "execution_count": 14,
   "metadata": {
    "pycharm": {
     "is_executing": false,
     "name": "#%%\n"
    }
   },
   "outputs": [
    {
     "name": "stderr",
     "output_type": "stream",
     "text": [
      "C:\\Users\\Anak\\Anaconda3\\lib\\site-packages\\ipykernel_launcher.py:1: SettingWithCopyWarning: \n",
      "A value is trying to be set on a copy of a slice from a DataFrame.\n",
      "Try using .loc[row_indexer,col_indexer] = value instead\n",
      "\n",
      "See the caveats in the documentation: http://pandas.pydata.org/pandas-docs/stable/indexing.html#indexing-view-versus-copy\n",
      "  \"\"\"Entry point for launching an IPython kernel.\n"
     ]
    },
    {
     "data": {
      "text/html": [
       "<div>\n",
       "<style scoped>\n",
       "    .dataframe tbody tr th:only-of-type {\n",
       "        vertical-align: middle;\n",
       "    }\n",
       "\n",
       "    .dataframe tbody tr th {\n",
       "        vertical-align: top;\n",
       "    }\n",
       "\n",
       "    .dataframe thead th {\n",
       "        text-align: right;\n",
       "    }\n",
       "</style>\n",
       "<table border=\"1\" class=\"dataframe\">\n",
       "  <thead>\n",
       "    <tr style=\"text-align: right;\">\n",
       "      <th></th>\n",
       "      <th>diseaseId</th>\n",
       "      <th>name</th>\n",
       "      <th>doid</th>\n",
       "      <th>vocabularyName</th>\n",
       "    </tr>\n",
       "  </thead>\n",
       "  <tbody>\n",
       "    <tr>\n",
       "      <th>285</th>\n",
       "      <td>C1845028</td>\n",
       "      <td>ANEMIA, SIDEROBLASTIC, AND SPINOCEREBELLAR ATAXIA</td>\n",
       "      <td>DOID:0050554</td>\n",
       "      <td>X-linked sideroblastic anemia with ataxia</td>\n",
       "    </tr>\n",
       "    <tr>\n",
       "      <th>496</th>\n",
       "      <td>C0272052</td>\n",
       "      <td>Rh Deficiency Syndrome</td>\n",
       "      <td>DOID:0050641</td>\n",
       "      <td>Rh deficiency syndrome</td>\n",
       "    </tr>\n",
       "    <tr>\n",
       "      <th>538</th>\n",
       "      <td>C1843687</td>\n",
       "      <td>ATRIAL FIBRILLATION, FAMILIAL, 1 (disorder)</td>\n",
       "      <td>DOID:0050650</td>\n",
       "      <td>familial atrial fibrillation</td>\n",
       "    </tr>\n",
       "    <tr>\n",
       "      <th>888</th>\n",
       "      <td>C0338495</td>\n",
       "      <td>Sleep Apnea, Mixed Central and Obstructive</td>\n",
       "      <td>DOID:0050848</td>\n",
       "      <td>obstructive sleep apnea</td>\n",
       "    </tr>\n",
       "    <tr>\n",
       "      <th>1017</th>\n",
       "      <td>C0221018</td>\n",
       "      <td>Hereditary sideroblastic anemia</td>\n",
       "      <td>DOID:0060063</td>\n",
       "      <td>X-linked sideroblastic anemia</td>\n",
       "    </tr>\n",
       "  </tbody>\n",
       "</table>\n",
       "</div>"
      ],
      "text/plain": [
       "     diseaseId                                               name  \\\n",
       "285   C1845028  ANEMIA, SIDEROBLASTIC, AND SPINOCEREBELLAR ATAXIA   \n",
       "496   C0272052                             Rh Deficiency Syndrome   \n",
       "538   C1843687        ATRIAL FIBRILLATION, FAMILIAL, 1 (disorder)   \n",
       "888   C0338495         Sleep Apnea, Mixed Central and Obstructive   \n",
       "1017  C0221018                    Hereditary sideroblastic anemia   \n",
       "\n",
       "              doid                             vocabularyName  \n",
       "285   DOID:0050554  X-linked sideroblastic anemia with ataxia  \n",
       "496   DOID:0050641                     Rh deficiency syndrome  \n",
       "538   DOID:0050650               familial atrial fibrillation  \n",
       "888   DOID:0050848                    obstructive sleep apnea  \n",
       "1017  DOID:0060063              X-linked sideroblastic anemia  "
      ]
     },
     "execution_count": 14,
     "metadata": {},
     "output_type": "execute_result"
    }
   ],
   "source": [
    "disease_doid['doid'] = disease_doid['vocabulary'] + 'ID' + \":\"  + disease_doid['code'] \n",
    "disease_doid_convert_to_csv = disease_doid[['diseaseId', 'name', 'doid', 'vocabularyName']]\n",
    "disease_doid_convert_to_csv.head()"
   ]
  },
  {
   "cell_type": "code",
   "execution_count": 15,
   "metadata": {
    "pycharm": {
     "is_executing": false,
     "name": "#%%\n"
    }
   },
   "outputs": [
    {
     "data": {
      "text/plain": [
       "Index(['diseaseId', 'name', 'doid', 'vocabularyName'], dtype='object')"
      ]
     },
     "execution_count": 15,
     "metadata": {},
     "output_type": "execute_result"
    }
   ],
   "source": [
    "disease_doid_convert_to_csv.columns"
   ]
  },
  {
   "cell_type": "code",
   "execution_count": 16,
   "metadata": {
    "pycharm": {
     "is_executing": false,
     "name": "#%%\n"
    }
   },
   "outputs": [],
   "source": [
    "# disease_doid_convert_to_csv.to_csv(r'C:\\Users\\Anak\\PycharmProjects\\recreate_gene_disease\\Data\\raw\\GeneDiseaseProject\\COPD\\copd_doid.csv', index=False)\n",
    "\n"
   ]
  },
  {
   "cell_type": "code",
   "execution_count": 17,
   "metadata": {
    "pycharm": {
     "is_executing": false,
     "name": "#%%\n"
    }
   },
   "outputs": [
    {
     "data": {
      "text/plain": [
       "(139, 4)"
      ]
     },
     "execution_count": 17,
     "metadata": {},
     "output_type": "execute_result"
    }
   ],
   "source": [
    "disease_doid_convert_to_csv.shape\n"
   ]
  },
  {
   "cell_type": "code",
   "execution_count": 18,
   "metadata": {
    "pycharm": {
     "is_executing": false,
     "name": "#%%\n"
    }
   },
   "outputs": [
    {
     "data": {
      "text/html": [
       "<div>\n",
       "<style scoped>\n",
       "    .dataframe tbody tr th:only-of-type {\n",
       "        vertical-align: middle;\n",
       "    }\n",
       "\n",
       "    .dataframe tbody tr th {\n",
       "        vertical-align: top;\n",
       "    }\n",
       "\n",
       "    .dataframe thead th {\n",
       "        text-align: right;\n",
       "    }\n",
       "</style>\n",
       "<table border=\"1\" class=\"dataframe\">\n",
       "  <thead>\n",
       "    <tr style=\"text-align: right;\">\n",
       "      <th></th>\n",
       "      <th>diseaseId</th>\n",
       "      <th>name</th>\n",
       "      <th>doid</th>\n",
       "      <th>vocabularyName</th>\n",
       "    </tr>\n",
       "  </thead>\n",
       "  <tbody>\n",
       "    <tr>\n",
       "      <th>285</th>\n",
       "      <td>C1845028</td>\n",
       "      <td>ANEMIA, SIDEROBLASTIC, AND SPINOCEREBELLAR ATAXIA</td>\n",
       "      <td>DOID:0050554</td>\n",
       "      <td>X-linked sideroblastic anemia with ataxia</td>\n",
       "    </tr>\n",
       "    <tr>\n",
       "      <th>496</th>\n",
       "      <td>C0272052</td>\n",
       "      <td>Rh Deficiency Syndrome</td>\n",
       "      <td>DOID:0050641</td>\n",
       "      <td>Rh deficiency syndrome</td>\n",
       "    </tr>\n",
       "    <tr>\n",
       "      <th>538</th>\n",
       "      <td>C1843687</td>\n",
       "      <td>ATRIAL FIBRILLATION, FAMILIAL, 1 (disorder)</td>\n",
       "      <td>DOID:0050650</td>\n",
       "      <td>familial atrial fibrillation</td>\n",
       "    </tr>\n",
       "    <tr>\n",
       "      <th>888</th>\n",
       "      <td>C0338495</td>\n",
       "      <td>Sleep Apnea, Mixed Central and Obstructive</td>\n",
       "      <td>DOID:0050848</td>\n",
       "      <td>obstructive sleep apnea</td>\n",
       "    </tr>\n",
       "    <tr>\n",
       "      <th>1017</th>\n",
       "      <td>C0221018</td>\n",
       "      <td>Hereditary sideroblastic anemia</td>\n",
       "      <td>DOID:0060063</td>\n",
       "      <td>X-linked sideroblastic anemia</td>\n",
       "    </tr>\n",
       "  </tbody>\n",
       "</table>\n",
       "</div>"
      ],
      "text/plain": [
       "     diseaseId                                               name  \\\n",
       "285   C1845028  ANEMIA, SIDEROBLASTIC, AND SPINOCEREBELLAR ATAXIA   \n",
       "496   C0272052                             Rh Deficiency Syndrome   \n",
       "538   C1843687        ATRIAL FIBRILLATION, FAMILIAL, 1 (disorder)   \n",
       "888   C0338495         Sleep Apnea, Mixed Central and Obstructive   \n",
       "1017  C0221018                    Hereditary sideroblastic anemia   \n",
       "\n",
       "              doid                             vocabularyName  \n",
       "285   DOID:0050554  X-linked sideroblastic anemia with ataxia  \n",
       "496   DOID:0050641                     Rh deficiency syndrome  \n",
       "538   DOID:0050650               familial atrial fibrillation  \n",
       "888   DOID:0050848                    obstructive sleep apnea  \n",
       "1017  DOID:0060063              X-linked sideroblastic anemia  "
      ]
     },
     "execution_count": 18,
     "metadata": {},
     "output_type": "execute_result"
    }
   ],
   "source": [
    "disease_doid_convert_to_csv.head()"
   ]
  },
  {
   "cell_type": "markdown",
   "metadata": {
    "pycharm": {
     "is_executing": false,
     "name": "#%% md\n"
    }
   },
   "source": [
    "# get 1:many of doid:cui"
   ]
  },
  {
   "cell_type": "code",
   "execution_count": 19,
   "metadata": {
    "pycharm": {
     "is_executing": false,
     "name": "#%%\n"
    }
   },
   "outputs": [
    {
     "data": {
      "text/html": [
       "<div>\n",
       "<style scoped>\n",
       "    .dataframe tbody tr th:only-of-type {\n",
       "        vertical-align: middle;\n",
       "    }\n",
       "\n",
       "    .dataframe tbody tr th {\n",
       "        vertical-align: top;\n",
       "    }\n",
       "\n",
       "    .dataframe thead th {\n",
       "        text-align: right;\n",
       "    }\n",
       "</style>\n",
       "<table border=\"1\" class=\"dataframe\">\n",
       "  <thead>\n",
       "    <tr style=\"text-align: right;\">\n",
       "      <th></th>\n",
       "      <th>diseaseId</th>\n",
       "      <th>name</th>\n",
       "      <th>doid</th>\n",
       "      <th>vocabularyName</th>\n",
       "    </tr>\n",
       "  </thead>\n",
       "  <tbody>\n",
       "    <tr>\n",
       "      <th>1524</th>\n",
       "      <td>C0342277</td>\n",
       "      <td>Diabetes mellitus autosomal dominant type II (...</td>\n",
       "      <td>DOID:0060334</td>\n",
       "      <td>transient neonatal diabetes mellitus</td>\n",
       "    </tr>\n",
       "    <tr>\n",
       "      <th>1526</th>\n",
       "      <td>C1864623</td>\n",
       "      <td>DIABETES MELLITUS, TRANSIENT NEONATAL, 3 (diso...</td>\n",
       "      <td>DOID:0060334</td>\n",
       "      <td>transient neonatal diabetes mellitus</td>\n",
       "    </tr>\n",
       "    <tr>\n",
       "      <th>7261</th>\n",
       "      <td>C0008909</td>\n",
       "      <td>Claustrophobia</td>\n",
       "      <td>DOID:11257</td>\n",
       "      <td>social phobia</td>\n",
       "    </tr>\n",
       "    <tr>\n",
       "      <th>7262</th>\n",
       "      <td>C0349231</td>\n",
       "      <td>Phobic anxiety disorder</td>\n",
       "      <td>DOID:11257</td>\n",
       "      <td>social phobia</td>\n",
       "    </tr>\n",
       "    <tr>\n",
       "      <th>7722</th>\n",
       "      <td>C0027051</td>\n",
       "      <td>Myocardial Infarction</td>\n",
       "      <td>DOID:11847</td>\n",
       "      <td>coronary thrombosis</td>\n",
       "    </tr>\n",
       "  </tbody>\n",
       "</table>\n",
       "</div>"
      ],
      "text/plain": [
       "     diseaseId                                               name  \\\n",
       "1524  C0342277  Diabetes mellitus autosomal dominant type II (...   \n",
       "1526  C1864623  DIABETES MELLITUS, TRANSIENT NEONATAL, 3 (diso...   \n",
       "7261  C0008909                                     Claustrophobia   \n",
       "7262  C0349231                            Phobic anxiety disorder   \n",
       "7722  C0027051                              Myocardial Infarction   \n",
       "\n",
       "              doid                        vocabularyName  \n",
       "1524  DOID:0060334  transient neonatal diabetes mellitus  \n",
       "1526  DOID:0060334  transient neonatal diabetes mellitus  \n",
       "7261    DOID:11257                         social phobia  \n",
       "7262    DOID:11257                         social phobia  \n",
       "7722    DOID:11847                   coronary thrombosis  "
      ]
     },
     "execution_count": 19,
     "metadata": {},
     "output_type": "execute_result"
    }
   ],
   "source": [
    "v = disease_doid_convert_to_csv.groupby('doid').filter(lambda group: len(group) > 1)\n",
    "v.head()"
   ]
  },
  {
   "cell_type": "code",
   "execution_count": 20,
   "metadata": {
    "pycharm": {
     "is_executing": false,
     "name": "#%%\n"
    }
   },
   "outputs": [
    {
     "data": {
      "text/plain": [
       "(17, 4)"
      ]
     },
     "execution_count": 20,
     "metadata": {},
     "output_type": "execute_result"
    }
   ],
   "source": [
    "v.shape"
   ]
  },
  {
   "cell_type": "markdown",
   "metadata": {},
   "source": [
    "## list doid that has more than 1 mapping to cui"
   ]
  },
  {
   "cell_type": "code",
   "execution_count": 21,
   "metadata": {
    "pycharm": {
     "is_executing": false,
     "name": "#%% \n"
    }
   },
   "outputs": [
    {
     "data": {
      "text/plain": [
       "array(['DOID:0060334', 'DOID:11257', 'DOID:11847', 'DOID:14118',\n",
       "       'DOID:2030', 'DOID:4964', 'DOID:5844', 'DOID:591'], dtype=object)"
      ]
     },
     "execution_count": 21,
     "metadata": {},
     "output_type": "execute_result"
    }
   ],
   "source": [
    "# list doid that has more than 1 mapping to cui\n",
    "v['doid'].unique()"
   ]
  },
  {
   "cell_type": "code",
   "execution_count": 22,
   "metadata": {
    "pycharm": {
     "is_executing": false,
     "name": "#%%\n"
    }
   },
   "outputs": [
    {
     "data": {
      "text/plain": [
       "<pandas.core.groupby.generic.SeriesGroupBy object at 0x000001AA18E98358>"
      ]
     },
     "execution_count": 22,
     "metadata": {},
     "output_type": "execute_result"
    }
   ],
   "source": [
    "# group cui by doid \n",
    "v.groupby('doid')['diseaseId']"
   ]
  },
  {
   "cell_type": "code",
   "execution_count": 23,
   "metadata": {
    "pycharm": {
     "is_executing": false,
     "name": "#%% \n"
    }
   },
   "outputs": [
    {
     "data": {
      "text/plain": [
       "doid          diseaseId\n",
       "DOID:0060334  C0342277     1\n",
       "              C1864623     1\n",
       "DOID:11257    C0008909     1\n",
       "              C0349231     1\n",
       "DOID:11847    C0027051     1\n",
       "              C0151814     1\n",
       "DOID:14118    C0020481     1\n",
       "              C1720779     1\n",
       "DOID:2030     C0003467     1\n",
       "              C0349231     1\n",
       "DOID:4964     C0011579     1\n",
       "              C0013415     1\n",
       "              C0025193     1\n",
       "DOID:5844     C0027051     1\n",
       "              C0151814     1\n",
       "DOID:591      C0008909     1\n",
       "              C0349231     1\n",
       "Name: diseaseId, dtype: int64"
      ]
     },
     "execution_count": 23,
     "metadata": {},
     "output_type": "execute_result"
    }
   ],
   "source": [
    "v.groupby('doid')['diseaseId'].value_counts()"
   ]
  },
  {
   "cell_type": "markdown",
   "metadata": {
    "pycharm": {
     "name": "#%% md\n"
    }
   },
   "source": [
    "## list cui that has more than 1 mapping to doid\n"
   ]
  },
  {
   "cell_type": "code",
   "execution_count": 24,
   "metadata": {
    "pycharm": {
     "is_executing": false,
     "name": "#%%\n"
    }
   },
   "outputs": [
    {
     "data": {
      "text/plain": [
       "(63, 4)"
      ]
     },
     "execution_count": 24,
     "metadata": {},
     "output_type": "execute_result"
    }
   ],
   "source": [
    "h = disease_doid_convert_to_csv.groupby('diseaseId').filter(lambda group: len(group)>1)\n",
    "\n",
    "h.shape"
   ]
  },
  {
   "cell_type": "code",
   "execution_count": 25,
   "metadata": {
    "pycharm": {
     "is_executing": false,
     "name": "#%%\n"
    }
   },
   "outputs": [
    {
     "data": {
      "text/html": [
       "<div>\n",
       "<style scoped>\n",
       "    .dataframe tbody tr th:only-of-type {\n",
       "        vertical-align: middle;\n",
       "    }\n",
       "\n",
       "    .dataframe tbody tr th {\n",
       "        vertical-align: top;\n",
       "    }\n",
       "\n",
       "    .dataframe thead th {\n",
       "        text-align: right;\n",
       "    }\n",
       "</style>\n",
       "<table border=\"1\" class=\"dataframe\">\n",
       "  <thead>\n",
       "    <tr style=\"text-align: right;\">\n",
       "      <th></th>\n",
       "      <th>diseaseId</th>\n",
       "      <th>name</th>\n",
       "      <th>doid</th>\n",
       "      <th>vocabularyName</th>\n",
       "    </tr>\n",
       "  </thead>\n",
       "  <tbody>\n",
       "    <tr>\n",
       "      <th>1524</th>\n",
       "      <td>C0342277</td>\n",
       "      <td>Diabetes mellitus autosomal dominant type II (...</td>\n",
       "      <td>DOID:0060334</td>\n",
       "      <td>transient neonatal diabetes mellitus</td>\n",
       "    </tr>\n",
       "    <tr>\n",
       "      <th>1934</th>\n",
       "      <td>C0152264</td>\n",
       "      <td>Familial erythrocytosis</td>\n",
       "      <td>DOID:0060652</td>\n",
       "      <td>familial erythrocytosis 1</td>\n",
       "    </tr>\n",
       "    <tr>\n",
       "      <th>6289</th>\n",
       "      <td>C0340968</td>\n",
       "      <td>Deficiency of pyruvate kinase</td>\n",
       "      <td>DOID:0111077</td>\n",
       "      <td>pyruvate kinase deficiency of red cells</td>\n",
       "    </tr>\n",
       "    <tr>\n",
       "      <th>6328</th>\n",
       "      <td>C0342277</td>\n",
       "      <td>Diabetes mellitus autosomal dominant type II (...</td>\n",
       "      <td>DOID:0111100</td>\n",
       "      <td>maturity-onset diabetes of the young type 2</td>\n",
       "    </tr>\n",
       "    <tr>\n",
       "      <th>6470</th>\n",
       "      <td>C0007785</td>\n",
       "      <td>Cerebral Infarction</td>\n",
       "      <td>DOID:10127</td>\n",
       "      <td>cerebral artery occlusion</td>\n",
       "    </tr>\n",
       "  </tbody>\n",
       "</table>\n",
       "</div>"
      ],
      "text/plain": [
       "     diseaseId                                               name  \\\n",
       "1524  C0342277  Diabetes mellitus autosomal dominant type II (...   \n",
       "1934  C0152264                            Familial erythrocytosis   \n",
       "6289  C0340968                      Deficiency of pyruvate kinase   \n",
       "6328  C0342277  Diabetes mellitus autosomal dominant type II (...   \n",
       "6470  C0007785                                Cerebral Infarction   \n",
       "\n",
       "              doid                               vocabularyName  \n",
       "1524  DOID:0060334         transient neonatal diabetes mellitus  \n",
       "1934  DOID:0060652                    familial erythrocytosis 1  \n",
       "6289  DOID:0111077      pyruvate kinase deficiency of red cells  \n",
       "6328  DOID:0111100  maturity-onset diabetes of the young type 2  \n",
       "6470    DOID:10127                    cerebral artery occlusion  "
      ]
     },
     "execution_count": 25,
     "metadata": {},
     "output_type": "execute_result"
    }
   ],
   "source": [
    "\n",
    "\n",
    "h.head()"
   ]
  },
  {
   "cell_type": "markdown",
   "metadata": {
    "pycharm": {
     "name": "#%% md\n"
    }
   },
   "source": [
    "## list cui that has more thn 1 mapping to doid"
   ]
  },
  {
   "cell_type": "code",
   "execution_count": 26,
   "metadata": {
    "pycharm": {
     "is_executing": false,
     "name": "#%%\n"
    }
   },
   "outputs": [
    {
     "data": {
      "text/plain": [
       "(63, 4)"
      ]
     },
     "execution_count": 26,
     "metadata": {},
     "output_type": "execute_result"
    }
   ],
   "source": [
    "h.shape"
   ]
  },
  {
   "cell_type": "code",
   "execution_count": 27,
   "metadata": {
    "pycharm": {
     "is_executing": false,
     "name": "#%%\n"
    }
   },
   "outputs": [
    {
     "data": {
      "text/plain": [
       "array(['C0342277', 'C0152264', 'C0340968', 'C0007785', 'C0271650',\n",
       "       'C0025637', 'C0014761', 'C0162316', 'C0008909', 'C0349231',\n",
       "       'C0020481', 'C0011859', 'C0027051', 'C0151814', 'C0022610',\n",
       "       'C0013415', 'C0265110', 'C1306856', 'C0003467', 'C0025193',\n",
       "       'C0011579', 'C0011880', 'C0004096', 'C0032463', 'C0340293'],\n",
       "      dtype=object)"
      ]
     },
     "execution_count": 27,
     "metadata": {},
     "output_type": "execute_result"
    }
   ],
   "source": [
    "h['diseaseId'].unique()\n"
   ]
  },
  {
   "cell_type": "markdown",
   "metadata": {
    "pycharm": {
     "name": "#%% md\n"
    }
   },
   "source": [
    "# Mapping  doid between GPSim dataset and copd_doid.csv"
   ]
  },
  {
   "cell_type": "code",
   "execution_count": 28,
   "metadata": {
    "pycharm": {
     "is_executing": false,
     "name": "#%% \n"
    }
   },
   "outputs": [
    {
     "data": {
      "text/plain": [
       "(55, 1)"
      ]
     },
     "execution_count": 28,
     "metadata": {},
     "output_type": "execute_result"
    }
   ],
   "source": [
    "uniq_doid_that_overlap_with_gpsim = pd.read_csv(r'C:\\Users\\Anak\\PycharmProjects\\recreate_gene_disease\\Data\\processed\\GPSim\\Nodes\\unique_doid_that_overlap_between_gene2_hpo2_and_genedisease_doid.csv')\n",
    "uniq_doid_that_overlap_with_gpsim.shape"
   ]
  },
  {
   "cell_type": "code",
   "execution_count": 29,
   "metadata": {
    "pycharm": {
     "is_executing": false,
     "name": "#%%\n"
    }
   },
   "outputs": [
    {
     "data": {
      "text/html": [
       "<div>\n",
       "<style scoped>\n",
       "    .dataframe tbody tr th:only-of-type {\n",
       "        vertical-align: middle;\n",
       "    }\n",
       "\n",
       "    .dataframe tbody tr th {\n",
       "        vertical-align: top;\n",
       "    }\n",
       "\n",
       "    .dataframe thead th {\n",
       "        text-align: right;\n",
       "    }\n",
       "</style>\n",
       "<table border=\"1\" class=\"dataframe\">\n",
       "  <thead>\n",
       "    <tr style=\"text-align: right;\">\n",
       "      <th></th>\n",
       "      <th>doid</th>\n",
       "    </tr>\n",
       "  </thead>\n",
       "  <tbody>\n",
       "    <tr>\n",
       "      <th>0</th>\n",
       "      <td>DOID:0050554</td>\n",
       "    </tr>\n",
       "    <tr>\n",
       "      <th>1</th>\n",
       "      <td>DOID:0050641</td>\n",
       "    </tr>\n",
       "    <tr>\n",
       "      <th>2</th>\n",
       "      <td>DOID:0050650</td>\n",
       "    </tr>\n",
       "    <tr>\n",
       "      <th>3</th>\n",
       "      <td>DOID:0060063</td>\n",
       "    </tr>\n",
       "    <tr>\n",
       "      <th>4</th>\n",
       "      <td>DOID:0060334</td>\n",
       "    </tr>\n",
       "  </tbody>\n",
       "</table>\n",
       "</div>"
      ],
      "text/plain": [
       "           doid\n",
       "0  DOID:0050554\n",
       "1  DOID:0050641\n",
       "2  DOID:0050650\n",
       "3  DOID:0060063\n",
       "4  DOID:0060334"
      ]
     },
     "execution_count": 29,
     "metadata": {},
     "output_type": "execute_result"
    }
   ],
   "source": [
    "uniq_doid_that_overlap_with_gpsim.head()\n"
   ]
  },
  {
   "cell_type": "code",
   "execution_count": 30,
   "metadata": {
    "pycharm": {
     "is_executing": false,
     "name": "#%%\n"
    }
   },
   "outputs": [
    {
     "data": {
      "text/plain": [
       "(139, 4)"
      ]
     },
     "execution_count": 30,
     "metadata": {},
     "output_type": "execute_result"
    }
   ],
   "source": [
    "# my set of uniq doid that have mapping from copd_label\n",
    "uniq_doid = pd.read_csv(r'C:\\Users\\Anak\\PycharmProjects\\recreate_gene_disease\\Data\\raw\\GeneDiseaseProject\\COPD\\Nodes\\copd_doid.csv')\n",
    "uniq_doid.shape"
   ]
  },
  {
   "cell_type": "code",
   "execution_count": 31,
   "metadata": {
    "pycharm": {
     "is_executing": false,
     "name": "#%%\n"
    }
   },
   "outputs": [
    {
     "data": {
      "text/html": [
       "<div>\n",
       "<style scoped>\n",
       "    .dataframe tbody tr th:only-of-type {\n",
       "        vertical-align: middle;\n",
       "    }\n",
       "\n",
       "    .dataframe tbody tr th {\n",
       "        vertical-align: top;\n",
       "    }\n",
       "\n",
       "    .dataframe thead th {\n",
       "        text-align: right;\n",
       "    }\n",
       "</style>\n",
       "<table border=\"1\" class=\"dataframe\">\n",
       "  <thead>\n",
       "    <tr style=\"text-align: right;\">\n",
       "      <th></th>\n",
       "      <th>diseaseId</th>\n",
       "      <th>name</th>\n",
       "      <th>doid</th>\n",
       "      <th>vocabularyName</th>\n",
       "    </tr>\n",
       "  </thead>\n",
       "  <tbody>\n",
       "    <tr>\n",
       "      <th>0</th>\n",
       "      <td>C1845028</td>\n",
       "      <td>ANEMIA, SIDEROBLASTIC, AND SPINOCEREBELLAR ATAXIA</td>\n",
       "      <td>DOID:0050554</td>\n",
       "      <td>X-linked sideroblastic anemia with ataxia</td>\n",
       "    </tr>\n",
       "    <tr>\n",
       "      <th>1</th>\n",
       "      <td>C0272052</td>\n",
       "      <td>Rh Deficiency Syndrome</td>\n",
       "      <td>DOID:0050641</td>\n",
       "      <td>Rh deficiency syndrome</td>\n",
       "    </tr>\n",
       "    <tr>\n",
       "      <th>2</th>\n",
       "      <td>C1843687</td>\n",
       "      <td>ATRIAL FIBRILLATION, FAMILIAL, 1 (disorder)</td>\n",
       "      <td>DOID:0050650</td>\n",
       "      <td>familial atrial fibrillation</td>\n",
       "    </tr>\n",
       "    <tr>\n",
       "      <th>3</th>\n",
       "      <td>C0338495</td>\n",
       "      <td>Sleep Apnea, Mixed Central and Obstructive</td>\n",
       "      <td>DOID:0050848</td>\n",
       "      <td>obstructive sleep apnea</td>\n",
       "    </tr>\n",
       "    <tr>\n",
       "      <th>4</th>\n",
       "      <td>C0221018</td>\n",
       "      <td>Hereditary sideroblastic anemia</td>\n",
       "      <td>DOID:0060063</td>\n",
       "      <td>X-linked sideroblastic anemia</td>\n",
       "    </tr>\n",
       "  </tbody>\n",
       "</table>\n",
       "</div>"
      ],
      "text/plain": [
       "  diseaseId                                               name          doid  \\\n",
       "0  C1845028  ANEMIA, SIDEROBLASTIC, AND SPINOCEREBELLAR ATAXIA  DOID:0050554   \n",
       "1  C0272052                             Rh Deficiency Syndrome  DOID:0050641   \n",
       "2  C1843687        ATRIAL FIBRILLATION, FAMILIAL, 1 (disorder)  DOID:0050650   \n",
       "3  C0338495         Sleep Apnea, Mixed Central and Obstructive  DOID:0050848   \n",
       "4  C0221018                    Hereditary sideroblastic anemia  DOID:0060063   \n",
       "\n",
       "                              vocabularyName  \n",
       "0  X-linked sideroblastic anemia with ataxia  \n",
       "1                     Rh deficiency syndrome  \n",
       "2               familial atrial fibrillation  \n",
       "3                    obstructive sleep apnea  \n",
       "4              X-linked sideroblastic anemia  "
      ]
     },
     "execution_count": 31,
     "metadata": {},
     "output_type": "execute_result"
    }
   ],
   "source": [
    "uniq_doid.head()"
   ]
  },
  {
   "cell_type": "code",
   "execution_count": 32,
   "metadata": {
    "pycharm": {
     "is_executing": false,
     "name": "#%%\n"
    }
   },
   "outputs": [
    {
     "data": {
      "text/plain": [
       "(58, 4)"
      ]
     },
     "execution_count": 32,
     "metadata": {},
     "output_type": "execute_result"
    }
   ],
   "source": [
    "uniq_cui = uniq_doid[uniq_doid['doid'].isin(uniq_doid_that_overlap_with_gpsim['doid'])]\n",
    "uniq_cui.shape"
   ]
  },
  {
   "cell_type": "code",
   "execution_count": 33,
   "metadata": {
    "pycharm": {
     "is_executing": false,
     "name": "#%%\n"
    }
   },
   "outputs": [
    {
     "data": {
      "text/html": [
       "<div>\n",
       "<style scoped>\n",
       "    .dataframe tbody tr th:only-of-type {\n",
       "        vertical-align: middle;\n",
       "    }\n",
       "\n",
       "    .dataframe tbody tr th {\n",
       "        vertical-align: top;\n",
       "    }\n",
       "\n",
       "    .dataframe thead th {\n",
       "        text-align: right;\n",
       "    }\n",
       "</style>\n",
       "<table border=\"1\" class=\"dataframe\">\n",
       "  <thead>\n",
       "    <tr style=\"text-align: right;\">\n",
       "      <th></th>\n",
       "      <th>diseaseId</th>\n",
       "      <th>name</th>\n",
       "      <th>doid</th>\n",
       "      <th>vocabularyName</th>\n",
       "    </tr>\n",
       "  </thead>\n",
       "  <tbody>\n",
       "    <tr>\n",
       "      <th>0</th>\n",
       "      <td>C1845028</td>\n",
       "      <td>ANEMIA, SIDEROBLASTIC, AND SPINOCEREBELLAR ATAXIA</td>\n",
       "      <td>DOID:0050554</td>\n",
       "      <td>X-linked sideroblastic anemia with ataxia</td>\n",
       "    </tr>\n",
       "    <tr>\n",
       "      <th>1</th>\n",
       "      <td>C0272052</td>\n",
       "      <td>Rh Deficiency Syndrome</td>\n",
       "      <td>DOID:0050641</td>\n",
       "      <td>Rh deficiency syndrome</td>\n",
       "    </tr>\n",
       "    <tr>\n",
       "      <th>2</th>\n",
       "      <td>C1843687</td>\n",
       "      <td>ATRIAL FIBRILLATION, FAMILIAL, 1 (disorder)</td>\n",
       "      <td>DOID:0050650</td>\n",
       "      <td>familial atrial fibrillation</td>\n",
       "    </tr>\n",
       "    <tr>\n",
       "      <th>4</th>\n",
       "      <td>C0221018</td>\n",
       "      <td>Hereditary sideroblastic anemia</td>\n",
       "      <td>DOID:0060063</td>\n",
       "      <td>X-linked sideroblastic anemia</td>\n",
       "    </tr>\n",
       "    <tr>\n",
       "      <th>6</th>\n",
       "      <td>C0342277</td>\n",
       "      <td>Diabetes mellitus autosomal dominant type II (...</td>\n",
       "      <td>DOID:0060334</td>\n",
       "      <td>transient neonatal diabetes mellitus</td>\n",
       "    </tr>\n",
       "  </tbody>\n",
       "</table>\n",
       "</div>"
      ],
      "text/plain": [
       "  diseaseId                                               name          doid  \\\n",
       "0  C1845028  ANEMIA, SIDEROBLASTIC, AND SPINOCEREBELLAR ATAXIA  DOID:0050554   \n",
       "1  C0272052                             Rh Deficiency Syndrome  DOID:0050641   \n",
       "2  C1843687        ATRIAL FIBRILLATION, FAMILIAL, 1 (disorder)  DOID:0050650   \n",
       "4  C0221018                    Hereditary sideroblastic anemia  DOID:0060063   \n",
       "6  C0342277  Diabetes mellitus autosomal dominant type II (...  DOID:0060334   \n",
       "\n",
       "                              vocabularyName  \n",
       "0  X-linked sideroblastic anemia with ataxia  \n",
       "1                     Rh deficiency syndrome  \n",
       "2               familial atrial fibrillation  \n",
       "4              X-linked sideroblastic anemia  \n",
       "6       transient neonatal diabetes mellitus  "
      ]
     },
     "execution_count": 33,
     "metadata": {},
     "output_type": "execute_result"
    }
   ],
   "source": [
    "uniq_cui.head()"
   ]
  },
  {
   "cell_type": "code",
   "execution_count": 34,
   "metadata": {
    "pycharm": {
     "is_executing": false,
     "name": "#%%\n"
    }
   },
   "outputs": [
    {
     "data": {
      "text/html": [
       "<div>\n",
       "<style scoped>\n",
       "    .dataframe tbody tr th:only-of-type {\n",
       "        vertical-align: middle;\n",
       "    }\n",
       "\n",
       "    .dataframe tbody tr th {\n",
       "        vertical-align: top;\n",
       "    }\n",
       "\n",
       "    .dataframe thead th {\n",
       "        text-align: right;\n",
       "    }\n",
       "</style>\n",
       "<table border=\"1\" class=\"dataframe\">\n",
       "  <thead>\n",
       "    <tr style=\"text-align: right;\">\n",
       "      <th></th>\n",
       "      <th>diseaseId</th>\n",
       "      <th>name</th>\n",
       "      <th>doid</th>\n",
       "      <th>vocabularyName</th>\n",
       "    </tr>\n",
       "  </thead>\n",
       "  <tbody>\n",
       "    <tr>\n",
       "      <th>6</th>\n",
       "      <td>C0342277</td>\n",
       "      <td>Diabetes mellitus autosomal dominant type II (...</td>\n",
       "      <td>DOID:0060334</td>\n",
       "      <td>transient neonatal diabetes mellitus</td>\n",
       "    </tr>\n",
       "    <tr>\n",
       "      <th>7</th>\n",
       "      <td>C1864623</td>\n",
       "      <td>DIABETES MELLITUS, TRANSIENT NEONATAL, 3 (diso...</td>\n",
       "      <td>DOID:0060334</td>\n",
       "      <td>transient neonatal diabetes mellitus</td>\n",
       "    </tr>\n",
       "    <tr>\n",
       "      <th>76</th>\n",
       "      <td>C0020481</td>\n",
       "      <td>Hyperlipoproteinemia Type V</td>\n",
       "      <td>DOID:14118</td>\n",
       "      <td>familial lipoprotein lipase deficiency</td>\n",
       "    </tr>\n",
       "    <tr>\n",
       "      <th>77</th>\n",
       "      <td>C1720779</td>\n",
       "      <td>Apolipoprotein C-II Deficiency (disorder)</td>\n",
       "      <td>DOID:14118</td>\n",
       "      <td>familial lipoprotein lipase deficiency</td>\n",
       "    </tr>\n",
       "    <tr>\n",
       "      <th>110</th>\n",
       "      <td>C0151814</td>\n",
       "      <td>Coronary Occlusion</td>\n",
       "      <td>DOID:5844</td>\n",
       "      <td>myocardial infarction</td>\n",
       "    </tr>\n",
       "    <tr>\n",
       "      <th>111</th>\n",
       "      <td>C0027051</td>\n",
       "      <td>Myocardial Infarction</td>\n",
       "      <td>DOID:5844</td>\n",
       "      <td>myocardial infarction</td>\n",
       "    </tr>\n",
       "  </tbody>\n",
       "</table>\n",
       "</div>"
      ],
      "text/plain": [
       "    diseaseId                                               name  \\\n",
       "6    C0342277  Diabetes mellitus autosomal dominant type II (...   \n",
       "7    C1864623  DIABETES MELLITUS, TRANSIENT NEONATAL, 3 (diso...   \n",
       "76   C0020481                        Hyperlipoproteinemia Type V   \n",
       "77   C1720779          Apolipoprotein C-II Deficiency (disorder)   \n",
       "110  C0151814                                 Coronary Occlusion   \n",
       "111  C0027051                              Myocardial Infarction   \n",
       "\n",
       "             doid                          vocabularyName  \n",
       "6    DOID:0060334    transient neonatal diabetes mellitus  \n",
       "7    DOID:0060334    transient neonatal diabetes mellitus  \n",
       "76     DOID:14118  familial lipoprotein lipase deficiency  \n",
       "77     DOID:14118  familial lipoprotein lipase deficiency  \n",
       "110     DOID:5844                   myocardial infarction  \n",
       "111     DOID:5844                   myocardial infarction  "
      ]
     },
     "execution_count": 34,
     "metadata": {},
     "output_type": "execute_result"
    }
   ],
   "source": [
    "v = uniq_cui.groupby('doid').filter(lambda group: len(group)>1)\n",
    "v\n",
    "\n"
   ]
  },
  {
   "cell_type": "markdown",
   "metadata": {
    "pycharm": {
     "name": "#%% md\n"
    }
   },
   "source": [
    "# read copd_label_content07_14_19_46.txt (columns = cui, class_id)"
   ]
  },
  {
   "cell_type": "code",
   "execution_count": 35,
   "metadata": {
    "pycharm": {
     "is_executing": false,
     "name": "#%% \n"
    }
   },
   "outputs": [
    {
     "data": {
      "text/plain": [
       "(101, 2)"
      ]
     },
     "execution_count": 35,
     "metadata": {},
     "output_type": "execute_result"
    }
   ],
   "source": [
    "cui_and_class_id = pd.read_csv(r'C:\\Users\\Anak\\PycharmProjects\\recreate_gene_disease\\Data\\raw\\GeneDiseaseProject\\COPD\\Nodes\\copd_label_content07_14_19_46.txt', sep='\\t',header=None )\n",
    "cui_and_class_id.shape"
   ]
  },
  {
   "cell_type": "code",
   "execution_count": 36,
   "metadata": {
    "pycharm": {
     "is_executing": false,
     "name": "#%%\n"
    }
   },
   "outputs": [
    {
     "data": {
      "text/html": [
       "<div>\n",
       "<style scoped>\n",
       "    .dataframe tbody tr th:only-of-type {\n",
       "        vertical-align: middle;\n",
       "    }\n",
       "\n",
       "    .dataframe tbody tr th {\n",
       "        vertical-align: top;\n",
       "    }\n",
       "\n",
       "    .dataframe thead th {\n",
       "        text-align: right;\n",
       "    }\n",
       "</style>\n",
       "<table border=\"1\" class=\"dataframe\">\n",
       "  <thead>\n",
       "    <tr style=\"text-align: right;\">\n",
       "      <th></th>\n",
       "      <th>0</th>\n",
       "      <th>1</th>\n",
       "    </tr>\n",
       "  </thead>\n",
       "  <tbody>\n",
       "    <tr>\n",
       "      <th>0</th>\n",
       "      <td>C0001818</td>\n",
       "      <td>4</td>\n",
       "    </tr>\n",
       "    <tr>\n",
       "      <th>1</th>\n",
       "      <td>C0002876</td>\n",
       "      <td>2</td>\n",
       "    </tr>\n",
       "    <tr>\n",
       "      <th>2</th>\n",
       "      <td>C0002890</td>\n",
       "      <td>2</td>\n",
       "    </tr>\n",
       "    <tr>\n",
       "      <th>3</th>\n",
       "      <td>C0003467</td>\n",
       "      <td>4</td>\n",
       "    </tr>\n",
       "    <tr>\n",
       "      <th>4</th>\n",
       "      <td>C0004096</td>\n",
       "      <td>0</td>\n",
       "    </tr>\n",
       "  </tbody>\n",
       "</table>\n",
       "</div>"
      ],
      "text/plain": [
       "          0  1\n",
       "0  C0001818  4\n",
       "1  C0002876  2\n",
       "2  C0002890  2\n",
       "3  C0003467  4\n",
       "4  C0004096  0"
      ]
     },
     "execution_count": 36,
     "metadata": {},
     "output_type": "execute_result"
    }
   ],
   "source": [
    "cui_and_class_id.head()\n"
   ]
  },
  {
   "cell_type": "markdown",
   "metadata": {
    "pycharm": {
     "is_executing": false,
     "name": "#%% md\n"
    }
   },
   "source": [
    "# Get Degree of each disease in GeneDisease Dataset?"
   ]
  },
  {
   "cell_type": "code",
   "execution_count": 37,
   "metadata": {
    "pycharm": {
     "is_executing": false,
     "name": "#%%\n"
    }
   },
   "outputs": [
    {
     "data": {
      "text/plain": [
       "(539, 2)"
      ]
     },
     "execution_count": 37,
     "metadata": {},
     "output_type": "execute_result"
    }
   ],
   "source": [
    "# read disease edges data \n",
    "disease_to_disease_edges = pd.read_csv(r'C:\\Users\\Anak\\PycharmProjects\\recreate_gene_disease\\Data\\raw\\GeneDiseaseProject\\COPD\\Edges\\GeneDisease_all_disease_to_disease_edges.csv', sep=',')\n",
    "disease_to_disease_edges.shape"
   ]
  },
  {
   "cell_type": "code",
   "execution_count": 38,
   "metadata": {
    "pycharm": {
     "is_executing": false,
     "name": "#%%\n"
    }
   },
   "outputs": [
    {
     "data": {
      "text/html": [
       "<div>\n",
       "<style scoped>\n",
       "    .dataframe tbody tr th:only-of-type {\n",
       "        vertical-align: middle;\n",
       "    }\n",
       "\n",
       "    .dataframe tbody tr th {\n",
       "        vertical-align: top;\n",
       "    }\n",
       "\n",
       "    .dataframe thead th {\n",
       "        text-align: right;\n",
       "    }\n",
       "</style>\n",
       "<table border=\"1\" class=\"dataframe\">\n",
       "  <thead>\n",
       "    <tr style=\"text-align: right;\">\n",
       "      <th></th>\n",
       "      <th>disease1</th>\n",
       "      <th>disease2</th>\n",
       "    </tr>\n",
       "  </thead>\n",
       "  <tbody>\n",
       "    <tr>\n",
       "      <th>0</th>\n",
       "      <td>C0002876</td>\n",
       "      <td>C0004096</td>\n",
       "    </tr>\n",
       "    <tr>\n",
       "      <th>1</th>\n",
       "      <td>C0002876</td>\n",
       "      <td>C0020479</td>\n",
       "    </tr>\n",
       "    <tr>\n",
       "      <th>2</th>\n",
       "      <td>C0002876</td>\n",
       "      <td>C0027051</td>\n",
       "    </tr>\n",
       "    <tr>\n",
       "      <th>3</th>\n",
       "      <td>C0002876</td>\n",
       "      <td>C0031190</td>\n",
       "    </tr>\n",
       "    <tr>\n",
       "      <th>4</th>\n",
       "      <td>C0002876</td>\n",
       "      <td>C0032463</td>\n",
       "    </tr>\n",
       "  </tbody>\n",
       "</table>\n",
       "</div>"
      ],
      "text/plain": [
       "   disease1  disease2\n",
       "0  C0002876  C0004096\n",
       "1  C0002876  C0020479\n",
       "2  C0002876  C0027051\n",
       "3  C0002876  C0031190\n",
       "4  C0002876  C0032463"
      ]
     },
     "execution_count": 38,
     "metadata": {},
     "output_type": "execute_result"
    }
   ],
   "source": [
    "disease_to_disease_edges.head()"
   ]
  },
  {
   "cell_type": "code",
   "execution_count": null,
   "metadata": {
    "pycharm": {
     "is_executing": false,
     "name": "#%%\n"
    },
    "scrolled": true
   },
   "outputs": [],
   "source": []
  },
  {
   "cell_type": "code",
   "execution_count": 39,
   "metadata": {
    "pycharm": {
     "is_executing": false,
     "name": "#%%\n"
    }
   },
   "outputs": [
    {
     "data": {
      "text/plain": [
       "<networkx.classes.graph.Graph at 0x1aa16be7978>"
      ]
     },
     "execution_count": 39,
     "metadata": {},
     "output_type": "execute_result"
    }
   ],
   "source": [
    "# convert disease edges data into networkx object \n",
    "import networkx as nx\n",
    "\n",
    "# note: the following example\n",
    "# >>> test_df = pd.DataFrame([ ['a','b'] , ['b','a']])\n",
    "#     test_df.columns = ['disease1', 'disease2']\n",
    "#     test = nx.convert_matrix.from_pandas_edgelist(test_df ,'disease1','disease2')\n",
    "#     test.edges\n",
    "# EdgeView([('a', 'b')]) # not directional\n",
    "\n",
    "G = nx.convert_matrix.from_pandas_edgelist(disease_to_disease_edges, 'disease1', 'disease2')\n",
    "G\n"
   ]
  },
  {
   "cell_type": "code",
   "execution_count": 40,
   "metadata": {
    "pycharm": {
     "is_executing": false,
     "name": "#%%\n"
    },
    "scrolled": true
   },
   "outputs": [
    {
     "data": {
      "text/plain": [
       "EdgeView([('C0002876', 'C0004096'), ('C0002876', 'C0020479'), ('C0002876', 'C0027051'), ('C0002876', 'C0031190'), ('C0002876', 'C0032463'), ('C0002876', 'C0085207'), ('C0002876', 'C0162316'), ('C0002876', 'C0221018'), ('C0002876', 'C0262584'), ('C0002876', 'C0271650'), ('C0002876', 'C0740302'), ('C0004096', 'C0007785'), ('C0004096', 'C0011579'), ('C0004096', 'C0431693'), ('C0004096', 'C0600228'), ('C0004096', 'C0740302'), ('C0004096', 'C0750988'), ('C0004096', 'C0751824'), ('C0004096', 'C0751848'), ('C0004096', 'C1135191'), ('C0004096', 'C1135196'), ('C0004096', 'C1306856'), ('C0004096', 'C1833104'), ('C0004096', 'C1833218'), ('C0004096', 'C1833382'), ('C0004096', 'C1838100'), ('C0004096', 'C1838259'), ('C0004096', 'C1838261'), ('C0004096', 'C1852093'), ('C0004096', 'C1853297'), ('C0004096', 'C1853371'), ('C0004096', 'C1863512'), ('C0004096', 'C1969343'), ('C0004096', 'C2674218'), ('C0004096', 'C2675866'), ('C0004096', 'C2930930'), ('C0004096', 'C2931384'), ('C0020479', 'C0013415'), ('C0020479', 'C0014761'), ('C0020479', 'C0020480'), ('C0020479', 'C0025637'), ('C0020479', 'C0028756'), ('C0020479', 'C0028768'), ('C0020479', 'C0030312'), ('C0020479', 'C1838259'), ('C0020479', 'C1863512'), ('C0020479', 'C2931384'), ('C0027051', 'C0006277'), ('C0027051', 'C0011579'), ('C0027051', 'C0011859'), ('C0027051', 'C0014761'), ('C0027051', 'C0020481'), ('C0027051', 'C0030319'), ('C0027051', 'C0162316'), ('C0027051', 'C0236816'), ('C0027051', 'C0600228'), ('C0027051', 'C0740302'), ('C0027051', 'C0751824'), ('C0027051', 'C0751848'), ('C0027051', 'C1135191'), ('C0027051', 'C1135196'), ('C0027051', 'C1833104'), ('C0027051', 'C1833382'), ('C0027051', 'C1836860'), ('C0027051', 'C1838100'), ('C0027051', 'C1838261'), ('C0027051', 'C1852093'), ('C0027051', 'C1863512'), ('C0027051', 'C1864623'), ('C0027051', 'C2674218'), ('C0027051', 'C2675866'), ('C0027051', 'C2930930'), ('C0027051', 'C2931384'), ('C0031190', 'C0006277'), ('C0031190', 'C0007785'), ('C0031190', 'C0011859'), ('C0031190', 'C0151814'), ('C0031190', 'C0152264'), ('C0031190', 'C0206146'), ('C0031190', 'C0265110'), ('C0031190', 'C0740302'), ('C0031190', 'C1135191'), ('C0031190', 'C1838457'), ('C0032463', 'C0008909'), ('C0032463', 'C0011859'), ('C0032463', 'C0011880'), ('C0032463', 'C0013415'), ('C0032463', 'C0028756'), ('C0032463', 'C0030312'), ('C0032463', 'C0600228'), ('C0032463', 'C0751824'), ('C0032463', 'C0751848'), ('C0032463', 'C1135196'), ('C0032463', 'C1838100'), ('C0032463', 'C1853297'), ('C0032463', 'C1863512'), ('C0032463', 'C2674218'), ('C0032463', 'C2931384'), ('C0085207', 'C0006277'), ('C0085207', 'C0009426'), ('C0085207', 'C0011859'), ('C0085207', 'C0011880'), ('C0085207', 'C0162316'), ('C0085207', 'C0236816'), ('C0085207', 'C0265110'), ('C0085207', 'C0271650'), ('C0085207', 'C0272052'), ('C0085207', 'C0338495'), ('C0085207', 'C0600228'), ('C0085207', 'C0751824'), ('C0085207', 'C0751848'), ('C0085207', 'C1135191'), ('C0085207', 'C1306856'), ('C0085207', 'C1832392'), ('C0085207', 'C1833104'), ('C0085207', 'C1833382'), ('C0085207', 'C1835817'), ('C0085207', 'C1838100'), ('C0085207', 'C1838261'), ('C0085207', 'C1852093'), ('C0085207', 'C1864623'), ('C0085207', 'C2674218'), ('C0085207', 'C2931384'), ('C0162316', 'C0003467'), ('C0162316', 'C0007780'), ('C0162316', 'C0007785'), ('C0162316', 'C0008909'), ('C0162316', 'C0014761'), ('C0162316', 'C0020474'), ('C0162316', 'C0025637'), ('C0162316', 'C0028756'), ('C0162316', 'C0028768'), ('C0162316', 'C0030312'), ('C0162316', 'C0034902'), ('C0162316', 'C0151814'), ('C0162316', 'C0206146'), ('C0162316', 'C0270639'), ('C0162316', 'C0271650'), ('C0162316', 'C0338495'), ('C0162316', 'C0340968'), ('C0162316', 'C0600228'), ('C0162316', 'C0750988'), ('C0162316', 'C0751848'), ('C0162316', 'C1832392'), ('C0162316', 'C1835817'), ('C0162316', 'C2674218'), ('C0162316', 'C2931384'), ('C0221018', 'C0011579'), ('C0221018', 'C0034902'), ('C0221018', 'C0038218'), ('C0221018', 'C0271650'), ('C0221018', 'C0342277'), ('C0221018', 'C0740302'), ('C0221018', 'C1720779'), ('C0221018', 'C1835817'), ('C0262584', 'C0006277'), ('C0262584', 'C0008909'), ('C0262584', 'C0740302'), ('C0262584', 'C0751824'), ('C0262584', 'C0751848'), ('C0262584', 'C1135191'), ('C0262584', 'C2674218'), ('C0262584', 'C2931384'), ('C0271650', 'C0003467'), ('C0271650', 'C0025637'), ('C0271650', 'C0034091'), ('C0271650', 'C0265110'), ('C0271650', 'C0338495'), ('C0271650', 'C0600228'), ('C0271650', 'C0751848'), ('C0271650', 'C1135191'), ('C0271650', 'C1833104'), ('C0271650', 'C1833382'), ('C0271650', 'C1838259'), ('C0271650', 'C1852092'), ('C0271650', 'C1863512'), ('C0271650', 'C1864623'), ('C0271650', 'C1864839'), ('C0271650', 'C2674218'), ('C0271650', 'C2675866'), ('C0271650', 'C2930930'), ('C0271650', 'C2931384'), ('C0740302', 'C0002890'), ('C0740302', 'C0003467'), ('C0740302', 'C0006277'), ('C0740302', 'C0028756'), ('C0740302', 'C0030312'), ('C0740302', 'C0038218'), ('C0740302', 'C0265110'), ('C0740302', 'C0948480'), ('C0740302', 'C1135196'), ('C0740302', 'C1845028'), ('C0740302', 'C1852092'), ('C0740302', 'C2674218'), ('C0002890', 'C0008909'), ('C0002890', 'C0011859'), ('C0002890', 'C0014761'), ('C0002890', 'C0025193'), ('C0002890', 'C0025637'), ('C0008909', 'C0006277'), ('C0008909', 'C0030319'), ('C0008909', 'C0034091'), ('C0008909', 'C0038218'), ('C0008909', 'C0043019'), ('C0008909', 'C0086666'), ('C0008909', 'C0236816'), ('C0008909', 'C0272052'), ('C0008909', 'C0340293'), ('C0008909', 'C0342277'), ('C0011859', 'C0003467'), ('C0011859', 'C0006277'), ('C0011859', 'C0011579'), ('C0011859', 'C0020474'), ('C0011859', 'C0025193'), ('C0011859', 'C0028756'), ('C0011859', 'C0030312'), ('C0011859', 'C0152264'), ('C0011859', 'C0431693'), ('C0011859', 'C1838100'), ('C0011859', 'C1852093'), ('C0014761', 'C0003467'), ('C0014761', 'C0020474'), ('C0014761', 'C0020480'), ('C0014761', 'C0022610'), ('C0014761', 'C0028768'), ('C0014761', 'C0030319'), ('C0014761', 'C0034091'), ('C0014761', 'C0038218'), ('C0014761', 'C0272052'), ('C0014761', 'C0342277'), ('C0014761', 'C1720779'), ('C0025193', 'C0020474'), ('C0025193', 'C0028756'), ('C0025193', 'C0030312'), ('C0025193', 'C0151814'), ('C0025193', 'C0751848'), ('C0025193', 'C0948480'), ('C0025193', 'C1135196'), ('C0025193', 'C1838259'), ('C0025193', 'C1845028'), ('C0025193', 'C1864839'), ('C0025193', 'C2931384'), ('C0025637', 'C0006277'), ('C0025637', 'C0009426'), ('C0025637', 'C0011579'), ('C0025637', 'C0020480'), ('C0025637', 'C0022610'), ('C0025637', 'C0349231'), ('C0003467', 'C0009426'), ('C0003467', 'C0020474'), ('C0003467', 'C0151814'), ('C0003467', 'C0236816'), ('C0003467', 'C0265110'), ('C0003467', 'C0338495'), ('C0003467', 'C0349231'), ('C0003467', 'C0600228'), ('C0003467', 'C0751634'), ('C0003467', 'C0751848'), ('C0003467', 'C1135191'), ('C0003467', 'C1266144'), ('C0003467', 'C1835817'), ('C0003467', 'C1836860'), ('C0003467', 'C1838100'), ('C0003467', 'C1838457'), ('C0003467', 'C2674218'), ('C0003467', 'C2930930'), ('C0003467', 'C2931384'), ('C0009426', 'C0006277'), ('C0009426', 'C0020474'), ('C0009426', 'C0020480'), ('C0009426', 'C0022610'), ('C0009426', 'C0030319'), ('C0009426', 'C0270639'), ('C0009426', 'C0340968'), ('C0020474', 'C0007785'), ('C0020474', 'C0265110'), ('C0020474', 'C0600228'), ('C0020474', 'C0751848'), ('C0020474', 'C1266144'), ('C0020474', 'C1838100'), ('C0020474', 'C1845028'), ('C0020474', 'C1852093'), ('C0020474', 'C1863512'), ('C0020474', 'C2930930'), ('C0020474', 'C2931384'), ('C0151814', 'C0006277'), ('C0151814', 'C0007780'), ('C0151814', 'C0028756'), ('C0151814', 'C0030312'), ('C0151814', 'C0030319'), ('C0151814', 'C0038218'), ('C0151814', 'C0342277'), ('C0151814', 'C0600228'), ('C0151814', 'C0751848'), ('C0151814', 'C1832392'), ('C0151814', 'C1838100'), ('C0151814', 'C1845028'), ('C0151814', 'C2931384'), ('C0236816', 'C0013415'), ('C0236816', 'C0028768'), ('C0236816', 'C0034091'), ('C0236816', 'C0034902'), ('C0236816', 'C0270639'), ('C0236816', 'C1832392'), ('C0265110', 'C0006277'), ('C0265110', 'C0007785'), ('C0265110', 'C0030312'), ('C0265110', 'C0038218'), ('C0265110', 'C0751634'), ('C0265110', 'C0751848'), ('C0265110', 'C1135191'), ('C0265110', 'C2931384'), ('C0338495', 'C0007785'), ('C0338495', 'C0022610'), ('C0338495', 'C0028756'), ('C0338495', 'C0206146'), ('C0338495', 'C0751848'), ('C0338495', 'C1135191'), ('C0338495', 'C2931384'), ('C0349231', 'C0007785'), ('C0349231', 'C0013415'), ('C0349231', 'C0034091'), ('C0600228', 'C0007785'), ('C0600228', 'C0011880'), ('C0600228', 'C0028756'), ('C0600228', 'C0028768'), ('C0600228', 'C0030312'), ('C0600228', 'C0030319'), ('C0600228', 'C0206146'), ('C0600228', 'C0340293'), ('C0600228', 'C0342277'), ('C0600228', 'C0948480'), ('C0600228', 'C1135196'), ('C0600228', 'C1833104'), ('C0600228', 'C1838261'), ('C0600228', 'C1852092'), ('C0600228', 'C1864623'), ('C0751634', 'C0007785'), ('C0751634', 'C0020481'), ('C0751634', 'C2931384'), ('C0751848', 'C0007785'), ('C0751848', 'C0011880'), ('C0751848', 'C0028756'), ('C0751848', 'C0030312'), ('C0751848', 'C0030319'), ('C0751848', 'C0034902'), ('C0751848', 'C0086666'), ('C0751848', 'C0751824'), ('C0751848', 'C1135196'), ('C0751848', 'C1838100'), ('C0751848', 'C2674218'), ('C0751848', 'C2931384'), ('C1135191', 'C0007785'), ('C1135191', 'C0011880'), ('C1135191', 'C0028756'), ('C1135191', 'C0028768'), ('C1135191', 'C0030319'), ('C1135191', 'C0340293'), ('C1135191', 'C0948480'), ('C1135191', 'C1135196'), ('C1135191', 'C2674218'), ('C1266144', 'C0007785'), ('C1266144', 'C0020480'), ('C1266144', 'C2674218'), ('C1835817', 'C0011579'), ('C1835817', 'C0013415'), ('C1835817', 'C0030312'), ('C1835817', 'C0342277'), ('C1835817', 'C0948480'), ('C1835817', 'C1836860'), ('C1835817', 'C1856797'), ('C1836860', 'C0030312'), ('C1838100', 'C0007785'), ('C1838100', 'C0011880'), ('C1838100', 'C0022610'), ('C1838100', 'C0272052'), ('C1838100', 'C0342277'), ('C1838100', 'C0431693'), ('C1838100', 'C1833104'), ('C1838100', 'C1852093'), ('C1838100', 'C2675866'), ('C1838457', 'C1306856'), ('C2674218', 'C0006277'), ('C2674218', 'C0007785'), ('C2674218', 'C0028756'), ('C2674218', 'C0948480'), ('C2674218', 'C2675192'), ('C2674218', 'C2678338'), ('C2674218', 'C2931384'), ('C2930930', 'C0028756'), ('C2931384', 'C0006277'), ('C2931384', 'C0007785'), ('C2931384', 'C0011880'), ('C2931384', 'C0020481'), ('C2931384', 'C0030319'), ('C2931384', 'C0270639'), ('C2931384', 'C0948480'), ('C0007785', 'C0007780'), ('C0007785', 'C0020480'), ('C0007785', 'C0022610'), ('C0007785', 'C0028756'), ('C0007785', 'C0030312'), ('C0007785', 'C0034091'), ('C0007785', 'C0034902'), ('C0007785', 'C0038218'), ('C0007785', 'C0043019'), ('C0007785', 'C0086666'), ('C0007785', 'C0206146'), ('C0007785', 'C0270639'), ('C0007785', 'C0340293'), ('C0007785', 'C0431693'), ('C0007785', 'C0751824'), ('C0007785', 'C1135196'), ('C0007785', 'C1833104'), ('C0007785', 'C1864623'), ('C0011579', 'C0030312'), ('C0011579', 'C0034902'), ('C0011579', 'C0272052'), ('C0011579', 'C0342277'), ('C0011579', 'C1969343'), ('C0431693', 'C0038218'), ('C0431693', 'C0342277'), ('C0431693', 'C1833104'), ('C0431693', 'C1852093'), ('C0431693', 'C2675866'), ('C0750988', 'C0007780'), ('C0750988', 'C0034091'), ('C0750988', 'C0038218'), ('C0750988', 'C0272052'), ('C0750988', 'C0342277'), ('C0750988', 'C1833382'), ('C0750988', 'C1838259'), ('C0751824', 'C0007780'), ('C0751824', 'C0028768'), ('C1135196', 'C0028756'), ('C1135196', 'C0030312'), ('C1135196', 'C0030319'), ('C1306856', 'C0007780'), ('C1306856', 'C0030312'), ('C1833104', 'C0011880'), ('C1833104', 'C0030319'), ('C1833104', 'C0342277'), ('C1833104', 'C1833382'), ('C1833104', 'C1838261'), ('C1833104', 'C1852092'), ('C1833104', 'C1852093'), ('C1833104', 'C1864623'), ('C1833104', 'C2675866'), ('C1833382', 'C0030312'), ('C1833382', 'C0270639'), ('C1833382', 'C0948480'), ('C1833382', 'C1845028'), ('C1833382', 'C1853371'), ('C1838259', 'C0028756'), ('C1838259', 'C0028768'), ('C1838259', 'C0270639'), ('C1838259', 'C0730525'), ('C1838259', 'C0948480'), ('C1838259', 'C1838260'), ('C1838259', 'C1845028'), ('C1838261', 'C0034902'), ('C1852093', 'C0011880'), ('C1852093', 'C2675866'), ('C1853371', 'C0034091'), ('C1853371', 'C0272052'), ('C1853371', 'C0342277'), ('C1863512', 'C0020480'), ('C1969343', 'C0034091'), ('C0006277', 'C0030312'), ('C0006277', 'C0038218'), ('C0006277', 'C0270639'), ('C0006277', 'C0342277'), ('C0006277', 'C0948480'), ('C0006277', 'C1845028'), ('C0030312', 'C0011880'), ('C0030312', 'C0028756'), ('C0030312', 'C0038218'), ('C0030312', 'C0340293'), ('C0030312', 'C0948480'), ('C0030312', 'C1836861'), ('C0030312', 'C1845028'), ('C0030312', 'C1856797'), ('C0030312', 'C1864041'), ('C0038218', 'C0028756'), ('C0038218', 'C0270639'), ('C0038218', 'C0272052'), ('C0038218', 'C0342277'), ('C0270639', 'C0013415'), ('C0270639', 'C0034091'), ('C0270639', 'C0272052'), ('C0270639', 'C0340293'), ('C0270639', 'C0342277'), ('C0342277', 'C0007780'), ('C0342277', 'C0028768'), ('C0342277', 'C0034902'), ('C0342277', 'C0043019'), ('C0342277', 'C0152264'), ('C0342277', 'C1832392'), ('C0342277', 'C1852092'), ('C0342277', 'C1857775'), ('C0342277', 'C1864041'), ('C0342277', 'C1864623'), ('C0342277', 'C1864839'), ('C0342277', 'C2675212'), ('C0948480', 'C0034902'), ('C0948480', 'C1836861'), ('C0948480', 'C2675512'), ('C1845028', 'C0730525'), ('C0007780', 'C0206703'), ('C0007780', 'C0272052'), ('C0007780', 'C1832392'), ('C0206703', 'C0020480'), ('C0206703', 'C0730525'), ('C0272052', 'C1832392'), ('C0272052', 'C1864839'), ('C1832392', 'C0028756'), ('C1832392', 'C0034091'), ('C1832392', 'C0043019'), ('C0020480', 'C0028756'), ('C0022610', 'C0206146'), ('C0022610', 'C0730525'), ('C0022610', 'C2675212'), ('C0028756', 'C0011880'), ('C0028756', 'C0013415'), ('C0028756', 'C0340968'), ('C0028756', 'C1864041'), ('C0034091', 'C0011880'), ('C0034091', 'C0013415'), ('C0034091', 'C0340293'), ('C0043019', 'C0011880'), ('C0340293', 'C1864839'), ('C1864623', 'C0011880'), ('C0030319', 'C0013415'), ('C0030319', 'C1852092'), ('C0152264', 'C1837915'), ('C0011880', 'C1852092'), ('C0013415', 'C0020481'), ('C0020481', 'C0730525'), ('C0028768', 'C1864041')])"
      ]
     },
     "execution_count": 40,
     "metadata": {},
     "output_type": "execute_result"
    }
   ],
   "source": [
    "assert  G.number_of_edges() == disease_to_disease_edges.shape[0], \"G.number_of_edges() =! disease_to_disease_edges.shape[0]\"\n",
    "G.edges "
   ]
  },
  {
   "cell_type": "code",
   "execution_count": 41,
   "metadata": {},
   "outputs": [
    {
     "data": {
      "text/plain": [
       "539"
      ]
     },
     "execution_count": 41,
     "metadata": {},
     "output_type": "execute_result"
    }
   ],
   "source": [
    "len(G.edges)"
   ]
  },
  {
   "cell_type": "code",
   "execution_count": 42,
   "metadata": {
    "pycharm": {
     "is_executing": false,
     "name": "#%%\n"
    }
   },
   "outputs": [
    {
     "data": {
      "text/plain": [
       "NodeView(('C0002876', 'C0004096', 'C0020479', 'C0027051', 'C0031190', 'C0032463', 'C0085207', 'C0162316', 'C0221018', 'C0262584', 'C0271650', 'C0740302', 'C0002890', 'C0008909', 'C0011859', 'C0014761', 'C0025193', 'C0025637', 'C0003467', 'C0009426', 'C0020474', 'C0151814', 'C0236816', 'C0265110', 'C0338495', 'C0349231', 'C0600228', 'C0751634', 'C0751848', 'C1135191', 'C1266144', 'C1835817', 'C1836860', 'C1838100', 'C1838457', 'C2674218', 'C2930930', 'C2931384', 'C0007785', 'C0011579', 'C0431693', 'C0750988', 'C0751824', 'C1135196', 'C1306856', 'C1833104', 'C1833218', 'C1833382', 'C1838259', 'C1838261', 'C1852093', 'C1853297', 'C1853371', 'C1863512', 'C1969343', 'C2675866', 'C0006277', 'C0030312', 'C0038218', 'C0270639', 'C0342277', 'C0948480', 'C1845028', 'C0007780', 'C0206703', 'C0272052', 'C1832392', 'C0020480', 'C0022610', 'C0028756', 'C0034091', 'C0034902', 'C0043019', 'C0086666', 'C0206146', 'C0340293', 'C1864623', 'C0030319', 'C0340968', 'C0152264', 'C0011880', 'C1852092', 'C0013415', 'C0020481', 'C0028768', 'C1720779', 'C0730525', 'C2675212', 'C1864839', 'C1864041', 'C1836861', 'C1856797', 'C1837915', 'C1857775', 'C2675512', 'C1838260', 'C2675192', 'C2678338'))"
      ]
     },
     "execution_count": 42,
     "metadata": {},
     "output_type": "execute_result"
    }
   ],
   "source": [
    "assert G.number_of_nodes() == pd.concat([ disease_to_disease_edges['disease2'], disease_to_disease_edges['disease1'] ]).unique().shape[0]\n",
    "\n",
    "G.nodes"
   ]
  },
  {
   "cell_type": "code",
   "execution_count": 43,
   "metadata": {},
   "outputs": [
    {
     "data": {
      "text/plain": [
       "98"
      ]
     },
     "execution_count": 43,
     "metadata": {},
     "output_type": "execute_result"
    }
   ],
   "source": [
    "len(G.nodes)"
   ]
  },
  {
   "cell_type": "code",
   "execution_count": 44,
   "metadata": {
    "pycharm": {
     "is_executing": false,
     "name": "#%%\n"
    }
   },
   "outputs": [
    {
     "data": {
      "text/plain": [
       "EdgeDataView([('C0002876', 'C0004096'), ('C0002876', 'C0020479'), ('C0002876', 'C0027051'), ('C0002876', 'C0031190'), ('C0002876', 'C0032463'), ('C0002876', 'C0085207'), ('C0002876', 'C0162316'), ('C0002876', 'C0221018'), ('C0002876', 'C0262584'), ('C0002876', 'C0271650'), ('C0002876', 'C0740302')])"
      ]
     },
     "execution_count": 44,
     "metadata": {},
     "output_type": "execute_result"
    }
   ],
   "source": [
    "# output edges indcident to C0002876 (aka degree )\n",
    "G.edges('C0002876')"
   ]
  },
  {
   "cell_type": "markdown",
   "metadata": {
    "pycharm": {
     "is_executing": false,
     "name": "#%% md\n"
    }
   },
   "source": [
    "# find InClassRatio and OutClassRation of each nodes"
   ]
  },
  {
   "cell_type": "markdown",
   "metadata": {
    "pycharm": {
     "name": "#%% md\n"
    }
   },
   "source": [
    "### Definition \n",
    "#### InClassRatio = number of node neighbors that belong to the same class\n",
    "#### OutClassRatio = number of node neighbors that belong to the different class"
   ]
  },
  {
   "cell_type": "code",
   "execution_count": 45,
   "metadata": {
    "pycharm": {
     "is_executing": false,
     "name": "#%%\n"
    },
    "scrolled": true
   },
   "outputs": [
    {
     "data": {
      "text/html": [
       "<div>\n",
       "<style scoped>\n",
       "    .dataframe tbody tr th:only-of-type {\n",
       "        vertical-align: middle;\n",
       "    }\n",
       "\n",
       "    .dataframe tbody tr th {\n",
       "        vertical-align: top;\n",
       "    }\n",
       "\n",
       "    .dataframe thead th {\n",
       "        text-align: right;\n",
       "    }\n",
       "</style>\n",
       "<table border=\"1\" class=\"dataframe\">\n",
       "  <thead>\n",
       "    <tr style=\"text-align: right;\">\n",
       "      <th></th>\n",
       "      <th>0</th>\n",
       "      <th>1</th>\n",
       "    </tr>\n",
       "  </thead>\n",
       "  <tbody>\n",
       "    <tr>\n",
       "      <th>0</th>\n",
       "      <td>C0001818</td>\n",
       "      <td>4</td>\n",
       "    </tr>\n",
       "    <tr>\n",
       "      <th>1</th>\n",
       "      <td>C0002876</td>\n",
       "      <td>2</td>\n",
       "    </tr>\n",
       "    <tr>\n",
       "      <th>2</th>\n",
       "      <td>C0002890</td>\n",
       "      <td>2</td>\n",
       "    </tr>\n",
       "    <tr>\n",
       "      <th>3</th>\n",
       "      <td>C0003467</td>\n",
       "      <td>4</td>\n",
       "    </tr>\n",
       "    <tr>\n",
       "      <th>4</th>\n",
       "      <td>C0004096</td>\n",
       "      <td>0</td>\n",
       "    </tr>\n",
       "  </tbody>\n",
       "</table>\n",
       "</div>"
      ],
      "text/plain": [
       "          0  1\n",
       "0  C0001818  4\n",
       "1  C0002876  2\n",
       "2  C0002890  2\n",
       "3  C0003467  4\n",
       "4  C0004096  0"
      ]
     },
     "execution_count": 45,
     "metadata": {},
     "output_type": "execute_result"
    }
   ],
   "source": [
    "cui_and_class_id.head()"
   ]
  },
  {
   "cell_type": "code",
   "execution_count": 46,
   "metadata": {
    "pycharm": {
     "is_executing": false
    },
    "scrolled": true
   },
   "outputs": [
    {
     "data": {
      "text/plain": [
       "{'C0001818': 4,\n",
       " 'C0002876': 2,\n",
       " 'C0002890': 2,\n",
       " 'C0003467': 4,\n",
       " 'C0004096': 0,\n",
       " 'C0006277': 0,\n",
       " 'C0007780': 3,\n",
       " 'C0007785': 3,\n",
       " 'C0008909': 4,\n",
       " 'C0009426': 4,\n",
       " 'C0011579': 4,\n",
       " 'C0011859': 1,\n",
       " 'C0011880': 1,\n",
       " 'C0013415': 4,\n",
       " 'C0014761': 2,\n",
       " 'C0020474': 1,\n",
       " 'C0020479': 1,\n",
       " 'C0020480': 1,\n",
       " 'C0020481': 1,\n",
       " 'C0022610': 2,\n",
       " 'C0025193': 4,\n",
       " 'C0025637': 2,\n",
       " 'C0027051': 3,\n",
       " 'C0028756': 1,\n",
       " 'C0028768': 4,\n",
       " 'C0030312': 2,\n",
       " 'C0030319': 4,\n",
       " 'C0031190': 0,\n",
       " 'C0032463': 2,\n",
       " 'C0034091': 0,\n",
       " 'C0034902': 2,\n",
       " 'C0038218': 0,\n",
       " 'C0043019': 3,\n",
       " 'C0085207': 1,\n",
       " 'C0086666': 3,\n",
       " 'C0151814': 3,\n",
       " 'C0152264': 2,\n",
       " 'C0162316': 2,\n",
       " 'C0206146': 3,\n",
       " 'C0206703': 0,\n",
       " 'C0221018': 2,\n",
       " 'C0236816': 4,\n",
       " 'C0262584': 0,\n",
       " 'C0265110': 3,\n",
       " 'C0270639': 3,\n",
       " 'C0271650': 1,\n",
       " 'C0272052': 2,\n",
       " 'C0338495': 4,\n",
       " 'C0340293': 3,\n",
       " 'C0340968': 2,\n",
       " 'C0342277': 1,\n",
       " 'C0349231': 4,\n",
       " 'C0431693': 1,\n",
       " 'C0600228': 3,\n",
       " 'C0730525': 4,\n",
       " 'C0740302': 2,\n",
       " 'C0750988': 3,\n",
       " 'C0751634': 3,\n",
       " 'C0751824': 3,\n",
       " 'C0751848': 3,\n",
       " 'C0948480': 3,\n",
       " 'C1135191': 3,\n",
       " 'C1135196': 3,\n",
       " 'C1266144': 0,\n",
       " 'C1306856': 2,\n",
       " 'C1720779': 1,\n",
       " 'C1832392': 1,\n",
       " 'C1833104': 1,\n",
       " 'C1833218': 1,\n",
       " 'C1833382': 1,\n",
       " 'C1835817': 2,\n",
       " 'C1836860': 2,\n",
       " 'C1836861': 2,\n",
       " 'C1837915': 2,\n",
       " 'C1838100': 1,\n",
       " 'C1838259': 1,\n",
       " 'C1838260': 1,\n",
       " 'C1838261': 1,\n",
       " 'C1838457': 2,\n",
       " 'C1843687': 3,\n",
       " 'C1845028': 2,\n",
       " 'C1852092': 1,\n",
       " 'C1852093': 1,\n",
       " 'C1853297': 1,\n",
       " 'C1853371': 1,\n",
       " 'C1856797': 2,\n",
       " 'C1857775': 1,\n",
       " 'C1863512': 1,\n",
       " 'C1864041': 3,\n",
       " 'C1864623': 1,\n",
       " 'C1864839': 1,\n",
       " 'C1969343': 3,\n",
       " 'C2674218': 2,\n",
       " 'C2675192': 2,\n",
       " 'C2675212': 2,\n",
       " 'C2675512': 2,\n",
       " 'C2675866': 1,\n",
       " 'C2677132': 1,\n",
       " 'C2678338': 2,\n",
       " 'C2930930': 1,\n",
       " 'C2931384': 3}"
      ]
     },
     "execution_count": 46,
     "metadata": {},
     "output_type": "execute_result"
    }
   ],
   "source": [
    "cui2class_id_dict = cui_and_class_id.to_dict()\n",
    "cui2class_id_dict = {cui:cls for cui, cls in zip(cui2class_id_dict[0].values(), cui2class_id_dict[1].values())}\n",
    "cui2class_id_dict"
   ]
  },
  {
   "cell_type": "code",
   "execution_count": null,
   "metadata": {
    "pycharm": {
     "is_executing": false
    }
   },
   "outputs": [],
   "source": []
  },
  {
   "cell_type": "code",
   "execution_count": 47,
   "metadata": {
    "pycharm": {
     "is_executing": false,
     "name": "#%%\n"
    }
   },
   "outputs": [
    {
     "data": {
      "text/plain": [
       "['C0004096',\n",
       " 'C0020479',\n",
       " 'C0027051',\n",
       " 'C0031190',\n",
       " 'C0032463',\n",
       " 'C0085207',\n",
       " 'C0162316',\n",
       " 'C0221018',\n",
       " 'C0262584',\n",
       " 'C0271650',\n",
       " 'C0740302']"
      ]
     },
     "execution_count": 47,
     "metadata": {},
     "output_type": "execute_result"
    }
   ],
   "source": [
    "# Gaol = get number of nodes that are in the same class as C0002876\n",
    "C0002865_neighbors = list( G.neighbors('C0002876') )\n",
    "\n",
    "C0002865_neighbors"
   ]
  },
  {
   "cell_type": "code",
   "execution_count": 48,
   "metadata": {
    "pycharm": {
     "is_executing": false,
     "name": "#%%\n"
    }
   },
   "outputs": [
    {
     "data": {
      "text/plain": [
       "[0, 1, 3, 0, 2]"
      ]
     },
     "execution_count": 48,
     "metadata": {},
     "output_type": "execute_result"
    }
   ],
   "source": [
    "# C0002865_neighbors_class_id = list(map(cui2class_id_dict, C0002865_neighbors))\n",
    "C0002865_neighbors_class_id = [cui2class_id_dict[i] for i in C0002865_neighbors]\n",
    "C0002865_neighbors_class_id[:5]"
   ]
  },
  {
   "cell_type": "code",
   "execution_count": 49,
   "metadata": {
    "pycharm": {
     "is_executing": false
    }
   },
   "outputs": [
    {
     "data": {
      "text/plain": [
       "(101, 2)"
      ]
     },
     "execution_count": 49,
     "metadata": {},
     "output_type": "execute_result"
    }
   ],
   "source": [
    "cui_and_class_id.shape"
   ]
  },
  {
   "cell_type": "markdown",
   "metadata": {},
   "source": [
    "# check if disease from copd_label_content is the same set as disease from copd_label07_14_19_46"
   ]
  },
  {
   "cell_type": "code",
   "execution_count": 50,
   "metadata": {
    "pycharm": {
     "is_executing": false,
     "name": "#%%\n"
    },
    "scrolled": true
   },
   "outputs": [
    {
     "name": "stdout",
     "output_type": "stream",
     "text": [
      "101\n",
      "101\n"
     ]
    }
   ],
   "source": [
    "\n",
    "\n",
    "# cui_and_class_id.head()\n",
    "\n",
    "# copd_df.shape\n",
    "\n",
    "# copd_df.columns\n",
    "\n",
    "# copd_df['diseaseId'].unique().shape\n",
    "\n",
    "cui_from_copd_label = copd_df['diseaseId']\n",
    "cui_from_copd_content = cui_and_class_id[0]\n",
    "\n",
    "print(len(set(cui_from_copd_label)))\n",
    "print(len(set(cui_from_copd_label).intersection(set(cui_from_copd_content))))"
   ]
  },
  {
   "cell_type": "markdown",
   "metadata": {},
   "source": [
    "# check if cui from GeneDisease_all_disease_to_disease is a subset of cui from copd_label07_14_19_46"
   ]
  },
  {
   "cell_type": "code",
   "execution_count": 51,
   "metadata": {
    "pycharm": {
     "is_executing": false
    }
   },
   "outputs": [
    {
     "name": "stdout",
     "output_type": "stream",
     "text": [
      "98\n",
      "98\n",
      "98\n"
     ]
    }
   ],
   "source": [
    "cui_from_edges = pd.concat([ disease_to_disease_edges['disease2'], disease_to_disease_edges['disease1'] ]).unique()\n",
    "cui_from_edges.shape[0]\n",
    "print(len(cui_from_edges))\n",
    "print(len(set(cui_from_edges).intersection(set(cui_from_copd_label))))\n",
    "print(len(set(cui_from_edges).intersection(set(cui_from_copd_content))))"
   ]
  },
  {
   "cell_type": "markdown",
   "metadata": {},
   "source": [
    "## get number of inclass nad outclass for each diseases"
   ]
  },
  {
   "cell_type": "code",
   "execution_count": 52,
   "metadata": {
    "pycharm": {
     "is_executing": false
    }
   },
   "outputs": [],
   "source": [
    "# here>> G.nodes() == 98, but there exist 3 more nodes that is not in G.nodes(). Should it has 101? if it should, how do I fixe it? \n",
    "cui_and_inclass_cui_dict = {}\n",
    "cui_and_outclass_cui_dict = {}\n",
    "for ind,i in enumerate(G.nodes()):\n",
    "    disease_class_id = cui2class_id_dict[i]\n",
    "    cui_and_inclass_cui_dict.setdefault(i,[])\n",
    "    cui_and_outclass_cui_dict.setdefault(i,[])\n",
    "    # get list of cui that are neibhor of the current node and are in the same class\n",
    "    for cui in G.neighbors(i):\n",
    "        # here>> logic below is wrong \n",
    "        if cui2class_id_dict[cui] == disease_class_id:\n",
    "            cui_and_inclass_cui_dict[i].append(cui)\n",
    "        else:\n",
    "            cui_and_outclass_cui_dict[i].append(cui)\n",
    "#     print(neighbor_class_id)"
   ]
  },
  {
   "cell_type": "code",
   "execution_count": 53,
   "metadata": {
    "pycharm": {
     "is_executing": false
    },
    "scrolled": true
   },
   "outputs": [
    {
     "name": "stdout",
     "output_type": "stream",
     "text": [
      "98\n",
      "98\n",
      "98\n"
     ]
    }
   ],
   "source": [
    "print(len(G.nodes()))\n",
    "print(len(list((cui_and_inclass_cui_dict.keys()))))\n",
    "print(len(list((cui_and_outclass_cui_dict.keys()))))"
   ]
  },
  {
   "cell_type": "markdown",
   "metadata": {},
   "source": [
    "## calculate InClassRatio and OutClassRatio"
   ]
  },
  {
   "cell_type": "markdown",
   "metadata": {},
   "source": [
    "### formular of InClassRatio and OutClassRatio\n",
    "#### InClassRatio = (# of InClass / # of degree) \n",
    "#### OutClassRatio = (# of OutClass / # of degree) "
   ]
  },
  {
   "cell_type": "code",
   "execution_count": 54,
   "metadata": {
    "pycharm": {
     "is_executing": false
    },
    "scrolled": false
   },
   "outputs": [
    {
     "data": {
      "text/plain": [
       "DegreeView({'C0002876': 11, 'C0004096': 27, 'C0020479': 11, 'C0027051': 27, 'C0031190': 11, 'C0032463': 16, 'C0085207': 26, 'C0162316': 27, 'C0221018': 9, 'C0262584': 9, 'C0271650': 23, 'C0740302': 18, 'C0002890': 6, 'C0008909': 14, 'C0011859': 16, 'C0014761': 15, 'C0025193': 13, 'C0025637': 10, 'C0003467': 24, 'C0009426': 10, 'C0020474': 17, 'C0151814': 17, 'C0236816': 10, 'C0265110': 14, 'C0338495': 11, 'C0349231': 5, 'C0600228': 24, 'C0751634': 5, 'C0751848': 25, 'C1135191': 18, 'C1266144': 5, 'C1835817': 11, 'C1836860': 4, 'C1838100': 18, 'C1838457': 3, 'C2674218': 19, 'C2930930': 6, 'C2931384': 24, 'C0007785': 33, 'C0011579': 11, 'C0431693': 9, 'C0750988': 9, 'C0751824': 9, 'C1135196': 12, 'C1306856': 5, 'C1833104': 17, 'C1833218': 1, 'C1833382': 11, 'C1838259': 12, 'C1838261': 6, 'C1852093': 10, 'C1853297': 2, 'C1853371': 5, 'C1863512': 7, 'C1969343': 3, 'C2675866': 7, 'C0006277': 19, 'C0030312': 27, 'C0038218': 15, 'C0270639': 14, 'C0342277': 27, 'C0948480': 14, 'C1845028': 9, 'C0007780': 10, 'C0206703': 3, 'C0272052': 12, 'C1832392': 10, 'C0020480': 9, 'C0022610': 9, 'C0028756': 24, 'C0034091': 14, 'C0034902': 9, 'C0043019': 5, 'C0086666': 3, 'C0206146': 6, 'C0340293': 8, 'C1864623': 8, 'C0030319': 13, 'C0340968': 3, 'C0152264': 4, 'C0011880': 15, 'C1852092': 7, 'C0013415': 10, 'C0020481': 5, 'C0028768': 10, 'C1720779': 2, 'C0730525': 5, 'C2675212': 2, 'C1864839': 5, 'C1864041': 4, 'C1836861': 2, 'C1856797': 2, 'C1837915': 1, 'C1857775': 1, 'C2675512': 1, 'C1838260': 1, 'C2675192': 1, 'C2678338': 1})"
      ]
     },
     "execution_count": 54,
     "metadata": {},
     "output_type": "execute_result"
    }
   ],
   "source": [
    "G.degree # convert this so that order of nodes keyword are the sme as cui_and_inclass_cui_dict"
   ]
  },
  {
   "cell_type": "code",
   "execution_count": 55,
   "metadata": {
    "pycharm": {
     "is_executing": false
    }
   },
   "outputs": [],
   "source": [
    "cui_degree = {cui:G.degree[cui] for cui in G.nodes()}"
   ]
  },
  {
   "cell_type": "code",
   "execution_count": 56,
   "metadata": {
    "pycharm": {
     "is_executing": false
    }
   },
   "outputs": [
    {
     "data": {
      "text/plain": [
       "11"
      ]
     },
     "execution_count": 56,
     "metadata": {},
     "output_type": "execute_result"
    }
   ],
   "source": [
    "G.degree('C0002876')"
   ]
  },
  {
   "cell_type": "code",
   "execution_count": 57,
   "metadata": {
    "pycharm": {
     "is_executing": false
    },
    "scrolled": true
   },
   "outputs": [
    {
     "data": {
      "text/plain": [
       "{'C0002876': 11,\n",
       " 'C0004096': 27,\n",
       " 'C0020479': 11,\n",
       " 'C0027051': 27,\n",
       " 'C0031190': 11,\n",
       " 'C0032463': 16,\n",
       " 'C0085207': 26,\n",
       " 'C0162316': 27,\n",
       " 'C0221018': 9,\n",
       " 'C0262584': 9,\n",
       " 'C0271650': 23,\n",
       " 'C0740302': 18,\n",
       " 'C0002890': 6,\n",
       " 'C0008909': 14,\n",
       " 'C0011859': 16,\n",
       " 'C0014761': 15,\n",
       " 'C0025193': 13,\n",
       " 'C0025637': 10,\n",
       " 'C0003467': 24,\n",
       " 'C0009426': 10,\n",
       " 'C0020474': 17,\n",
       " 'C0151814': 17,\n",
       " 'C0236816': 10,\n",
       " 'C0265110': 14,\n",
       " 'C0338495': 11,\n",
       " 'C0349231': 5,\n",
       " 'C0600228': 24,\n",
       " 'C0751634': 5,\n",
       " 'C0751848': 25,\n",
       " 'C1135191': 18,\n",
       " 'C1266144': 5,\n",
       " 'C1835817': 11,\n",
       " 'C1836860': 4,\n",
       " 'C1838100': 18,\n",
       " 'C1838457': 3,\n",
       " 'C2674218': 19,\n",
       " 'C2930930': 6,\n",
       " 'C2931384': 24,\n",
       " 'C0007785': 33,\n",
       " 'C0011579': 11,\n",
       " 'C0431693': 9,\n",
       " 'C0750988': 9,\n",
       " 'C0751824': 9,\n",
       " 'C1135196': 12,\n",
       " 'C1306856': 5,\n",
       " 'C1833104': 17,\n",
       " 'C1833218': 1,\n",
       " 'C1833382': 11,\n",
       " 'C1838259': 12,\n",
       " 'C1838261': 6,\n",
       " 'C1852093': 10,\n",
       " 'C1853297': 2,\n",
       " 'C1853371': 5,\n",
       " 'C1863512': 7,\n",
       " 'C1969343': 3,\n",
       " 'C2675866': 7,\n",
       " 'C0006277': 19,\n",
       " 'C0030312': 27,\n",
       " 'C0038218': 15,\n",
       " 'C0270639': 14,\n",
       " 'C0342277': 27,\n",
       " 'C0948480': 14,\n",
       " 'C1845028': 9,\n",
       " 'C0007780': 10,\n",
       " 'C0206703': 3,\n",
       " 'C0272052': 12,\n",
       " 'C1832392': 10,\n",
       " 'C0020480': 9,\n",
       " 'C0022610': 9,\n",
       " 'C0028756': 24,\n",
       " 'C0034091': 14,\n",
       " 'C0034902': 9,\n",
       " 'C0043019': 5,\n",
       " 'C0086666': 3,\n",
       " 'C0206146': 6,\n",
       " 'C0340293': 8,\n",
       " 'C1864623': 8,\n",
       " 'C0030319': 13,\n",
       " 'C0340968': 3,\n",
       " 'C0152264': 4,\n",
       " 'C0011880': 15,\n",
       " 'C1852092': 7,\n",
       " 'C0013415': 10,\n",
       " 'C0020481': 5,\n",
       " 'C0028768': 10,\n",
       " 'C1720779': 2,\n",
       " 'C0730525': 5,\n",
       " 'C2675212': 2,\n",
       " 'C1864839': 5,\n",
       " 'C1864041': 4,\n",
       " 'C1836861': 2,\n",
       " 'C1856797': 2,\n",
       " 'C1837915': 1,\n",
       " 'C1857775': 1,\n",
       " 'C2675512': 1,\n",
       " 'C1838260': 1,\n",
       " 'C2675192': 1,\n",
       " 'C2678338': 1}"
      ]
     },
     "execution_count": 57,
     "metadata": {},
     "output_type": "execute_result"
    }
   ],
   "source": [
    "cui_degree"
   ]
  },
  {
   "cell_type": "code",
   "execution_count": 58,
   "metadata": {
    "pycharm": {
     "is_executing": false
    },
    "scrolled": true
   },
   "outputs": [
    {
     "data": {
      "text/plain": [
       "{'C0002876': 0.36363636363636365,\n",
       " 'C0004096': 0.0,\n",
       " 'C0020479': 0.36363636363636365,\n",
       " 'C0027051': 0.2222222222222222,\n",
       " 'C0031190': 0.09090909090909091,\n",
       " 'C0032463': 0.1875,\n",
       " 'C0085207': 0.38461538461538464,\n",
       " 'C0162316': 0.2962962962962963,\n",
       " 'C0221018': 0.4444444444444444,\n",
       " 'C0262584': 0.1111111111111111,\n",
       " 'C0271650': 0.43478260869565216,\n",
       " 'C0740302': 0.3333333333333333,\n",
       " 'C0002890': 0.5,\n",
       " 'C0008909': 0.14285714285714285,\n",
       " 'C0011859': 0.375,\n",
       " 'C0014761': 0.26666666666666666,\n",
       " 'C0025193': 0.0,\n",
       " 'C0025637': 0.3,\n",
       " 'C0003467': 0.16666666666666666,\n",
       " 'C0009426': 0.2,\n",
       " 'C0020474': 0.29411764705882354,\n",
       " 'C0151814': 0.23529411764705882,\n",
       " 'C0236816': 0.4,\n",
       " 'C0265110': 0.35714285714285715,\n",
       " 'C0338495': 0.09090909090909091,\n",
       " 'C0349231': 0.4,\n",
       " 'C0600228': 0.2916666666666667,\n",
       " 'C0751634': 0.6,\n",
       " 'C0751848': 0.32,\n",
       " 'C1135191': 0.3333333333333333,\n",
       " 'C1266144': 0.0,\n",
       " 'C1835817': 0.45454545454545453,\n",
       " 'C1836860': 0.5,\n",
       " 'C1838100': 0.5,\n",
       " 'C1838457': 0.3333333333333333,\n",
       " 'C2674218': 0.2631578947368421,\n",
       " 'C2930930': 0.5,\n",
       " 'C2931384': 0.3333333333333333,\n",
       " 'C0007785': 0.42424242424242425,\n",
       " 'C0011579': 0.0,\n",
       " 'C0431693': 0.6666666666666666,\n",
       " 'C0750988': 0.1111111111111111,\n",
       " 'C0751824': 0.4444444444444444,\n",
       " 'C1135196': 0.4166666666666667,\n",
       " 'C1306856': 0.4,\n",
       " 'C1833104': 0.7058823529411765,\n",
       " 'C1833218': 0.0,\n",
       " 'C1833382': 0.36363636363636365,\n",
       " 'C1838259': 0.3333333333333333,\n",
       " 'C1838261': 0.3333333333333333,\n",
       " 'C1852093': 0.8,\n",
       " 'C1853297': 0.0,\n",
       " 'C1853371': 0.4,\n",
       " 'C1863512': 0.5714285714285714,\n",
       " 'C1969343': 0.0,\n",
       " 'C2675866': 0.7142857142857143,\n",
       " 'C0006277': 0.15789473684210525,\n",
       " 'C0030312': 0.3333333333333333,\n",
       " 'C0038218': 0.06666666666666667,\n",
       " 'C0270639': 0.21428571428571427,\n",
       " 'C0342277': 0.3333333333333333,\n",
       " 'C0948480': 0.21428571428571427,\n",
       " 'C1845028': 0.2222222222222222,\n",
       " 'C0007780': 0.4,\n",
       " 'C0206703': 0.0,\n",
       " 'C0272052': 0.08333333333333333,\n",
       " 'C1832392': 0.3,\n",
       " 'C0020480': 0.3333333333333333,\n",
       " 'C0022610': 0.3333333333333333,\n",
       " 'C0028756': 0.2916666666666667,\n",
       " 'C0034091': 0.0,\n",
       " 'C0034902': 0.2222222222222222,\n",
       " 'C0043019': 0.2,\n",
       " 'C0086666': 0.6666666666666666,\n",
       " 'C0206146': 0.3333333333333333,\n",
       " 'C0340293': 0.5,\n",
       " 'C1864623': 0.625,\n",
       " 'C0030319': 0.23076923076923078,\n",
       " 'C0340968': 0.3333333333333333,\n",
       " 'C0152264': 0.25,\n",
       " 'C0011880': 0.4666666666666667,\n",
       " 'C1852092': 0.5714285714285714,\n",
       " 'C0013415': 0.3,\n",
       " 'C0020481': 0.0,\n",
       " 'C0028768': 0.1,\n",
       " 'C1720779': 0.0,\n",
       " 'C0730525': 0.0,\n",
       " 'C2675212': 0.5,\n",
       " 'C1864839': 0.4,\n",
       " 'C1864041': 0.0,\n",
       " 'C1836861': 0.5,\n",
       " 'C1856797': 1.0,\n",
       " 'C1837915': 1.0,\n",
       " 'C1857775': 1.0,\n",
       " 'C2675512': 0.0,\n",
       " 'C1838260': 1.0,\n",
       " 'C2675192': 1.0,\n",
       " 'C2678338': 1.0}"
      ]
     },
     "execution_count": 58,
     "metadata": {},
     "output_type": "execute_result"
    }
   ],
   "source": [
    "inclass_ratio_dict = {cui:len(cui_and_inclass_cui_dict[cui])/cui_degree[cui] for cui in G.nodes()}\n",
    "inclass_ratio_dict"
   ]
  },
  {
   "cell_type": "code",
   "execution_count": 59,
   "metadata": {
    "pycharm": {
     "is_executing": false
    }
   },
   "outputs": [
    {
     "name": "stdout",
     "output_type": "stream",
     "text": [
      "98\n",
      "98\n",
      "98\n"
     ]
    }
   ],
   "source": [
    "print(len(cui_degree))\n",
    "print(len(G.nodes()))\n",
    "print(len(list(cui_and_inclass_cui_dict.keys())))"
   ]
  },
  {
   "cell_type": "markdown",
   "metadata": {},
   "source": [
    "# find maximum accumulated_inclass_score"
   ]
  },
  {
   "cell_type": "markdown",
   "metadata": {},
   "source": [
    "## Formular\n",
    "### accumulated_inclass_score = sum(InClass for all nodes with in each class) / sum(# of deree for all node with in each class)"
   ]
  },
  {
   "cell_type": "code",
   "execution_count": 60,
   "metadata": {
    "pycharm": {
     "is_executing": false
    },
    "scrolled": true
   },
   "outputs": [
    {
     "data": {
      "text/plain": [
       "{'C0002876': 4,\n",
       " 'C0004096': 0,\n",
       " 'C0020479': 4,\n",
       " 'C0027051': 6,\n",
       " 'C0031190': 1,\n",
       " 'C0032463': 3,\n",
       " 'C0085207': 10,\n",
       " 'C0162316': 8,\n",
       " 'C0221018': 4,\n",
       " 'C0262584': 1,\n",
       " 'C0271650': 10,\n",
       " 'C0740302': 6,\n",
       " 'C0002890': 3,\n",
       " 'C0008909': 2,\n",
       " 'C0011859': 6,\n",
       " 'C0014761': 4,\n",
       " 'C0025193': 0,\n",
       " 'C0025637': 3,\n",
       " 'C0003467': 4,\n",
       " 'C0009426': 2,\n",
       " 'C0020474': 5,\n",
       " 'C0151814': 4,\n",
       " 'C0236816': 4,\n",
       " 'C0265110': 5,\n",
       " 'C0338495': 1,\n",
       " 'C0349231': 2,\n",
       " 'C0600228': 7,\n",
       " 'C0751634': 3,\n",
       " 'C0751848': 8,\n",
       " 'C1135191': 6,\n",
       " 'C1266144': 0,\n",
       " 'C1835817': 5,\n",
       " 'C1836860': 2,\n",
       " 'C1838100': 9,\n",
       " 'C1838457': 1,\n",
       " 'C2674218': 5,\n",
       " 'C2930930': 3,\n",
       " 'C2931384': 8,\n",
       " 'C0007785': 14,\n",
       " 'C0011579': 0,\n",
       " 'C0431693': 6,\n",
       " 'C0750988': 1,\n",
       " 'C0751824': 4,\n",
       " 'C1135196': 5,\n",
       " 'C1306856': 2,\n",
       " 'C1833104': 12,\n",
       " 'C1833218': 0,\n",
       " 'C1833382': 4,\n",
       " 'C1838259': 4,\n",
       " 'C1838261': 2,\n",
       " 'C1852093': 8,\n",
       " 'C1853297': 0,\n",
       " 'C1853371': 2,\n",
       " 'C1863512': 4,\n",
       " 'C1969343': 0,\n",
       " 'C2675866': 5,\n",
       " 'C0006277': 3,\n",
       " 'C0030312': 9,\n",
       " 'C0038218': 1,\n",
       " 'C0270639': 3,\n",
       " 'C0342277': 9,\n",
       " 'C0948480': 3,\n",
       " 'C1845028': 2,\n",
       " 'C0007780': 4,\n",
       " 'C0206703': 0,\n",
       " 'C0272052': 1,\n",
       " 'C1832392': 3,\n",
       " 'C0020480': 3,\n",
       " 'C0022610': 3,\n",
       " 'C0028756': 7,\n",
       " 'C0034091': 0,\n",
       " 'C0034902': 2,\n",
       " 'C0043019': 1,\n",
       " 'C0086666': 2,\n",
       " 'C0206146': 2,\n",
       " 'C0340293': 4,\n",
       " 'C1864623': 5,\n",
       " 'C0030319': 3,\n",
       " 'C0340968': 1,\n",
       " 'C0152264': 1,\n",
       " 'C0011880': 7,\n",
       " 'C1852092': 4,\n",
       " 'C0013415': 3,\n",
       " 'C0020481': 0,\n",
       " 'C0028768': 1,\n",
       " 'C1720779': 0,\n",
       " 'C0730525': 0,\n",
       " 'C2675212': 1,\n",
       " 'C1864839': 2,\n",
       " 'C1864041': 0,\n",
       " 'C1836861': 1,\n",
       " 'C1856797': 2,\n",
       " 'C1837915': 1,\n",
       " 'C1857775': 1,\n",
       " 'C2675512': 0,\n",
       " 'C1838260': 1,\n",
       " 'C2675192': 1,\n",
       " 'C2678338': 1}"
      ]
     },
     "execution_count": 60,
     "metadata": {},
     "output_type": "execute_result"
    }
   ],
   "source": [
    "inclass_score_dict = {cui: len(cui_and_inclass_cui_dict[cui]) for cui in G.nodes()}\n",
    "inclass_score_dict"
   ]
  },
  {
   "cell_type": "code",
   "execution_count": 61,
   "metadata": {
    "pycharm": {
     "is_executing": false
    },
    "scrolled": true
   },
   "outputs": [
    {
     "data": {
      "text/plain": [
       "{'C0001818': 4,\n",
       " 'C0002876': 2,\n",
       " 'C0002890': 2,\n",
       " 'C0003467': 4,\n",
       " 'C0004096': 0,\n",
       " 'C0006277': 0,\n",
       " 'C0007780': 3,\n",
       " 'C0007785': 3,\n",
       " 'C0008909': 4,\n",
       " 'C0009426': 4,\n",
       " 'C0011579': 4,\n",
       " 'C0011859': 1,\n",
       " 'C0011880': 1,\n",
       " 'C0013415': 4,\n",
       " 'C0014761': 2,\n",
       " 'C0020474': 1,\n",
       " 'C0020479': 1,\n",
       " 'C0020480': 1,\n",
       " 'C0020481': 1,\n",
       " 'C0022610': 2,\n",
       " 'C0025193': 4,\n",
       " 'C0025637': 2,\n",
       " 'C0027051': 3,\n",
       " 'C0028756': 1,\n",
       " 'C0028768': 4,\n",
       " 'C0030312': 2,\n",
       " 'C0030319': 4,\n",
       " 'C0031190': 0,\n",
       " 'C0032463': 2,\n",
       " 'C0034091': 0,\n",
       " 'C0034902': 2,\n",
       " 'C0038218': 0,\n",
       " 'C0043019': 3,\n",
       " 'C0085207': 1,\n",
       " 'C0086666': 3,\n",
       " 'C0151814': 3,\n",
       " 'C0152264': 2,\n",
       " 'C0162316': 2,\n",
       " 'C0206146': 3,\n",
       " 'C0206703': 0,\n",
       " 'C0221018': 2,\n",
       " 'C0236816': 4,\n",
       " 'C0262584': 0,\n",
       " 'C0265110': 3,\n",
       " 'C0270639': 3,\n",
       " 'C0271650': 1,\n",
       " 'C0272052': 2,\n",
       " 'C0338495': 4,\n",
       " 'C0340293': 3,\n",
       " 'C0340968': 2,\n",
       " 'C0342277': 1,\n",
       " 'C0349231': 4,\n",
       " 'C0431693': 1,\n",
       " 'C0600228': 3,\n",
       " 'C0730525': 4,\n",
       " 'C0740302': 2,\n",
       " 'C0750988': 3,\n",
       " 'C0751634': 3,\n",
       " 'C0751824': 3,\n",
       " 'C0751848': 3,\n",
       " 'C0948480': 3,\n",
       " 'C1135191': 3,\n",
       " 'C1135196': 3,\n",
       " 'C1266144': 0,\n",
       " 'C1306856': 2,\n",
       " 'C1720779': 1,\n",
       " 'C1832392': 1,\n",
       " 'C1833104': 1,\n",
       " 'C1833218': 1,\n",
       " 'C1833382': 1,\n",
       " 'C1835817': 2,\n",
       " 'C1836860': 2,\n",
       " 'C1836861': 2,\n",
       " 'C1837915': 2,\n",
       " 'C1838100': 1,\n",
       " 'C1838259': 1,\n",
       " 'C1838260': 1,\n",
       " 'C1838261': 1,\n",
       " 'C1838457': 2,\n",
       " 'C1843687': 3,\n",
       " 'C1845028': 2,\n",
       " 'C1852092': 1,\n",
       " 'C1852093': 1,\n",
       " 'C1853297': 1,\n",
       " 'C1853371': 1,\n",
       " 'C1856797': 2,\n",
       " 'C1857775': 1,\n",
       " 'C1863512': 1,\n",
       " 'C1864041': 3,\n",
       " 'C1864623': 1,\n",
       " 'C1864839': 1,\n",
       " 'C1969343': 3,\n",
       " 'C2674218': 2,\n",
       " 'C2675192': 2,\n",
       " 'C2675212': 2,\n",
       " 'C2675512': 2,\n",
       " 'C2675866': 1,\n",
       " 'C2677132': 1,\n",
       " 'C2678338': 2,\n",
       " 'C2930930': 1,\n",
       " 'C2931384': 3}"
      ]
     },
     "execution_count": 61,
     "metadata": {},
     "output_type": "execute_result"
    }
   ],
   "source": [
    "cui2class_id_dict"
   ]
  },
  {
   "cell_type": "code",
   "execution_count": 62,
   "metadata": {
    "pycharm": {
     "is_executing": false
    }
   },
   "outputs": [
    {
     "data": {
      "text/plain": [
       "101"
      ]
     },
     "execution_count": 62,
     "metadata": {},
     "output_type": "execute_result"
    }
   ],
   "source": [
    "len(cui2class_id_dict.keys())"
   ]
  },
  {
   "cell_type": "code",
   "execution_count": 63,
   "metadata": {
    "pycharm": {
     "is_executing": false,
     "name": "#%%\n"
    },
    "scrolled": true
   },
   "outputs": [
    {
     "data": {
      "text/plain": [
       "{4: ['C0001818',\n",
       "  'C0003467',\n",
       "  'C0008909',\n",
       "  'C0009426',\n",
       "  'C0011579',\n",
       "  'C0013415',\n",
       "  'C0025193',\n",
       "  'C0028768',\n",
       "  'C0030319',\n",
       "  'C0236816',\n",
       "  'C0338495',\n",
       "  'C0349231',\n",
       "  'C0730525'],\n",
       " 2: ['C0002876',\n",
       "  'C0002890',\n",
       "  'C0014761',\n",
       "  'C0022610',\n",
       "  'C0025637',\n",
       "  'C0030312',\n",
       "  'C0032463',\n",
       "  'C0034902',\n",
       "  'C0152264',\n",
       "  'C0162316',\n",
       "  'C0221018',\n",
       "  'C0272052',\n",
       "  'C0340968',\n",
       "  'C0740302',\n",
       "  'C1306856',\n",
       "  'C1835817',\n",
       "  'C1836860',\n",
       "  'C1836861',\n",
       "  'C1837915',\n",
       "  'C1838457',\n",
       "  'C1845028',\n",
       "  'C1856797',\n",
       "  'C2674218',\n",
       "  'C2675192',\n",
       "  'C2675212',\n",
       "  'C2675512',\n",
       "  'C2678338'],\n",
       " 0: ['C0004096',\n",
       "  'C0006277',\n",
       "  'C0031190',\n",
       "  'C0034091',\n",
       "  'C0038218',\n",
       "  'C0206703',\n",
       "  'C0262584',\n",
       "  'C1266144'],\n",
       " 3: ['C0007780',\n",
       "  'C0007785',\n",
       "  'C0027051',\n",
       "  'C0043019',\n",
       "  'C0086666',\n",
       "  'C0151814',\n",
       "  'C0206146',\n",
       "  'C0265110',\n",
       "  'C0270639',\n",
       "  'C0340293',\n",
       "  'C0600228',\n",
       "  'C0750988',\n",
       "  'C0751634',\n",
       "  'C0751824',\n",
       "  'C0751848',\n",
       "  'C0948480',\n",
       "  'C1135191',\n",
       "  'C1135196',\n",
       "  'C1843687',\n",
       "  'C1864041',\n",
       "  'C1969343',\n",
       "  'C2931384'],\n",
       " 1: ['C0011859',\n",
       "  'C0011880',\n",
       "  'C0020474',\n",
       "  'C0020479',\n",
       "  'C0020480',\n",
       "  'C0020481',\n",
       "  'C0028756',\n",
       "  'C0085207',\n",
       "  'C0271650',\n",
       "  'C0342277',\n",
       "  'C0431693',\n",
       "  'C1720779',\n",
       "  'C1832392',\n",
       "  'C1833104',\n",
       "  'C1833218',\n",
       "  'C1833382',\n",
       "  'C1838100',\n",
       "  'C1838259',\n",
       "  'C1838260',\n",
       "  'C1838261',\n",
       "  'C1852092',\n",
       "  'C1852093',\n",
       "  'C1853297',\n",
       "  'C1853371',\n",
       "  'C1857775',\n",
       "  'C1863512',\n",
       "  'C1864623',\n",
       "  'C1864839',\n",
       "  'C2675866',\n",
       "  'C2677132',\n",
       "  'C2930930']}"
      ]
     },
     "execution_count": 63,
     "metadata": {},
     "output_type": "execute_result"
    }
   ],
   "source": [
    "# create dict with {class_id: list of cui belongs to each class}\n",
    "class_id_and_list_of_same_class_cui = {}\n",
    "for cui,class_id in cui2class_id_dict.items():\n",
    "    class_id_and_list_of_same_class_cui.setdefault(class_id, []).append(cui)\n",
    "class_id_and_list_of_same_class_cui"
   ]
  },
  {
   "cell_type": "code",
   "execution_count": 64,
   "metadata": {
    "pycharm": {
     "is_executing": false,
     "name": "#%%\n"
    }
   },
   "outputs": [
    {
     "data": {
      "text/plain": [
       "98"
      ]
     },
     "execution_count": 64,
     "metadata": {},
     "output_type": "execute_result"
    }
   ],
   "source": [
    "len(inclass_score_dict.keys())\n"
   ]
  },
  {
   "cell_type": "code",
   "execution_count": 65,
   "metadata": {
    "pycharm": {
     "is_executing": false
    },
    "scrolled": true
   },
   "outputs": [
    {
     "data": {
      "text/plain": [
       "{4: 0.16176470588235295,\n",
       " 2: 0.3206751054852321,\n",
       " 0: 0.05825242718446602,\n",
       " 3: 0.31690140845070425,\n",
       " 1: 0.4276729559748428}"
      ]
     },
     "execution_count": 65,
     "metadata": {},
     "output_type": "execute_result"
    }
   ],
   "source": [
    "accumulated_inclass_score_dict = {}\n",
    "\n",
    "for class_id, cuis in class_id_and_list_of_same_class_cui.items():\n",
    "    total_score = 0\n",
    "    total_degree = 0\n",
    "    for cui in cuis:\n",
    "        # filter 98 diseases out of 101 diseases \n",
    "        if cui not in list(G.nodes()):\n",
    "            pass\n",
    "        else:\n",
    "            total_score += inclass_score_dict[cui] # error \n",
    "            total_degree += G.degree(cui)\n",
    "    accumulated_inclass_score_dict[class_id] = total_score/total_degree\n",
    "\n",
    "accumulated_inclass_score_dict"
   ]
  },
  {
   "cell_type": "markdown",
   "metadata": {},
   "source": [
    "# Calculated normalized_accumulated_inclass_score for GeneDisease_TopK=0.05.csv (only consider disease to disease edges)"
   ]
  },
  {
   "cell_type": "code",
   "execution_count": 66,
   "metadata": {},
   "outputs": [
    {
     "data": {
      "text/plain": [
       "98"
      ]
     },
     "execution_count": 66,
     "metadata": {},
     "output_type": "execute_result"
    }
   ],
   "source": [
    "len(G.nodes)"
   ]
  },
  {
   "cell_type": "code",
   "execution_count": 67,
   "metadata": {
    "pycharm": {
     "is_executing": false
    }
   },
   "outputs": [
    {
     "data": {
      "text/html": [
       "<div>\n",
       "<style scoped>\n",
       "    .dataframe tbody tr th:only-of-type {\n",
       "        vertical-align: middle;\n",
       "    }\n",
       "\n",
       "    .dataframe tbody tr th {\n",
       "        vertical-align: top;\n",
       "    }\n",
       "\n",
       "    .dataframe thead th {\n",
       "        text-align: right;\n",
       "    }\n",
       "</style>\n",
       "<table border=\"1\" class=\"dataframe\">\n",
       "  <thead>\n",
       "    <tr style=\"text-align: right;\">\n",
       "      <th></th>\n",
       "      <th>disease1</th>\n",
       "      <th>disease2</th>\n",
       "    </tr>\n",
       "  </thead>\n",
       "  <tbody>\n",
       "    <tr>\n",
       "      <th>0</th>\n",
       "      <td>C0751848</td>\n",
       "      <td>C2931384</td>\n",
       "    </tr>\n",
       "    <tr>\n",
       "      <th>1</th>\n",
       "      <td>C0007780</td>\n",
       "      <td>C1832392</td>\n",
       "    </tr>\n",
       "    <tr>\n",
       "      <th>2</th>\n",
       "      <td>C0011859</td>\n",
       "      <td>C1838100</td>\n",
       "    </tr>\n",
       "    <tr>\n",
       "      <th>3</th>\n",
       "      <td>C0011859</td>\n",
       "      <td>C1852093</td>\n",
       "    </tr>\n",
       "    <tr>\n",
       "      <th>4</th>\n",
       "      <td>C1838100</td>\n",
       "      <td>C0431693</td>\n",
       "    </tr>\n",
       "  </tbody>\n",
       "</table>\n",
       "</div>"
      ],
      "text/plain": [
       "   disease1  disease2\n",
       "0  C0751848  C2931384\n",
       "1  C0007780  C1832392\n",
       "2  C0011859  C1838100\n",
       "3  C0011859  C1852093\n",
       "4  C1838100  C0431693"
      ]
     },
     "execution_count": 67,
     "metadata": {},
     "output_type": "execute_result"
    }
   ],
   "source": [
    "GeneDisease_top_k = pd.read_csv(r'C:\\Users\\Anak\\PycharmProjects\\recreate_gene_disease\\Data\\raw\\GeneDiseaseProject\\COPD\\Edges\\GeneDisease_TopK=0.05.csv')\n",
    "GeneDisease_top_k.head()"
   ]
  },
  {
   "cell_type": "code",
   "execution_count": 68,
   "metadata": {
    "pycharm": {
     "is_executing": false
    }
   },
   "outputs": [
    {
     "data": {
      "text/plain": [
       "(24, 2)"
      ]
     },
     "execution_count": 68,
     "metadata": {},
     "output_type": "execute_result"
    }
   ],
   "source": [
    "GeneDisease_top_k.shape"
   ]
  },
  {
   "cell_type": "code",
   "execution_count": 69,
   "metadata": {
    "pycharm": {
     "is_executing": false
    }
   },
   "outputs": [],
   "source": [
    "GeneDisease_top_k_np = GeneDisease_top_k.to_numpy()\n"
   ]
  },
  {
   "cell_type": "code",
   "execution_count": 70,
   "metadata": {
    "pycharm": {
     "is_executing": false
    }
   },
   "outputs": [
    {
     "data": {
      "text/plain": [
       "17"
      ]
     },
     "execution_count": 70,
     "metadata": {},
     "output_type": "execute_result"
    }
   ],
   "source": [
    "# for each edges, check if there are in the same class \n",
    "\n",
    "top_k_total_inclass_score = sum(list(map(lambda x: cui2class_id_dict[x[0]] == cui2class_id_dict[x[1]], GeneDisease_top_k_np)))\n",
    "top_k_total_inclass_score"
   ]
  },
  {
   "cell_type": "code",
   "execution_count": 71,
   "metadata": {},
   "outputs": [
    {
     "data": {
      "text/plain": [
       "(48,)"
      ]
     },
     "execution_count": 71,
     "metadata": {},
     "output_type": "execute_result"
    }
   ],
   "source": [
    "GeneDisease_top_k_np.reshape(-1).shape"
   ]
  },
  {
   "cell_type": "code",
   "execution_count": 72,
   "metadata": {},
   "outputs": [
    {
     "name": "stdout",
     "output_type": "stream",
     "text": [
      "48\n",
      "(23,)\n",
      "['C0007780' 'C0011859' 'C0020479' 'C0020480' 'C0020481' 'C0034091'\n",
      " 'C0162316' 'C0236816' 'C0342277' 'C0431693' 'C0600228' 'C0751634'\n",
      " 'C0751848' 'C1135191' 'C1832392' 'C1833104' 'C1838100' 'C1852092'\n",
      " 'C1852093' 'C1864623' 'C2674218' 'C2675866' 'C2931384']\n"
     ]
    }
   ],
   "source": [
    "GeneDisease_top_k_uniq, GeneDisease_top_k_freq = np.unique(GeneDisease_top_k_np.reshape(-1), return_counts = True)\n",
    "print(GeneDisease_top_k_freq.sum())\n",
    "print(GeneDisease_top_k_uniq.shape)\n",
    "print(GeneDisease_top_k_uniq)"
   ]
  },
  {
   "cell_type": "code",
   "execution_count": 73,
   "metadata": {},
   "outputs": [],
   "source": [
    "x = ['C0002876', 'C0003467', 'C0004096', 'C0011579', 'C0014761' ,'C0027051',\n",
    " 'C0236816' ,'C0271650' ,'C0750988' ,'C0751824' ,'C1306856', 'C1833218',\n",
    " 'C1833382' ,'C1836860' ,'C1838259' ,'C1838261', 'C1838457', 'C1853297',\n",
    " 'C1853371' ,'C1863512', 'C1864839', 'C1969343' ,'C2930930']\n",
    "\n",
    "y = ['C0007780', 'C0011859', 'C0020479' ,'C0020480', 'C0020481', 'C0034091',\n",
    " 'C0162316' ,'C0236816' ,'C0342277' ,'C0431693' ,'C0600228', 'C0751634',\n",
    " 'C0751848' ,'C1135191' ,'C1832392' ,'C1833104' ,'C1838100' ,'C1852092',\n",
    " 'C1852093' ,'C1864623' ,'C2674218' ,'C2675866', 'C2931384']\n"
   ]
  },
  {
   "cell_type": "code",
   "execution_count": 74,
   "metadata": {},
   "outputs": [
    {
     "data": {
      "text/plain": [
       "330"
      ]
     },
     "execution_count": 74,
     "metadata": {},
     "output_type": "execute_result"
    }
   ],
   "source": [
    "# find sum of degree\n",
    "top_k_total_degree_score = sum(list(map(lambda x: G.degree(x), GeneDisease_top_k_uniq))) # check if nodes are unique\n",
    "top_k_total_degree_score"
   ]
  },
  {
   "cell_type": "code",
   "execution_count": 75,
   "metadata": {
    "pycharm": {
     "is_executing": false
    }
   },
   "outputs": [],
   "source": [
    "# # find sum of degree\n",
    "# top_k_total_degree_score = sum(list(map(lambda x: G.degree(x), GeneDisease_top_k_np.reshape(-1)))) # check if nodes are unique\n",
    "# top_k_total_degree_score"
   ]
  },
  {
   "cell_type": "code",
   "execution_count": 76,
   "metadata": {
    "pycharm": {
     "is_executing": false
    }
   },
   "outputs": [
    {
     "data": {
      "text/plain": [
       "0.051515151515151514"
      ]
     },
     "execution_count": 76,
     "metadata": {},
     "output_type": "execute_result"
    }
   ],
   "source": [
    "top_k_normalized_accumulated_inclass_score = top_k_total_inclass_score/top_k_total_degree_score\n",
    "top_k_normalized_accumulated_inclass_score\n"
   ]
  },
  {
   "cell_type": "code",
   "execution_count": null,
   "metadata": {
    "pycharm": {
     "is_executing": false
    }
   },
   "outputs": [],
   "source": []
  },
  {
   "cell_type": "code",
   "execution_count": null,
   "metadata": {
    "pycharm": {
     "is_executing": false
    }
   },
   "outputs": [],
   "source": []
  },
  {
   "cell_type": "code",
   "execution_count": null,
   "metadata": {
    "pycharm": {
     "is_executing": false
    }
   },
   "outputs": [],
   "source": []
  },
  {
   "cell_type": "code",
   "execution_count": null,
   "metadata": {
    "pycharm": {
     "is_executing": false
    }
   },
   "outputs": [],
   "source": []
  },
  {
   "cell_type": "markdown",
   "metadata": {},
   "source": [
    "# Calculated normalized_accumulated_inclass_score for GeneDisease_BottomK=0.05.csv (only consider disease to disease edges)"
   ]
  },
  {
   "cell_type": "code",
   "execution_count": 77,
   "metadata": {
    "pycharm": {
     "is_executing": false
    },
    "scrolled": true
   },
   "outputs": [
    {
     "data": {
      "text/html": [
       "<div>\n",
       "<style scoped>\n",
       "    .dataframe tbody tr th:only-of-type {\n",
       "        vertical-align: middle;\n",
       "    }\n",
       "\n",
       "    .dataframe tbody tr th {\n",
       "        vertical-align: top;\n",
       "    }\n",
       "\n",
       "    .dataframe thead th {\n",
       "        text-align: right;\n",
       "    }\n",
       "</style>\n",
       "<table border=\"1\" class=\"dataframe\">\n",
       "  <thead>\n",
       "    <tr style=\"text-align: right;\">\n",
       "      <th></th>\n",
       "      <th>disease1</th>\n",
       "      <th>disease2</th>\n",
       "    </tr>\n",
       "  </thead>\n",
       "  <tbody>\n",
       "    <tr>\n",
       "      <th>0</th>\n",
       "      <td>C0004096</td>\n",
       "      <td>C0750988</td>\n",
       "    </tr>\n",
       "    <tr>\n",
       "      <th>1</th>\n",
       "      <td>C0002876</td>\n",
       "      <td>C0027051</td>\n",
       "    </tr>\n",
       "    <tr>\n",
       "      <th>2</th>\n",
       "      <td>C0027051</td>\n",
       "      <td>C0011579</td>\n",
       "    </tr>\n",
       "    <tr>\n",
       "      <th>3</th>\n",
       "      <td>C0027051</td>\n",
       "      <td>C0014761</td>\n",
       "    </tr>\n",
       "    <tr>\n",
       "      <th>4</th>\n",
       "      <td>C0027051</td>\n",
       "      <td>C0236816</td>\n",
       "    </tr>\n",
       "  </tbody>\n",
       "</table>\n",
       "</div>"
      ],
      "text/plain": [
       "   disease1  disease2\n",
       "0  C0004096  C0750988\n",
       "1  C0002876  C0027051\n",
       "2  C0027051  C0011579\n",
       "3  C0027051  C0014761\n",
       "4  C0027051  C0236816"
      ]
     },
     "execution_count": 77,
     "metadata": {},
     "output_type": "execute_result"
    }
   ],
   "source": [
    "GeneDisease_bottom_k = pd.read_csv(r'C:\\Users\\Anak\\PycharmProjects\\recreate_gene_disease\\Data\\raw\\GeneDiseaseProject\\COPD\\Edges\\GeneDisease_BottomK=0.05.csv')\n",
    "GeneDisease_bottom_k.head()"
   ]
  },
  {
   "cell_type": "code",
   "execution_count": 78,
   "metadata": {
    "pycharm": {
     "is_executing": false
    }
   },
   "outputs": [
    {
     "data": {
      "text/plain": [
       "(24, 2)"
      ]
     },
     "execution_count": 78,
     "metadata": {},
     "output_type": "execute_result"
    }
   ],
   "source": [
    "GeneDisease_bottom_k.shape"
   ]
  },
  {
   "cell_type": "code",
   "execution_count": 79,
   "metadata": {
    "pycharm": {
     "is_executing": false
    }
   },
   "outputs": [
    {
     "data": {
      "text/plain": [
       "array([['C0004096', 'C0750988'],\n",
       "       ['C0002876', 'C0027051'],\n",
       "       ['C0027051', 'C0011579'],\n",
       "       ['C0027051', 'C0014761'],\n",
       "       ['C0027051', 'C0236816'],\n",
       "       ['C0027051', 'C1833382'],\n",
       "       ['C0027051', 'C1836860'],\n",
       "       ['C0027051', 'C2930930'],\n",
       "       ['C0003467', 'C0236816'],\n",
       "       ['C0003467', 'C1838457'],\n",
       "       ['C0004096', 'C0011579'],\n",
       "       ['C0004096', 'C0751824'],\n",
       "       ['C0004096', 'C1306856'],\n",
       "       ['C0004096', 'C1833218'],\n",
       "       ['C0004096', 'C1833382'],\n",
       "       ['C0004096', 'C1838259'],\n",
       "       ['C0004096', 'C1838261'],\n",
       "       ['C0004096', 'C1853297'],\n",
       "       ['C0004096', 'C1853371'],\n",
       "       ['C0004096', 'C1863512'],\n",
       "       ['C0004096', 'C1969343'],\n",
       "       ['C0004096', 'C2930930'],\n",
       "       ['C1838259', 'C0271650'],\n",
       "       ['C0271650', 'C1864839']], dtype=object)"
      ]
     },
     "execution_count": 79,
     "metadata": {},
     "output_type": "execute_result"
    }
   ],
   "source": [
    "GeneDisease_bottom_k_np = GeneDisease_bottom_k.to_numpy()\n",
    "GeneDisease_bottom_k_np"
   ]
  },
  {
   "cell_type": "code",
   "execution_count": 80,
   "metadata": {
    "pycharm": {
     "is_executing": false
    }
   },
   "outputs": [
    {
     "data": {
      "text/plain": [
       "3"
      ]
     },
     "execution_count": 80,
     "metadata": {},
     "output_type": "execute_result"
    }
   ],
   "source": [
    "# for each edges, calculte sum of pair that are in the same class\n",
    "\n",
    "bottom_k_total_inclass_score = sum(list(map(lambda x: cui2class_id_dict[x[0]] == cui2class_id_dict[x[1]], GeneDisease_bottom_k_np)))\n",
    "bottom_k_total_inclass_score"
   ]
  },
  {
   "cell_type": "code",
   "execution_count": 81,
   "metadata": {
    "pycharm": {
     "is_executing": false,
     "name": "#%%\n"
    }
   },
   "outputs": [
    {
     "name": "stdout",
     "output_type": "stream",
     "text": [
      "[ 1  2 13  2  1  7  2  2  1  1  1  1  2  1  2  1  1  1  1  1  1  1  2]\n",
      "(23,)\n",
      "['C0002876' 'C0003467' 'C0004096' 'C0011579' 'C0014761' 'C0027051'\n",
      " 'C0236816' 'C0271650' 'C0750988' 'C0751824' 'C1306856' 'C1833218'\n",
      " 'C1833382' 'C1836860' 'C1838259' 'C1838261' 'C1838457' 'C1853297'\n",
      " 'C1853371' 'C1863512' 'C1864839' 'C1969343' 'C2930930']\n",
      "48\n"
     ]
    }
   ],
   "source": [
    "# find unique nodes \n",
    "GeneDisease_bottom_k_uniq, GeneDisease_bottom_k_freq = np.unique(GeneDisease_bottom_k_np.reshape(-1), return_counts = True)\n",
    "print(GeneDisease_bottom_k_freq)\n",
    "print(GeneDisease_bottom_k_uniq.shape)\n",
    "print(GeneDisease_bottom_k_uniq)\n",
    "print(sum(GeneDisease_bottom_k_freq))"
   ]
  },
  {
   "cell_type": "code",
   "execution_count": 82,
   "metadata": {},
   "outputs": [
    {
     "data": {
      "text/plain": [
       "236"
      ]
     },
     "execution_count": 82,
     "metadata": {},
     "output_type": "execute_result"
    }
   ],
   "source": [
    "# find sum of degree\n",
    "bottom_k_total_degree_score = sum(list(map(lambda x: G.degree(x), GeneDisease_bottom_k_uniq)))\n",
    "bottom_k_total_degree_score"
   ]
  },
  {
   "cell_type": "code",
   "execution_count": 83,
   "metadata": {
    "pycharm": {
     "is_executing": false
    }
   },
   "outputs": [
    {
     "data": {
      "text/plain": [
       "0.012711864406779662"
      ]
     },
     "execution_count": 83,
     "metadata": {},
     "output_type": "execute_result"
    }
   ],
   "source": [
    "bottom_k_normalized_accumulated_inclass_score = bottom_k_total_inclass_score/bottom_k_total_degree_score\n",
    "bottom_k_normalized_accumulated_inclass_score\n"
   ]
  },
  {
   "cell_type": "markdown",
   "metadata": {},
   "source": [
    "# Conclusion_1 (only consider disease to disease edges)\n",
    "#### Measureing normalized_accumulated_inclass_score shows that TopK obtain higher score (conflicted with our expectation)\n",
    "#### one can see that degree among disease2diesease edges are less in bottom_24. (added disease2disease edges that connect diseases that have high degree is bad?)"
   ]
  },
  {
   "cell_type": "markdown",
   "metadata": {
    "pycharm": {
     "is_executing": false,
     "name": "#%%\n"
    }
   },
   "source": [
    "# Calculated normalized_accumulated_inclass_score for GeneDisease_TopK=0.05.csv (consider disease2disease edges and disease2gene edges)"
   ]
  },
  {
   "cell_type": "code",
   "execution_count": 85,
   "metadata": {},
   "outputs": [
    {
     "data": {
      "text/html": [
       "<div>\n",
       "<style scoped>\n",
       "    .dataframe tbody tr th:only-of-type {\n",
       "        vertical-align: middle;\n",
       "    }\n",
       "\n",
       "    .dataframe tbody tr th {\n",
       "        vertical-align: top;\n",
       "    }\n",
       "\n",
       "    .dataframe thead th {\n",
       "        text-align: right;\n",
       "    }\n",
       "</style>\n",
       "<table border=\"1\" class=\"dataframe\">\n",
       "  <thead>\n",
       "    <tr style=\"text-align: right;\">\n",
       "      <th></th>\n",
       "      <th>geneId</th>\n",
       "      <th>diseaseId</th>\n",
       "    </tr>\n",
       "  </thead>\n",
       "  <tbody>\n",
       "    <tr>\n",
       "      <th>0</th>\n",
       "      <td>2</td>\n",
       "      <td>C0027051</td>\n",
       "    </tr>\n",
       "    <tr>\n",
       "      <th>1</th>\n",
       "      <td>2</td>\n",
       "      <td>C0004096</td>\n",
       "    </tr>\n",
       "    <tr>\n",
       "      <th>2</th>\n",
       "      <td>9</td>\n",
       "      <td>C0004096</td>\n",
       "    </tr>\n",
       "    <tr>\n",
       "      <th>3</th>\n",
       "      <td>10</td>\n",
       "      <td>C0004096</td>\n",
       "    </tr>\n",
       "    <tr>\n",
       "      <th>4</th>\n",
       "      <td>10</td>\n",
       "      <td>C0004096</td>\n",
       "    </tr>\n",
       "  </tbody>\n",
       "</table>\n",
       "</div>"
      ],
      "text/plain": [
       "   geneId diseaseId\n",
       "0       2  C0027051\n",
       "1       2  C0004096\n",
       "2       9  C0004096\n",
       "3      10  C0004096\n",
       "4      10  C0004096"
      ]
     },
     "execution_count": 85,
     "metadata": {},
     "output_type": "execute_result"
    }
   ],
   "source": [
    "file_name = r'C:\\Users\\Anak\\PycharmProjects\\recreate_gene_disease\\Data\\raw\\GeneDiseaseProject\\COPD\\Nodes\\copd_label07_14_19_46.txt'\n",
    "GeneDisease_all_disease_to_gene_edges = pd.read_csv(file_name, usecols=['geneId', 'diseaseId'])\n",
    "GeneDisease_all_disease_to_gene_edges.head()"
   ]
  },
  {
   "cell_type": "code",
   "execution_count": 86,
   "metadata": {},
   "outputs": [
    {
     "data": {
      "text/plain": [
       "diseaseId  geneId   \n",
       "C0001818   6532          2\n",
       "           135           1\n",
       "           1636          1\n",
       "           2332          1\n",
       "           3350          1\n",
       "           4128          1\n",
       "           4852          1\n",
       "           5027          1\n",
       "           6530          1\n",
       "           10645         1\n",
       "           121278        1\n",
       "           404684        1\n",
       "           407004        1\n",
       "           574444        1\n",
       "C0002876   146059       10\n",
       "           10483         9\n",
       "           10661         4\n",
       "           2623          3\n",
       "           64061         3\n",
       "           960           2\n",
       "           978           2\n",
       "           981           2\n",
       "           4124          2\n",
       "           57379         2\n",
       "           358           1\n",
       "           2595          1\n",
       "           3077          1\n",
       "           9663          1\n",
       "           106480993     1\n",
       "C0002890   3717          1\n",
       "                        ..\n",
       "C2931384   3791          1\n",
       "           4035          1\n",
       "           4314          1\n",
       "           4524          1\n",
       "           5351          1\n",
       "           5781          1\n",
       "           6496          1\n",
       "           6520          1\n",
       "           6709          1\n",
       "           6948          1\n",
       "           7050          1\n",
       "           7056          1\n",
       "           7076          1\n",
       "           7077          1\n",
       "           7079          1\n",
       "           8854          1\n",
       "           9863          1\n",
       "           10428         1\n",
       "           23250         1\n",
       "           23348         1\n",
       "           23531         1\n",
       "           26260         1\n",
       "           27293         1\n",
       "           57486         1\n",
       "           57521         1\n",
       "           79092         1\n",
       "           79184         1\n",
       "           81846         1\n",
       "           221895        1\n",
       "           338340        1\n",
       "Name: geneId, Length: 4715, dtype: int64"
      ]
     },
     "execution_count": 86,
     "metadata": {},
     "output_type": "execute_result"
    }
   ],
   "source": [
    "GeneDisease_gene_edges_groupby_diseases =  GeneDisease_all_disease_to_gene_edges['geneId'].groupby(GeneDisease_all_disease_to_gene_edges['diseaseId']).value_counts()\n",
    "GeneDisease_gene_edges_groupby_diseases"
   ]
  },
  {
   "cell_type": "code",
   "execution_count": 87,
   "metadata": {},
   "outputs": [
    {
     "data": {
      "text/plain": [
       "pandas.core.series.Series"
      ]
     },
     "execution_count": 87,
     "metadata": {},
     "output_type": "execute_result"
    }
   ],
   "source": [
    "type(GeneDisease_gene_edges_groupby_diseases)"
   ]
  },
  {
   "cell_type": "code",
   "execution_count": 88,
   "metadata": {},
   "outputs": [
    {
     "data": {
      "text/plain": [
       "4715"
      ]
     },
     "execution_count": 88,
     "metadata": {},
     "output_type": "execute_result"
    }
   ],
   "source": [
    "len(GeneDisease_gene_edges_groupby_diseases.index)"
   ]
  },
  {
   "cell_type": "code",
   "execution_count": 89,
   "metadata": {},
   "outputs": [
    {
     "data": {
      "text/plain": [
       "MultiIndex(levels=[['C0001818', 'C0002876', 'C0002890', 'C0003467', 'C0004096', 'C0006277', 'C0007780', 'C0007785', 'C0008909', 'C0009426', 'C0011579', 'C0011859', 'C0011880', 'C0013415', 'C0014761', 'C0020474', 'C0020479', 'C0020480', 'C0020481', 'C0022610', 'C0025193', 'C0025637', 'C0027051', 'C0028756', 'C0028768', 'C0030312', 'C0030319', 'C0031190', 'C0032463', 'C0034091', 'C0034902', 'C0038218', 'C0043019', 'C0085207', 'C0086666', 'C0151814', 'C0152264', 'C0162316', 'C0206146', 'C0206703', 'C0221018', 'C0236816', 'C0262584', 'C0265110', 'C0270639', 'C0271650', 'C0272052', 'C0338495', 'C0340293', 'C0340968', 'C0342277', 'C0349231', 'C0431693', 'C0600228', 'C0730525', 'C0740302', 'C0750988', 'C0751634', 'C0751824', 'C0751848', 'C0948480', 'C1135191', 'C1135196', 'C1266144', 'C1306856', 'C1720779', 'C1832392', 'C1833104', 'C1833218', 'C1833382', 'C1835817', 'C1836860', 'C1836861', 'C1837915', 'C1838100', 'C1838259', 'C1838260', 'C1838261', 'C1838457', 'C1843687', 'C1845028', 'C1852092', 'C1852093', 'C1853297', 'C1853371', 'C1856797', 'C1857775', 'C1863512', 'C1864041', 'C1864623', 'C1864839', 'C1969343', 'C2674218', 'C2675192', 'C2675212', 'C2675512', 'C2675866', 'C2677132', 'C2678338', 'C2930930', 'C2931384'], [2, 9, 10, 12, 15, 17, 19, 21, 22, 24, 25, 26, 28, 31, 32, 40, 41, 43, 48, 52, 58, 59, 60, 90, 91, 93, 94, 100, 101, 102, 108, 109, 116, 117, 118, 119, 125, 126, 128, 133, 134, 135, 140, 141, 142, 147, 148, 150, 151, 153, 154, 155, 156, 161, 175, 177, 181, 182, 183, 185, 186, 187, 189, 190, 196, 197, 202, 203, 207, 208, 210, 212, 213, 215, 216, 217, 231, 238, 239, 240, 241, 246, 247, 249, 259, 270, 274, 283, 284, 285, 286, 287, 288, 301, 302, 308, 309, 313, 324, 326, 328, 330, 331, 332, 335, 336, 337, 338, 341, 344, 345, 347, 348, 350, 351, 353, 354, 355, 356, 358, 359, 360, 361, 363, 364, 366, 367, 374, 383, 384, 387, 405, 406, 409, 410, 414, 421, 429, 462, 467, 472, 474, 475, 488, 490, 498, 501, 522, 545, 551, 552, 553, 558, 576, 581, 582, 583, 585, 590, 595, 596, 598, 599, 613, 623, 624, 627, 632, 633, 634, 643, 648, 650, 654, 655, 658, 659, 664, 665, 667, 669, 671, 672, 675, 680, 682, 683, 685, 699, 706, 710, 717, 718, 719, 720, 721, 727, 728, 730, 731, 732, 738, 745, 754, 760, 761, 775, 777, 788, 790, 796, 801, 805, 808, 811, 820, 823, 831, 834, 836, 839, 840, 841, 842, 843, 844, 846, 847, 857, 859, 861, 862, 864, 867, 871, 873, 875, 885, 886, 887, 889, 890, 902, 907, 912, 914, 919, 923, 929, 930, 931, 932, 940, 941, 942, 943, 945, 947, 948, 949, 950, 952, 953, 958, 959, 960, 961, 962, 963, 966, 967, 968, 969, 972, 977, 978, 981, 998, 999, 1000, 1007, 1012, 1015, 1017, 1019, 1026, 1027, 1028, 1029, 1030, 1038, 1041, 1045, 1050, 1055, 1056, 1068, 1071, 1072, 1080, 1103, 1104, 1109, 1111, 1113, 1116, 1118, 1122, 1128, 1129, 1131, 1135, 1136, 1137, 1138, 1152, 1153, 1154, 1158, 1179, 1200, 1215, 1230, 1232, 1233, 1234, 1235, 1236, 1237, 1241, 1258, 1268, 1269, 1277, 1281, 1282, 1284, 1285, 1287, 1290, 1302, 1305, 1312, 1351, 1356, 1359, 1361, 1366, 1371, 1373, 1375, 1378, 1382, 1384, 1385, 1387, 1390, 1392, 1393, 1394, 1395, 1396, 1398, 1401, 1407, 1408, 1420, 1429, 1432, 1436, 1437, 1439, 1440, 1444, 1457, 1460, 1462, 1470, 1471, 1473, 1474, 1475, 1483, 1490, 1493, 1495, 1499, 1500, 1501, 1508, 1509, 1511, 1513, 1514, 1520, 1523, 1524, 1528, 1535, 1536, 1543, 1544, 1545, 1548, 1551, 1555, 1557, 1558, 1559, 1565, 1571, 1573, 1576, 1577, 1579, 1581, 1583, 1584, 1585, 1586, 1588, 1591, 1593, 1594, 1601, 1604, 1605, 1610, 1621, 1622, 1634, 1636, 1637, 1644, 1645, 1649, 1653, 1666, 1667, 1672, 1674, 1719, 1727, 1728, 1735, 1736, 1738, 1742, 1748, 1761, 1767, 1769, 1773, 1776, 1778, 1785, 1786, 1789, 1791, 1803, 1804, 1812, 1813, 1814, 1815, 1816, 1822, 1826, 1827, 1830, 1831, 1839, 1843, 1854, 1855, 1861, 1869, 1874, 1877, 1901, 1906, 1907, 1909, 1910, 1917, 1942, 1950, 1956, 1958, 1965, 1977, 1978, 1991, 2001, 2004, 2006, 2011, 2012, 2017, 2022, 2023, 2030, 2033, 2034, 2038, 2044, 2047, 2048, 2052, 2053, 2056, 2057, 2058, 2064, 2065, 2066, 2068, 2078, 2081, 2099, 2100, 2113, 2114, 2120, 2122, 2138, 2147, 2149, 2150, 2152, 2153, 2155, 2157, 2158, 2159, 2160, 2162, 2165, 2166, 2167, 2168, 2169, 2170, 2171, 2173, 2175, 2176, 2177, 2181, 2182, 2185, 2189, 2191, 2192, 2195, 2201, 2204, 2205, 2206, 2207, 2208, 2212, 2213, 2214, 2215, 2217, 2219, 2220, 2239, 2242, 2243, 2244, 2245, 2246, 2247, 2254, 2255, 2260, 2261, 2266, 2272, 2274, 2288, 2289, 2294, 2302, 2308, 2309, 2312, 2313, 2316, 2318, 2321, 2322, 2323, 2324, 2332, 2335, 2346, 2353, 2354, 2358, 2395, 2444, 2475, 2488, 2492, 2495, 2512, 2516, 2517, 2519, 2532, 2534, 2535, 2538, 2539, 2549, 2550, 2551, 2555, 2558, 2559, 2562, 2566, 2571, 2572, 2591, 2595, 2596, 2597, 2615, 2617, 2621, 2623, 2624, 2625, 2626, 2629, 2638, 2641, 2642, 2645, 2646, 2657, 2668, 2670, 2677, 2678, 2688, 2690, 2691, 2693, 2694, 2695, 2697, 2701, 2706, 2717, 2720, 2729, 2730, 2736, 2737, 2739, 2740, 2741, 2743, 2745, 2778, 2782, 2784, 2803, 2805, 2811, 2821, 2823, 2833, 2837, 2840, 2847, 2849, 2852, 2864, 2866, 2867, 2868, 2869, 2874, 2875, 2876, 2878, 2879, 2890, 2891, 2892, 2894, 2896, 2897, 2898, 2903, 2904, 2908, 2911, 2918, 2919, 2920, 2922, 2923, 2925, 2931, 2932, 2934, 2935, 2936, 2938, 2944, 2946, 2950, 2952, 2956, 2965, 2969, 2973, 2982, 2993, 2994, 2996, 2997, 3002, 3014, 3033, 3037, 3039, 3040, 3043, 3052, 3053, 3059, 3064, 3065, 3066, 3074, 3075, 3077, 3082, 3084, 3087, 3090, 3091, 3099, 3105, 3106, 3107, 3108, 3109, 3110, 3111, 3113, 3115, 3116, 3117, 3119, 3122, 3123, 3127, 3135, 3142, 3146, 3148, 3150, 3156, 3162, 3169, 3170, 3172, 3176, 3192, 3196, 3218, 3240, 3263, 3269, 3270, 3273, 3275, 3276, 3290, 3291, 3303, 3304, 3305, 3308, 3309, 3313, 3315, 3316, 3329, 3339, 3340, 3342, 3346, 3350, 3351, 3352, 3356, 3357, 3358, 3359, 3360, 3362, 3363, 3371, 3375, 3383, 3398, 3403, 3406, 3407, 3412, 3416, 3417, 3418, 3429, 3439, 3440, 3447, 3456, 3458, 3460, 3478, 3479, 3480, 3481, 3482, 3484, 3485, 3486, 3491, 3497, 3500, 3501, 3502, 3547, 3552, 3553, 3554, 3557, 3558, 3559, 3560, 3562, 3565, 3566, 3567, 3568, 3569, 3570, 3572, 3574, 3575, 3576, 3577, 3578, 3579, 3581, 3586, 3589, 3592, 3593, 3594, 3596, 3597, 3598, 3600, 3603, 3604, 3605, 3606, 3609, 3621, 3623, 3624, 3627, 3630, 3631, 3635, 3643, 3651, 3654, 3655, 3656, 3658, 3659, 3661, 3662, 3663, 3664, 3665, 3667, 3669, 3672, 3673, 3674, 3675, 3676, 3683, 3684, 3687, 3688, 3689, 3690, 3691, 3694, 3695, 3699, 3702, 3705, 3708, 3712, 3716, 3717, 3718, 3725, 3726, 3727, 3738, 3759, 3767, 3769, 3776, 3777, 3778, 3779, 3784, 3787, 3790, 3791, 3792, 3815, 3816, 3818, 3820, 3827, 3835, 3855, 3868, 3880, 3898, 3909, 3911, 3918, 3920, 3921, 3925, 3929, 3930, 3931, 3934, 3936, 3938, 3939, 3945, 3949, 3952, 3953, 3956, 3957, 3958, 3959, 3965, 3976, 3977, 3981, 3984, 3988, 3990, 3991, 3992, 3995, 4000, 4001, 4004, 4012, 4015, 4018, 4023, 4026, 4035, 4043, 4045, 4048, 4049, 4050, 4051, 4053, 4055, 4056, 4059, 4077, 4082, 4086, 4087, 4088, 4089, 4092, 4096, 4124, 4128, 4133, 4135, 4137, 4142, 4151, 4153, 4154, 4155, 4157, 4159, 4160, 4162, 4163, 4170, 4191, 4192, 4193, 4194, 4204, 4205, 4208, 4210, 4212, 4217, 4232, 4233, 4240, 4254, 4255, 4256, 4261, 4277, 4282, 4283, 4284, 4292, 4294, 4296, 4297, 4300, 4303, 4306, 4308, 4312, 4313, 4314, 4316, 4317, 4318, 4319, 4321, 4322, 4323, 4327, 4340, 4345, 4352, 4353, 4357, 4359, 4360, 4363, 4434, 4437, 4478, 4481, 4482, 4485, 4504, 4508, 4512, 4513, 4519, 4524, 4536, 4541, 4543, 4544, 4547, 4548, 4582, 4583, 4586, 4589, 4593, 4597, 4602, 4607, 4609, 4610, 4615, 4624, 4625, 4629, 4635, 4638, 4659, 4660, 4661, 4684, 4695, 4709, 4760, 4771, 4774, 4778, 4780, 4781, 4790, 4791, 4792, 4795, 4800, 4803, 4812, 4813, 4827, 4835, 4839, 4842, 4843, 4846, 4851, 4852, 4854, 4855, 4869, 4878, 4879, 4880, 4881, 4882, 4883, 4886, 4887, 4889, 4891, 4893, 4904, 4908, 4909, 4914, 4915, 4916, 4925, 4938, 4939, 4952, 4953, 4958, 4968, 4969, 4973, 4976, 4982, 4985, 4986, 4987, 4988, 5002, 5004, 5007, 5008, 5018, 5020, 5021, 5027, 5029, 5034, 5037, 5047, 5048, 5054, 5055, 5058, 5069, 5071, 5073, 5074, 5076, 5078, 5079, 5080, 5087, 5089, 5091, 5092, 5097, 5104, 5111, 5122, 5126, 5133, 5139, 5140, 5141, 5142, 5144, 5150, 5154, 5155, 5156, 5159, 5167, 5172, 5175, 5176, 5179, 5184, 5195, 5209, 5225, 5226, 5228, 5238, 5241, 5243, 5250, 5265, 5266, 5267, 5269, 5270, 5274, 5277, 5284, 5288, 5290, 5291, 5293, 5294, 5295, 5296, 5300, 5303, 5308, 5310, 5313, 5315, 5317, 5319, 5320, 5321, 5327, 5328, 5329, 5331, 5337, 5340, 5341, 5345, 5346, 5350, 5351, 5359, 5362, 5366, 5367, 5368, 5371, 5376, 5409, 5411, 5443, 5444, 5445, 5449, 5451, 5460, 5465, 5467, 5468, 5473, 5478, 5502, 5506, 5507, 5515, 5524, 5539, 5542, 5551, 5552, 5553, 5554, 5555, 5562, 5563, 5581, 5583, 5590, 5591, 5592, 5594, 5595, 5599, 5601, 5606, 5607, 5608, 5609, 5610, 5617, 5620, 5621, 5623, 5624, 5625, 5627, 5649, 5660, 5663, 5664, 5687, 5692, 5694, 5697, 5709, 5713, 5715, 5724, 5725, 5727, 5728, 5729, 5730, 5731, 5732, 5733, 5734, 5739, 5740, 5742, 5743, 5754, 5764, 5770, 5771, 5777, 5778, 5780, 5781, 5786, 5788, 5789, 5791, 5798, 5799, 5806, 5816, 5817, 5818, 5820, 5861, 5867, 5868, 5873, 5879, 5890, 5891, 5894, 5896, 5901, 5902, 5906, 5913, 5914, 5917, 5919, 5920, 5921, 5923, 5950, 5967, 5970, 5972, 5973, 5978, 5982, 5997, 6000, 6002, 6005, 6006, 6007, 6012, 6019, 6036, 6037, 6046, 6095, 6098, 6121, 6135, 6139, 6157, 6175, 6192, 6198, 6208, 6218, 6223, 6229, 6238, 6258, 6262, 6263, 6271, 6272, 6275, 6276, 6277, 6279, 6280, 6281, 6283, 6285, 6294, 6296, 6301, 6303, 6305, 6310, 6311, 6317, 6318, 6319, 6320, 6331, 6346, 6347, 6348, 6349, 6351, 6352, 6354, 6355, 6356, 6357, 6359, 6361, 6362, 6363, 6364, 6366, 6367, 6369, 6372, 6373, 6374, 6375, 6376, 6382, 6385, 6386, 6387, 6388, 6401, 6402, 6403, 6404, 6405, 6414, 6422, 6423, 6425, 6427, 6433, 6439, 6440, 6441, 6445, 6446, 6447, 6462, 6469, 6478, 6492, 6496, 6505, 6506, 6507, 6514, 6515, 6517, 6520, 6521, 6524, 6527, 6528, 6529, 6530, 6531, 6532, 6542, 6546, 6555, 6556, 6558, 6559, 6563, 6571, 6572, 6573, 6580, 6581, 6582, 6584, 6590, 6594, 6595, 6597, 6598, 6606, 6607, 6609, 6614, 6616, 6622, 6625, 6646, 6647, 6648, 6649, 6657, 6660, 6667, 6670, 6678, 6696, 6701, 6708, 6709, 6715, 6721, 6726, 6736, 6742, 6754, 6767, 6772, 6773, 6774, 6775, 6776, 6777, 6778, 6779, 6781, 6785, 6790, 6804, 6813, 6814, 6818, 6833, 6853, 6855, 6857, 6863, 6865, 6866, 6868, 6869, 6870, 6874, 6876, 6886, 6891, 6892, 6895, 6898, 6901, 6904, 6910, 6915, 6916, 6926, 6927, 6928, 6932, 6934, 6947, 6948, 6962, 6965, 6966, 7003, 7010, 7012, 7013, 7015, 7019, 7026, 7029, 7031, 7032, 7035, 7036, 7037, 7039, 7040, 7042, 7045, 7046, 7048, 7049, 7050, 7052, 7055, 7056, 7057, 7058, 7060, 7066, 7068, 7076, 7077, 7078, 7079, 7080, 7082, 7091, 7094, 7096, 7097, 7098, 7099, 7100, 7108, 7113, 7114, 7122, 7124, 7126, 7128, 7130, 7132, 7133, 7137, 7139, 7145, 7157, 7161, 7163, 7166, 7167, 7172, 7177, 7178, 7180, 7186, 7189, 7222, 7223, 7224, 7226, 7248, 7249, 7270, 7273, 7274, 7276, 7284, 7292, 7293, 7295, 7296, 7297, 7298, 7301, 7306, 7345, 7349, 7350, 7351, 7352, 7356, 7361, 7369, 7376, 7391, 7405, 7412, 7416, 7417, 7421, 7422, 7423, 7428, 7431, 7432, 7436, 7439, 7442, 7448, 7450, 7453, 7454, 7466, 7471, 7476, 7481, 7486, 7494, 7498, 7508, 7515, 7520, 7528, 7532, 7534, 7538, 7593, 7704, 7750, 7753, 7779, 7804, 7818, 7840, 7852, 7857, 7864, 7874, 7919, 7941, 7952, 7965, 7971, 7984, 7991, 8013, 8029, 8038, 8048, 8050, 8061, 8086, 8091, 8163, 8170, 8175, 8190, 8195, 8204, 8205, 8214, 8216, 8288, 8294, 8301, 8315, 8359, 8360, 8361, 8362, 8363, 8364, 8365, 8366, 8367, 8368, 8370, 8395, 8398, 8399, 8406, 8431, 8434, 8462, 8477, 8484, 8490, 8503, 8518, 8525, 8529, 8542, 8547, 8567, 8570, 8600, 8613, 8620, 8622, 8626, 8630, 8644, 8651, 8654, 8655, 8660, 8673, 8678, 8718, 8727, 8737, 8740, 8741, 8743, 8764, 8766, 8767, 8788, 8797, 8803, 8804, 8807, 8809, 8811, 8824, 8829, 8835, 8837, 8840, 8842, 8850, 8854, 8856, 8858, 8863, 8872, 8874, 8876, 8878, 8909, 8910, 8914, 8915, 8924, 8938, 8943, 8988, 8989, 8996, 9001, 9002, 9021, 9033, 9068, 9076, 9091, 9103, 9131, 9139, 9170, 9172, 9173, 9181, 9194, 9197, 9200, 9208, 9212, 9235, 9242, 9255, 9290, 9311, 9314, 9332, 9344, 9360, 9370, 9377, 9388, 9401, 9402, 9407, 9415, 9423, 9444, 9447, 9448, 9451, 9456, 9472, 9474, 9500, 9510, 9518, 9519, 9531, 9536, 9547, 9575, 9607, 9612, 9619, 9622, 9638, 9641, 9663, 9668, 9670, 9677, 9690, 9692, 9699, 9732, 9733, 9734, 9745, 9759, 9768, 9771, 9790, 9825, 9829, 9862, 9863, 9927, 9939, 9945, 9961, 9966, 9971, 9992, 9993, 10000, 10002, 10011, 10013, 10014, 10019, 10060, 10062, 10076, 10084, 10085, 10102, 10111, 10128, 10135, 10144, 10148, 10161, 10178, 10193, 10194, 10196, 10205, 10212, 10215, 10221, 10238, 10243, 10244, 10257, 10266, 10267, 10307, 10314, 10318, 10327, 10328, 10333, 10344, 10352, 10371, 10383, 10392, 10399, 10407, 10411, 10413, 10419, 10428, 10446, 10451, 10454, 10457, 10461, 10479, 10483, 10487, 10497, 10498, 10518, 10519, 10522, 10524, 10531, 10533, 10534, 10537, 10538, 10541, 10544, 10549, 10551, 10574, 10576, 10580, 10587, 10595, 10598, 10599, 10628, 10631, 10643, 10644, 10645, 10657, 10661, 10663, 10665, 10671, 10673, 10678, 10682, 10699, 10718, 10724, 10732, 10743, 10763, 10767, 10800, 10801, 10803, 10814, 10844, 10846, 10855, 10859, 10861, 10867, 10882, 10888, 10891, 10898, 10899, 10902, 10911, 10935, 10948, 10950, 10963, 10966, 10969, 10970, 10984, 10993, 10998, 11004, 11005, 11012, 11018, 11019, 11022, 11035, 11083, 11093, 11100, 11116, 11120, 11126, 11127, 11132, 11136, 11141, 11167, 11168, 11169, 11173, 11182, 11186, 11213, 11214, 11235, 11251, 11313, 11342, 22806, 22808, 22829, 22900, 22915, 22918, 22926, 22937, 22943, 22980, 23013, 23017, 23022, 23037, 23038, 23075, 23113, 23118, 23144, 23145, 23158, 23172, 23177, 23189, 23194, 23216, 23225, 23228, 23229, 23236, 23237, 23250, 23274, 23293, 23305, 23308, 23327, 23336, 23348, 23368, 23405, 23410, 23411, 23418, 23428, 23430, 23495, 23521, 23524, 23530, 23531, 23564, 23576, 23586, 23596, 23621, 23636, 23643, 23705, 23765, 23780, 25793, 25825, 25828, 25833, 25836, 25859, 25891, 25897, 25902, 25928, 25970, 25976, 25978, 26010, 26013, 26047, 26050, 26052, 26073, 26084, 26094, 26119, 26135, 26147, 26191, 26207, 26227, 26260, 26269, 26277, 26291, 26298, 26470, 26471, 26503, 26762, 26768, 26871, 26872, 26996, 26998, 27022, 27034, 27036, 27040, 27087, 27101, 27102, 27113, 27129, 27152, 27159, 27165, 27173, 27178, 27181, 27185, 27189, 27202, 27230, 27235, 27239, 27250, 27293, 27303, 27306, 27339, 27342, 27352, 27429, 27430, 27433, 27436, 28514, 28755, 28954, 28955, 28965, 28982, 28988, 29072, 29095, 29102, 29108, 29119, 29126, 29128, 29774, 29775, 29780, 29843, 29851, 29919, 29948, 29949, 29965, 29986, 30008, 30009, 50487, 50507, 50604, 50615, 50616, 50618, 50639, 50674, 50838, 50839, 50840, 50940, 50943, 50944, 51008, 51014, 51024, 51026, 51062, 51083, 51085, 51086, 51094, 51095, 51115, 51129, 51131, 51135, 51141, 51150, 51151, 51164, 51167, 51176, 51192, 51200, 51206, 51232, 51283, 51284, 51289, 51299, 51310, 51311, 51316, 51330, 51332, 51365, 51397, 51477, 51514, 51530, 51540, 51561, 51573, 51714, 51738, 51750, 53342, 53345, 54106, 54210, 54386, 54413, 54474, 54535, 54541, 54549, 54583, 54658, 54659, 54738, 54776, 54778, 54790, 54795, 54796, 54808, 54821, 54822, 54828, 54845, 54898, 54901, 54936, 54938, 54949, 54977, 55054, 55065, 55107, 55117, 55143, 55154, 55177, 55187, 55215, 55239, 55247, 55249, 55278, 55294, 55303, 55328, 55340, 55349, 55507, 55511, 55515, 55527, 55532, 55534, 55540, 55600, 55638, 55690, 55695, 55714, 55729, 55757, 55759, 55777, 55799, 55805, 55808, 55821, 55829, 55840, 55847, 55876, 55879, 55890, 55911, 55937, 55968, 56005, 56117, 56253, 56259, 56413, 56477, 56605, 56606, 56729, 56829, 56848, 56853, 56893, 56902, 56925, 56981, 56994, 56999, 57007, 57057, 57101, 57104, 57105, 57118, 57126, 57178, 57189, 57205, 57222, 57338, 57379, 57381, 57447, 57451, 57486, 57498, 57506, 57514, 57521, 57532, 57537, 57556, 57608, 57628, 57658, 57674, 57697, 57727, 57731, 57761, 57817, 57818, 58155, 58157, 58189, 58191, 58491, 58512, 59067, 59272, 59307, 59340, 59341, 60468, 60481, 60482, 60495, 60498, 63826, 63926, 63982, 64061, 64087, 64096, 64102, 64109, 64127, 64135, 64170, 64218, 64221, 64240, 64241, 64283, 64319, 64375, 64399, 64409, 64478, 64689, 64710, 64756, 64805, 64806, 64866, 64924, 65009, 65018, 65057, 65108, 65125, 65217, 65268, 65986, 66004, 79026, 79054, 79068, 79092, 79109, 79184, 79187, 79258, 79400, 79577, 79581, 79594, 79602, 79626, 79628, 79661, 79682, 79689, 79694, 79727, 79728, 79800, 79947, 79949, 79987, 80005, 80018, 80142, 80149, 80168, 80308, 80310, 80312, 80324, 80332, 80333, 80339, 80350, 80381, 80762, 80821, 81031, 81539, 81552, 81608, 81693, 81792, 81793, 81846, 81847, 81848, 83605, 83666, 83696, 83716, 83729, 83746, 83856, 83882, 83886, 83990, 84033, 84083, 84162, 84245, 84260, 84273, 84335, 84435, 84439, 84444, 84532, 84539, 84557, 84570, 84634, 84654, 84666, 84765, 84868, 84879, 84959, 84984, 85358, 85359, 85443, 85458, 85480, 90480, 90865, 91319, 91452, 91752, 91937, 92086, 92170, 92579, 92737, 93210, 93986, 94033, 94101, 94103, 112398, 112399, 112476, 112609, 112744, 113235, 113263, 114112, 114131, 114327, 114548, 114781, 114798, 114803, 114883, 114884, 114905, 114991, 115019, 115352, 115727, 116362, 116448, 116519, 116835, 117156, 118460, 119391, 120071, 120227, 120892, 121256, 121278, 121504, 121551, 122786, 124446, 124454, 124626, 126393, 127845, 129787, 129831, 130013, 132789, 133482, 133522, 134111, 134430, 137868, 140735, 140766, 140803, 140805, 140885, 143282, 143662, 144125, 144195, 144423, 144811, 145624, 146059, 146712, 146713, 147199, 147409, 147495, 148022, 148327, 148713, 148811, 149018, 149233, 149628, 149775, 149951, 149998, 150962, 151056, 151393, 152789, 153090, 158506, 160335, 160622, 161882, 162333, 163486, 164656, 167681, 168451, 169026, 169792, 170572, 170679, 171023, 171024, 199692, 199990, 200186, 200575, 200909, 201161, 201501, 203074, 203228, 205428, 219537, 219931, 221037, 221458, 221692, 221895, 222256, 246100, 246778, 253782, 253943, 255061, 255239, 255738, 256076, 256297, 257194, 257313, 259266, 259296, 260328, 260431, 266743, 267012, 282616, 282617, 282618, 282706, 283120, 283297, 283455, 283463, 284110, 284371, 284612, 285242, 286046, 286187, 338340, 338557, 339479, 339541, 339789, 340075, 342977, 345611, 347745, 348120, 353376, 373156, 374977, 375056, 375748, 376497, 377841, 378938, 386653, 387082, 387129, 400566, 401190, 401563, 404684, 406892, 406900, 406906, 406913, 406919, 406922, 406932, 406933, 406935, 406937, 406938, 406940, 406942, 406943, 406947, 406949, 406950, 406951, 406952, 406958, 406967, 406971, 406974, 406979, 406986, 406990, 406991, 406992, 407004, 407006, 407008, 407010, 407017, 407024, 407025, 407030, 407037, 407040, 407042, 407050, 407054, 414764, 414777, 414778, 431708, 440275, 440823, 441108, 442892, 442893, 442899, 442902, 442907, 445347, 450095, 474168, 474256, 474257, 474259, 494324, 494335, 494336, 497258, 554313, 574411, 574436, 574441, 574444, 574447, 574501, 594842, 594857, 619552, 647215, 653423, 653486, 653509, 653590, 692236, 693193, 723961, 727897, 728226, 728294, 728378, 728441, 729230, 729838, 767558, 768219, 100048912, 100049587, 100128998, 100129528, 100129961, 100130097, 100130480, 100133941, 100188397, 100188784, 100302736, 100302740, 100329167, 100379198, 100422880, 100422969, 100506457, 100506542, 100507308, 100507436, 100507679, 100527960, 100529063, 100532737, 100533990, 100616241, 100874231, 101054525, 101154687, 101927156, 101927292, 101927761, 101927821, 101928376, 102606463, 102723407, 102723996, 102724197, 102724560, 102800311, 104909134, 105259599, 105274375, 105369230, 106479034, 106480577, 106480993]],\n",
       "           codes=[[0, 0, 0, 0, 0, 0, 0, 0, 0, 0, 0, 0, 0, 0, 1, 1, 1, 1, 1, 1, 1, 1, 1, 1, 1, 1, 1, 1, 1, 2, 3, 3, 3, 3, 3, 3, 3, 3, 3, 3, 3, 3, 3, 3, 3, 3, 3, 3, 3, 3, 3, 3, 3, 3, 3, 3, 3, 3, 3, 3, 3, 3, 3, 3, 3, 3, 3, 3, 3, 3, 3, 3, 3, 3, 3, 3, 3, 3, 3, 3, 3, 3, 3, 3, 3, 3, 3, 3, 3, 3, 3, 3, 3, 3, 3, 3, 3, 3, 3, 3, 3, 3, 3, 3, 3, 3, 3, 3, 3, 3, 3, 3, 3, 3, 3, 3, 3, 3, 3, 3, 3, 3, 3, 3, 3, 3, 3, 3, 3, 3, 3, 3, 3, 3, 3, 3, 3, 3, 3, 3, 3, 3, 3, 3, 3, 3, 3, 3, 3, 3, 3, 3, 3, 3, 3, 3, 3, 3, 3, 3, 3, 3, 3, 3, 3, 3, 3, 3, 3, 3, 3, 3, 3, 3, 3, 3, 3, 3, 3, 3, 3, 3, 3, 3, 3, 3, 3, 3, 3, 3, 3, 3, 3, 3, 3, 3, 3, 3, 3, 3, 3, 3, 3, 3, 3, 3, 3, 3, 3, 3, 3, 3, 3, 3, 3, 3, 3, 3, 3, 3, 3, 3, 3, 3, 3, 3, 3, 3, 3, 3, 3, 3, 3, 3, 3, 3, 3, 3, 3, 3, 3, 3, 3, 3, 3, 3, 3, 3, 3, 3, 3, 3, 3, 3, 3, 3, 3, 3, 3, 3, 3, 3, 3, 3, 3, 3, 3, 3, 3, 3, 3, 3, 3, 3, 3, 3, 3, 3, 3, 3, 3, 3, 3, 3, 3, 3, 3, 3, 3, 3, 3, 3, 3, 3, 3, 3, 3, 3, 3, 3, 3, 3, 3, 3, 3, 3, 3, 3, 3, 3, 3, 3, 3, 3, 3, 3, 3, 3, 3, 3, 3, 3, 3, 3, 3, 3, 3, 3, 3, 3, 3, 3, 3, 3, 3, 3, 3, 3, 3, 3, 3, 3, 3, 3, 3, 3, 3, 3, 3, 3, 3, 3, 3, 3, 3, 3, 4, 4, 4, 4, 4, 4, 4, 4, 4, 4, 4, 4, 4, 4, 4, 4, 4, 4, 4, 4, 4, 4, 4, 4, 4, 4, 4, 4, 4, 4, 4, 4, 4, 4, 4, 4, 4, 4, 4, 4, 4, 4, 4, 4, 4, 4, 4, 4, 4, 4, 4, 4, 4, 4, 4, 4, 4, 4, 4, 4, 4, 4, 4, 4, 4, 4, 4, 4, 4, 4, 4, 4, 4, 4, 4, 4, 4, 4, 4, 4, 4, 4, 4, 4, 4, 4, 4, 4, 4, 4, 4, 4, 4, 4, 4, 4, 4, 4, 4, 4, 4, 4, 4, 4, 4, 4, 4, 4, 4, 4, 4, 4, 4, 4, 4, 4, 4, 4, 4, 4, 4, 4, 4, 4, 4, 4, 4, 4, 4, 4, 4, 4, 4, 4, 4, 4, 4, 4, 4, 4, 4, 4, 4, 4, 4, 4, 4, 4, 4, 4, 4, 4, 4, 4, 4, 4, 4, 4, 4, 4, 4, 4, 4, 4, 4, 4, 4, 4, 4, 4, 4, 4, 4, 4, 4, 4, 4, 4, 4, 4, 4, 4, 4, 4, 4, 4, 4, 4, 4, 4, 4, 4, 4, 4, 4, 4, 4, 4, 4, 4, 4, 4, 4, 4, 4, 4, 4, 4, 4, 4, 4, 4, 4, 4, 4, 4, 4, 4, 4, 4, 4, 4, 4, 4, 4, 4, 4, 4, 4, 4, 4, 4, 4, 4, 4, 4, 4, 4, 4, 4, 4, 4, 4, 4, 4, 4, 4, 4, 4, 4, 4, 4, 4, 4, 4, 4, 4, 4, 4, 4, 4, 4, 4, 4, 4, 4, 4, 4, 4, 4, 4, 4, 4, 4, 4, 4, 4, 4, 4, 4, 4, 4, 4, 4, 4, 4, 4, 4, 4, 4, 4, 4, 4, 4, 4, 4, 4, 4, 4, 4, 4, 4, 4, 4, 4, 4, 4, 4, 4, 4, 4, 4, 4, 4, 4, 4, 4, 4, 4, 4, 4, 4, 4, 4, 4, 4, 4, 4, 4, 4, 4, 4, 4, 4, 4, 4, 4, 4, 4, 4, 4, 4, 4, 4, 4, 4, 4, 4, 4, 4, 4, 4, 4, 4, 4, 4, 4, 4, 4, 4, 4, 4, 4, 4, 4, 4, 4, 4, 4, 4, 4, 4, 4, 4, 4, 4, 4, 4, 4, 4, 4, 4, 4, 4, 4, 4, 4, 4, 4, 4, 4, 4, 4, 4, 4, 4, 4, 4, 4, 4, 4, 4, 4, 4, 4, 4, 4, 4, 4, 4, 4, 4, 4, 4, 4, 4, 4, 4, 4, 4, 4, 4, 4, 4, 4, 4, 4, 4, 4, 4, 4, 4, 4, 4, 4, 4, 4, 4, 4, 4, 4, 4, 4, 4, 4, 4, 4, 4, 4, 4, 4, 4, 4, 4, 4, 4, 4, 4, 4, 4, 4, 4, 4, 4, 4, 4, 4, 4, 4, 4, 4, 4, 4, 4, 4, 4, 4, 4, 4, 4, 4, 4, 4, 4, 4, 4, 4, 4, 4, 4, 4, 4, 4, 4, 4, 4, 4, 4, 4, 4, 4, 4, 4, 4, 4, 4, 4, 4, 4, 4, 4, 4, 4, 4, 4, 4, 4, 4, 4, 4, 4, 4, 4, 4, 4, 4, 4, 4, 4, 4, 4, 4, 4, 4, 4, 4, 4, 4, 4, 4, 4, 4, 4, 4, 4, 4, 4, 4, 4, 4, 4, 4, 4, 4, 4, 4, 4, 4, 4, 4, 4, 4, 4, 4, 4, 4, 4, 4, 4, 4, 4, 4, 4, 4, 4, 4, 4, 4, 4, 4, 4, 4, 4, 4, 4, 4, 4, 4, 4, 4, 4, 4, 4, 4, 4, 4, 4, 4, 4, 4, 4, 4, 4, 4, 4, 4, 4, 4, 4, 4, 4, 4, 4, 4, 4, 4, 4, 4, 4, 4, 4, 4, 4, 4, 4, 4, 4, 4, 4, 4, 4, 4, 4, 4, 4, 4, 4, 4, 4, 4, 4, 4, 4, 4, 4, 4, 4, 4, 4, 4, 4, 4, 4, 4, 4, 4, 4, 4, 4, 4, 4, 4, 4, 4, 4, 4, 4, 4, 4, 4, 4, 4, 4, 4, 4, 4, 4, 4, 4, 4, 4, 4, 4, 4, 4, 4, 4, 4, 4, 4, 4, 4, 4, 4, 4, 4, 4, 4, 4, 4, 4, 4, 4, 4, 4, 4, 4, 4, 4, 4, 4, 4, 4, 4, 4, 4, 4, 4, 4, 4, 4, 4, 4, 4, 4, 4, 4, 4, 4, 4, 4, 4, 4, 4, 4, 4, 4, 4, 4, 4, 4, 4, 4, 4, 4, 4, 4, 4, 4, 4, 4, 4, 4, 4, 4, 4, 4, 4, 4, 4, 4, 4, 4, 4, 4, 4, 4, 4, 4, 4, 4, 4, 4, 4, 4, 4, 4, 4, 4, 4, 4, 4, 4, 4, 4, 4, 4, 4, 4, 4, 4, 4, 4, 4, 4, 4, 4, 4, 4, 4, 4, 4, 4, 4, 4, 4, 4, 4, 4, 4, 4, 4, 4, 4, 4, 4, 4, 4, 4, 4, 4, 4, 4, 4, 4, 4, 4, 4, 4, 4, 4, 4, 4, 4, 4, 4, 4, 4, 4, 4, 4, 4, 4, 4, 4, 4, 4, 4, 4, 4, 4, 4, 4, 4, 4, 4, 4, 4, 4, 4, 4, 4, 4, 4, 4, 4, 4, 4, 4, 4, 4, 4, 4, 4, 4, 4, 4, 4, 4, 4, 4, 4, 4, 4, 4, 4, 4, 4, 4, 4, 4, 4, 4, 4, 4, 4, 4, 4, 4, 4, 4, 4, 4, 4, 4, 4, 4, 4, 4, 4, 4, 4, 4, 4, 4, 4, 4, 4, 4, 4, 4, 4, 4, 4, 4, 4, 4, 4, 4, 4, 4, 4, 4, 4, 4, 4, 4, 4, 4, 4, 4, 4, 4, 4, 4, 4, 4, 4, 4, 4, 4, 4, 4, 4, 4, 4, 4, 4, 4, 4, 4, 4, 4, 4, 4, 4, 4, 4, 4, 4, 4, 4, 4, 4, 4, 4, 4, 4, 4, 4, 4, 4, 4, 4, 4, 4, 4, 4, 4, 4, 4, 4, 4, 4, 4, 4, 4, 4, 4, 4, 4, 4, 4, 4, 4, 4, 4, 4, 4, 4, 4, 4, 4, 4, 4, 4, 4, 4, 4, 4, 4, 4, 4, 4, 4, 4, 4, 4, 4, 4, 4, 4, 4, 4, 4, 4, 4, 4, 4, 4, 4, 4, 4, 4, 4, 4, 4, 4, 4, 4, 4, 4, 4, 4, 4, 4, 4, 4, 4, 4, 4, 4, 4, 4, 4, 4, 4, 4, 4, 4, 4, 4, 4, 4, 4, 4, 4, 4, 4, 4, 4, 4, 4, 4, 4, 4, 4, 4, 4, 4, 4, 4, 4, 4, 4, 4, 4, 4, 4, 4, 4, 4, 4, 4, 4, 4, 4, 4, 4, 4, 4, 4, 4, 4, 4, 4, 4, 4, 4, 4, 4, 4, 4, 4, 4, 4, 4, 4, 4, 4, 4, 4, 4, 4, 4, 4, 4, 4, 4, 4, 4, 4, 4, 4, 4, 4, 4, 4, 4, 4, 4, 4, 4, 4, 4, 4, 4, 4, 4, 4, 4, 4, 4, 4, 4, 4, 4, 4, 4, 4, 4, 4, 4, 4, 4, 4, 4, 4, 4, 4, 4, 4, 4, 4, 4, 4, 4, 4, 4, 4, 4, 4, 4, 4, 4, 4, 4, 4, 4, 4, 4, 4, 4, 4, 4, 4, 4, 4, 4, 4, 4, 4, 4, 4, 4, 4, 4, 4, 4, 4, 4, 4, 4, 4, 4, 4, 4, 4, 4, 4, 4, 4, 4, 4, 4, 4, 4, 4, 4, 4, 4, 4, 4, 4, 4, 4, 4, 4, 4, 4, 4, 4, 4, 4, 4, 4, 4, 4, 4, 4, 4, 4, 4, 4, 4, 4, 4, 4, 4, 4, 4, 4, 4, 4, 4, 4, 4, 4, 4, 4, 4, 4, 4, 4, 4, 4, 4, 4, 4, 4, 4, 4, 4, 4, 5, 5, 5, 5, 5, 5, 5, 5, 5, 5, 5, 5, 5, 5, 5, 5, 5, 5, 5, 5, 5, 5, 5, 6, 7, 7, 7, 7, 7, 7, 7, 7, 7, 7, 7, 7, 7, 7, 7, 7, 7, 7, 7, 7, 7, 7, 7, 7, 7, 7, 7, 7, 7, 7, 7, 7, 7, 7, 7, 7, 7, 7, 7, 7, 7, 7, 7, 7, 7, 7, 7, 7, 7, 7, 7, 7, 7, 7, 7, 7, 7, 7, 7, 7, 7, 7, 7, 7, 7, 7, 7, 7, 7, 7, 7, 7, 7, 7, 7, 7, 7, 7, 7, 7, 7, 7, 7, 7, 7, 7, 7, 7, 7, 7, 7, 7, 7, 7, 7, 7, 7, 7, 7, 7, 7, 7, 7, 7, 7, 7, 7, 7, 7, 7, 7, 7, 7, 7, 7, 7, 7, 7, 7, 7, 7, 7, 7, 7, 7, 7, 7, 7, 7, 7, 7, 7, 7, 7, 7, 7, 7, 7, 7, 7, 7, 7, 7, 7, 7, 7, 7, 7, 7, 7, 7, 7, 7, 7, 7, 7, 7, 7, 7, 7, 7, 7, 7, 7, 7, 7, 7, 7, 7, 7, 7, 7, 7, 7, 7, 7, 7, 7, 7, 7, 7, 7, 7, 7, 7, 7, 7, 7, 7, 7, 7, 7, 7, 7, 7, 7, 7, 7, 7, 7, 7, 7, 7, 7, 7, 7, 7, 7, 7, 7, 7, 7, 7, 7, 7, 7, 7, 7, 7, 7, 7, 7, 7, 7, 7, 7, 7, 7, 7, 7, 7, 7, 7, 7, 7, 7, 7, 7, 7, 7, 7, 7, 7, 7, 7, 7, 7, 7, 7, 7, 7, 7, 7, 7, 7, 7, 7, 7, 7, 7, 7, 7, 7, 7, 7, 7, 7, 7, 7, 7, 7, 7, 7, 7, 7, 7, 7, 7, 7, 7, 7, 7, 8, 8, 8, 9, 9, 10, 10, 11, 11, 11, 11, 11, 11, 12, 12, 12, 12, 12, 12, 12, 12, 12, 12, 12, 12, 12, 12, 12, 12, 12, 12, 12, 13, 13, 13, 13, 13, 13, 13, 13, 13, 13, 13, 13, 14, 14, 14, 14, 14, 14, 14, 14, 14, 14, 14, 14, 14, 14, 14, 15, 15, 15, 15, 15, 15, 15, 15, 15, 15, 15, 15, 15, 15, 15, 15, 15, 15, 15, 15, 15, 15, 15, 15, 15, 15, 15, 15, 15, 15, 15, 15, 15, 15, 15, 15, 15, 15, 15, 15, 15, 15, 15, 15, 15, 15, 15, 15, 15, 15, 15, 15, 15, 15, 15, 15, 15, 15, 15, 15, 15, 15, 15, 15, 15, 15, 15, 15, 15, 15, 15, 15, 15, 15, 15, 15, 15, 15, 15, 16, 16, 16, 16, 16, 16, 16, 16, 16, 16, 16, 16, 16, 16, 16, 16, 16, 17, 17, 17, 17, 17, 17, 17, 17, 17, 18, 18, 18, 19, 19, 19, 19, 19, 19, 19, 19, 19, 19, 19, 20, 20, 20, 20, 20, 20, 20, 20, 20, 20, 20, 20, 20, 20, 20, 20, 20, 20, 20, 20, 20, 20, 20, 20, 20, 20, 20, 20, 20, 20, 20, 20, 20, 20, 20, 20, 20, 20, 20, 20, 20, 21, 21, 21, 21, 21, 21, 21, 21, 21, 21, 21, 21, 22, 22, 22, 22, 22, 22, 22, 22, 22, 22, 22, 22, 22, 22, 22, 22, 22, 22, 22, 22, 22, 22, 22, 22, 22, 22, 22, 22, 22, 22, 22, 22, 22, 22, 22, 22, 22, 22, 22, 22, 22, 22, 22, 22, 22, 22, 22, 22, 22, 22, 22, 22, 22, 22, 22, 22, 22, 22, 22, 22, 22, 22, 22, 22, 22, 22, 22, 22, 22, 22, 22, 22, 22, 22, 22, 22, 22, 22, 22, 22, 22, 22, 22, 22, 22, 22, 22, 22, 22, 22, 22, 22, 22, 22, 22, 22, 22, 22, 22, 22, 22, 22, 22, 22, 22, 22, 22, 22, 22, 22, 22, 22, 22, 22, 22, 22, 22, 22, 22, 22, 22, 22, 22, 22, 22, 22, 22, 22, 22, 22, 22, 22, 22, 22, 22, 22, 22, 22, 22, 22, 22, 22, 22, 22, 22, 22, 22, 22, 22, 22, 22, 22, 22, 22, 22, 22, 22, 22, 22, 22, 22, 22, 22, 22, 22, 22, 22, 22, 22, 22, 22, 22, 22, 22, 22, 22, 22, 22, 22, 22, 22, 22, 22, 22, 22, 22, 22, 22, 22, 22, 22, 22, 22, 22, 22, 22, 22, 22, 22, 22, 22, 22, 22, 22, 22, 22, 22, 22, 22, 22, 22, 22, 22, 22, 22, 22, 22, 22, 22, 22, 22, 22, 22, 22, 22, 22, 22, 22, 22, 22, 22, 22, 22, 22, 22, 22, 22, 22, 22, 22, 22, 22, 22, 22, 22, 22, 22, 22, 22, 22, 22, 22, 22, 22, 22, 22, 22, 22, 22, 22, 22, 22, 22, 22, 22, 22, 22, 22, 22, 22, 22, 22, 22, 22, 22, 22, 22, 22, 22, 22, 22, 22, 22, 22, 22, 22, 22, 22, 22, 22, 22, 22, 22, 22, 22, 22, 22, 22, 22, 22, 22, 22, 22, 22, 22, 22, 22, 22, 22, 22, 22, 22, 22, 22, 22, 22, 22, 22, 22, 22, 22, 22, 22, 22, 22, 22, 22, 22, 22, 22, 22, 22, 22, 22, 22, 22, 22, 22, 22, 22, 22, 22, 22, 22, 22, 22, 22, 22, 22, 22, 22, 22, 22, 22, 22, 22, 22, 22, 22, 22, 22, 22, 22, 22, 22, 22, 22, 22, 22, 22, 22, 22, 22, 22, 22, 22, 22, 22, 22, 22, 22, 22, 22, 22, 22, 22, 22, 22, 22, 22, 22, 22, 22, 22, 22, 22, 22, 22, 22, 22, 22, 22, 22, 22, 22, 22, 22, 22, 22, 22, 22, 22, 22, 22, 22, 22, 22, 22, 22, 22, 22, 22, 22, 22, 22, 22, 22, 22, 22, 22, 22, 22, 22, 22, 22, 22, 22, 22, 22, 22, 22, 22, 22, 22, 22, 22, 22, 22, 22, 22, 22, 22, 22, 22, 22, 22, 22, 22, 22, 22, 22, 22, 22, 22, 22, 22, 22, 22, 22, 22, 22, 22, 22, 22, 22, 22, 22, 22, 22, 22, 22, 22, 22, 22, 22, 22, 22, 22, 22, 22, 22, 22, 22, 22, 22, 22, 22, 22, 22, 22, 22, 22, 22, 22, 22, 22, 22, 22, 22, 22, 22, 22, 22, 22, 22, 22, 22, 22, 22, 22, 22, 22, 22, 22, 22, 22, 22, 22, 22, 22, 22, 22, 22, 22, 22, 22, 22, 22, 22, 22, 22, 22, 22, 22, 22, 22, 22, 22, 22, 22, 22, 22, 22, 22, 22, 22, 22, 22, 22, 22, 22, 22, 22, 22, 22, 22, 22, 22, 22, 22, 22, 22, 22, 22, 22, 22, 22, 22, 22, 22, 22, 22, 22, 22, 22, 22, 22, 22, 22, 22, 22, 22, 22, 22, 22, 22, 22, 22, 22, 22, 22, 22, 22, 22, 22, 22, 22, 22, 22, 22, 22, 22, 22, 22, 22, 22, 22, 22, 22, 22, 22, 22, 22, 22, 22, 22, 22, 22, 22, 22, 22, 22, 22, 22, 22, 22, 22, 22, 22, 22, 22, 22, 22, 22, 22, 22, 22, 22, 22, 22, 22, 22, 22, 22, 22, 22, 22, 22, 22, 22, 22, 22, 22, 22, 22, 22, 22, 22, 22, 22, 22, 22, 22, 22, 22, 22, 22, 22, 22, 22, 22, 22, 22, 22, 22, 22, 22, 22, 22, 22, 22, 22, 22, 22, 22, 22, 22, 22, 22, 22, 22, 22, 22, 22, 22, 22, 22, 22, 22, 22, 22, 22, 22, 22, 22, 22, 22, 22, 22, 22, 22, 22, 22, 22, 22, 22, 22, 22, 22, 22, 22, 22, 22, 22, 22, 22, 22, 22, 22, 22, 22, 22, 22, 22, 22, 22, 22, 22, 22, 22, 22, 22, 22, 22, 22, 22, 22, 22, 22, 22, 22, 22, 22, 22, 22, 22, 22, 22, 22, 22, 22, 22, 22, 22, 22, 22, 22, 22, 22, 22, 22, 22, 22, 22, 22, 22, 22, 22, 22, 22, 22, 22, 22, 22, 22, 22, 22, 22, 22, 22, 22, 22, 22, 22, 22, 22, 22, 22, 22, 22, 22, 22, 22, 22, 22, 22, 22, 22, 22, 22, 22, 22, 22, 22, 22, 22, 22, 22, 22, 22, 22, 22, 22, 22, 22, 22, 22, 22, 22, 22, 22, 22, 22, 22, 22, 22, 22, 22, 22, 22, 22, 22, 22, 22, 22, 22, 22, 22, 22, 22, 22, 22, 22, 22, 22, 22, 22, 22, 22, 22, 22, 22, 22, 22, 22, 22, 22, 22, 22, 22, 22, 22, 22, 22, 22, 22, 22, 22, 22, 22, 22, 22, 22, 22, 22, 22, 22, 22, 22, 22, 22, 22, 22, 22, 22, 22, 22, 22, 22, 22, 22, 22, 22, 22, 22, 22, 22, 22, 22, 22, 22, 22, 22, 22, 22, 22, 22, 22, 22, 22, 22, 22, 22, 22, 22, 22, 22, 22, 22, 22, 22, 22, 22, 22, 22, 22, 22, 22, 22, 22, 22, 22, 22, 22, 23, 23, 23, 23, 23, 23, 23, 23, 23, 23, 23, 23, 23, 23, 23, 23, 23, 23, 23, 23, 23, 23, 23, 23, 23, 23, 23, 23, 23, 23, 23, 23, 23, 23, 23, 23, 23, 23, 23, 23, 23, 23, 23, 23, 23, 23, 23, 23, 23, 23, 23, 23, 23, 23, 23, 23, 23, 23, 23, 23, 23, 23, 23, 23, 23, 23, 23, 23, 23, 23, 23, 23, 23, 23, 23, 23, 23, 23, 23, 23, 23, 23, 23, 23, 23, 23, 23, 23, 23, 23, 23, 23, 23, 23, 23, 23, 23, 23, 23, 23, 23, 23, 23, 23, 23, 23, 23, 23, 23, 23, 23, 23, 24, 24, 24, 24, 24, 24, 24, 24, 24, 24, 24, 24, 24, 24, 24, 24, 24, 24, 24, 24, 24, 24, 24, 24, 24, 24, 24, 24, 24, 24, 24, 24, 24, 24, 24, 24, 24, 24, 24, 24, 24, 24, 24, 24, 24, 24, 24, 24, 24, 24, 24, 24, 24, 24, 24, 24, 24, 24, 24, 24, 24, 24, 24, 24, 24, 24, 24, 24, 24, 24, 24, 24, 24, 24, 24, 24, 24, 24, 24, 24, 24, 25, 25, 25, 25, 25, 25, 25, 25, 25, 25, 25, 25, 25, 25, 25, 25, 25, 25, 25, 25, 25, 25, 25, 25, 25, 25, 25, 25, 25, 25, 25, 25, 25, 25, 25, 25, 25, 25, 25, 25, 25, 25, 25, 25, 25, 25, 25, 25, 25, 25, 25, 25, 25, 25, 25, 25, 25, 25, 25, 25, 25, 25, 25, 25, 25, 25, 25, 25, 25, 25, 25, 25, 25, 25, 25, 25, 25, 25, 25, 25, 25, 25, 25, 26, 26, 26, 26, 26, 26, 26, 26, 26, 26, 26, 26, 26, 26, 26, 26, 26, 26, 26, 26, 26, 26, 26, 26, 26, 26, 26, 26, 26, 26, 26, 26, 26, 26, 26, 26, 26, 26, 26, 26, 26, 26, 26, 26, 26, 26, 26, 26, 26, 26, 26, 26, 26, 26, 26, 26, 26, 26, 26, 26, 26, 26, 26, 26, 26, 26, 26, 26, 26, 26, 26, 26, 26, 26, 26, 26, 26, 26, 26, 26, 26, 26, 26, 26, 26, 26, 26, 26, 26, 26, 26, 26, 27, 27, 27, 27, 27, 27, 27, 27, 27, 27, 28, 28, 28, 28, 28, 28, 28, 28, 28, 28, 28, 28, 28, 28, 28, 28, 28, 28, 28, 28, 28, 28, 28, 28, 28, 28, 28, 28, 28, 28, 28, 28, 28, 28, 28, 28, 28, 28, 28, 28, 28, 28, 28, 28, 28, 28, 28, 28, 28, 28, 28, 28, 28, 28, 28, 28, 28, 28, 28, 28, 28, 28, 28, 28, 28, 28, 28, 28, 28, 28, 28, 28, 28, 28, 28, 28, 28, 28, 28, 28, 28, 28, 28, 28, 28, 28, 28, 28, 28, 28, 28, 28, 28, 28, 28, 28, 28, 28, 28, 28, 28, 28, 28, 28, 28, 28, 28, 28, 28, 28, 28, 28, 28, 28, 28, 28, 28, 28, 28, 28, 28, 28, 28, 28, 28, 28, 28, 28, 28, 28, 28, 28, 28, 28, 28, 28, 28, 28, 28, 28, 28, 28, 28, 28, 28, 28, 28, 28, 28, 28, 28, 28, 28, 28, 28, 28, 28, 28, 28, 28, 28, 28, 28, 28, 28, 28, 28, 28, 28, 28, 28, 28, 28, 28, 28, 28, 28, 28, 28, 28, 28, 28, 28, 28, 28, 28, 28, 28, 28, 28, 28, 28, 28, 28, 28, 28, 28, 28, 28, 28, 28, 28, 28, 28, 28, 28, 29, 29, 29, 29, 29, 29, 29, 29, 29, 30, 30, 30, 30, 30, 30, 30, 30, 30, 30, 30, 30, 30, 31, 31, 31, 31, 31, 31, 31, 31, 32, 33, 33, 33, 33, 33, 33, 33, 33, 33, 33, 33, 33, 33, 33, 33, 33, 33, 33, 33, 33, 33, 33, 33, 33, 33, 33, 33, 33, 33, 33, 33, 33, 33, 33, 33, 33, 33, 33, 33, 33, 33, 33, 33, 33, 33, 33, 33, 33, 33, 33, 33, 33, 33, 33, 33, 33, 33, 33, 33, 33, 33, 34, 34, 34, 35, 35, 35, 35, 35, 35, 35, 35, 35, 35, 35, 35, 35, 36, 36, 36, 36, 36, 36, 36, 36, 36, 36, 36, 36, 36, 36, 36, 36, 36, 36, 36, 36, 36, 36, 36, 37, 37, 37, 37, 37, 37, 37, 37, 37, 37, 37, 37, 37, 37, 37, 37, 37, 37, 37, 37, 37, 37, 38, 38, 38, 38, 38, 38, 38, 39, 39, 39, 39, 39, 40, 40, 40, 40, 40, 40, 40, 40, 40, 40, 40, 40, 40, 41, 42, 42, 42, 42, 42, 42, 42, 42, 42, 42, 42, 42, 42, 42, 42, 42, 42, 42, 42, 42, 42, 42, 42, 42, 42, 42, 42, 42, 42, 42, 42, 42, 42, 42, 42, 42, 42, 42, 42, 42, 42, 42, 42, 42, 42, 42, 42, 42, 42, 42, 42, 42, 42, 42, 42, 42, 42, 42, 42, 42, 42, 42, 42, 42, 42, 42, 42, 42, 42, 42, 42, 42, 42, 42, 42, 42, 42, 42, 42, 42, 42, 42, 42, 42, 42, 42, 42, 42, 42, 42, 42, 42, 42, 42, 42, 42, 42, 42, 42, 42, 42, 42, 42, 42, 42, 42, 42, 42, 42, 42, 42, 42, 42, 42, 42, 43, 43, 43, 43, 43, 43, 43, 43, 43, 43, 43, 43, 43, 43, 43, 43, 43, 43, 43, 44, 45, 45, 45, 45, 45, 45, 45, 45, 45, 45, 45, 45, 45, 45, 45, 45, 45, 45, 45, 45, 45, 45, 45, 45, 45, 45, 45, 45, 45, 45, 45, 45, 45, 45, 45, 45, 45, 45, 45, 45, 45, 45, 45, 45, 45, 45, 45, 45, 45, 45, 45, 45, 45, 45, 45, 45, 45, 45, 45, 45, 45, 45, 45, 45, 45, 45, 45, 45, 45, 45, 45, 45, 45, 45, 45, 45, 45, 45, 45, 45, 45, 45, 45, 45, 45, 45, 45, 45, 45, 45, 45, 45, 45, 45, 45, 45, 45, 45, 45, 45, 45, 45, 45, 45, 45, 45, 45, 45, 45, 45, 45, 45, 45, 45, 45, 45, 45, 45, 45, 45, 45, 45, 45, 45, 45, 45, 45, 45, 45, 45, 45, 45, 45, 45, 45, 45, 45, 45, 45, 45, 45, 45, 45, 45, 45, 45, 45, 45, 45, 45, 45, 45, 45, 45, 45, 45, 45, 45, 45, 45, 45, 45, 45, 45, 45, 45, 45, 45, 45, 45, 45, 45, 45, 45, 45, 45, 45, 45, 45, 45, 45, 45, 45, 45, 45, 45, 45, 45, 45, 45, 45, 45, 45, 45, 45, 45, 45, 45, 45, 45, 45, 45, 45, 45, 45, 45, 45, 45, 45, 45, 45, 45, 45, 45, 45, 45, 45, 45, 45, 45, 45, 45, 45, 45, 45, 45, 45, 45, 45, 45, 45, 45, 45, 45, 45, 45, 45, 45, 45, 45, 45, 45, 45, 45, 45, 45, 45, 45, 45, 45, 45, 45, 45, 45, 45, 45, 45, 45, 45, 45, 45, 45, 45, 45, 45, 45, 45, 45, 45, 45, 45, 45, 45, 45, 45, 45, 45, 45, 45, 45, 45, 45, 45, 45, 45, 45, 45, 45, 45, 45, 45, 45, 45, 45, 45, 45, 45, 45, 45, 45, 45, 45, 45, 45, 45, 45, 45, 45, 45, 45, 45, 45, 46, 47, 47, 47, 47, 47, 47, 47, 47, 47, 47, 48, 48, 48, 48, 48, 48, 48, 48, 48, 49, 49, 49, 49, 50, 50, 50, 50, 50, 50, 50, 50, 50, 51, 51, 51, 51, 51, 51, 51, 51, 51, 51, 51, 51, 51, 51, 52, 52, 52, 52, 52, 53, 53, 53, 53, 53, 53, 53, 53, 53, 54, 55, 55, 55, 55, 55, 55, 55, 55, 55, 55, 55, 55, 55, 55, 55, 55, 55, 55, 55, 55, 55, 55, 55, 55, 55, 55, 55, 55, 55, 55, 55, 55, 55, 55, 55, 56, 56, 56, 56, 57, 58, 58, 58, 59, 59, 59, 59, 59, 59, 59, 59, 59, 59, 59, 59, 59, 59, 59, 59, 59, 59, 59, 59, 59, 59, 59, 59, 59, 59, 59, 59, 59, 59, 59, 59, 59, 59, 60, 60, 60, 60, 60, 60, 60, 60, 60, 60, 60, 60, 60, 60, 60, 60, 61, 61, 61, 61, 61, 61, 61, 61, 61, 61, 61, 61, 61, 61, 61, 62, 62, 62, 62, 62, 62, 62, 62, 62, 62, 62, 62, 62, 62, 63, 63, 63, 63, 63, 63, 63, 63, 63, 63, 63, 63, 63, 64, 64, 64, 64, 64, 64, 65, 65, 66, 66, 67, 67, 67, 67, 67, 67, 67, 67, 67, 67, 67, 67, 67, 67, 67, 68, 68, 68, 69, 69, 70, 70, 70, 70, 71, 71, 71, 72, 73, 74, 74, 74, 74, 74, 74, 74, 74, 74, 74, 75, 75, 76, 76, 77, 77, 77, 77, 77, 78, 79, 80, 81, 81, 81, 82, 82, 82, 82, 83, 84, 85, 86, 87, 87, 87, 87, 87, 87, 87, 87, 87, 87, 87, 87, 87, 87, 87, 87, 88, 88, 88, 89, 89, 90, 91, 91, 91, 91, 92, 92, 92, 92, 92, 92, 92, 92, 92, 92, 92, 92, 92, 92, 92, 93, 94, 95, 96, 97, 98, 99, 99, 99, 100, 100, 100, 100, 100, 100, 100, 100, 100, 100, 100, 100, 100, 100, 100, 100, 100, 100, 100, 100, 100, 100, 100, 100, 100, 100, 100, 100, 100, 100, 100, 100, 100, 100, 100, 100, 100, 100, 100, 100, 100, 100, 100, 100, 100], [1502, 41, 431, 596, 802, 1008, 1132, 1175, 1500, 2012, 2619, 2757, 2786, 2825, 2649, 1984, 2014, 634, 2450, 265, 275, 276, 1007, 2409, 119, 628, 744, 1902, 2894, 921, 1502, 166, 342, 802, 1132, 357, 462, 2829, 2753, 114, 1008, 2619, 359, 41, 1173, 112, 237, 583, 596, 2263, 331, 2890, 149, 409, 702, 945, 1174, 1388, 1576, 2296, 2888, 182, 464, 519, 662, 805, 1568, 17, 183, 206, 664, 722, 788, 803, 1027, 1429, 1501, 1530, 1688, 1819, 1896, 2038, 2738, 16, 36, 75, 126, 294, 354, 360, 410, 427, 429, 488, 520, 538, 582, 609, 622, 739, 807, 811, 845, 856, 1080, 1112, 1122, 1153, 1167, 1216, 1264, 1591, 1654, 1667, 1836, 2315, 2393, 2436, 2618, 2836, 13, 32, 33, 40, 50, 58, 59, 60, 63, 74, 83, 92, 98, 115, 116, 133, 135, 140, 151, 159, 189, 218, 227, 238, 239, 288, 311, 313, 317, 356, 358, 388, 400, 405, 406, 419, 428, 431, 433, 434, 447, 448, 455, 467, 468, 480, 491, 502, 515, 525, 532, 533, 542, 543, 544, 572, 575, 580, 595, 598, 613, 620, 623, 624, 625, 626, 645, 680, 681, 693, 694, 704, 707, 716, 743, 770, 798, 808, 810, 828, 831, 833, 836, 861, 871, 935, 948, 954, 955, 964, 1016, 1017, 1019, 1022, 1045, 1050, 1059, 1067, 1068, 1077, 1082, 1083, 1084, 1099, 1107, 1118, 1126, 1142, 1151, 1152, 1181, 1182, 1185, 1205, 1225, 1244, 1269, 1271, 1272, 1273, 1307, 1311, 1316, 1320, 1324, 1328, 1342, 1343, 1358, 1394, 1406, 1423, 1425, 1488, 1489, 1490, 1499, 1500, 1510, 1542, 1545, 1565, 1572, 1573, 1642, 1651, 1664, 1665, 1669, 1689, 1707, 1718, 1747, 1755, 1756, 1776, 1781, 1793, 1797, 1820, 1835, 1840, 1848, 1860, 1885, 1888, 1892, 1916, 1922, 1938, 1947, 1948, 1956, 1964, 1974, 1986, 1990, 2012, 2022, 2033, 2036, 2040, 2047, 2059, 2086, 2103, 2112, 2121, 2126, 2145, 2146, 2149, 2161, 2218, 2257, 2277, 2284, 2304, 2307, 2310, 2336, 2337, 2352, 2365, 2369, 2371, 2382, 2395, 2411, 2486, 2495, 2506, 2526, 2558, 2568, 2575, 2576, 2595, 2613, 2617, 2642, 2644, 2651, 2670, 2690, 2707, 2786, 2795, 2809, 2814, 2820, 2824, 2837, 2873, 2875, 2889, 871, 852, 50, 1642, 854, 248, 2315, 2518, 716, 2586, 866, 1610, 718, 2571, 2573, 2753, 853, 588, 1555, 702, 828, 845, 861, 863, 1443, 2373, 856, 2210, 2716, 1696, 1857, 877, 1686, 2028, 1057, 79, 1636, 1129, 1446, 1342, 839, 997, 764, 370, 878, 1397, 1181, 2243, 323, 1634, 1695, 719, 844, 992, 1128, 2632, 2744, 558, 849, 166, 305, 814, 299, 636, 900, 1818, 227, 759, 1091, 1206, 1941, 2196, 2256, 2379, 2472, 2612, 128, 319, 431, 848, 869, 1130, 1333, 2180, 812, 847, 1104, 1449, 1739, 1837, 2081, 2084, 2248, 480, 762, 824, 826, 1080, 1439, 2056, 2727, 129, 384, 487, 851, 1117, 1213, 1302, 2422, 44, 127, 443, 883, 1003, 1227, 1552, 1568, 2302, 2304, 80, 263, 325, 528, 766, 943, 1014, 1115, 1204, 1479, 1967, 2270, 2591, 2625, 2629, 64, 75, 197, 232, 306, 322, 557, 560, 619, 741, 761, 776, 850, 857, 875, 911, 991, 1236, 1237, 1238, 1239, 1551, 1584, 1611, 1655, 1703, 1971, 2239, 62, 160, 257, 507, 599, 600, 772, 865, 923, 924, 925, 1169, 1253, 1334, 1341, 1399, 1450, 1549, 2229, 2401, 2442, 2455, 2661, 2675, 27, 28, 192, 193, 252, 254, 310, 363, 439, 472, 486, 574, 597, 677, 717, 827, 1052, 1059, 1082, 1433, 1447, 1454, 1516, 1530, 1625, 1633, 1673, 1775, 1828, 1966, 2116, 2333, 2829, 2, 22, 81, 94, 196, 251, 261, 324, 329, 368, 398, 488, 563, 582, 583, 846, 867, 874, 964, 987, 1196, 1250, 1251, 1257, 1280, 1304, 1337, 1434, 1452, 1455, 1538, 1635, 1735, 1847, 2293, 2297, 2456, 2531, 2593, 2721, 2772, 2812, 2842, 2879, 3, 40, 58, 76, 117, 134, 215, 265, 271, 272, 278, 295, 308, 328, 345, 359, 360, 362, 396, 437, 482, 483, 508, 513, 520, 521, 564, 617, 630, 753, 758, 767, 768, 786, 792, 842, 855, 872, 893, 895, 970, 993, 1002, 1012, 1036, 1066, 1079, 1090, 1092, 1111, 1122, 1132, 1149, 1150, 1175, 1242, 1254, 1278, 1303, 1332, 1336, 1338, 1396, 1421, 1438, 1460, 1468, 1531, 1572, 1593, 1627, 1629, 1692, 1718, 1737, 1795, 1798, 1877, 1887, 1963, 1970, 2054, 2068, 2078, 2119, 2138, 2152, 2156, 2163, 2236, 2245, 2271, 2279, 2283, 2287, 2334, 2356, 2383, 2523, 2536, 2563, 2607, 2703, 2742, 2781, 2834, 12, 33, 38, 41, 46, 48, 59, 97, 104, 130, 140, 152, 184, 189, 210, 228, 230, 244, 283, 287, 291, 298, 307, 309, 311, 321, 326, 343, 348, 354, 355, 372, 391, 411, 421, 470, 484, 492, 498, 527, 561, 565, 613, 631, 634, 635, 639, 684, 705, 732, 736, 740, 749, 752, 763, 780, 782, 795, 796, 830, 840, 841, 860, 864, 873, 885, 907, 908, 912, 916, 933, 937, 947, 953, 968, 971, 1016, 1040, 1041, 1053, 1055, 1058, 1064, 1089, 1093, 1095, 1099, 1125, 1134, 1136, 1148, 1171, 1182, 1193, 1198, 1205, 1209, 1221, 1258, 1282, 1301, 1324, 1347, 1348, 1350, 1374, 1383, 1388, 1401, 1422, 1435, 1440, 1441, 1444, 1448, 1464, 1466, 1477, 1478, 1522, 1523, 1525, 1528, 1539, 1547, 1550, 1553, 1556, 1567, 1569, 1575, 1614, 1631, 1644, 1650, 1658, 1674, 1691, 1700, 1741, 1746, 1777, 1780, 1807, 1812, 1817, 1842, 1855, 1864, 1874, 1879, 1919, 1945, 1960, 1988, 1991, 2000, 2006, 2015, 2016, 2044, 2046, 2051, 2058, 2072, 2088, 2106, 2108, 2120, 2127, 2130, 2143, 2199, 2200, 2218, 2278, 2357, 2387, 2397, 2409, 2414, 2437, 2439, 2454, 2464, 2468, 2479, 2485, 2486, 2514, 2522, 2530, 2547, 2561, 2582, 2616, 2635, 2660, 2679, 2682, 2701, 2715, 2720, 2771, 2784, 2787, 2799, 2805, 2844, 2884, 0, 1, 4, 6, 11, 17, 19, 20, 23, 30, 39, 45, 52, 53, 54, 55, 57, 60, 66, 73, 78, 82, 83, 87, 88, 90, 93, 96, 98, 101, 102, 103, 112, 116, 118, 122, 126, 139, 145, 146, 154, 161, 164, 165, 167, 175, 176, 186, 190, 194, 203, 211, 212, 213, 222, 223, 224, 243, 245, 246, 249, 250, 253, 255, 256, 260, 262, 267, 268, 282, 285, 286, 293, 296, 300, 301, 303, 312, 327, 330, 333, 334, 337, 338, 340, 347, 351, 357, 361, 366, 367, 369, 371, 376, 381, 382, 383, 385, 387, 390, 392, 394, 395, 399, 401, 404, 405, 406, 410, 412, 413, 416, 422, 423, 425, 426, 430, 435, 436, 438, 450, 453, 456, 458, 460, 479, 485, 490, 493, 495, 496, 505, 515, 519, 522, 529, 531, 534, 536, 539, 548, 553, 559, 562, 570, 581, 587, 591, 592, 594, 596, 601, 604, 610, 611, 612, 633, 648, 651, 653, 660, 661, 665, 668, 687, 691, 696, 703, 707, 708, 712, 713, 715, 721, 729, 742, 746, 751, 757, 765, 777, 781, 785, 788, 791, 809, 837, 843, 858, 859, 868, 870, 876, 880, 881, 886, 889, 894, 898, 905, 906, 910, 913, 914, 918, 922, 936, 939, 940, 941, 942, 950, 956, 963, 965, 966, 969, 975, 978, 983, 994, 996, 999, 1000, 1005, 1019, 1020, 1021, 1030, 1034, 1035, 1042, 1043, 1048, 1056, 1062, 1071, 1076, 1102, 1105, 1106, 1113, 1118, 1127, 1131, 1154, 1155, 1157, 1159, 1165, 1166, 1173, 1174, 1178, 1180, 1194, 1207, 1208, 1210, 1211, 1212, 1214, 1218, 1228, 1230, 1231, 1249, 1259, 1266, 1267, 1271, 1273, 1276, 1281, 1286, 1287, 1290, 1292, 1294, 1300, 1305, 1306, 1309, 1310, 1313, 1315, 1326, 1327, 1329, 1330, 1331, 1335, 1339, 1346, 1353, 1354, 1361, 1362, 1364, 1365, 1367, 1369, 1370, 1371, 1375, 1379, 1380, 1387, 1398, 1400, 1405, 1412, 1414, 1416, 1424, 1425, 1432, 1436, 1445, 1451, 1453, 1457, 1458, 1459, 1462, 1465, 1467, 1476, 1494, 1502, 1503, 1506, 1507, 1511, 1513, 1515, 1517, 1520, 1524, 1529, 1532, 1534, 1535, 1544, 1548, 1554, 1563, 1570, 1577, 1578, 1582, 1585, 1587, 1594, 1595, 1603, 1605, 1609, 1612, 1613, 1615, 1617, 1619, 1620, 1630, 1632, 1637, 1647, 1651, 1657, 1660, 1661, 1672, 1679, 1680, 1682, 1701, 1704, 1709, 1710, 1714, 1716, 1720, 1721, 1722, 1723, 1724, 1726, 1728, 1734, 1740, 1743, 1749, 1755, 1758, 1759, 1762, 1763, 1764, 1765, 1766, 1767, 1768, 1769, 1770, 1771, 1772, 1773, 1774, 1778, 1782, 1784, 1789, 1805, 1808, 1809, 1810, 1824, 1826, 1833, 1834, 1839, 1843, 1844, 1850, 1852, 1853, 1856, 1858, 1859, 1860, 1861, 1863, 1872, 1878, 1882, 1886, 1889, 1891, 1893, 1894, 1895, 1902, 1903, 1904, 1906, 1907, 1908, 1910, 1911, 1914, 1925, 1932, 1940, 1942, 1944, 1950, 1957, 1958, 1962, 1972, 1973, 1976, 1978, 1979, 1980, 1985, 1987, 1989, 1993, 1996, 1997, 2003, 2005, 2008, 2009, 2013, 2018, 2020, 2030, 2043, 2048, 2049, 2050, 2057, 2065, 2067, 2071, 2073, 2074, 2079, 2090, 2092, 2094, 2098, 2126, 2129, 2132, 2140, 2141, 2147, 2151, 2155, 2158, 2165, 2167, 2168, 2169, 2170, 2173, 2176, 2179, 2181, 2182, 2187, 2189, 2190, 2198, 2202, 2207, 2209, 2211, 2219, 2221, 2224, 2226, 2233, 2240, 2241, 2246, 2247, 2249, 2250, 2253, 2254, 2255, 2272, 2273, 2274, 2275, 2281, 2292, 2294, 2300, 2308, 2309, 2313, 2314, 2317, 2320, 2321, 2327, 2332, 2335, 2339, 2346, 2348, 2350, 2351, 2355, 2360, 2361, 2367, 2369, 2370, 2374, 2375, 2376, 2378, 2380, 2381, 2382, 2384, 2385, 2388, 2391, 2392, 2396, 2404, 2416, 2418, 2433, 2435, 2440, 2441, 2444, 2446, 2448, 2449, 2452, 2458, 2462, 2463, 2465, 2466, 2467, 2470, 2471, 2474, 2482, 2483, 2484, 2490, 2491, 2494, 2497, 2510, 2516, 2519, 2525, 2538, 2541, 2545, 2548, 2552, 2565, 2569, 2577, 2578, 2581, 2585, 2589, 2596, 2597, 2604, 2605, 2606, 2608, 2611, 2614, 2620, 2621, 2622, 2623, 2626, 2628, 2630, 2631, 2633, 2634, 2638, 2643, 2646, 2647, 2648, 2652, 2658, 2659, 2665, 2666, 2668, 2671, 2672, 2673, 2677, 2684, 2688, 2697, 2706, 2709, 2719, 2723, 2726, 2728, 2731, 2736, 2737, 2740, 2745, 2749, 2751, 2755, 2764, 2767, 2768, 2778, 2782, 2788, 2798, 2800, 2801, 2806, 2811, 2813, 2821, 2826, 2827, 2828, 2830, 2831, 2832, 2833, 2835, 2839, 2840, 2841, 2843, 2845, 2849, 2852, 2854, 2857, 2860, 2862, 2864, 2868, 2869, 2871, 2874, 2875, 2877, 2880, 2881, 2885, 2891, 299, 1696, 127, 370, 487, 508, 585, 590, 725, 726, 727, 741, 847, 852, 854, 861, 895, 1091, 1370, 1428, 1610, 1715, 2716, 59, 112, 1696, 1252, 1057, 530, 1181, 1642, 2432, 80, 160, 526, 856, 986, 1130, 166, 431, 792, 1082, 1298, 1530, 1636, 6, 36, 88, 219, 745, 749, 768, 795, 796, 814, 844, 845, 847, 1206, 1253, 1400, 1584, 1842, 2289, 39, 58, 59, 75, 114, 122, 138, 263, 399, 571, 772, 1014, 1032, 1132, 1148, 1251, 1257, 1340, 1386, 1443, 1535, 1564, 1610, 1695, 1786, 1899, 2225, 2420, 29, 40, 44, 55, 93, 103, 113, 115, 140, 153, 169, 174, 185, 211, 212, 213, 216, 220, 236, 242, 248, 259, 262, 277, 284, 316, 340, 346, 354, 363, 368, 370, 391, 412, 414, 432, 437, 447, 467, 471, 483, 497, 509, 510, 519, 527, 531, 540, 541, 574, 599, 600, 616, 619, 645, 646, 673, 697, 699, 702, 730, 733, 778, 780, 789, 790, 831, 852, 861, 866, 875, 878, 889, 906, 923, 924, 925, 929, 931, 937, 957, 967, 974, 982, 992, 1009, 1016, 1024, 1046, 1050, 1080, 1115, 1117, 1129, 1133, 1136, 1140, 1157, 1161, 1176, 1187, 1230, 1231, 1232, 1236, 1237, 1238, 1239, 1263, 1277, 1280, 1294, 1301, 1309, 1314, 1320, 1333, 1335, 1342, 1366, 1384, 1439, 1440, 1460, 1464, 1468, 1479, 1481, 1484, 1489, 1499, 1504, 1512, 1557, 1566, 1580, 1585, 1606, 1614, 1638, 1651, 1685, 1699, 1705, 1720, 1735, 1783, 1806, 1821, 1829, 1832, 1846, 1849, 1860, 1865, 1872, 1873, 1896, 1939, 1943, 1955, 1959, 1960, 1964, 1969, 1981, 1983, 1991, 2020, 2061, 2063, 2126, 2130, 2131, 2139, 2150, 2171, 2202, 2214, 2248, 2258, 2261, 2285, 2293, 2322, 2323, 2405, 2414, 2437, 2438, 2447, 2475, 2476, 2533, 2546, 2551, 2611, 2627, 2644, 2691, 2717, 2741, 2762, 2779, 2785, 2791, 2792, 2794, 2819, 2825, 2848, 2850, 2875, 2886, 227, 676, 1311, 56, 1272, 1933, 2716, 887, 51, 115, 775, 1203, 1280, 884, 928, 39, 55, 120, 288, 384, 640, 764, 775, 1053, 1056, 1057, 1355, 1628, 1648, 1708, 2347, 2629, 357, 629, 847, 1008, 1151, 1502, 149, 166, 342, 365, 1190, 2802, 1393, 12, 1392, 561, 562, 612, 725, 751, 938, 1156, 1505, 1509, 1852, 2528, 2656, 1690, 107, 986, 104, 112, 110, 192, 105, 1280, 985, 963, 976, 977, 2521, 2610, 775, 1273, 1278, 2708, 258, 541, 689, 856, 1181, 1413, 1435, 1590, 1642, 1647, 1873, 2008, 2408, 34, 72, 106, 118, 269, 289, 352, 395, 415, 448, 484, 488, 491, 554, 597, 619, 738, 771, 836, 850, 899, 964, 965, 979, 1087, 1115, 1123, 1170, 1182, 1468, 1646, 1683, 1790, 2073, 2082, 2090, 2188, 2203, 2206, 2264, 2400, 2480, 2601, 2602, 2814, 2815, 2816, 112, 963, 986, 2610, 2856, 107, 297, 104, 109, 110, 209, 265, 415, 813, 1804, 1814, 2034, 986, 104, 107, 1505, 72, 110, 985, 2610, 2664, 112, 2610, 986, 616, 2313, 227, 300, 1026, 1070, 1072, 1225, 1480, 1495, 2104, 1502, 166, 825, 357, 711, 1132, 41, 72, 332, 372, 465, 549, 574, 577, 607, 608, 664, 670, 702, 710, 811, 856, 930, 1041, 1082, 1128, 1142, 1272, 1273, 1318, 1342, 1423, 1468, 1526, 1530, 2142, 2300, 2362, 2570, 2619, 2861, 442, 446, 397, 115, 401, 547, 616, 733, 735, 1320, 1676, 1796, 431, 1181, 1130, 58, 112, 1252, 856, 526, 363, 1384, 59, 992, 107, 297, 530, 1082, 1642, 911, 985, 1057, 1696, 104, 571, 986, 1054, 531, 845, 80, 831, 866, 967, 1439, 1464, 248, 1273, 1636, 519, 1249, 1322, 406, 963, 1250, 1257, 1619, 1774, 2699, 745, 1705, 1873, 6, 34, 50, 529, 536, 1028, 1161, 1342, 2698, 79, 110, 484, 780, 1052, 1610, 75, 656, 671, 1136, 1468, 1673, 1761, 510, 772, 1050, 1253, 1280, 2088, 2148, 2746, 2848, 88, 140, 480, 743, 1053, 1137, 1212, 1294, 1620, 1649, 1735, 2438, 2610, 12, 258, 288, 372, 398, 408, 749, 847, 902, 940, 1225, 1425, 1622, 1727, 2708, 39, 49, 55, 154, 383, 411, 661, 976, 1014, 1066, 1080, 1129, 1648, 1890, 2034, 2063, 2280, 2364, 2724, 2850, 2875, 37, 95, 106, 189, 192, 195, 310, 346, 499, 570, 592, 649, 711, 716, 719, 744, 768, 814, 844, 857, 861, 903, 932, 991, 1088, 1120, 1184, 1261, 1332, 1446, 1466, 1502, 1531, 1601, 1625, 1651, 1734, 1964, 1998, 2066, 2126, 2349, 2490, 2541, 2804, 2844, 60, 65, 128, 144, 168, 209, 219, 226, 274, 286, 325, 336, 370, 389, 396, 401, 407, 418, 459, 579, 597, 637, 655, 660, 674, 718, 746, 815, 828, 975, 1013, 1024, 1038, 1041, 1117, 1119, 1222, 1239, 1254, 1293, 1340, 1417, 1443, 1538, 1638, 1646, 1675, 1730, 1731, 1799, 1803, 1860, 1889, 1898, 1952, 2009, 2044, 2070, 2075, 2111, 2206, 2303, 2387, 2471, 2486, 2784, 9, 21, 28, 42, 44, 48, 68, 89, 100, 113, 126, 160, 161, 218, 227, 228, 236, 252, 257, 263, 269, 281, 287, 289, 305, 318, 334, 335, 376, 377, 405, 424, 437, 452, 482, 483, 488, 492, 503, 512, 520, 527, 537, 556, 569, 604, 658, 663, 702, 788, 795, 796, 812, 833, 834, 858, 877, 878, 879, 884, 888, 896, 915, 949, 952, 958, 988, 1002, 1003, 1039, 1047, 1101, 1115, 1125, 1128, 1132, 1139, 1163, 1164, 1182, 1199, 1214, 1236, 1237, 1238, 1251, 1278, 1297, 1303, 1304, 1341, 1357, 1382, 1400, 1422, 1432, 1467, 1520, 1530, 1532, 1543, 1551, 1606, 1621, 1628, 1634, 1647, 1674, 1695, 1716, 1725, 1786, 1787, 1792, 1802, 1825, 1828, 1842, 1875, 1879, 1880, 1899, 1934, 1935, 1942, 1954, 2026, 2040, 2064, 2072, 2083, 2085, 2091, 2116, 2125, 2232, 2295, 2300, 2312, 2313, 2386, 2408, 2421, 2445, 2557, 2588, 2594, 2597, 2666, 2685, 2714, 0, 3, 17, 24, 36, 38, 40, 51, 52, 67, 72, 81, 85, 86, 87, 91, 99, 103, 105, 108, 111, 117, 130, 132, 134, 136, 138, 141, 147, 148, 150, 159, 164, 165, 166, 169, 170, 171, 173, 177, 181, 182, 191, 198, 199, 200, 201, 205, 217, 221, 222, 229, 231, 241, 259, 262, 264, 285, 290, 294, 298, 300, 313, 314, 315, 321, 323, 332, 333, 339, 341, 342, 344, 354, 356, 374, 375, 378, 379, 380, 390, 391, 399, 400, 402, 409, 412, 414, 417, 419, 426, 430, 435, 440, 444, 451, 458, 461, 466, 468, 471, 474, 476, 477, 481, 495, 500, 508, 511, 515, 528, 533, 534, 535, 539, 541, 542, 552, 563, 564, 566, 567, 574, 578, 586, 587, 598, 602, 614, 616, 619, 632, 640, 643, 644, 646, 647, 648, 651, 652, 654, 672, 678, 679, 682, 686, 689, 690, 712, 714, 717, 724, 728, 731, 737, 748, 753, 760, 769, 771, 784, 792, 793, 797, 799, 804, 805, 825, 829, 832, 852, 853, 862, 864, 867, 869, 882, 883, 890, 897, 901, 904, 907, 909, 917, 919, 921, 926, 927, 928, 930, 934, 939, 943, 946, 951, 953, 955, 957, 959, 960, 961, 971, 972, 980, 989, 993, 994, 995, 997, 1001, 1004, 1011, 1015, 1023, 1025, 1029, 1030, 1032, 1034, 1049, 1059, 1060, 1061, 1070, 1075, 1076, 1079, 1083, 1087, 1100, 1104, 1109, 1122, 1133, 1138, 1141, 1147, 1151, 1153, 1159, 1160, 1162, 1165, 1168, 1171, 1176, 1177, 1178, 1194, 1197, 1200, 1202, 1208, 1213, 1228, 1229, 1235, 1245, 1255, 1259, 1268, 1270, 1274, 1283, 1302, 1308, 1309, 1317, 1323, 1336, 1338, 1344, 1351, 1352, 1356, 1358, 1368, 1372, 1385, 1390, 1395, 1407, 1415, 1416, 1426, 1430, 1437, 1456, 1460, 1461, 1462, 1469, 1470, 1473, 1483, 1484, 1485, 1498, 1517, 1529, 1535, 1536, 1537, 1558, 1561, 1571, 1574, 1581, 1583, 1584, 1586, 1587, 1596, 1597, 1604, 1611, 1613, 1614, 1623, 1626, 1627, 1640, 1641, 1645, 1652, 1653, 1662, 1663, 1669, 1670, 1671, 1676, 1684, 1692, 1693, 1694, 1697, 1701, 1702, 1706, 1711, 1713, 1720, 1729, 1733, 1738, 1751, 1752, 1754, 1757, 1785, 1788, 1791, 1794, 1798, 1806, 1808, 1810, 1813, 1816, 1821, 1830, 1832, 1841, 1843, 1847, 1851, 1862, 1866, 1869, 1870, 1881, 1892, 1897, 1912, 1915, 1916, 1918, 1921, 1923, 1924, 1927, 1928, 1930, 1941, 1943, 1951, 1960, 1965, 1968, 1975, 1982, 1992, 1993, 1995, 1997, 2001, 2002, 2004, 2007, 2019, 2022, 2023, 2024, 2029, 2031, 2032, 2035, 2037, 2041, 2042, 2052, 2055, 2060, 2061, 2062, 2076, 2087, 2089, 2093, 2095, 2096, 2097, 2099, 2100, 2102, 2105, 2110, 2113, 2114, 2117, 2128, 2135, 2136, 2147, 2153, 2155, 2156, 2164, 2166, 2184, 2186, 2191, 2192, 2201, 2210, 2215, 2220, 2222, 2225, 2231, 2235, 2237, 2238, 2244, 2245, 2258, 2260, 2262, 2265, 2266, 2268, 2269, 2272, 2289, 2290, 2291, 2298, 2305, 2324, 2326, 2329, 2333, 2338, 2341, 2342, 2343, 2353, 2358, 2361, 2363, 2368, 2371, 2379, 2390, 2398, 2406, 2407, 2412, 2419, 2427, 2428, 2429, 2443, 2451, 2460, 2461, 2473, 2481, 2488, 2492, 2493, 2496, 2505, 2508, 2512, 2515, 2527, 2537, 2539, 2542, 2549, 2550, 2551, 2553, 2554, 2555, 2574, 2615, 2616, 2624, 2650, 2660, 2662, 2663, 2667, 2669, 2674, 2678, 2694, 2705, 2732, 2735, 2739, 2748, 2750, 2756, 2758, 2759, 2760, 2761, 2770, 2772, 2773, 2776, 2780, 2783, 2785, 2788, 2789, 2793, 2795, 2796, 2797, 2807, 2808, 2827, 2853, 2866, 2867, 2887, 964, 1019, 965, 1486, 1280, 2486, 626, 1272, 51, 124, 166, 856, 1199, 1642, 1873, 1943, 2126, 2520, 125, 363, 431, 538, 986, 1018, 1132, 1143, 1325, 1801, 2109, 2711, 14, 31, 50, 56, 115, 156, 157, 258, 331, 350, 459, 462, 519, 541, 649, 669, 688, 690, 749, 878, 887, 932, 958, 977, 1033, 1081, 1111, 1121, 1153, 1181, 1212, 1219, 1278, 1279, 1288, 1311, 1398, 1407, 1435, 1472, 1538, 1551, 1562, 1647, 1651, 1684, 1685, 1687, 1719, 1753, 1811, 1845, 1865, 1897, 1921, 1926, 2025, 2040, 2053, 2154, 2183, 2272, 2282, 2300, 2359, 2372, 2386, 2387, 2421, 2429, 2501, 2509, 2556, 2566, 2571, 2590, 2725, 2729, 2765, 2818, 2892, 2893, 1502, 166, 342, 805, 1488, 1008, 1836, 462, 464, 803, 1152, 1501, 1953, 2436, 279, 282, 447, 463, 701, 739, 779, 808, 1063, 2161, 2599, 2619, 12, 123, 189, 206, 239, 280, 370, 406, 409, 453, 475, 519, 520, 618, 626, 657, 695, 699, 723, 804, 916, 944, 951, 960, 1027, 1031, 1148, 1151, 1158, 1167, 1174, 1192, 1220, 1275, 1415, 1514, 1618, 1642, 1684, 1872, 2160, 2162, 2567, 2598, 2609, 2644, 2681, 2689, 2693, 2730, 2753, 2757, 2823, 2829, 2878, 445, 1233, 2174, 230, 372, 524, 828, 1065, 1600, 75, 257, 370, 594, 675, 1410, 1598, 1642, 2301, 27, 182, 188, 232, 244, 255, 263, 264, 267, 269, 320, 363, 441, 473, 478, 492, 510, 523, 545, 546, 547, 551, 574, 616, 627, 635, 659, 716, 753, 764, 856, 973, 1037, 1066, 1073, 1186, 1223, 1290, 1404, 1408, 1416, 1425, 1551, 1599, 1651, 1656, 1712, 1810, 1876, 1896, 1909, 1911, 2047, 2410, 2425, 2477, 2554, 2580, 2592, 2600, 2629, 2654, 2686, 2747, 2784, 342, 802, 237, 239, 1008, 1502, 41, 2829, 2753, 805, 1500, 359, 2618, 2619, 166, 189, 238, 1343, 1654, 16, 47, 356, 357, 360, 495, 625, 709, 780, 1144, 1224, 1248, 1388, 2154, 2263, 2311, 2399, 2423, 2738, 2786, 15, 70, 112, 151, 431, 434, 464, 494, 506, 621, 622, 623, 626, 664, 667, 676, 707, 752, 764, 808, 866, 884, 961, 962, 990, 1014, 1027, 1132, 1136, 1152, 1205, 1217, 1319, 1389, 1528, 1542, 1572, 1797, 1836, 1901, 1990, 2394, 2502, 2636, 2637, 2718, 2722, 2769, 2810, 2824, 2825, 2861, 2888, 584, 1130, 7, 349, 359, 2325, 2641, 2649, 2865, 2876, 921, 510, 2403, 1065, 10, 257, 214, 511, 163, 825, 824, 2318, 826, 1114, 2683, 1847, 370, 372, 634, 831, 851, 867, 920, 939, 1529, 1553, 1651, 1677, 2543, 2770, 160, 161, 230, 233, 526, 530, 612, 702, 821, 822, 833, 958, 1025, 1095, 1347, 1359, 1360, 1549, 1554, 1623, 1635, 1696, 1748, 1798, 2159, 2894, 84, 117, 126, 129, 162, 179, 231, 250, 256, 258, 263, 266, 270, 288, 290, 295, 302, 305, 327, 348, 363, 386, 400, 405, 466, 469, 489, 491, 492, 516, 523, 524, 592, 593, 616, 716, 719, 725, 730, 733, 735, 745, 766, 783, 823, 828, 832, 835, 856, 861, 891, 903, 922, 924, 950, 998, 1022, 1034, 1036, 1082, 1090, 1094, 1097, 1116, 1117, 1146, 1163, 1179, 1211, 1226, 1254, 1287, 1289, 1301, 1312, 1328, 1349, 1357, 1363, 1378, 1382, 1384, 1471, 1475, 1509, 1535, 1568, 1572, 1576, 1600, 1614, 1666, 1717, 1744, 1750, 1809, 1810, 1818, 1822, 1823, 1832, 1838, 1869, 1890, 1905, 1934, 1937, 1945, 1994, 2017, 2027, 2035, 2107, 2118, 2137, 2195, 2210, 2213, 2225, 2258, 2259, 2286, 2293, 2298, 2308, 2415, 2429, 2456, 2459, 2478, 2500, 2534, 2540, 2562, 2632, 2655, 2743, 2744, 2766, 2774, 2775, 2777, 2788, 2790, 2822, 2846, 2858, 2859, 2870, 2882, 2803, 176, 26, 61, 499, 517, 806, 931, 1502, 1410, 1551, 12, 764, 163, 510, 762, 852, 1409, 1411, 2223, 2429, 2640, 50, 248, 370, 588, 851, 854, 1397, 1686, 605, 1873, 1642, 964, 1590, 642, 2327, 643, 856, 928, 1014, 1381, 1943, 2011, 65, 126, 178, 288, 363, 420, 493, 501, 574, 592, 654, 690, 744, 747, 766, 780, 832, 845, 884, 887, 888, 937, 965, 980, 986, 1080, 1085, 1086, 1130, 1273, 1377, 1439, 1483, 1502, 1531, 1587, 1610, 1696, 1760, 1831, 2008, 2069, 2125, 2402, 2434, 2564, 2712, 2763, 861, 1184, 1253, 1696, 1642, 160, 248, 510, 828, 831, 856, 985, 1439, 1936, 2216, 2863, 511, 2312, 503, 510, 734, 735, 1698, 733, 180, 921, 749, 1065, 1240, 1241, 1246, 1553, 1554, 1832, 1854, 2123, 2316, 2587, 2588, 2676, 2429, 1608, 1145, 744, 18, 172, 449, 510, 531, 733, 734, 845, 892, 1530, 1607, 1642, 1646, 1647, 2157, 2366, 2572, 1648, 143, 227, 1129, 1261, 1294, 1642, 655, 1614, 77, 1400, 1668, 71, 8, 2331, 2267, 555, 602, 725, 744, 792, 1815, 2344, 2517, 2584, 1502, 1651, 1520, 288, 487, 517, 716, 1639, 126, 513, 1629, 137, 1519, 1668, 159, 160, 265, 303, 403, 580, 707, 774, 939, 1272, 1332, 1559, 2228, 22, 69, 77, 103, 116, 121, 152, 210, 235, 237, 286, 292, 304, 346, 355, 393, 400, 409, 410, 457, 514, 577, 604, 606, 718, 720, 746, 773, 832, 836, 861, 864, 947, 968, 1004, 1009, 1044, 1069, 1082, 1095, 1098, 1108, 1136, 1190, 1201, 1210, 1234, 1236, 1237, 1238, 1239, 1277, 1280, 1369, 1397, 1403, 1463, 1480, 1514, 1518, 1521, 1527, 1533, 1600, 1610, 1614, 1624, 1678, 1732, 1777, 1871, 1900, 1917, 1929, 1941, 2010, 2077, 2177, 2217, 2230, 2308, 2313, 2345, 2702, 2754, 2806, 2842, 2851, 2855, 1130, 112, 210, 368, 370, 772, 951, 1057, 1252, 1416, 1418, 1420, 1424, 1425, 1427, 1625, 1627, 2242, 2724, 1082, 642, 884, 887, 2883, 965, 1642, 1381, 1493, 1587, 964, 1280, 1564, 1590, 1873, 856, 1010, 640, 828, 831, 928, 2040, 2387, 112, 258, 431, 749, 888, 1212, 2069, 269, 652, 775, 1019, 1130, 1191, 1278, 1279, 2266, 2300, 2453, 2496, 2679, 27, 50, 56, 107, 114, 131, 225, 271, 393, 459, 586, 615, 625, 641, 649, 685, 702, 813, 814, 820, 832, 837, 899, 908, 976, 1078, 1086, 1111, 1181, 1242, 1249, 1345, 1377, 1435, 1491, 1647, 1801, 1828, 2008, 2011, 2251, 2315, 2428, 2438, 5, 6, 19, 25, 36, 37, 39, 48, 51, 55, 58, 59, 68, 69, 72, 75, 104, 109, 125, 129, 147, 167, 181, 187, 207, 247, 248, 250, 297, 317, 331, 342, 353, 363, 364, 368, 373, 389, 398, 402, 437, 454, 456, 466, 510, 518, 520, 541, 550, 568, 597, 602, 603, 616, 633, 643, 648, 650, 673, 678, 682, 683, 689, 692, 716, 733, 734, 744, 747, 750, 754, 755, 762, 787, 835, 896, 980, 986, 1018, 1050, 1074, 1099, 1104, 1117, 1132, 1161, 1175, 1183, 1195, 1215, 1220, 1224, 1236, 1237, 1238, 1239, 1243, 1247, 1260, 1273, 1284, 1285, 1291, 1295, 1296, 1299, 1301, 1303, 1304, 1320, 1321, 1355, 1356, 1366, 1370, 1373, 1383, 1384, 1398, 1407, 1414, 1422, 1442, 1466, 1474, 1481, 1482, 1492, 1496, 1497, 1507, 1551, 1560, 1567, 1568, 1580, 1588, 1589, 1617, 1620, 1634, 1636, 1646, 1651, 1659, 1681, 1685, 1713, 1720, 1730, 1760, 1779, 1813, 1826, 1847, 1867, 1868, 1883, 1931, 1943, 1949, 1961, 1974, 1999, 2012, 2023, 2039, 2044, 2045, 2116, 2126, 2133, 2155, 2178, 2185, 2197, 2201, 2204, 2205, 2212, 2235, 2252, 2264, 2269, 2276, 2288, 2299, 2306, 2308, 2327, 2354, 2426, 2430, 2457, 2468, 2469, 2479, 2486, 2499, 2503, 2507, 2511, 2513, 2559, 2560, 2579, 2603, 2639, 2645, 2657, 2666, 2687, 2691, 2692, 2695, 2696, 2704, 2708, 2734, 2748, 2761, 2795, 2817, 2818, 2844, 2847, 1391, 40, 158, 431, 480, 482, 652, 845, 866, 1225, 2300, 431, 571, 792, 877, 1130, 1181, 1197, 1571, 1642, 1246, 638, 1150, 2429, 642, 775, 928, 640, 643, 888, 1564, 1587, 1610, 166, 41, 204, 208, 227, 357, 519, 520, 625, 1311, 1500, 2583, 2713, 2757, 1588, 525, 775, 1188, 1587, 1642, 828, 878, 884, 918, 1443, 1564, 1800, 2319, 1502, 1408, 1651, 2767, 1537, 2768, 1376, 273, 369, 370, 488, 527, 666, 1051, 95, 142, 248, 257, 573, 589, 792, 794, 800, 851, 854, 869, 893, 921, 951, 1036, 1099, 1135, 1431, 1669, 2014, 2498, 737, 903, 911, 941, 112, 530, 1253, 1317, 1252, 856, 1253, 1439, 40, 79, 139, 192, 234, 480, 599, 622, 706, 797, 814, 831, 845, 857, 858, 864, 867, 924, 1057, 1122, 1256, 1419, 1444, 1531, 1551, 1645, 1714, 2175, 2248, 2389, 431, 1054, 1642, 1651, 281, 297, 539, 984, 1055, 1082, 1097, 1144, 1302, 1634, 1873, 2234, 431, 409, 1053, 1130, 49, 58, 321, 418, 518, 687, 1695, 1799, 2021, 2194, 2753, 431, 59, 1096, 1384, 58, 143, 383, 838, 856, 1137, 1294, 1642, 1669, 1789, 2124, 1651, 72, 575, 576, 801, 1172, 1397, 1484, 1579, 2018, 2144, 2227, 2529, 1742, 653, 1088, 1110, 1643, 109, 2872, 384, 819, 928, 1564, 884, 642, 2838, 888, 926, 1884, 1736, 756, 1006, 1491, 1587, 2256, 2710, 736, 818, 834, 888, 1745, 2504, 182, 183, 545, 2544, 182, 1546, 2340, 1698, 1587, 642, 1589, 775, 640, 831, 1328, 1480, 1671, 2377, 817, 1111, 2101, 2752, 816, 155, 762, 884, 2330, 183, 1103, 8, 884, 2838, 1124, 775, 1587, 1602, 1671, 295, 1111, 545, 2680, 2166, 963, 43, 107, 424, 981, 1330, 1946, 2328, 2431, 2524, 2529, 2632, 2653, 2708, 2744, 2535, 2080, 240, 928, 1564, 1779, 176, 740, 1913, 1933, 90, 1540, 35, 487, 504, 698, 700, 845, 1265, 1303, 1651, 1799, 2193, 2379, 2472, 504, 1495, 1402, 1587, 1189, 1540, 1278, 1508, 2040, 2424, 21, 1696, 114, 1747, 2860, 89, 112, 202, 219, 233, 451, 495, 845, 866, 937, 988, 1054, 1082, 1262, 1350, 1487, 1494, 1541, 1592, 1616, 1619, 1625, 1626, 1628, 1827, 1920, 1977, 2115, 2122, 2134, 2172, 2208, 2413, 2417, 2487, 2489, 2532, 2700, 2733]],\n",
       "           names=['diseaseId', 'geneId'])"
      ]
     },
     "execution_count": 89,
     "metadata": {},
     "output_type": "execute_result"
    }
   ],
   "source": [
    "GeneDisease_gene_edges_groupby_diseases.index"
   ]
  },
  {
   "cell_type": "code",
   "execution_count": 90,
   "metadata": {},
   "outputs": [
    {
     "data": {
      "text/plain": [
       "[('C0001818', 6532),\n",
       " ('C0001818', 135),\n",
       " ('C0001818', 1636),\n",
       " ('C0001818', 2332),\n",
       " ('C0001818', 3350),\n",
       " ('C0001818', 4128),\n",
       " ('C0001818', 4852),\n",
       " ('C0001818', 5027),\n",
       " ('C0001818', 6530),\n",
       " ('C0001818', 10645),\n",
       " ('C0001818', 121278),\n",
       " ('C0001818', 404684),\n",
       " ('C0001818', 407004),\n",
       " ('C0001818', 574444),\n",
       " ('C0002876', 146059),\n",
       " ('C0002876', 10483),\n",
       " ('C0002876', 10661),\n",
       " ('C0002876', 2623),\n",
       " ('C0002876', 64061),\n",
       " ('C0002876', 960),\n",
       " ('C0002876', 978),\n",
       " ('C0002876', 981),\n",
       " ('C0002876', 4124),\n",
       " ('C0002876', 57379),\n",
       " ('C0002876', 358),\n",
       " ('C0002876', 2595),\n",
       " ('C0002876', 3077),\n",
       " ('C0002876', 9663),\n",
       " ('C0002876', 106480993),\n",
       " ('C0002890', 3717),\n",
       " ('C0003467', 6532),\n",
       " ('C0003467', 627),\n",
       " ('C0003467', 1312),\n",
       " ('C0003467', 3350),\n",
       " ('C0003467', 4852),\n",
       " ('C0003467', 1392),\n",
       " ('C0003467', 1813),\n",
       " ('C0003467', 594857),\n",
       " ('C0003467', 387129),\n",
       " ('C0003467', 351),\n",
       " ('C0003467', 4128),\n",
       " ('C0003467', 121278),\n",
       " ('C0003467', 1394),\n",
       " ('C0003467', 135),\n",
       " ('C0003467', 5020),\n",
       " ('C0003467', 348),\n",
       " ('C0003467', 885),\n",
       " ('C0003467', 2289),\n",
       " ('C0003467', 2332),\n",
       " ('C0003467', 51083),\n",
       " ('C0003467', 1268),\n",
       " ('C0003467', 105274375),\n",
       " ('C0003467', 551),\n",
       " ('C0003467', 1565),\n",
       " ('C0003467', 2908),\n",
       " ('C0003467', 3855),\n",
       " ('C0003467', 5021),\n",
       " ('C0003467', 5997),\n",
       " ('C0003467', 6886),\n",
       " ('C0003467', 51540),\n",
       " ('C0003467', 104909134),\n",
       " ('C0003467', 672),\n",
       " ('C0003467', 1815),\n",
       " ('C0003467', 2099),\n",
       " ('C0003467', 2736),\n",
       " ('C0003467', 3356),\n",
       " ('C0003467', 6863),\n",
       " ('C0003467', 43),\n",
       " ('C0003467', 675),\n",
       " ('C0003467', 775),\n",
       " ('C0003467', 2739),\n",
       " ('C0003467', 2969),\n",
       " ('C0003467', 3291),\n",
       " ('C0003467', 3351),\n",
       " ('C0003467', 4204),\n",
       " ('C0003467', 6303),\n",
       " ('C0003467', 6531),\n",
       " ('C0003467', 6647),\n",
       " ('C0003467', 7369),\n",
       " ('C0003467', 8811),\n",
       " ('C0003467', 9607),\n",
       " ('C0003467', 10882),\n",
       " ('C0003467', 340075),\n",
       " ('C0003467', 41),\n",
       " ('C0003467', 125),\n",
       " ('C0003467', 217),\n",
       " ('C0003467', 367),\n",
       " ('C0003467', 1055),\n",
       " ('C0003467', 1385),\n",
       " ('C0003467', 1395),\n",
       " ('C0003467', 1571),\n",
       " ('C0003467', 1610),\n",
       " ('C0003467', 1622),\n",
       " ('C0003467', 1958),\n",
       " ('C0003467', 2100),\n",
       " ('C0003467', 2166),\n",
       " ('C0003467', 2288),\n",
       " ('C0003467', 2516),\n",
       " ('C0003467', 2559),\n",
       " ('C0003467', 3064),\n",
       " ('C0003467', 3358),\n",
       " ('C0003467', 3363),\n",
       " ('C0003467', 3553),\n",
       " ('C0003467', 3569),\n",
       " ('C0003467', 4513),\n",
       " ('C0003467', 4771),\n",
       " ('C0003467', 4803),\n",
       " ('C0003467', 4925),\n",
       " ('C0003467', 4988),\n",
       " ('C0003467', 5179),\n",
       " ('C0003467', 5362),\n",
       " ('C0003467', 6947),\n",
       " ('C0003467', 7166),\n",
       " ('C0003467', 7249),\n",
       " ('C0003467', 8910),\n",
       " ('C0003467', 54738),\n",
       " ('C0003467', 56925),\n",
       " ('C0003467', 58512),\n",
       " ('C0003467', 121256),\n",
       " ('C0003467', 692236),\n",
       " ('C0003467', 31),\n",
       " ('C0003467', 116),\n",
       " ('C0003467', 117),\n",
       " ('C0003467', 134),\n",
       " ('C0003467', 154),\n",
       " ('C0003467', 183),\n",
       " ('C0003467', 185),\n",
       " ('C0003467', 186),\n",
       " ('C0003467', 190),\n",
       " ('C0003467', 216),\n",
       " ('C0003467', 249),\n",
       " ('C0003467', 288),\n",
       " ('C0003467', 324),\n",
       " ('C0003467', 353),\n",
       " ('C0003467', 354),\n",
       " ('C0003467', 409),\n",
       " ('C0003467', 414),\n",
       " ('C0003467', 472),\n",
       " ('C0003467', 553),\n",
       " ('C0003467', 595),\n",
       " ('C0003467', 706),\n",
       " ('C0003467', 834),\n",
       " ('C0003467', 847),\n",
       " ('C0003467', 886),\n",
       " ('C0003467', 887),\n",
       " ('C0003467', 1029),\n",
       " ('C0003467', 1135),\n",
       " ('C0003467', 1137),\n",
       " ('C0003467', 1154),\n",
       " ('C0003467', 1390),\n",
       " ('C0003467', 1393),\n",
       " ('C0003467', 1501),\n",
       " ('C0003467', 1543),\n",
       " ('C0003467', 1555),\n",
       " ('C0003467', 1557),\n",
       " ('C0003467', 1586),\n",
       " ('C0003467', 1621),\n",
       " ('C0003467', 1636),\n",
       " ('C0003467', 1644),\n",
       " ('C0003467', 1645),\n",
       " ('C0003467', 1742),\n",
       " ('C0003467', 1748),\n",
       " ('C0003467', 1785),\n",
       " ('C0003467', 1826),\n",
       " ('C0003467', 1827),\n",
       " ('C0003467', 1906),\n",
       " ('C0003467', 1978),\n",
       " ('C0003467', 2033),\n",
       " ('C0003467', 2066),\n",
       " ('C0003467', 2138),\n",
       " ('C0003467', 2157),\n",
       " ('C0003467', 2158),\n",
       " ('C0003467', 2170),\n",
       " ('C0003467', 2171),\n",
       " ('C0003467', 2173),\n",
       " ('C0003467', 2245),\n",
       " ('C0003467', 2254),\n",
       " ('C0003467', 2272),\n",
       " ('C0003467', 2324),\n",
       " ('C0003467', 2346),\n",
       " ('C0003467', 2534),\n",
       " ('C0003467', 2555),\n",
       " ('C0003467', 2562),\n",
       " ('C0003467', 2566),\n",
       " ('C0003467', 2571),\n",
       " ('C0003467', 2572),\n",
       " ('C0003467', 2668),\n",
       " ('C0003467', 2847),\n",
       " ('C0003467', 2849),\n",
       " ('C0003467', 2890),\n",
       " ('C0003467', 2891),\n",
       " ('C0003467', 2918),\n",
       " ('C0003467', 2922),\n",
       " ('C0003467', 2944),\n",
       " ('C0003467', 3075),\n",
       " ('C0003467', 3150),\n",
       " ('C0003467', 3339),\n",
       " ('C0003467', 3359),\n",
       " ('C0003467', 3362),\n",
       " ('C0003467', 3458),\n",
       " ('C0003467', 3479),\n",
       " ('C0003467', 3481),\n",
       " ('C0003467', 3485),\n",
       " ('C0003467', 3576),\n",
       " ('C0003467', 3596),\n",
       " ('C0003467', 3787),\n",
       " ('C0003467', 3898),\n",
       " ('C0003467', 3925),\n",
       " ('C0003467', 3929),\n",
       " ('C0003467', 3952),\n",
       " ('C0003467', 4155),\n",
       " ('C0003467', 4157),\n",
       " ('C0003467', 4160),\n",
       " ('C0003467', 4170),\n",
       " ('C0003467', 4294),\n",
       " ('C0003467', 4306),\n",
       " ('C0003467', 4321),\n",
       " ('C0003467', 4357),\n",
       " ('C0003467', 4359),\n",
       " ('C0003467', 4504),\n",
       " ('C0003467', 4524),\n",
       " ('C0003467', 4536),\n",
       " ('C0003467', 4541),\n",
       " ('C0003467', 4615),\n",
       " ('C0003467', 4661),\n",
       " ('C0003467', 4791),\n",
       " ('C0003467', 4835),\n",
       " ('C0003467', 4886),\n",
       " ('C0003467', 4915),\n",
       " ('C0003467', 4916),\n",
       " ('C0003467', 5054),\n",
       " ('C0003467', 5055),\n",
       " ('C0003467', 5071),\n",
       " ('C0003467', 5142),\n",
       " ('C0003467', 5243),\n",
       " ('C0003467', 5308),\n",
       " ('C0003467', 5376),\n",
       " ('C0003467', 5411),\n",
       " ('C0003467', 5443),\n",
       " ('C0003467', 5444),\n",
       " ('C0003467', 5607),\n",
       " ('C0003467', 5617),\n",
       " ('C0003467', 5625),\n",
       " ('C0003467', 5663),\n",
       " ('C0003467', 5694),\n",
       " ('C0003467', 5715),\n",
       " ('C0003467', 5743),\n",
       " ('C0003467', 5754),\n",
       " ('C0003467', 5816),\n",
       " ('C0003467', 6012),\n",
       " ('C0003467', 6192),\n",
       " ('C0003467', 6281),\n",
       " ('C0003467', 6285),\n",
       " ('C0003467', 6505),\n",
       " ('C0003467', 6506),\n",
       " ('C0003467', 6507),\n",
       " ('C0003467', 6529),\n",
       " ('C0003467', 6530),\n",
       " ('C0003467', 6571),\n",
       " ('C0003467', 6715),\n",
       " ('C0003467', 6736),\n",
       " ('C0003467', 6853),\n",
       " ('C0003467', 6869),\n",
       " ('C0003467', 6870),\n",
       " ('C0003467', 7124),\n",
       " ('C0003467', 7157),\n",
       " ('C0003467', 7224),\n",
       " ('C0003467', 7226),\n",
       " ('C0003467', 7273),\n",
       " ('C0003467', 7376),\n",
       " ('C0003467', 7454),\n",
       " ('C0003467', 7528),\n",
       " ('C0003467', 8086),\n",
       " ('C0003467', 8205),\n",
       " ('C0003467', 8214),\n",
       " ('C0003467', 8406),\n",
       " ('C0003467', 8484),\n",
       " ('C0003467', 8620),\n",
       " ('C0003467', 8644),\n",
       " ('C0003467', 8824),\n",
       " ('C0003467', 8909),\n",
       " ('C0003467', 8938),\n",
       " ('C0003467', 9033),\n",
       " ('C0003467', 9197),\n",
       " ('C0003467', 9456),\n",
       " ('C0003467', 9500),\n",
       " ('C0003467', 9531),\n",
       " ('C0003467', 9790),\n",
       " ('C0003467', 9939),\n",
       " ('C0003467', 10084),\n",
       " ('C0003467', 10178),\n",
       " ('C0003467', 10193),\n",
       " ('C0003467', 10243),\n",
       " ('C0003467', 10327),\n",
       " ('C0003467', 10411),\n",
       " ('C0003467', 10497),\n",
       " ('C0003467', 10522),\n",
       " ('C0003467', 10645),\n",
       " ('C0003467', 10718),\n",
       " ('C0003467', 10846),\n",
       " ('C0003467', 10861),\n",
       " ('C0003467', 10891),\n",
       " ('C0003467', 10950),\n",
       " ('C0003467', 11019),\n",
       " ('C0003467', 22829),\n",
       " ('C0003467', 23145),\n",
       " ('C0003467', 23229),\n",
       " ('C0003467', 23336),\n",
       " ('C0003467', 23411),\n",
       " ('C0003467', 25793),\n",
       " ('C0003467', 25825),\n",
       " ('C0003467', 25836),\n",
       " ('C0003467', 26050),\n",
       " ('C0003467', 28514),\n",
       " ('C0003467', 50944),\n",
       " ('C0003467', 51176),\n",
       " ('C0003467', 51289),\n",
       " ('C0003467', 54106),\n",
       " ('C0003467', 54413),\n",
       " ('C0003467', 54541),\n",
       " ('C0003467', 55143),\n",
       " ('C0003467', 55154),\n",
       " ('C0003467', 55515),\n",
       " ('C0003467', 55777),\n",
       " ('C0003467', 55821),\n",
       " ('C0003467', 55840),\n",
       " ('C0003467', 56259),\n",
       " ('C0003467', 56994),\n",
       " ('C0003467', 57447),\n",
       " ('C0003467', 79068),\n",
       " ('C0003467', 79594),\n",
       " ('C0003467', 79947),\n",
       " ('C0003467', 81539),\n",
       " ('C0003467', 84570),\n",
       " ('C0003467', 85359),\n",
       " ('C0003467', 91452),\n",
       " ('C0003467', 91752),\n",
       " ('C0003467', 114131),\n",
       " ('C0003467', 118460),\n",
       " ('C0003467', 120892),\n",
       " ('C0003467', 143282),\n",
       " ('C0003467', 144125),\n",
       " ('C0003467', 146713),\n",
       " ('C0003467', 158506),\n",
       " ('C0003467', 201161),\n",
       " ('C0003467', 255239),\n",
       " ('C0003467', 407004),\n",
       " ('C0003467', 407040),\n",
       " ('C0003467', 442902),\n",
       " ('C0003467', 474256),\n",
       " ('C0003467', 497258),\n",
       " ('C0003467', 574441),\n",
       " ('C0003467', 693193),\n",
       " ('C0003467', 100616241),\n",
       " ('C0003467', 101054525),\n",
       " ('C0003467', 105259599),\n",
       " ('C0004096', 3596),\n",
       " ('C0004096', 3565),\n",
       " ('C0004096', 154),\n",
       " ('C0004096', 7124),\n",
       " ('C0004096', 3567),\n",
       " ('C0004096', 929),\n",
       " ('C0004096', 54738),\n",
       " ('C0004096', 80332),\n",
       " ('C0004096', 2944),\n",
       " ('C0004096', 94103),\n",
       " ('C0004096', 3586),\n",
       " ('C0004096', 7040),\n",
       " ('C0004096', 2950),\n",
       " ('C0004096', 85480),\n",
       " ('C0004096', 90865),\n",
       " ('C0004096', 387129),\n",
       " ('C0004096', 3566),\n",
       " ('C0004096', 2312),\n",
       " ('C0004096', 6778),\n",
       " ('C0004096', 2908),\n",
       " ('C0004096', 3458),\n",
       " ('C0004096', 3553),\n",
       " ('C0004096', 3576),\n",
       " ('C0004096', 3578),\n",
       " ('C0004096', 6352),\n",
       " ('C0004096', 55876),\n",
       " ('C0004096', 3569),\n",
       " ('C0004096', 27306),\n",
       " ('C0004096', 260431),\n",
       " ('C0004096', 7422),\n",
       " ('C0004096', 9173),\n",
       " ('C0004096', 3605),\n",
       " ('C0004096', 7356),\n",
       " ('C0004096', 10800),\n",
       " ('C0004096', 4318),\n",
       " ('C0004096', 240),\n",
       " ('C0004096', 7099),\n",
       " ('C0004096', 4843),\n",
       " ('C0004096', 6356),\n",
       " ('C0004096', 5743),\n",
       " ('C0004096', 3497),\n",
       " ('C0004096', 4056),\n",
       " ('C0004096', 3123),\n",
       " ('C0004096', 1437),\n",
       " ('C0004096', 3606),\n",
       " ('C0004096', 6037),\n",
       " ('C0004096', 5054),\n",
       " ('C0004096', 30009),\n",
       " ('C0004096', 1232),\n",
       " ('C0004096', 7097),\n",
       " ('C0004096', 7421),\n",
       " ('C0004096', 2952),\n",
       " ('C0004096', 3552),\n",
       " ('C0004096', 4049),\n",
       " ('C0004096', 4842),\n",
       " ('C0004096', 133482),\n",
       " ('C0004096', 373156),\n",
       " ('C0004096', 2206),\n",
       " ('C0004096', 3559),\n",
       " ('C0004096', 627),\n",
       " ('C0004096', 1116),\n",
       " ('C0004096', 3383),\n",
       " ('C0004096', 1080),\n",
       " ('C0004096', 2625),\n",
       " ('C0004096', 3669),\n",
       " ('C0004096', 8809),\n",
       " ('C0004096', 847),\n",
       " ('C0004096', 3115),\n",
       " ('C0004096', 4586),\n",
       " ('C0004096', 5144),\n",
       " ('C0004096', 10111),\n",
       " ('C0004096', 27159),\n",
       " ('C0004096', 50943),\n",
       " ('C0004096', 56005),\n",
       " ('C0004096', 64806),\n",
       " ('C0004096', 117156),\n",
       " ('C0004096', 383),\n",
       " ('C0004096', 1179),\n",
       " ('C0004096', 1636),\n",
       " ('C0004096', 3558),\n",
       " ('C0004096', 3593),\n",
       " ('C0004096', 4846),\n",
       " ('C0004096', 5729),\n",
       " ('C0004096', 26762),\n",
       " ('C0004096', 3371),\n",
       " ('C0004096', 3557),\n",
       " ('C0004096', 4638),\n",
       " ('C0004096', 6361),\n",
       " ('C0004096', 7984),\n",
       " ('C0004096', 8914),\n",
       " ('C0004096', 11251),\n",
       " ('C0004096', 22806),\n",
       " ('C0004096', 50616),\n",
       " ('C0004096', 1906),\n",
       " ('C0004096', 3119),\n",
       " ('C0004096', 3439),\n",
       " ('C0004096', 3447),\n",
       " ('C0004096', 4513),\n",
       " ('C0004096', 6347),\n",
       " ('C0004096', 11005),\n",
       " ('C0004096', 284110),\n",
       " ('C0004096', 384),\n",
       " ('C0004096', 1493),\n",
       " ('C0004096', 1956),\n",
       " ('C0004096', 3562),\n",
       " ('C0004096', 4790),\n",
       " ('C0004096', 5172),\n",
       " ('C0004096', 5594),\n",
       " ('C0004096', 57628),\n",
       " ('C0004096', 142),\n",
       " ('C0004096', 374),\n",
       " ('C0004096', 1728),\n",
       " ('C0004096', 3627),\n",
       " ('C0004096', 4088),\n",
       " ('C0004096', 5265),\n",
       " ('C0004096', 6775),\n",
       " ('C0004096', 6863),\n",
       " ('C0004096', 53342),\n",
       " ('C0004096', 54106),\n",
       " ('C0004096', 241),\n",
       " ('C0004096', 958),\n",
       " ('C0004096', 1234),\n",
       " ('C0004096', 2150),\n",
       " ('C0004096', 3135),\n",
       " ('C0004096', 3827),\n",
       " ('C0004096', 4153),\n",
       " ('C0004096', 4780),\n",
       " ('C0004096', 5141),\n",
       " ('C0004096', 6441),\n",
       " ('C0004096', 10344),\n",
       " ('C0004096', 51131),\n",
       " ('C0004096', 112744),\n",
       " ('C0004096', 124626),\n",
       " ('C0004096', 129831),\n",
       " ('C0004096', 196),\n",
       " ('C0004096', 217),\n",
       " ('C0004096', 728),\n",
       " ('C0004096', 864),\n",
       " ('C0004096', 1118),\n",
       " ('C0004096', 1230),\n",
       " ('C0004096', 2205),\n",
       " ('C0004096', 2208),\n",
       " ('C0004096', 2551),\n",
       " ('C0004096', 3066),\n",
       " ('C0004096', 3117),\n",
       " ('C0004096', 3176),\n",
       " ('C0004096', 3560),\n",
       " ('C0004096', 3570),\n",
       " ('C0004096', 3603),\n",
       " ('C0004096', 3690),\n",
       " ('C0004096', 4048),\n",
       " ('C0004096', 5290),\n",
       " ('C0004096', 5291),\n",
       " ('C0004096', 5293),\n",
       " ('C0004096', 5294),\n",
       " ('C0004096', 6774),\n",
       " ('C0004096', 6915),\n",
       " ('C0004096', 7042),\n",
       " ('C0004096', 7167),\n",
       " ('C0004096', 7442),\n",
       " ('C0004096', 10392),\n",
       " ('C0004096', 29949),\n",
       " ('C0004096', 189),\n",
       " ('C0004096', 596),\n",
       " ('C0004096', 947),\n",
       " ('C0004096', 2048),\n",
       " ('C0004096', 2353),\n",
       " ('C0004096', 2354),\n",
       " ('C0004096', 3162),\n",
       " ('C0004096', 3581),\n",
       " ('C0004096', 3725),\n",
       " ('C0004096', 3726),\n",
       " ('C0004096', 3727),\n",
       " ('C0004096', 5004),\n",
       " ('C0004096', 5328),\n",
       " ('C0004096', 5730),\n",
       " ('C0004096', 5742),\n",
       " ('C0004096', 6095),\n",
       " ('C0004096', 6362),\n",
       " ('C0004096', 6772),\n",
       " ('C0004096', 29119),\n",
       " ('C0004096', 57105),\n",
       " ('C0004096', 60468),\n",
       " ('C0004096', 64127),\n",
       " ('C0004096', 149628),\n",
       " ('C0004096', 163486),\n",
       " ('C0004096', 100),\n",
       " ('C0004096', 101),\n",
       " ('C0004096', 718),\n",
       " ('C0004096', 719),\n",
       " ('C0004096', 940),\n",
       " ('C0004096', 942),\n",
       " ('C0004096', 1131),\n",
       " ('C0004096', 1401),\n",
       " ('C0004096', 1672),\n",
       " ('C0004096', 1843),\n",
       " ('C0004096', 1950),\n",
       " ('C0004096', 2247),\n",
       " ('C0004096', 2335),\n",
       " ('C0004096', 2833),\n",
       " ('C0004096', 2946),\n",
       " ('C0004096', 3456),\n",
       " ('C0004096', 4312),\n",
       " ('C0004096', 4321),\n",
       " ('C0004096', 4524),\n",
       " ('C0004096', 6317),\n",
       " ('C0004096', 6357),\n",
       " ('C0004096', 6367),\n",
       " ('C0004096', 6584),\n",
       " ('C0004096', 6647),\n",
       " ('C0004096', 7076),\n",
       " ('C0004096', 7096),\n",
       " ('C0004096', 7292),\n",
       " ('C0004096', 8399),\n",
       " ('C0004096', 8856),\n",
       " ('C0004096', 10333),\n",
       " ('C0004096', 23274),\n",
       " ('C0004096', 55065),\n",
       " ('C0004096', 594857),\n",
       " ('C0004096', 10),\n",
       " ('C0004096', 60),\n",
       " ('C0004096', 246),\n",
       " ('C0004096', 302),\n",
       " ('C0004096', 727),\n",
       " ('C0004096', 932),\n",
       " ('C0004096', 952),\n",
       " ('C0004096', 1233),\n",
       " ('C0004096', 1241),\n",
       " ('C0004096', 1432),\n",
       " ('C0004096', 1535),\n",
       " ('C0004096', 1958),\n",
       " ('C0004096', 2214),\n",
       " ('C0004096', 2288),\n",
       " ('C0004096', 2289),\n",
       " ('C0004096', 3554),\n",
       " ('C0004096', 3589),\n",
       " ('C0004096', 3600),\n",
       " ('C0004096', 3952),\n",
       " ('C0004096', 4026),\n",
       " ('C0004096', 5097),\n",
       " ('C0004096', 5320),\n",
       " ('C0004096', 5321),\n",
       " ('C0004096', 5340),\n",
       " ('C0004096', 5468),\n",
       " ('C0004096', 5599),\n",
       " ('C0004096', 5733),\n",
       " ('C0004096', 6318),\n",
       " ('C0004096', 6364),\n",
       " ('C0004096', 6369),\n",
       " ('C0004096', 6696),\n",
       " ('C0004096', 7098),\n",
       " ('C0004096', 7941),\n",
       " ('C0004096', 9021),\n",
       " ('C0004096', 51477),\n",
       " ('C0004096', 51561),\n",
       " ('C0004096', 64135),\n",
       " ('C0004096', 81793),\n",
       " ('C0004096', 113263),\n",
       " ('C0004096', 282618),\n",
       " ('C0004096', 406947),\n",
       " ('C0004096', 450095),\n",
       " ('C0004096', 728378),\n",
       " ('C0004096', 101927761),\n",
       " ('C0004096', 12),\n",
       " ('C0004096', 134),\n",
       " ('C0004096', 183),\n",
       " ('C0004096', 231),\n",
       " ('C0004096', 355),\n",
       " ('C0004096', 410),\n",
       " ('C0004096', 820),\n",
       " ('C0004096', 960),\n",
       " ('C0004096', 968),\n",
       " ('C0004096', 969),\n",
       " ('C0004096', 999),\n",
       " ('C0004096', 1056),\n",
       " ('C0004096', 1128),\n",
       " ('C0004096', 1237),\n",
       " ('C0004096', 1359),\n",
       " ('C0004096', 1394),\n",
       " ('C0004096', 1395),\n",
       " ('C0004096', 1398),\n",
       " ('C0004096', 1524),\n",
       " ('C0004096', 1666),\n",
       " ('C0004096', 1909),\n",
       " ('C0004096', 1910),\n",
       " ('C0004096', 2052),\n",
       " ('C0004096', 2064),\n",
       " ('C0004096', 2100),\n",
       " ('C0004096', 2113),\n",
       " ('C0004096', 2215),\n",
       " ('C0004096', 2549),\n",
       " ('C0004096', 2597),\n",
       " ('C0004096', 3107),\n",
       " ('C0004096', 3113),\n",
       " ('C0004096', 3142),\n",
       " ('C0004096', 3146),\n",
       " ('C0004096', 3276),\n",
       " ('C0004096', 3308),\n",
       " ('C0004096', 3502),\n",
       " ('C0004096', 3568),\n",
       " ('C0004096', 3597),\n",
       " ('C0004096', 3659),\n",
       " ('C0004096', 3662),\n",
       " ('C0004096', 3965),\n",
       " ('C0004096', 4050),\n",
       " ('C0004096', 4087),\n",
       " ('C0004096', 4142),\n",
       " ('C0004096', 4254),\n",
       " ('C0004096', 4353),\n",
       " ('C0004096', 4512),\n",
       " ('C0004096', 4583),\n",
       " ('C0004096', 4589),\n",
       " ('C0004096', 4760),\n",
       " ('C0004096', 4803),\n",
       " ('C0004096', 4852),\n",
       " ('C0004096', 4909),\n",
       " ('C0004096', 4914),\n",
       " ('C0004096', 5027),\n",
       " ('C0004096', 5300),\n",
       " ('C0004096', 5329),\n",
       " ('C0004096', 5465),\n",
       " ('C0004096', 5595),\n",
       " ('C0004096', 5728),\n",
       " ('C0004096', 5732),\n",
       " ('C0004096', 5734),\n",
       " ('C0004096', 6036),\n",
       " ('C0004096', 6279),\n",
       " ('C0004096', 6346),\n",
       " ('C0004096', 6376),\n",
       " ('C0004096', 6403),\n",
       " ('C0004096', 6648),\n",
       " ('C0004096', 6869),\n",
       " ('C0004096', 6962),\n",
       " ('C0004096', 7078),\n",
       " ('C0004096', 7080),\n",
       " ('C0004096', 7412),\n",
       " ('C0004096', 7528),\n",
       " ('C0004096', 7965),\n",
       " ('C0004096', 8626),\n",
       " ('C0004096', 8651),\n",
       " ('C0004096', 9402),\n",
       " ('C0004096', 9474),\n",
       " ('C0004096', 10318),\n",
       " ('C0004096', 10383),\n",
       " ('C0004096', 10998),\n",
       " ('C0004096', 11127),\n",
       " ('C0004096', 11213),\n",
       " ('C0004096', 23308),\n",
       " ('C0004096', 23596),\n",
       " ('C0004096', 25897),\n",
       " ('C0004096', 25976),\n",
       " ('C0004096', 26073),\n",
       " ('C0004096', 29851),\n",
       " ('C0004096', 50507),\n",
       " ('C0004096', 51135),\n",
       " ('C0004096', 51200),\n",
       " ('C0004096', 51284),\n",
       " ('C0004096', 51311),\n",
       " ('C0004096', 55107),\n",
       " ('C0004096', 55540),\n",
       " ('C0004096', 56413),\n",
       " ('C0004096', 80762),\n",
       " ('C0004096', 83666),\n",
       " ('C0004096', 84868),\n",
       " ('C0004096', 115727),\n",
       " ('C0004096', 246778),\n",
       " ('C0004096', 348120),\n",
       " ('C0004096', 406979),\n",
       " ('C0004096', 653509),\n",
       " ('C0004096', 28),\n",
       " ('C0004096', 117),\n",
       " ('C0004096', 128),\n",
       " ('C0004096', 135),\n",
       " ('C0004096', 148),\n",
       " ('C0004096', 151),\n",
       " ('C0004096', 185),\n",
       " ('C0004096', 313),\n",
       " ('C0004096', 335),\n",
       " ('C0004096', 387),\n",
       " ('C0004096', 472),\n",
       " ('C0004096', 558),\n",
       " ('C0004096', 680),\n",
       " ('C0004096', 706),\n",
       " ('C0004096', 796),\n",
       " ('C0004096', 857),\n",
       " ('C0004096', 861),\n",
       " ('C0004096', 912),\n",
       " ('C0004096', 1017),\n",
       " ('C0004096', 1028),\n",
       " ('C0004096', 1041),\n",
       " ('C0004096', 1072),\n",
       " ('C0004096', 1122),\n",
       " ('C0004096', 1129),\n",
       " ('C0004096', 1135),\n",
       " ('C0004096', 1215),\n",
       " ('C0004096', 1235),\n",
       " ('C0004096', 1351),\n",
       " ('C0004096', 1371),\n",
       " ('C0004096', 1385),\n",
       " ('C0004096', 1387),\n",
       " ('C0004096', 1440),\n",
       " ('C0004096', 1511),\n",
       " ('C0004096', 1573),\n",
       " ('C0004096', 1591),\n",
       " ('C0004096', 1831),\n",
       " ('C0004096', 1917),\n",
       " ('C0004096', 1991),\n",
       " ('C0004096', 2017),\n",
       " ('C0004096', 2149),\n",
       " ('C0004096', 2212),\n",
       " ('C0004096', 2217),\n",
       " ('C0004096', 2534),\n",
       " ('C0004096', 2615),\n",
       " ('C0004096', 2623),\n",
       " ('C0004096', 2624),\n",
       " ('C0004096', 2638),\n",
       " ('C0004096', 2866),\n",
       " ('C0004096', 2919),\n",
       " ('C0004096', 3037),\n",
       " ('C0004096', 3052),\n",
       " ('C0004096', 3065),\n",
       " ('C0004096', 3091),\n",
       " ('C0004096', 3106),\n",
       " ('C0004096', 3122),\n",
       " ('C0004096', 3240),\n",
       " ('C0004096', 3269),\n",
       " ('C0004096', 3315),\n",
       " ('C0004096', 3316),\n",
       " ('C0004096', 3478),\n",
       " ('C0004096', 3500),\n",
       " ('C0004096', 3501),\n",
       " ('C0004096', 3575),\n",
       " ('C0004096', 3579),\n",
       " ('C0004096', 3598),\n",
       " ('C0004096', 3631),\n",
       " ('C0004096', 3684),\n",
       " ('C0004096', 3687),\n",
       " ('C0004096', 3691),\n",
       " ('C0004096', 3702),\n",
       " ('C0004096', 3779),\n",
       " ('C0004096', 3791),\n",
       " ('C0004096', 3880),\n",
       " ('C0004096', 3921),\n",
       " ('C0004096', 3958),\n",
       " ('C0004096', 3976),\n",
       " ('C0004096', 4155),\n",
       " ('C0004096', 4277),\n",
       " ('C0004096', 4282),\n",
       " ('C0004096', 4313),\n",
       " ('C0004096', 4316),\n",
       " ('C0004096', 4319),\n",
       " ('C0004096', 4345),\n",
       " ('C0004096', 4582),\n",
       " ('C0004096', 4593),\n",
       " ('C0004096', 4602),\n",
       " ('C0004096', 4615),\n",
       " ('C0004096', 4827),\n",
       " ('C0004096', 4855),\n",
       " ('C0004096', 4878),\n",
       " ('C0004096', 4908),\n",
       " ('C0004096', 5008),\n",
       " ('C0004096', 5055),\n",
       " ('C0004096', 5089),\n",
       " ('C0004096', 5111),\n",
       " ('C0004096', 5142),\n",
       " ('C0004096', 5155),\n",
       " ('C0004096', 5226),\n",
       " ('C0004096', 5341),\n",
       " ('C0004096', 5478),\n",
       " ('C0004096', 5592),\n",
       " ('C0004096', 5694),\n",
       " ('C0004096', 5777),\n",
       " ('C0004096', 5778),\n",
       " ('C0004096', 5781),\n",
       " ('C0004096', 5913),\n",
       " ('C0004096', 5970),\n",
       " ('C0004096', 5997),\n",
       " ('C0004096', 6121),\n",
       " ('C0004096', 6280),\n",
       " ('C0004096', 6319),\n",
       " ('C0004096', 6348),\n",
       " ('C0004096', 6349),\n",
       " ('C0004096', 6354),\n",
       " ('C0004096', 6359),\n",
       " ('C0004096', 6387),\n",
       " ('C0004096', 6401),\n",
       " ('C0004096', 6439),\n",
       " ('C0004096', 6440),\n",
       " ('C0004096', 6606),\n",
       " ('C0004096', 6607),\n",
       " ('C0004096', 6614),\n",
       " ('C0004096', 6625),\n",
       " ('C0004096', 6701),\n",
       " ('C0004096', 6754),\n",
       " ('C0004096', 6773),\n",
       " ('C0004096', 6776),\n",
       " ('C0004096', 6779),\n",
       " ('C0004096', 6857),\n",
       " ('C0004096', 6865),\n",
       " ('C0004096', 6876),\n",
       " ('C0004096', 7048),\n",
       " ('C0004096', 7091),\n",
       " ('C0004096', 7128),\n",
       " ('C0004096', 7145),\n",
       " ('C0004096', 7178),\n",
       " ('C0004096', 7293),\n",
       " ('C0004096', 7405),\n",
       " ('C0004096', 7432),\n",
       " ('C0004096', 8013),\n",
       " ('C0004096', 8061),\n",
       " ('C0004096', 8431),\n",
       " ('C0004096', 8477),\n",
       " ('C0004096', 8740),\n",
       " ('C0004096', 8767),\n",
       " ('C0004096', 8807),\n",
       " ('C0004096', 8988),\n",
       " ('C0004096', 9170),\n",
       " ('C0004096', 9235),\n",
       " ('C0004096', 9377),\n",
       " ('C0004096', 9415),\n",
       " ('C0004096', 9862),\n",
       " ('C0004096', 10148),\n",
       " ('C0004096', 10267),\n",
       " ('C0004096', 10518),\n",
       " ('C0004096', 10524),\n",
       " ('C0004096', 10551),\n",
       " ('C0004096', 10598),\n",
       " ('C0004096', 10663),\n",
       " ('C0004096', 10665),\n",
       " ('C0004096', 10911),\n",
       " ('C0004096', 10948),\n",
       " ('C0004096', 10970),\n",
       " ('C0004096', 11018),\n",
       " ('C0004096', 11167),\n",
       " ('C0004096', 22915),\n",
       " ('C0004096', 23177),\n",
       " ('C0004096', 23194),\n",
       " ('C0004096', 23327),\n",
       " ('C0004096', 23418),\n",
       " ('C0004096', 23495),\n",
       " ('C0004096', 23765),\n",
       " ('C0004096', 27178),\n",
       " ('C0004096', 27181),\n",
       " ('C0004096', 28514),\n",
       " ('C0004096', 51192),\n",
       " ('C0004096', 55600),\n",
       " ('C0004096', 56729),\n",
       " ('C0004096', 57007),\n",
       " ('C0004096', 57379),\n",
       " ('C0004096', 57498),\n",
       " ('C0004096', 59067),\n",
       " ('C0004096', 59307),\n",
       " ('C0004096', 64109),\n",
       " ('C0004096', 64375),\n",
       " ('C0004096', 64689),\n",
       " ('C0004096', 65125),\n",
       " ('C0004096', 79054),\n",
       " ('C0004096', 79068),\n",
       " ('C0004096', 80308),\n",
       " ('C0004096', 80381),\n",
       " ('C0004096', 81792),\n",
       " ('C0004096', 84162),\n",
       " ('C0004096', 84666),\n",
       " ('C0004096', 93210),\n",
       " ('C0004096', 120227),\n",
       " ('C0004096', 134430),\n",
       " ('C0004096', 149233),\n",
       " ('C0004096', 169026),\n",
       " ('C0004096', 170679),\n",
       " ('C0004096', 222256),\n",
       " ('C0004096', 260328),\n",
       " ('C0004096', 282617),\n",
       " ('C0004096', 406943),\n",
       " ('C0004096', 406991),\n",
       " ('C0004096', 407006),\n",
       " ('C0004096', 414764),\n",
       " ('C0004096', 441108),\n",
       " ('C0004096', 729230),\n",
       " ('C0004096', 102723996),\n",
       " ('C0004096', 2),\n",
       " ('C0004096', 9),\n",
       " ('C0004096', 15),\n",
       " ('C0004096', 19),\n",
       " ('C0004096', 26),\n",
       " ('C0004096', 43),\n",
       " ('C0004096', 52),\n",
       " ('C0004096', 58),\n",
       " ('C0004096', 90),\n",
       " ('C0004096', 108),\n",
       " ('C0004096', 133),\n",
       " ('C0004096', 147),\n",
       " ('C0004096', 156),\n",
       " ('C0004096', 161),\n",
       " ('C0004096', 175),\n",
       " ('C0004096', 177),\n",
       " ('C0004096', 182),\n",
       " ('C0004096', 186),\n",
       " ('C0004096', 202),\n",
       " ('C0004096', 215),\n",
       " ('C0004096', 239),\n",
       " ('C0004096', 247),\n",
       " ('C0004096', 249),\n",
       " ('C0004096', 283),\n",
       " ('C0004096', 284),\n",
       " ('C0004096', 286),\n",
       " ('C0004096', 301),\n",
       " ('C0004096', 309),\n",
       " ('C0004096', 324),\n",
       " ('C0004096', 330),\n",
       " ('C0004096', 331),\n",
       " ('C0004096', 332),\n",
       " ('C0004096', 348),\n",
       " ('C0004096', 354),\n",
       " ('C0004096', 356),\n",
       " ('C0004096', 361),\n",
       " ('C0004096', 367),\n",
       " ('C0004096', 467),\n",
       " ('C0004096', 498),\n",
       " ('C0004096', 501),\n",
       " ('C0004096', 581),\n",
       " ('C0004096', 598),\n",
       " ('C0004096', 623),\n",
       " ('C0004096', 624),\n",
       " ('C0004096', 632),\n",
       " ('C0004096', 658),\n",
       " ('C0004096', 659),\n",
       " ('C0004096', 683),\n",
       " ('C0004096', 710),\n",
       " ('C0004096', 720),\n",
       " ('C0004096', 754),\n",
       " ('C0004096', 801),\n",
       " ('C0004096', 805),\n",
       " ('C0004096', 808),\n",
       " ('C0004096', 841),\n",
       " ('C0004096', 842),\n",
       " ('C0004096', 843),\n",
       " ('C0004096', 907),\n",
       " ('C0004096', 914),\n",
       " ('C0004096', 919),\n",
       " ('C0004096', 930),\n",
       " ('C0004096', 931),\n",
       " ('C0004096', 941),\n",
       " ('C0004096', 943),\n",
       " ('C0004096', 945),\n",
       " ...]"
      ]
     },
     "execution_count": 90,
     "metadata": {},
     "output_type": "execute_result"
    }
   ],
   "source": [
    "GeneDisease_gene_edges_groupby_diseases_list = GeneDisease_gene_edges_groupby_diseases.index.tolist()\n",
    "GeneDisease_gene_edges_groupby_diseases_list"
   ]
  },
  {
   "cell_type": "code",
   "execution_count": 91,
   "metadata": {},
   "outputs": [
    {
     "data": {
      "text/plain": [
       "(4715, 2)"
      ]
     },
     "execution_count": 91,
     "metadata": {},
     "output_type": "execute_result"
    }
   ],
   "source": [
    "np.unique(np.array(GeneDisease_gene_edges_groupby_diseases.index.tolist()), axis = 0).shape"
   ]
  },
  {
   "cell_type": "code",
   "execution_count": 92,
   "metadata": {},
   "outputs": [
    {
     "data": {
      "text/plain": [
       "(4715,)"
      ]
     },
     "execution_count": 92,
     "metadata": {},
     "output_type": "execute_result"
    }
   ],
   "source": [
    "GeneDisease_gene_edges_groupby_diseases.index.shape"
   ]
  },
  {
   "cell_type": "code",
   "execution_count": 93,
   "metadata": {},
   "outputs": [
    {
     "data": {
      "text/plain": [
       "geneId\n",
       "6532      2\n",
       "135       1\n",
       "1636      1\n",
       "2332      1\n",
       "3350      1\n",
       "4128      1\n",
       "4852      1\n",
       "5027      1\n",
       "6530      1\n",
       "10645     1\n",
       "121278    1\n",
       "404684    1\n",
       "407004    1\n",
       "574444    1\n",
       "Name: geneId, dtype: int64"
      ]
     },
     "execution_count": 93,
     "metadata": {},
     "output_type": "execute_result"
    }
   ],
   "source": [
    "GeneDisease_gene_edges_groupby_diseases['C0001818']"
   ]
  },
  {
   "cell_type": "code",
   "execution_count": 94,
   "metadata": {},
   "outputs": [
    {
     "name": "stdout",
     "output_type": "stream",
     "text": [
      "98\n",
      "539\n"
     ]
    }
   ],
   "source": [
    "# always make sure whether variable with the same name exists\n",
    "# show number of edges and nodes of the existing nx.Graph()\n",
    "G = nx.convert_matrix.from_pandas_edgelist(disease_to_disease_edges, 'disease1', 'disease2')\n",
    "print(len(G.nodes))\n",
    "print(len(G.edges))"
   ]
  },
  {
   "cell_type": "code",
   "execution_count": 95,
   "metadata": {},
   "outputs": [],
   "source": [
    "# add edges to existing nx.Graph() that only contain disease to disease edges\n",
    "G.add_edges_from(GeneDisease_gene_edges_groupby_diseases_list)"
   ]
  },
  {
   "cell_type": "code",
   "execution_count": 96,
   "metadata": {},
   "outputs": [
    {
     "name": "stdout",
     "output_type": "stream",
     "text": [
      "2996\n",
      "5254\n"
     ]
    }
   ],
   "source": [
    "print(len(G.nodes))\n",
    "print(len(G.edges))"
   ]
  },
  {
   "cell_type": "code",
   "execution_count": 97,
   "metadata": {},
   "outputs": [
    {
     "name": "stdout",
     "output_type": "stream",
     "text": [
      "[<networkx.classes.graph.Graph object at 0x000001AA19A85C50>, <networkx.classes.graph.Graph object at 0x000001AA19A2C518>, <networkx.classes.graph.Graph object at 0x000001AA19A16860>]\n",
      "2\n",
      "1\n",
      "2\n",
      "1\n"
     ]
    }
   ],
   "source": [
    "graphs = list(nx.connected_component_subgraphs(G))\n",
    "print(graphs)\n",
    "print(len(graphs[1].nodes))\n",
    "print(len(graphs[1].edges))\n",
    "print(len(graphs[2].nodes))\n",
    "print(len(graphs[2].edges))"
   ]
  },
  {
   "cell_type": "code",
   "execution_count": 98,
   "metadata": {},
   "outputs": [
    {
     "name": "stdout",
     "output_type": "stream",
     "text": [
      "2992\n",
      "5252\n"
     ]
    }
   ],
   "source": [
    "# get largest connected component\n",
    "# it is recommended to use max rather than using sort\n",
    "largest_subgraph = max(nx.connected_component_subgraphs(G), key=len)\n",
    "print(len(largest_subgraph.nodes))\n",
    "print(len(largest_subgraph.edges))"
   ]
  },
  {
   "cell_type": "code",
   "execution_count": 99,
   "metadata": {},
   "outputs": [
    {
     "data": {
      "text/plain": [
       "[('C0002876', 'C0004096'),\n",
       " ('C0002876', 'C0020479'),\n",
       " ('C0002876', 'C0027051'),\n",
       " ('C0002876', 'C0031190'),\n",
       " ('C0002876', 'C0032463'),\n",
       " ('C0002876', 'C0085207'),\n",
       " ('C0002876', 'C0162316'),\n",
       " ('C0002876', 'C0221018'),\n",
       " ('C0002876', 'C0262584'),\n",
       " ('C0002876', 'C0271650'),\n",
       " ('C0002876', 'C0740302'),\n",
       " ('C0002876', 146059),\n",
       " ('C0002876', 10483),\n",
       " ('C0002876', 10661),\n",
       " ('C0002876', 2623),\n",
       " ('C0002876', 64061),\n",
       " ('C0002876', 960),\n",
       " ('C0002876', 978),\n",
       " ('C0002876', 981),\n",
       " ('C0002876', 4124),\n",
       " ('C0002876', 57379),\n",
       " ('C0002876', 358),\n",
       " ('C0002876', 2595),\n",
       " ('C0002876', 3077),\n",
       " ('C0002876', 9663),\n",
       " ('C0002876', 106480993),\n",
       " ('C0004096', 'C0007785'),\n",
       " ('C0004096', 'C0011579'),\n",
       " ('C0004096', 'C0431693'),\n",
       " ('C0004096', 'C0600228'),\n",
       " ('C0004096', 'C0740302'),\n",
       " ('C0004096', 'C0750988'),\n",
       " ('C0004096', 'C0751824'),\n",
       " ('C0004096', 'C0751848'),\n",
       " ('C0004096', 'C1135191'),\n",
       " ('C0004096', 'C1135196'),\n",
       " ('C0004096', 'C1306856'),\n",
       " ('C0004096', 'C1833104'),\n",
       " ('C0004096', 'C1833218'),\n",
       " ('C0004096', 'C1833382'),\n",
       " ('C0004096', 'C1838100'),\n",
       " ('C0004096', 'C1838259'),\n",
       " ('C0004096', 'C1838261'),\n",
       " ('C0004096', 'C1852093'),\n",
       " ('C0004096', 'C1853297'),\n",
       " ('C0004096', 'C1853371'),\n",
       " ('C0004096', 'C1863512'),\n",
       " ('C0004096', 'C1969343'),\n",
       " ('C0004096', 'C2674218'),\n",
       " ('C0004096', 'C2675866'),\n",
       " ('C0004096', 'C2930930'),\n",
       " ('C0004096', 'C2931384'),\n",
       " ('C0004096', 3596),\n",
       " ('C0004096', 3565),\n",
       " ('C0004096', 154),\n",
       " ('C0004096', 7124),\n",
       " ('C0004096', 3567),\n",
       " ('C0004096', 929),\n",
       " ('C0004096', 54738),\n",
       " ('C0004096', 80332),\n",
       " ('C0004096', 2944),\n",
       " ('C0004096', 94103),\n",
       " ('C0004096', 3586),\n",
       " ('C0004096', 7040),\n",
       " ('C0004096', 2950),\n",
       " ('C0004096', 85480),\n",
       " ('C0004096', 90865),\n",
       " ('C0004096', 387129),\n",
       " ('C0004096', 3566),\n",
       " ('C0004096', 2312),\n",
       " ('C0004096', 6778),\n",
       " ('C0004096', 2908),\n",
       " ('C0004096', 3458),\n",
       " ('C0004096', 3553),\n",
       " ('C0004096', 3576),\n",
       " ('C0004096', 3578),\n",
       " ('C0004096', 6352),\n",
       " ('C0004096', 55876),\n",
       " ('C0004096', 3569),\n",
       " ('C0004096', 27306),\n",
       " ('C0004096', 260431),\n",
       " ('C0004096', 7422),\n",
       " ('C0004096', 9173),\n",
       " ('C0004096', 3605),\n",
       " ('C0004096', 7356),\n",
       " ('C0004096', 10800),\n",
       " ('C0004096', 4318),\n",
       " ('C0004096', 240),\n",
       " ('C0004096', 7099),\n",
       " ('C0004096', 4843),\n",
       " ('C0004096', 6356),\n",
       " ('C0004096', 5743),\n",
       " ('C0004096', 3497),\n",
       " ('C0004096', 4056),\n",
       " ('C0004096', 3123),\n",
       " ('C0004096', 1437),\n",
       " ('C0004096', 3606),\n",
       " ('C0004096', 6037),\n",
       " ('C0004096', 5054),\n",
       " ('C0004096', 30009),\n",
       " ('C0004096', 1232),\n",
       " ('C0004096', 7097),\n",
       " ('C0004096', 7421),\n",
       " ('C0004096', 2952),\n",
       " ('C0004096', 3552),\n",
       " ('C0004096', 4049),\n",
       " ('C0004096', 4842),\n",
       " ('C0004096', 133482),\n",
       " ('C0004096', 373156),\n",
       " ('C0004096', 2206),\n",
       " ('C0004096', 3559),\n",
       " ('C0004096', 627),\n",
       " ('C0004096', 1116),\n",
       " ('C0004096', 3383),\n",
       " ('C0004096', 1080),\n",
       " ('C0004096', 2625),\n",
       " ('C0004096', 3669),\n",
       " ('C0004096', 8809),\n",
       " ('C0004096', 847),\n",
       " ('C0004096', 3115),\n",
       " ('C0004096', 4586),\n",
       " ('C0004096', 5144),\n",
       " ('C0004096', 10111),\n",
       " ('C0004096', 27159),\n",
       " ('C0004096', 50943),\n",
       " ('C0004096', 56005),\n",
       " ('C0004096', 64806),\n",
       " ('C0004096', 117156),\n",
       " ('C0004096', 383),\n",
       " ('C0004096', 1179),\n",
       " ('C0004096', 1636),\n",
       " ('C0004096', 3558),\n",
       " ('C0004096', 3593),\n",
       " ('C0004096', 4846),\n",
       " ('C0004096', 5729),\n",
       " ('C0004096', 26762),\n",
       " ('C0004096', 3371),\n",
       " ('C0004096', 3557),\n",
       " ('C0004096', 4638),\n",
       " ('C0004096', 6361),\n",
       " ('C0004096', 7984),\n",
       " ('C0004096', 8914),\n",
       " ('C0004096', 11251),\n",
       " ('C0004096', 22806),\n",
       " ('C0004096', 50616),\n",
       " ('C0004096', 1906),\n",
       " ('C0004096', 3119),\n",
       " ('C0004096', 3439),\n",
       " ('C0004096', 3447),\n",
       " ('C0004096', 4513),\n",
       " ('C0004096', 6347),\n",
       " ('C0004096', 11005),\n",
       " ('C0004096', 284110),\n",
       " ('C0004096', 384),\n",
       " ('C0004096', 1493),\n",
       " ('C0004096', 1956),\n",
       " ('C0004096', 3562),\n",
       " ('C0004096', 4790),\n",
       " ('C0004096', 5172),\n",
       " ('C0004096', 5594),\n",
       " ('C0004096', 57628),\n",
       " ('C0004096', 142),\n",
       " ('C0004096', 374),\n",
       " ('C0004096', 1728),\n",
       " ('C0004096', 3627),\n",
       " ('C0004096', 4088),\n",
       " ('C0004096', 5265),\n",
       " ('C0004096', 6775),\n",
       " ('C0004096', 6863),\n",
       " ('C0004096', 53342),\n",
       " ('C0004096', 54106),\n",
       " ('C0004096', 241),\n",
       " ('C0004096', 958),\n",
       " ('C0004096', 1234),\n",
       " ('C0004096', 2150),\n",
       " ('C0004096', 3135),\n",
       " ('C0004096', 3827),\n",
       " ('C0004096', 4153),\n",
       " ('C0004096', 4780),\n",
       " ('C0004096', 5141),\n",
       " ('C0004096', 6441),\n",
       " ('C0004096', 10344),\n",
       " ('C0004096', 51131),\n",
       " ('C0004096', 112744),\n",
       " ('C0004096', 124626),\n",
       " ('C0004096', 129831),\n",
       " ('C0004096', 196),\n",
       " ('C0004096', 217),\n",
       " ('C0004096', 728),\n",
       " ('C0004096', 864),\n",
       " ('C0004096', 1118),\n",
       " ('C0004096', 1230),\n",
       " ('C0004096', 2205),\n",
       " ('C0004096', 2208),\n",
       " ('C0004096', 2551),\n",
       " ('C0004096', 3066),\n",
       " ('C0004096', 3117),\n",
       " ('C0004096', 3176),\n",
       " ('C0004096', 3560),\n",
       " ('C0004096', 3570),\n",
       " ('C0004096', 3603),\n",
       " ('C0004096', 3690),\n",
       " ('C0004096', 4048),\n",
       " ('C0004096', 5290),\n",
       " ('C0004096', 5291),\n",
       " ('C0004096', 5293),\n",
       " ('C0004096', 5294),\n",
       " ('C0004096', 6774),\n",
       " ('C0004096', 6915),\n",
       " ('C0004096', 7042),\n",
       " ('C0004096', 7167),\n",
       " ('C0004096', 7442),\n",
       " ('C0004096', 10392),\n",
       " ('C0004096', 29949),\n",
       " ('C0004096', 189),\n",
       " ('C0004096', 596),\n",
       " ('C0004096', 947),\n",
       " ('C0004096', 2048),\n",
       " ('C0004096', 2353),\n",
       " ('C0004096', 2354),\n",
       " ('C0004096', 3162),\n",
       " ('C0004096', 3581),\n",
       " ('C0004096', 3725),\n",
       " ('C0004096', 3726),\n",
       " ('C0004096', 3727),\n",
       " ('C0004096', 5004),\n",
       " ('C0004096', 5328),\n",
       " ('C0004096', 5730),\n",
       " ('C0004096', 5742),\n",
       " ('C0004096', 6095),\n",
       " ('C0004096', 6362),\n",
       " ('C0004096', 6772),\n",
       " ('C0004096', 29119),\n",
       " ('C0004096', 57105),\n",
       " ('C0004096', 60468),\n",
       " ('C0004096', 64127),\n",
       " ('C0004096', 149628),\n",
       " ('C0004096', 163486),\n",
       " ('C0004096', 100),\n",
       " ('C0004096', 101),\n",
       " ('C0004096', 718),\n",
       " ('C0004096', 719),\n",
       " ('C0004096', 940),\n",
       " ('C0004096', 942),\n",
       " ('C0004096', 1131),\n",
       " ('C0004096', 1401),\n",
       " ('C0004096', 1672),\n",
       " ('C0004096', 1843),\n",
       " ('C0004096', 1950),\n",
       " ('C0004096', 2247),\n",
       " ('C0004096', 2335),\n",
       " ('C0004096', 2833),\n",
       " ('C0004096', 2946),\n",
       " ('C0004096', 3456),\n",
       " ('C0004096', 4312),\n",
       " ('C0004096', 4321),\n",
       " ('C0004096', 4524),\n",
       " ('C0004096', 6317),\n",
       " ('C0004096', 6357),\n",
       " ('C0004096', 6367),\n",
       " ('C0004096', 6584),\n",
       " ('C0004096', 6647),\n",
       " ('C0004096', 7076),\n",
       " ('C0004096', 7096),\n",
       " ('C0004096', 7292),\n",
       " ('C0004096', 8399),\n",
       " ('C0004096', 8856),\n",
       " ('C0004096', 10333),\n",
       " ('C0004096', 23274),\n",
       " ('C0004096', 55065),\n",
       " ('C0004096', 594857),\n",
       " ('C0004096', 10),\n",
       " ('C0004096', 60),\n",
       " ('C0004096', 246),\n",
       " ('C0004096', 302),\n",
       " ('C0004096', 727),\n",
       " ('C0004096', 932),\n",
       " ('C0004096', 952),\n",
       " ('C0004096', 1233),\n",
       " ('C0004096', 1241),\n",
       " ('C0004096', 1432),\n",
       " ('C0004096', 1535),\n",
       " ('C0004096', 1958),\n",
       " ('C0004096', 2214),\n",
       " ('C0004096', 2288),\n",
       " ('C0004096', 2289),\n",
       " ('C0004096', 3554),\n",
       " ('C0004096', 3589),\n",
       " ('C0004096', 3600),\n",
       " ('C0004096', 3952),\n",
       " ('C0004096', 4026),\n",
       " ('C0004096', 5097),\n",
       " ('C0004096', 5320),\n",
       " ('C0004096', 5321),\n",
       " ('C0004096', 5340),\n",
       " ('C0004096', 5468),\n",
       " ('C0004096', 5599),\n",
       " ('C0004096', 5733),\n",
       " ('C0004096', 6318),\n",
       " ('C0004096', 6364),\n",
       " ('C0004096', 6369),\n",
       " ('C0004096', 6696),\n",
       " ('C0004096', 7098),\n",
       " ('C0004096', 7941),\n",
       " ('C0004096', 9021),\n",
       " ('C0004096', 51477),\n",
       " ('C0004096', 51561),\n",
       " ('C0004096', 64135),\n",
       " ('C0004096', 81793),\n",
       " ('C0004096', 113263),\n",
       " ('C0004096', 282618),\n",
       " ('C0004096', 406947),\n",
       " ('C0004096', 450095),\n",
       " ('C0004096', 728378),\n",
       " ('C0004096', 101927761),\n",
       " ('C0004096', 12),\n",
       " ('C0004096', 134),\n",
       " ('C0004096', 183),\n",
       " ('C0004096', 231),\n",
       " ('C0004096', 355),\n",
       " ('C0004096', 410),\n",
       " ('C0004096', 820),\n",
       " ('C0004096', 960),\n",
       " ('C0004096', 968),\n",
       " ('C0004096', 969),\n",
       " ('C0004096', 999),\n",
       " ('C0004096', 1056),\n",
       " ('C0004096', 1128),\n",
       " ('C0004096', 1237),\n",
       " ('C0004096', 1359),\n",
       " ('C0004096', 1394),\n",
       " ('C0004096', 1395),\n",
       " ('C0004096', 1398),\n",
       " ('C0004096', 1524),\n",
       " ('C0004096', 1666),\n",
       " ('C0004096', 1909),\n",
       " ('C0004096', 1910),\n",
       " ('C0004096', 2052),\n",
       " ('C0004096', 2064),\n",
       " ('C0004096', 2100),\n",
       " ('C0004096', 2113),\n",
       " ('C0004096', 2215),\n",
       " ('C0004096', 2549),\n",
       " ('C0004096', 2597),\n",
       " ('C0004096', 3107),\n",
       " ('C0004096', 3113),\n",
       " ('C0004096', 3142),\n",
       " ('C0004096', 3146),\n",
       " ('C0004096', 3276),\n",
       " ('C0004096', 3308),\n",
       " ('C0004096', 3502),\n",
       " ('C0004096', 3568),\n",
       " ('C0004096', 3597),\n",
       " ('C0004096', 3659),\n",
       " ('C0004096', 3662),\n",
       " ('C0004096', 3965),\n",
       " ('C0004096', 4050),\n",
       " ('C0004096', 4087),\n",
       " ('C0004096', 4142),\n",
       " ('C0004096', 4254),\n",
       " ('C0004096', 4353),\n",
       " ('C0004096', 4512),\n",
       " ('C0004096', 4583),\n",
       " ('C0004096', 4589),\n",
       " ('C0004096', 4760),\n",
       " ('C0004096', 4803),\n",
       " ('C0004096', 4852),\n",
       " ('C0004096', 4909),\n",
       " ('C0004096', 4914),\n",
       " ('C0004096', 5027),\n",
       " ('C0004096', 5300),\n",
       " ('C0004096', 5329),\n",
       " ('C0004096', 5465),\n",
       " ('C0004096', 5595),\n",
       " ('C0004096', 5728),\n",
       " ('C0004096', 5732),\n",
       " ('C0004096', 5734),\n",
       " ('C0004096', 6036),\n",
       " ('C0004096', 6279),\n",
       " ('C0004096', 6346),\n",
       " ('C0004096', 6376),\n",
       " ('C0004096', 6403),\n",
       " ('C0004096', 6648),\n",
       " ('C0004096', 6869),\n",
       " ('C0004096', 6962),\n",
       " ('C0004096', 7078),\n",
       " ('C0004096', 7080),\n",
       " ('C0004096', 7412),\n",
       " ('C0004096', 7528),\n",
       " ('C0004096', 7965),\n",
       " ('C0004096', 8626),\n",
       " ('C0004096', 8651),\n",
       " ('C0004096', 9402),\n",
       " ('C0004096', 9474),\n",
       " ('C0004096', 10318),\n",
       " ('C0004096', 10383),\n",
       " ('C0004096', 10998),\n",
       " ('C0004096', 11127),\n",
       " ('C0004096', 11213),\n",
       " ('C0004096', 23308),\n",
       " ('C0004096', 23596),\n",
       " ('C0004096', 25897),\n",
       " ('C0004096', 25976),\n",
       " ('C0004096', 26073),\n",
       " ('C0004096', 29851),\n",
       " ('C0004096', 50507),\n",
       " ('C0004096', 51135),\n",
       " ('C0004096', 51200),\n",
       " ('C0004096', 51284),\n",
       " ('C0004096', 51311),\n",
       " ('C0004096', 55107),\n",
       " ('C0004096', 55540),\n",
       " ('C0004096', 56413),\n",
       " ('C0004096', 80762),\n",
       " ('C0004096', 83666),\n",
       " ('C0004096', 84868),\n",
       " ('C0004096', 115727),\n",
       " ('C0004096', 246778),\n",
       " ('C0004096', 348120),\n",
       " ('C0004096', 406979),\n",
       " ('C0004096', 653509),\n",
       " ('C0004096', 28),\n",
       " ('C0004096', 117),\n",
       " ('C0004096', 128),\n",
       " ('C0004096', 135),\n",
       " ('C0004096', 148),\n",
       " ('C0004096', 151),\n",
       " ('C0004096', 185),\n",
       " ('C0004096', 313),\n",
       " ('C0004096', 335),\n",
       " ('C0004096', 387),\n",
       " ('C0004096', 472),\n",
       " ('C0004096', 558),\n",
       " ('C0004096', 680),\n",
       " ('C0004096', 706),\n",
       " ('C0004096', 796),\n",
       " ('C0004096', 857),\n",
       " ('C0004096', 861),\n",
       " ('C0004096', 912),\n",
       " ('C0004096', 1017),\n",
       " ('C0004096', 1028),\n",
       " ('C0004096', 1041),\n",
       " ('C0004096', 1072),\n",
       " ('C0004096', 1122),\n",
       " ('C0004096', 1129),\n",
       " ('C0004096', 1135),\n",
       " ('C0004096', 1215),\n",
       " ('C0004096', 1235),\n",
       " ('C0004096', 1351),\n",
       " ('C0004096', 1371),\n",
       " ('C0004096', 1385),\n",
       " ('C0004096', 1387),\n",
       " ('C0004096', 1440),\n",
       " ('C0004096', 1511),\n",
       " ('C0004096', 1573),\n",
       " ('C0004096', 1591),\n",
       " ('C0004096', 1831),\n",
       " ('C0004096', 1917),\n",
       " ('C0004096', 1991),\n",
       " ('C0004096', 2017),\n",
       " ('C0004096', 2149),\n",
       " ('C0004096', 2212),\n",
       " ('C0004096', 2217),\n",
       " ('C0004096', 2534),\n",
       " ('C0004096', 2615),\n",
       " ('C0004096', 2623),\n",
       " ('C0004096', 2624),\n",
       " ('C0004096', 2638),\n",
       " ('C0004096', 2866),\n",
       " ('C0004096', 2919),\n",
       " ('C0004096', 3037),\n",
       " ('C0004096', 3052),\n",
       " ('C0004096', 3065),\n",
       " ('C0004096', 3091),\n",
       " ('C0004096', 3106),\n",
       " ('C0004096', 3122),\n",
       " ('C0004096', 3240),\n",
       " ('C0004096', 3269),\n",
       " ('C0004096', 3315),\n",
       " ('C0004096', 3316),\n",
       " ('C0004096', 3478),\n",
       " ('C0004096', 3500),\n",
       " ('C0004096', 3501),\n",
       " ('C0004096', 3575),\n",
       " ('C0004096', 3579),\n",
       " ('C0004096', 3598),\n",
       " ('C0004096', 3631),\n",
       " ('C0004096', 3684),\n",
       " ('C0004096', 3687),\n",
       " ('C0004096', 3691),\n",
       " ('C0004096', 3702),\n",
       " ('C0004096', 3779),\n",
       " ('C0004096', 3791),\n",
       " ('C0004096', 3880),\n",
       " ('C0004096', 3921),\n",
       " ('C0004096', 3958),\n",
       " ('C0004096', 3976),\n",
       " ('C0004096', 4155),\n",
       " ('C0004096', 4277),\n",
       " ('C0004096', 4282),\n",
       " ('C0004096', 4313),\n",
       " ('C0004096', 4316),\n",
       " ('C0004096', 4319),\n",
       " ('C0004096', 4345),\n",
       " ('C0004096', 4582),\n",
       " ('C0004096', 4593),\n",
       " ('C0004096', 4602),\n",
       " ('C0004096', 4615),\n",
       " ('C0004096', 4827),\n",
       " ('C0004096', 4855),\n",
       " ('C0004096', 4878),\n",
       " ('C0004096', 4908),\n",
       " ('C0004096', 5008),\n",
       " ('C0004096', 5055),\n",
       " ('C0004096', 5089),\n",
       " ('C0004096', 5111),\n",
       " ('C0004096', 5142),\n",
       " ('C0004096', 5155),\n",
       " ('C0004096', 5226),\n",
       " ('C0004096', 5341),\n",
       " ('C0004096', 5478),\n",
       " ('C0004096', 5592),\n",
       " ('C0004096', 5694),\n",
       " ('C0004096', 5777),\n",
       " ('C0004096', 5778),\n",
       " ('C0004096', 5781),\n",
       " ('C0004096', 5913),\n",
       " ('C0004096', 5970),\n",
       " ('C0004096', 5997),\n",
       " ('C0004096', 6121),\n",
       " ('C0004096', 6280),\n",
       " ('C0004096', 6319),\n",
       " ('C0004096', 6348),\n",
       " ('C0004096', 6349),\n",
       " ('C0004096', 6354),\n",
       " ('C0004096', 6359),\n",
       " ('C0004096', 6387),\n",
       " ('C0004096', 6401),\n",
       " ('C0004096', 6439),\n",
       " ('C0004096', 6440),\n",
       " ('C0004096', 6606),\n",
       " ('C0004096', 6607),\n",
       " ('C0004096', 6614),\n",
       " ('C0004096', 6625),\n",
       " ('C0004096', 6701),\n",
       " ('C0004096', 6754),\n",
       " ('C0004096', 6773),\n",
       " ('C0004096', 6776),\n",
       " ('C0004096', 6779),\n",
       " ('C0004096', 6857),\n",
       " ('C0004096', 6865),\n",
       " ('C0004096', 6876),\n",
       " ('C0004096', 7048),\n",
       " ('C0004096', 7091),\n",
       " ('C0004096', 7128),\n",
       " ('C0004096', 7145),\n",
       " ('C0004096', 7178),\n",
       " ('C0004096', 7293),\n",
       " ('C0004096', 7405),\n",
       " ('C0004096', 7432),\n",
       " ('C0004096', 8013),\n",
       " ('C0004096', 8061),\n",
       " ('C0004096', 8431),\n",
       " ('C0004096', 8477),\n",
       " ('C0004096', 8740),\n",
       " ('C0004096', 8767),\n",
       " ('C0004096', 8807),\n",
       " ('C0004096', 8988),\n",
       " ('C0004096', 9170),\n",
       " ('C0004096', 9235),\n",
       " ('C0004096', 9377),\n",
       " ('C0004096', 9415),\n",
       " ('C0004096', 9862),\n",
       " ('C0004096', 10148),\n",
       " ('C0004096', 10267),\n",
       " ('C0004096', 10518),\n",
       " ('C0004096', 10524),\n",
       " ('C0004096', 10551),\n",
       " ('C0004096', 10598),\n",
       " ('C0004096', 10663),\n",
       " ('C0004096', 10665),\n",
       " ('C0004096', 10911),\n",
       " ('C0004096', 10948),\n",
       " ('C0004096', 10970),\n",
       " ('C0004096', 11018),\n",
       " ('C0004096', 11167),\n",
       " ('C0004096', 22915),\n",
       " ('C0004096', 23177),\n",
       " ('C0004096', 23194),\n",
       " ('C0004096', 23327),\n",
       " ('C0004096', 23418),\n",
       " ('C0004096', 23495),\n",
       " ('C0004096', 23765),\n",
       " ('C0004096', 27178),\n",
       " ('C0004096', 27181),\n",
       " ('C0004096', 28514),\n",
       " ('C0004096', 51192),\n",
       " ('C0004096', 55600),\n",
       " ('C0004096', 56729),\n",
       " ('C0004096', 57007),\n",
       " ('C0004096', 57379),\n",
       " ('C0004096', 57498),\n",
       " ('C0004096', 59067),\n",
       " ('C0004096', 59307),\n",
       " ('C0004096', 64109),\n",
       " ('C0004096', 64375),\n",
       " ('C0004096', 64689),\n",
       " ('C0004096', 65125),\n",
       " ('C0004096', 79054),\n",
       " ('C0004096', 79068),\n",
       " ('C0004096', 80308),\n",
       " ('C0004096', 80381),\n",
       " ('C0004096', 81792),\n",
       " ('C0004096', 84162),\n",
       " ('C0004096', 84666),\n",
       " ('C0004096', 93210),\n",
       " ('C0004096', 120227),\n",
       " ('C0004096', 134430),\n",
       " ('C0004096', 149233),\n",
       " ('C0004096', 169026),\n",
       " ('C0004096', 170679),\n",
       " ('C0004096', 222256),\n",
       " ('C0004096', 260328),\n",
       " ('C0004096', 282617),\n",
       " ('C0004096', 406943),\n",
       " ('C0004096', 406991),\n",
       " ('C0004096', 407006),\n",
       " ('C0004096', 414764),\n",
       " ('C0004096', 441108),\n",
       " ('C0004096', 729230),\n",
       " ('C0004096', 102723996),\n",
       " ('C0004096', 2),\n",
       " ('C0004096', 9),\n",
       " ('C0004096', 15),\n",
       " ('C0004096', 19),\n",
       " ('C0004096', 26),\n",
       " ('C0004096', 43),\n",
       " ('C0004096', 52),\n",
       " ('C0004096', 58),\n",
       " ('C0004096', 90),\n",
       " ('C0004096', 108),\n",
       " ('C0004096', 133),\n",
       " ('C0004096', 147),\n",
       " ('C0004096', 156),\n",
       " ('C0004096', 161),\n",
       " ('C0004096', 175),\n",
       " ('C0004096', 177),\n",
       " ('C0004096', 182),\n",
       " ('C0004096', 186),\n",
       " ('C0004096', 202),\n",
       " ('C0004096', 215),\n",
       " ('C0004096', 239),\n",
       " ('C0004096', 247),\n",
       " ('C0004096', 249),\n",
       " ('C0004096', 283),\n",
       " ('C0004096', 284),\n",
       " ('C0004096', 286),\n",
       " ('C0004096', 301),\n",
       " ('C0004096', 309),\n",
       " ('C0004096', 324),\n",
       " ('C0004096', 330),\n",
       " ('C0004096', 331),\n",
       " ('C0004096', 332),\n",
       " ('C0004096', 348),\n",
       " ('C0004096', 354),\n",
       " ('C0004096', 356),\n",
       " ('C0004096', 361),\n",
       " ('C0004096', 367),\n",
       " ('C0004096', 467),\n",
       " ('C0004096', 498),\n",
       " ('C0004096', 501),\n",
       " ('C0004096', 581),\n",
       " ('C0004096', 598),\n",
       " ('C0004096', 623),\n",
       " ('C0004096', 624),\n",
       " ('C0004096', 632),\n",
       " ('C0004096', 658),\n",
       " ('C0004096', 659),\n",
       " ('C0004096', 683),\n",
       " ('C0004096', 710),\n",
       " ('C0004096', 720),\n",
       " ('C0004096', 754),\n",
       " ('C0004096', 801),\n",
       " ('C0004096', 805),\n",
       " ('C0004096', 808),\n",
       " ('C0004096', 841),\n",
       " ('C0004096', 842),\n",
       " ('C0004096', 843),\n",
       " ('C0004096', 907),\n",
       " ('C0004096', 914),\n",
       " ('C0004096', 919),\n",
       " ('C0004096', 930),\n",
       " ('C0004096', 931),\n",
       " ('C0004096', 941),\n",
       " ('C0004096', 943),\n",
       " ('C0004096', 945),\n",
       " ('C0004096', 950),\n",
       " ('C0004096', 953),\n",
       " ('C0004096', 962),\n",
       " ('C0004096', 963),\n",
       " ('C0004096', 1015),\n",
       " ('C0004096', 1026),\n",
       " ('C0004096', 1027),\n",
       " ('C0004096', 1050),\n",
       " ('C0004096', 1068),\n",
       " ('C0004096', 1103),\n",
       " ('C0004096', 1104),\n",
       " ('C0004096', 1111),\n",
       " ('C0004096', 1136),\n",
       " ('C0004096', 1236),\n",
       " ('C0004096', 1258),\n",
       " ('C0004096', 1277),\n",
       " ('C0004096', 1281),\n",
       " ('C0004096', 1285),\n",
       " ('C0004096', 1287),\n",
       " ('C0004096', 1302),\n",
       " ('C0004096', 1366),\n",
       " ('C0004096', 1378),\n",
       " ('C0004096', 1392),\n",
       " ('C0004096', 1396),\n",
       " ('C0004096', 1420),\n",
       " ('C0004096', 1429),\n",
       " ('C0004096', 1436),\n",
       " ('C0004096', 1439),\n",
       " ('C0004096', 1462),\n",
       " ('C0004096', 1475),\n",
       " ('C0004096', 1483),\n",
       " ('C0004096', 1490),\n",
       " ('C0004096', 1495),\n",
       " ('C0004096', 1500),\n",
       " ('C0004096', 1509),\n",
       " ('C0004096', 1513),\n",
       " ('C0004096', 1520),\n",
       " ('C0004096', 1523),\n",
       " ('C0004096', 1536),\n",
       " ('C0004096', 1544),\n",
       " ('C0004096', 1551),\n",
       " ('C0004096', 1555),\n",
       " ('C0004096', 1557),\n",
       " ('C0004096', 1571),\n",
       " ('C0004096', 1576),\n",
       " ('C0004096', 1577),\n",
       " ('C0004096', 1583),\n",
       " ('C0004096', 1593),\n",
       " ('C0004096', 1594),\n",
       " ('C0004096', 1604),\n",
       " ('C0004096', 1605),\n",
       " ('C0004096', 1634),\n",
       " ('C0004096', 1649),\n",
       " ('C0004096', 1653),\n",
       " ('C0004096', 1667),\n",
       " ('C0004096', 1767),\n",
       " ('C0004096', 1776),\n",
       " ('C0004096', 1786),\n",
       " ('C0004096', 1791),\n",
       " ('C0004096', 1804),\n",
       " ('C0004096', 1901),\n",
       " ('C0004096', 1942),\n",
       " ('C0004096', 1977),\n",
       " ('C0004096', 2001),\n",
       " ('C0004096', 2006),\n",
       " ('C0004096', 2011),\n",
       " ('C0004096', 2044),\n",
       " ('C0004096', 2066),\n",
       " ('C0004096', 2099),\n",
       " ('C0004096', 2114),\n",
       " ('C0004096', 2152),\n",
       " ('C0004096', 2155),\n",
       " ('C0004096', 2159),\n",
       " ('C0004096', 2162),\n",
       " ('C0004096', 2167),\n",
       " ('C0004096', 2181),\n",
       " ('C0004096', 2192),\n",
       " ('C0004096', 2207),\n",
       " ('C0004096', 2213),\n",
       " ('C0004096', 2243),\n",
       " ('C0004096', 2274),\n",
       " ('C0004096', 2309),\n",
       " ('C0004096', 2318),\n",
       " ('C0004096', 2321),\n",
       " ('C0004096', 2323),\n",
       " ('C0004096', 2332),\n",
       " ('C0004096', 2358),\n",
       " ('C0004096', 2475),\n",
       " ('C0004096', 2517),\n",
       " ('C0004096', 2519),\n",
       " ('C0004096', 2532),\n",
       " ('C0004096', 2621),\n",
       " ('C0004096', 2678),\n",
       " ('C0004096', 2691),\n",
       " ('C0004096', 2694),\n",
       " ('C0004096', 2729),\n",
       " ('C0004096', 2730),\n",
       " ('C0004096', 2740),\n",
       " ('C0004096', 2745),\n",
       " ('C0004096', 2869),\n",
       " ('C0004096', 2878),\n",
       " ('C0004096', 2894),\n",
       " ('C0004096', 2911),\n",
       " ('C0004096', 2922),\n",
       " ('C0004096', 2923),\n",
       " ('C0004096', 2934),\n",
       " ('C0004096', 2935),\n",
       " ('C0004096', 2938),\n",
       " ('C0004096', 2965),\n",
       " ('C0004096', 3002),\n",
       " ('C0004096', 3074),\n",
       " ('C0004096', 3084),\n",
       " ('C0004096', 3105),\n",
       " ('C0004096', 3111),\n",
       " ('C0004096', 3127),\n",
       " ('C0004096', 3192),\n",
       " ('C0004096', 3263),\n",
       " ('C0004096', 3275),\n",
       " ('C0004096', 3291),\n",
       " ('C0004096', 3305),\n",
       " ('C0004096', 3360),\n",
       " ('C0004096', 3486),\n",
       " ('C0004096', 3547),\n",
       " ('C0004096', 3572),\n",
       " ('C0004096', 3574),\n",
       " ('C0004096', 3592),\n",
       " ('C0004096', 3594),\n",
       " ('C0004096', 3604),\n",
       " ('C0004096', 3621),\n",
       " ('C0004096', 3623),\n",
       " ('C0004096', 3635),\n",
       " ('C0004096', 3654),\n",
       " ('C0004096', 3661),\n",
       " ('C0004096', 3665),\n",
       " ('C0004096', 3676),\n",
       " ('C0004096', 3683),\n",
       " ('C0004096', 3689),\n",
       " ('C0004096', 3694),\n",
       " ('C0004096', 3695),\n",
       " ('C0004096', 3708),\n",
       " ('C0004096', 3718),\n",
       " ('C0004096', 3790),\n",
       " ('C0004096', 3815),\n",
       " ('C0004096', 3816),\n",
       " ('C0004096', 3818),\n",
       " ('C0004096', 3820),\n",
       " ('C0004096', 3911),\n",
       " ('C0004096', 3930),\n",
       " ('C0004096', 3949),\n",
       " ('C0004096', 3953),\n",
       " ('C0004096', 3956),\n",
       " ('C0004096', 3959),\n",
       " ('C0004096', 3988),\n",
       " ('C0004096', 3992),\n",
       " ('C0004096', 4012),\n",
       " ('C0004096', 4051),\n",
       " ('C0004096', 4055),\n",
       " ('C0004096', 4077),\n",
       " ('C0004096', 4082),\n",
       " ('C0004096', 4092),\n",
       " ('C0004096', 4160),\n",
       " ('C0004096', 4162),\n",
       " ('C0004096', 4163),\n",
       " ('C0004096', 4210),\n",
       " ('C0004096', 4233),\n",
       " ('C0004096', 4240),\n",
       " ('C0004096', 4283),\n",
       " ('C0004096', 4284),\n",
       " ('C0004096', 4300),\n",
       " ('C0004096', 4317),\n",
       " ('C0004096', 4327),\n",
       " ('C0004096', 4434),\n",
       " ('C0004096', 4485),\n",
       " ('C0004096', 4629),\n",
       " ('C0004096', 4659),\n",
       " ('C0004096', 4660),\n",
       " ('C0004096', 4774),\n",
       " ('C0004096', 4791),\n",
       " ('C0004096', 4839),\n",
       " ('C0004096', 4851),\n",
       " ('C0004096', 4938),\n",
       " ('C0004096', 4939),\n",
       " ('C0004096', 4953),\n",
       " ('C0004096', 4968),\n",
       " ('C0004096', 4986),\n",
       " ('C0004096', 4987),\n",
       " ('C0004096', 5020),\n",
       " ('C0004096', 5021),\n",
       " ('C0004096', 5037),\n",
       " ('C0004096', 5048),\n",
       " ('C0004096', 5091),\n",
       " ('C0004096', 5150),\n",
       " ('C0004096', 5154),\n",
       " ('C0004096', 5156),\n",
       " ('C0004096', 5159),\n",
       " ('C0004096', 5167),\n",
       " ('C0004096', 5175),\n",
       " ('C0004096', 5195),\n",
       " ('C0004096', 5266),\n",
       " ('C0004096', 5269),\n",
       " ('C0004096', 5270),\n",
       " ('C0004096', 5319),\n",
       " ('C0004096', 5345),\n",
       " ('C0004096', 5367),\n",
       " ('C0004096', 5368),\n",
       " ('C0004096', 5411),\n",
       " ('C0004096', 5444),\n",
       " ('C0004096', 5451),\n",
       " ('C0004096', 5473),\n",
       " ('C0004096', 5515),\n",
       " ('C0004096', 5524),\n",
       " ('C0004096', 5551),\n",
       " ('C0004096', 5553),\n",
       " ('C0004096', 5555),\n",
       " ('C0004096', 5591),\n",
       " ('C0004096', 5601),\n",
       " ('C0004096', 5606),\n",
       " ('C0004096', 5609),\n",
       " ('C0004096', 5610),\n",
       " ('C0004096', 5621),\n",
       " ('C0004096', 5624),\n",
       " ('C0004096', 5709),\n",
       " ('C0004096', 5713),\n",
       " ('C0004096', 5724),\n",
       " ('C0004096', 5725),\n",
       " ('C0004096', 5727),\n",
       " ('C0004096', 5731),\n",
       " ('C0004096', 5739),\n",
       " ('C0004096', 5771),\n",
       " ('C0004096', 5789),\n",
       " ('C0004096', 5791),\n",
       " ('C0004096', 5820),\n",
       " ('C0004096', 5861),\n",
       " ('C0004096', 5868),\n",
       " ('C0004096', 5873),\n",
       " ('C0004096', 5890),\n",
       " ('C0004096', 5894),\n",
       " ('C0004096', 5896),\n",
       " ('C0004096', 5901),\n",
       " ('C0004096', 5914),\n",
       " ('C0004096', 5921),\n",
       " ('C0004096', 5923),\n",
       " ('C0004096', 5982),\n",
       " ('C0004096', 6046),\n",
       " ('C0004096', 6098),\n",
       " ('C0004096', 6175),\n",
       " ('C0004096', 6238),\n",
       " ('C0004096', 6262),\n",
       " ('C0004096', 6271),\n",
       " ('C0004096', 6283),\n",
       " ('C0004096', 6285),\n",
       " ('C0004096', 6311),\n",
       " ('C0004096', 6320),\n",
       " ('C0004096', 6355),\n",
       " ('C0004096', 6363),\n",
       " ('C0004096', 6366),\n",
       " ('C0004096', 6373),\n",
       " ('C0004096', 6374),\n",
       " ('C0004096', 6375),\n",
       " ('C0004096', 6385),\n",
       " ('C0004096', 6388),\n",
       " ('C0004096', 6402),\n",
       " ('C0004096', 6433),\n",
       " ('C0004096', 6520),\n",
       " ('C0004096', 6532),\n",
       " ('C0004096', 6542),\n",
       " ('C0004096', 6556),\n",
       " ('C0004096', 6558),\n",
       " ('C0004096', 6572),\n",
       " ('C0004096', 6580),\n",
       " ('C0004096', 6582),\n",
       " ('C0004096', 6590),\n",
       " ('C0004096', 6597),\n",
       " ('C0004096', 6609),\n",
       " ('C0004096', 6646),\n",
       " ('C0004096', 6649),\n",
       " ('C0004096', 6660),\n",
       " ('C0004096', 6667),\n",
       " ('C0004096', 6726),\n",
       " ('C0004096', 6767),\n",
       " ('C0004096', 6777),\n",
       " ('C0004096', 6818),\n",
       " ('C0004096', 6866),\n",
       " ('C0004096', 6891),\n",
       " ('C0004096', 6892),\n",
       " ('C0004096', 6904),\n",
       " ('C0004096', 6916),\n",
       " ('C0004096', 6927),\n",
       " ('C0004096', 6965),\n",
       " ('C0004096', 6966),\n",
       " ('C0004096', 7029),\n",
       " ('C0004096', 7032),\n",
       " ('C0004096', 7039),\n",
       " ('C0004096', 7045),\n",
       " ('C0004096', 7046),\n",
       " ('C0004096', 7049),\n",
       " ('C0004096', 7052),\n",
       " ('C0004096', 7056),\n",
       " ('C0004096', 7057),\n",
       " ('C0004096', 7082),\n",
       " ('C0004096', 7094),\n",
       " ('C0004096', 7100),\n",
       " ('C0004096', 7133),\n",
       " ('C0004096', 7157),\n",
       " ...]"
      ]
     },
     "execution_count": 99,
     "metadata": {},
     "output_type": "execute_result"
    }
   ],
   "source": [
    "list(largest_subgraph.edges)"
   ]
  },
  {
   "cell_type": "code",
   "execution_count": 100,
   "metadata": {},
   "outputs": [],
   "source": [
    "preds = nx.jaccard_coefficient(G,list(largest_subgraph.edges))\n",
    "GeneDisease_jaccoff = np.array(list(preds))\n"
   ]
  },
  {
   "cell_type": "code",
   "execution_count": 101,
   "metadata": {},
   "outputs": [
    {
     "data": {
      "text/plain": [
       "array([['C2675866', '6927', '0.6363636363636364'],\n",
       "       ['C1864623', '3767', '0.5454545454545454'],\n",
       "       ['C1836860', '672', '0.5'],\n",
       "       ['C2930930', '5465', '0.5'],\n",
       "       ['C1856797', '2175', '0.5']], dtype='<U21')"
      ]
     },
     "execution_count": 101,
     "metadata": {},
     "output_type": "execute_result"
    }
   ],
   "source": [
    "# sorted GeneDisease_jaccoff by jaccoff value\n",
    "index_sorted_by_jaccoff =np.argsort(GeneDisease_jaccoff[:, 2])[::-1]\n",
    "GeneDisease_jaccoff_sorted = GeneDisease_jaccoff[index_sorted_by_jaccoff]\n",
    "GeneDisease_jaccoff_sorted[:5]"
   ]
  },
  {
   "cell_type": "code",
   "execution_count": 102,
   "metadata": {},
   "outputs": [
    {
     "data": {
      "text/plain": [
       "3585"
      ]
     },
     "execution_count": 102,
     "metadata": {},
     "output_type": "execute_result"
    }
   ],
   "source": [
    "# amount of edges with jaccoeff = 0\n",
    "len(GeneDisease_jaccoff_sorted[GeneDisease_jaccoff_sorted[:,2].astype(float) == 0 ]) "
   ]
  },
  {
   "cell_type": "code",
   "execution_count": 103,
   "metadata": {},
   "outputs": [
    {
     "name": "stdout",
     "output_type": "stream",
     "text": [
      "True\n",
      "5252\n"
     ]
    }
   ],
   "source": [
    "print(GeneDisease_jaccoff_sorted.shape[0] == len(largest_subgraph.edges))\n",
    "print(len(largest_subgraph.edges))"
   ]
  },
  {
   "cell_type": "code",
   "execution_count": 104,
   "metadata": {},
   "outputs": [
    {
     "data": {
      "text/plain": [
       "array([['C0002876', 'C0004096', '0.0037257824143070045']], dtype='<U21')"
      ]
     },
     "execution_count": 104,
     "metadata": {},
     "output_type": "execute_result"
    }
   ],
   "source": [
    "# validate that disease to disease exist\n",
    "GeneDisease_jaccoff_sorted[('C0002876' == GeneDisease_jaccoff_sorted[:, 0]) & ('C0004096' == GeneDisease_jaccoff_sorted[:, 1])]"
   ]
  },
  {
   "cell_type": "code",
   "execution_count": 107,
   "metadata": {},
   "outputs": [
    {
     "data": {
      "text/plain": [
       "2996"
      ]
     },
     "execution_count": 107,
     "metadata": {},
     "output_type": "execute_result"
    }
   ],
   "source": [
    "len(G.nodes)"
   ]
  },
  {
   "cell_type": "markdown",
   "metadata": {},
   "source": [
    "### Formula\n",
    "####  sum(Inclass for all node with in each class) / sum (number of degree for all node with in each class)"
   ]
  },
  {
   "cell_type": "code",
   "execution_count": 110,
   "metadata": {},
   "outputs": [
    {
     "data": {
      "text/plain": [
       "17"
      ]
     },
     "execution_count": 110,
     "metadata": {},
     "output_type": "execute_result"
    }
   ],
   "source": [
    "top_k_total_inclass_score = sum(list(map(lambda x: cui2class_id_dict[x[0]] == cui2class_id_dict[x[1]], GeneDisease_top_k_np)))\n",
    "top_k_total_inclass_score"
   ]
  },
  {
   "cell_type": "code",
   "execution_count": 113,
   "metadata": {},
   "outputs": [
    {
     "data": {
      "text/plain": [
       "1124"
      ]
     },
     "execution_count": 113,
     "metadata": {},
     "output_type": "execute_result"
    }
   ],
   "source": [
    "top_k_total_degree = sum(list(map(lambda x: G.degree(x), GeneDisease_top_k_np.flatten())))\n",
    "top_k_total_degree"
   ]
  },
  {
   "cell_type": "code",
   "execution_count": 114,
   "metadata": {},
   "outputs": [
    {
     "data": {
      "text/plain": [
       "0.015124555160142349"
      ]
     },
     "execution_count": 114,
     "metadata": {},
     "output_type": "execute_result"
    }
   ],
   "source": [
    "top_k_normalized_accumulated_inclass_score = top_k_total_inclass_score/top_k_total_degree\n",
    "top_k_normalized_accumulated_inclass_score"
   ]
  },
  {
   "cell_type": "markdown",
   "metadata": {},
   "source": [
    "# Calculated normalized_accumulated_inclass_score for GeneDisease_BottomK=0.05.csv (consider disease2disease edges and disease2gene edges)"
   ]
  },
  {
   "cell_type": "code",
   "execution_count": 116,
   "metadata": {},
   "outputs": [
    {
     "data": {
      "text/plain": [
       "3"
      ]
     },
     "execution_count": 116,
     "metadata": {},
     "output_type": "execute_result"
    }
   ],
   "source": [
    "bottom_k_total_inclass_score = sum(list(map(lambda x: cui2class_id_dict[x[0]] == cui2class_id_dict[x[1]], GeneDisease_bottom_k_np)))\n",
    "bottom_k_total_inclass_score"
   ]
  },
  {
   "cell_type": "code",
   "execution_count": 117,
   "metadata": {},
   "outputs": [
    {
     "data": {
      "text/plain": [
       "25693"
      ]
     },
     "execution_count": 117,
     "metadata": {},
     "output_type": "execute_result"
    }
   ],
   "source": [
    "bottom_k_total_degree = sum(list(map(lambda x: G.degree(x), GeneDisease_bottom_k_np.flatten())))\n",
    "bottom_k_total_degree"
   ]
  },
  {
   "cell_type": "code",
   "execution_count": 118,
   "metadata": {},
   "outputs": [
    {
     "data": {
      "text/plain": [
       "0.0001167633207488421"
      ]
     },
     "execution_count": 118,
     "metadata": {},
     "output_type": "execute_result"
    }
   ],
   "source": [
    "bottom_k_normalized_accumulated_inclass_score = bottom_k_total_inclass_score/bottom_k_total_degree\n",
    "bottom_k_normalized_taccumulated_inclass_score"
   ]
  },
  {
   "cell_type": "code",
   "execution_count": null,
   "metadata": {},
   "outputs": [],
   "source": []
  }
 ],
 "metadata": {
  "kernelspec": {
   "display_name": "Python 3",
   "language": "python",
   "name": "python3"
  },
  "language_info": {
   "codemirror_mode": {
    "name": "ipython",
    "version": 3
   },
   "file_extension": ".py",
   "mimetype": "text/x-python",
   "name": "python",
   "nbconvert_exporter": "python",
   "pygments_lexer": "ipython3",
   "version": "3.7.3"
  },
  "pycharm": {
   "stem_cell": {
    "cell_type": "raw",
    "metadata": {
     "collapsed": false
    },
    "source": []
   }
  }
 },
 "nbformat": 4,
 "nbformat_minor": 1
}
