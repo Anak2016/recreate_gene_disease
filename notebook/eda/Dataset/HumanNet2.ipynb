{
 "cells": [
  {
   "cell_type": "code",
   "execution_count": 30,
   "outputs": [],
   "source": [
    "\n",
    "import pandas as pd"
   ],
   "metadata": {
    "collapsed": false,
    "pycharm": {
     "name": "#%%\n",
     "is_executing": false
    }
   }
  },
  {
   "cell_type": "code",
   "execution_count": 31,
   "outputs": [
    {
     "data": {
      "text/plain": "   gene_id1  gene_id2       LLS\n0     10054     10055  5.053354\n1    116150     79947  5.052720\n2      8891      8892  5.044083\n3     23399    255919  5.043902\n4      2339      2342  5.041499",
      "text/html": "<div>\n<style scoped>\n    .dataframe tbody tr th:only-of-type {\n        vertical-align: middle;\n    }\n\n    .dataframe tbody tr th {\n        vertical-align: top;\n    }\n\n    .dataframe thead th {\n        text-align: right;\n    }\n</style>\n<table border=\"1\" class=\"dataframe\">\n  <thead>\n    <tr style=\"text-align: right;\">\n      <th></th>\n      <th>gene_id1</th>\n      <th>gene_id2</th>\n      <th>LLS</th>\n    </tr>\n  </thead>\n  <tbody>\n    <tr>\n      <th>0</th>\n      <td>10054</td>\n      <td>10055</td>\n      <td>5.053354</td>\n    </tr>\n    <tr>\n      <th>1</th>\n      <td>116150</td>\n      <td>79947</td>\n      <td>5.052720</td>\n    </tr>\n    <tr>\n      <th>2</th>\n      <td>8891</td>\n      <td>8892</td>\n      <td>5.044083</td>\n    </tr>\n    <tr>\n      <th>3</th>\n      <td>23399</td>\n      <td>255919</td>\n      <td>5.043902</td>\n    </tr>\n    <tr>\n      <th>4</th>\n      <td>2339</td>\n      <td>2342</td>\n      <td>5.041499</td>\n    </tr>\n  </tbody>\n</table>\n</div>"
     },
     "metadata": {},
     "output_type": "execute_result",
     "execution_count": 31
    }
   ],
   "source": [
    "copd_file = 'HumanNet-XN-change_heder.tsv'\n",
    "file_path = f'../../Data/processed/HumanNet2/IntegratedNetworks/HumanNet-XN-change_header.csv'\n",
    "copd_df = pd.read_csv(file_path,sep=',', skiprows = 0)\n",
    "copd_df.head()"
   ],
   "metadata": {
    "collapsed": false,
    "pycharm": {
     "name": "#%%\n",
     "is_executing": false
    }
   }
  },
  {
   "cell_type": "code",
   "execution_count": 32,
   "outputs": [
    {
     "data": {
      "text/plain": "5.053353889936719"
     },
     "metadata": {},
     "output_type": "execute_result",
     "execution_count": 32
    }
   ],
   "source": [
    "copd_df[\"LLS\"].max()"
   ],
   "metadata": {
    "collapsed": false,
    "pycharm": {
     "name": "#%%\n",
     "is_executing": false
    }
   }
  },
  {
   "cell_type": "code",
   "execution_count": 33,
   "outputs": [
    {
     "data": {
      "text/plain": "0.0407081462208225"
     },
     "metadata": {},
     "output_type": "execute_result",
     "execution_count": 33
    }
   ],
   "source": [
    "copd_df[\"LLS\"].min()"
   ],
   "metadata": {
    "collapsed": false,
    "pycharm": {
     "name": "#%%\n",
     "is_executing": false
    }
   }
  },
  {
   "cell_type": "markdown",
   "source": [
    "Normalized LLS by max_val - min_val\n",
    "aka. Converting from LLS to LLN"
   ],
   "metadata": {
    "collapsed": false
   }
  },
  {
   "cell_type": "code",
   "execution_count": 34,
   "outputs": [
    {
     "data": {
      "text/plain": "   gene_id1  gene_id2       LLS\n0     10054     10055  0.000098\n1    116150     79947  0.001131\n2      8891      8892  0.000087\n3     23399    255919  0.000228\n4      2339      2342  0.000023",
      "text/html": "<div>\n<style scoped>\n    .dataframe tbody tr th:only-of-type {\n        vertical-align: middle;\n    }\n\n    .dataframe tbody tr th {\n        vertical-align: top;\n    }\n\n    .dataframe thead th {\n        text-align: right;\n    }\n</style>\n<table border=\"1\" class=\"dataframe\">\n  <thead>\n    <tr style=\"text-align: right;\">\n      <th></th>\n      <th>gene_id1</th>\n      <th>gene_id2</th>\n      <th>LLS</th>\n    </tr>\n  </thead>\n  <tbody>\n    <tr>\n      <th>0</th>\n      <td>10054</td>\n      <td>10055</td>\n      <td>0.000098</td>\n    </tr>\n    <tr>\n      <th>1</th>\n      <td>116150</td>\n      <td>79947</td>\n      <td>0.001131</td>\n    </tr>\n    <tr>\n      <th>2</th>\n      <td>8891</td>\n      <td>8892</td>\n      <td>0.000087</td>\n    </tr>\n    <tr>\n      <th>3</th>\n      <td>23399</td>\n      <td>255919</td>\n      <td>0.000228</td>\n    </tr>\n    <tr>\n      <th>4</th>\n      <td>2339</td>\n      <td>2342</td>\n      <td>0.000023</td>\n    </tr>\n  </tbody>\n</table>\n</div>"
     },
     "metadata": {},
     "output_type": "execute_result",
     "execution_count": 34
    }
   ],
   "source": [
    "import pandas as pd\n",
    "from sklearn import preprocessing\n",
    "\n",
    "min_max_scaler = preprocessing.MinMaxScaler()\n",
    "x = copd_df.values #returns a numpy array\n",
    "x_scaled = min_max_scaler.fit_transform(x)\n",
    "copd_df[\"LLS\"] = pd.DataFrame(x_scaled)\n",
    "copd_df.head()"
   ],
   "metadata": {
    "collapsed": false,
    "pycharm": {
     "name": "#%%\n",
     "is_executing": false
    }
   }
  },
  {
   "cell_type": "code",
   "execution_count": 35,
   "outputs": [
    {
     "data": {
      "text/plain": "0.9999999999999999"
     },
     "metadata": {},
     "output_type": "execute_result",
     "execution_count": 35
    }
   ],
   "source": [
    "copd_df[\"LLS\"].max()"
   ],
   "metadata": {
    "collapsed": false,
    "pycharm": {
     "name": "#%%\n",
     "is_executing": false
    }
   }
  },
  {
   "cell_type": "code",
   "execution_count": 36,
   "outputs": [
    {
     "data": {
      "text/plain": "0.0"
     },
     "metadata": {},
     "output_type": "execute_result",
     "execution_count": 36
    }
   ],
   "source": [
    "copd_df[\"LLS\"].min()"
   ],
   "metadata": {
    "collapsed": false,
    "pycharm": {
     "name": "#%%\n",
     "is_executing": false
    }
   }
  },
  {
   "cell_type": "markdown",
   "source": [
    "Save normalized LLS (LLN) to data/process/...\n"
   ],
   "metadata": {
    "collapsed": false,
    "pycharm": {
     "name": "#%% md\n"
    }
   }
  },
  {
   "cell_type": "code",
   "execution_count": 38,
   "outputs": [
    {
     "data": {
      "text/plain": "0    0.000098\n1    0.001131\n2    0.000087\n3    0.000228\n4    0.000023\nName: LLS, dtype: float64"
     },
     "metadata": {},
     "output_type": "execute_result",
     "execution_count": 38
    }
   ],
   "source": [
    "copd_df[\"LLS\"].head()"
   ],
   "metadata": {
    "collapsed": false,
    "pycharm": {
     "name": "#%%\n",
     "is_executing": false
    }
   }
  },
  {
   "cell_type": "code",
   "execution_count": 39,
   "outputs": [],
   "source": [
    "save_path = '../../Data/processed/HumanNet2/IntegratedNetworks/HumanNet-XN-change_header_normalized.csv'\n",
    "copd_df.to_csv(save_path, sep=',', index=False )\n"
   ],
   "metadata": {
    "collapsed": false,
    "pycharm": {
     "name": "#%%\n",
     "is_executing": false
    }
   }
  },
  {
   "cell_type": "code",
   "execution_count": 37,
   "outputs": [],
   "source": [
    "\n"
   ],
   "metadata": {
    "collapsed": false,
    "pycharm": {
     "name": "#%%\n",
     "is_executing": false
    }
   }
  }
 ],
 "metadata": {
  "kernelspec": {
   "display_name": "Python 3",
   "language": "python",
   "name": "python3"
  },
  "language_info": {
   "codemirror_mode": {
    "name": "ipython",
    "version": 2
   },
   "file_extension": ".py",
   "mimetype": "text/x-python",
   "name": "python",
   "nbconvert_exporter": "python",
   "pygments_lexer": "ipython2",
   "version": "2.7.6"
  },
  "pycharm": {
   "stem_cell": {
    "cell_type": "raw",
    "source": [],
    "metadata": {
     "collapsed": false
    }
   }
  }
 },
 "nbformat": 4,
 "nbformat_minor": 0
}